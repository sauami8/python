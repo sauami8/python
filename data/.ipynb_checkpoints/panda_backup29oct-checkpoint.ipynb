{
 "cells": [
  {
   "cell_type": "code",
   "execution_count": 2,
   "id": "e11b390c",
   "metadata": {},
   "outputs": [],
   "source": [
    "import pandas as pd"
   ]
  },
  {
   "cell_type": "markdown",
   "id": "55e35102",
   "metadata": {},
   "source": [
    "Importing CSV data"
   ]
  },
  {
   "cell_type": "code",
   "execution_count": 3,
   "id": "638fe3ab",
   "metadata": {},
   "outputs": [],
   "source": [
    "df = pd.read_csv('survey_results_public.csv')\n",
    "\n",
    "df_survey = pd.read_csv('survey_results_schema.csv')\n",
    "#df = pd.read_csv('survey_results_schema.csv')"
   ]
  },
  {
   "cell_type": "code",
   "execution_count": 4,
   "id": "1addca68",
   "metadata": {},
   "outputs": [],
   "source": [
    "#this is specific to pandas no reference to dataframe\n",
    "pd.set_option('display.max_column',50)"
   ]
  },
  {
   "cell_type": "code",
   "execution_count": 5,
   "id": "b2fd69e9",
   "metadata": {
    "scrolled": true
   },
   "outputs": [
    {
     "data": {
      "text/plain": [
       "(73268, 79)"
      ]
     },
     "execution_count": 5,
     "metadata": {},
     "output_type": "execute_result"
    }
   ],
   "source": [
    "#df.info() - list of column with name and datatype\n",
    "df.head() #list sample record from df\n",
    "df.shape # give number of rows and column in DF"
   ]
  },
  {
   "cell_type": "code",
   "execution_count": 6,
   "id": "f5f710f0",
   "metadata": {
    "scrolled": true
   },
   "outputs": [
    {
     "data": {
      "text/html": [
       "<div>\n",
       "<style scoped>\n",
       "    .dataframe tbody tr th:only-of-type {\n",
       "        vertical-align: middle;\n",
       "    }\n",
       "\n",
       "    .dataframe tbody tr th {\n",
       "        vertical-align: top;\n",
       "    }\n",
       "\n",
       "    .dataframe thead th {\n",
       "        text-align: right;\n",
       "    }\n",
       "</style>\n",
       "<table border=\"1\" class=\"dataframe\">\n",
       "  <thead>\n",
       "    <tr style=\"text-align: right;\">\n",
       "      <th></th>\n",
       "      <th>qid</th>\n",
       "      <th>qname</th>\n",
       "      <th>question</th>\n",
       "      <th>force_resp</th>\n",
       "      <th>type</th>\n",
       "      <th>selector</th>\n",
       "    </tr>\n",
       "  </thead>\n",
       "  <tbody>\n",
       "    <tr>\n",
       "      <th>0</th>\n",
       "      <td>QID16</td>\n",
       "      <td>S0</td>\n",
       "      <td>&lt;div&gt;&lt;span style=\"font-size:19px;\"&gt;&lt;strong&gt;Hel...</td>\n",
       "      <td>False</td>\n",
       "      <td>DB</td>\n",
       "      <td>TB</td>\n",
       "    </tr>\n",
       "    <tr>\n",
       "      <th>1</th>\n",
       "      <td>QID12</td>\n",
       "      <td>MetaInfo</td>\n",
       "      <td>Browser Meta Info</td>\n",
       "      <td>False</td>\n",
       "      <td>Meta</td>\n",
       "      <td>Browser</td>\n",
       "    </tr>\n",
       "    <tr>\n",
       "      <th>2</th>\n",
       "      <td>QID1</td>\n",
       "      <td>S1</td>\n",
       "      <td>&lt;span style=\"font-size:22px; font-family: aria...</td>\n",
       "      <td>False</td>\n",
       "      <td>DB</td>\n",
       "      <td>TB</td>\n",
       "    </tr>\n",
       "    <tr>\n",
       "      <th>3</th>\n",
       "      <td>QID2</td>\n",
       "      <td>MainBranch</td>\n",
       "      <td>Which of the following options best describes ...</td>\n",
       "      <td>True</td>\n",
       "      <td>MC</td>\n",
       "      <td>SAVR</td>\n",
       "    </tr>\n",
       "    <tr>\n",
       "      <th>4</th>\n",
       "      <td>QID296</td>\n",
       "      <td>Employment</td>\n",
       "      <td>Which of the following best describes your cur...</td>\n",
       "      <td>False</td>\n",
       "      <td>MC</td>\n",
       "      <td>MAVR</td>\n",
       "    </tr>\n",
       "  </tbody>\n",
       "</table>\n",
       "</div>"
      ],
      "text/plain": [
       "      qid       qname                                           question  \\\n",
       "0   QID16          S0  <div><span style=\"font-size:19px;\"><strong>Hel...   \n",
       "1   QID12    MetaInfo                                  Browser Meta Info   \n",
       "2    QID1          S1  <span style=\"font-size:22px; font-family: aria...   \n",
       "3    QID2  MainBranch  Which of the following options best describes ...   \n",
       "4  QID296  Employment  Which of the following best describes your cur...   \n",
       "\n",
       "  force_resp  type selector  \n",
       "0      False    DB       TB  \n",
       "1      False  Meta  Browser  \n",
       "2      False    DB       TB  \n",
       "3       True    MC     SAVR  \n",
       "4      False    MC     MAVR  "
      ]
     },
     "execution_count": 6,
     "metadata": {},
     "output_type": "execute_result"
    }
   ],
   "source": [
    "df_survey.head(2)\n",
    "df.head(2)\n",
    "\n",
    "df_survey[['qname','type']]\n",
    "df_survey.head(5)\n",
    "#df_survey.set_index('qid', inplace=True)\n",
    "#df_survey.reset_index(inplace=True)"
   ]
  },
  {
   "cell_type": "code",
   "execution_count": 7,
   "id": "4893c128",
   "metadata": {},
   "outputs": [
    {
     "data": {
      "text/html": [
       "<div>\n",
       "<style scoped>\n",
       "    .dataframe tbody tr th:only-of-type {\n",
       "        vertical-align: middle;\n",
       "    }\n",
       "\n",
       "    .dataframe tbody tr th {\n",
       "        vertical-align: top;\n",
       "    }\n",
       "\n",
       "    .dataframe thead th {\n",
       "        text-align: right;\n",
       "    }\n",
       "</style>\n",
       "<table border=\"1\" class=\"dataframe\">\n",
       "  <thead>\n",
       "    <tr style=\"text-align: right;\">\n",
       "      <th></th>\n",
       "      <th>qid</th>\n",
       "      <th>qname</th>\n",
       "      <th>question</th>\n",
       "      <th>force_resp</th>\n",
       "      <th>type</th>\n",
       "      <th>selector</th>\n",
       "    </tr>\n",
       "  </thead>\n",
       "  <tbody>\n",
       "    <tr>\n",
       "      <th>0</th>\n",
       "      <td>QID16</td>\n",
       "      <td>S0</td>\n",
       "      <td>&lt;div&gt;&lt;span style=\"font-size:19px;\"&gt;&lt;strong&gt;Hel...</td>\n",
       "      <td>False</td>\n",
       "      <td>DB</td>\n",
       "      <td>TB</td>\n",
       "    </tr>\n",
       "  </tbody>\n",
       "</table>\n",
       "</div>"
      ],
      "text/plain": [
       "     qid qname                                           question force_resp  \\\n",
       "0  QID16    S0  <div><span style=\"font-size:19px;\"><strong>Hel...      False   \n",
       "\n",
       "  type selector  \n",
       "0   DB       TB  "
      ]
     },
     "execution_count": 7,
     "metadata": {},
     "output_type": "execute_result"
    }
   ],
   "source": [
    "#Conditional record search by using AND & /OR | operator\n",
    "df_survey.loc[(df_survey['qname']=='S0') & (df_survey['qid']=='QID16')]\n"
   ]
  },
  {
   "cell_type": "code",
   "execution_count": 8,
   "id": "05e6d926",
   "metadata": {
    "scrolled": true
   },
   "outputs": [
    {
     "name": "stdout",
     "output_type": "stream",
     "text": [
      "<class 'pandas.core.frame.DataFrame'>\n",
      "RangeIndex: 73268 entries, 0 to 73267\n",
      "Data columns (total 79 columns):\n",
      " #   Column                          Non-Null Count  Dtype  \n",
      "---  ------                          --------------  -----  \n",
      " 0   ResponseId                      73268 non-null  int64  \n",
      " 1   MainBranch                      73268 non-null  object \n",
      " 2   Employment                      71709 non-null  object \n",
      " 3   RemoteWork                      58958 non-null  object \n",
      " 4   CodingActivities                58899 non-null  object \n",
      " 5   EdLevel                         71571 non-null  object \n",
      " 6   LearnCode                       71580 non-null  object \n",
      " 7   LearnCodeOnline                 50685 non-null  object \n",
      " 8   LearnCodeCoursesCert            29389 non-null  object \n",
      " 9   YearsCode                       71331 non-null  object \n",
      " 10  YearsCodePro                    51833 non-null  object \n",
      " 11  DevType                         61302 non-null  object \n",
      " 12  OrgSize                         51039 non-null  object \n",
      " 13  PurchaseInfluence               50969 non-null  object \n",
      " 14  BuyNewTool                      67963 non-null  object \n",
      " 15  Country                         71771 non-null  object \n",
      " 16  Currency                        51264 non-null  object \n",
      " 17  CompTotal                       38422 non-null  float64\n",
      " 18  CompFreq                        44425 non-null  object \n",
      " 19  LanguageHaveWorkedWith          70975 non-null  object \n",
      " 20  LanguageWantToWorkWith          67027 non-null  object \n",
      " 21  DatabaseHaveWorkedWith          60121 non-null  object \n",
      " 22  DatabaseWantToWorkWith          51014 non-null  object \n",
      " 23  PlatformHaveWorkedWith          49924 non-null  object \n",
      " 24  PlatformWantToWorkWith          40415 non-null  object \n",
      " 25  WebframeHaveWorkedWith          53544 non-null  object \n",
      " 26  WebframeWantToWorkWith          46122 non-null  object \n",
      " 27  MiscTechHaveWorkedWith          44992 non-null  object \n",
      " 28  MiscTechWantToWorkWith          36810 non-null  object \n",
      " 29  ToolsTechHaveWorkedWith         54171 non-null  object \n",
      " 30  ToolsTechWantToWorkWith         46566 non-null  object \n",
      " 31  NEWCollabToolsHaveWorkedWith    70347 non-null  object \n",
      " 32  NEWCollabToolsWantToWorkWith    64108 non-null  object \n",
      " 33  OpSysProfessional use           65503 non-null  object \n",
      " 34  OpSysPersonal use               70963 non-null  object \n",
      " 35  VersionControlSystem            71379 non-null  object \n",
      " 36  VCInteraction                   68156 non-null  object \n",
      " 37  VCHostingPersonal use           0 non-null      float64\n",
      " 38  VCHostingProfessional use       0 non-null      float64\n",
      " 39  OfficeStackAsyncHaveWorkedWith  46223 non-null  object \n",
      " 40  OfficeStackAsyncWantToWorkWith  32072 non-null  object \n",
      " 41  OfficeStackSyncHaveWorkedWith   62128 non-null  object \n",
      " 42  OfficeStackSyncWantToWorkWith   47688 non-null  object \n",
      " 43  Blockchain                      71071 non-null  object \n",
      " 44  NEWSOSites                      71365 non-null  object \n",
      " 45  SOVisitFreq                     70961 non-null  object \n",
      " 46  SOAccount                       71572 non-null  object \n",
      " 47  SOPartFreq                      58229 non-null  object \n",
      " 48  SOComm                          71408 non-null  object \n",
      " 49  Age                             70946 non-null  object \n",
      " 50  Gender                          70853 non-null  object \n",
      " 51  Trans                           70315 non-null  object \n",
      " 52  Sexuality                       66565 non-null  object \n",
      " 53  Ethnicity                       69474 non-null  object \n",
      " 54  Accessibility                   67244 non-null  object \n",
      " 55  MentalHealth                    66447 non-null  object \n",
      " 56  TBranch                         52670 non-null  object \n",
      " 57  ICorPM                          36283 non-null  object \n",
      " 58  WorkExp                         36769 non-null  float64\n",
      " 59  Knowledge_1                     35804 non-null  object \n",
      " 60  Knowledge_2                     34973 non-null  object \n",
      " 61  Knowledge_3                     35133 non-null  object \n",
      " 62  Knowledge_4                     35097 non-null  object \n",
      " 63  Knowledge_5                     35014 non-null  object \n",
      " 64  Knowledge_6                     34991 non-null  object \n",
      " 65  Knowledge_7                     34977 non-null  object \n",
      " 66  Frequency_1                     35371 non-null  object \n",
      " 67  Frequency_2                     35344 non-null  object \n",
      " 68  Frequency_3                     34515 non-null  object \n",
      " 69  TimeSearching                   36198 non-null  object \n",
      " 70  TimeAnswering                   36022 non-null  object \n",
      " 71  Onboarding                      35679 non-null  object \n",
      " 72  ProfessionalTech                34906 non-null  object \n",
      " 73  TrueFalse_1                     35819 non-null  object \n",
      " 74  TrueFalse_2                     35715 non-null  object \n",
      " 75  TrueFalse_3                     35749 non-null  object \n",
      " 76  SurveyLength                    70444 non-null  object \n",
      " 77  SurveyEase                      70508 non-null  object \n",
      " 78  ConvertedCompYearly             38071 non-null  float64\n",
      "dtypes: float64(5), int64(1), object(73)\n",
      "memory usage: 44.2+ MB\n"
     ]
    }
   ],
   "source": [
    "#number of row and column along with column info\n",
    "df.info()"
   ]
  },
  {
   "cell_type": "code",
   "execution_count": 9,
   "id": "23fbd721",
   "metadata": {},
   "outputs": [
    {
     "data": {
      "text/html": [
       "<div>\n",
       "<style scoped>\n",
       "    .dataframe tbody tr th:only-of-type {\n",
       "        vertical-align: middle;\n",
       "    }\n",
       "\n",
       "    .dataframe tbody tr th {\n",
       "        vertical-align: top;\n",
       "    }\n",
       "\n",
       "    .dataframe thead th {\n",
       "        text-align: right;\n",
       "    }\n",
       "</style>\n",
       "<table border=\"1\" class=\"dataframe\">\n",
       "  <thead>\n",
       "    <tr style=\"text-align: right;\">\n",
       "      <th></th>\n",
       "      <th>ResponseId</th>\n",
       "      <th>MainBranch</th>\n",
       "      <th>Employment</th>\n",
       "      <th>...</th>\n",
       "      <th>SurveyLength</th>\n",
       "      <th>SurveyEase</th>\n",
       "      <th>ConvertedCompYearly</th>\n",
       "    </tr>\n",
       "  </thead>\n",
       "  <tbody>\n",
       "    <tr>\n",
       "      <th>0</th>\n",
       "      <td>1</td>\n",
       "      <td>None of these</td>\n",
       "      <td>NaN</td>\n",
       "      <td>...</td>\n",
       "      <td>NaN</td>\n",
       "      <td>NaN</td>\n",
       "      <td>NaN</td>\n",
       "    </tr>\n",
       "    <tr>\n",
       "      <th>1</th>\n",
       "      <td>2</td>\n",
       "      <td>I am a developer by profession</td>\n",
       "      <td>Employed, full-time</td>\n",
       "      <td>...</td>\n",
       "      <td>Too long</td>\n",
       "      <td>Difficult</td>\n",
       "      <td>NaN</td>\n",
       "    </tr>\n",
       "    <tr>\n",
       "      <th>2</th>\n",
       "      <td>3</td>\n",
       "      <td>I am not primarily a developer, but I write co...</td>\n",
       "      <td>Employed, full-time</td>\n",
       "      <td>...</td>\n",
       "      <td>Appropriate in length</td>\n",
       "      <td>Neither easy nor difficult</td>\n",
       "      <td>40205.0</td>\n",
       "    </tr>\n",
       "    <tr>\n",
       "      <th>...</th>\n",
       "      <td>...</td>\n",
       "      <td>...</td>\n",
       "      <td>...</td>\n",
       "      <td>...</td>\n",
       "      <td>...</td>\n",
       "      <td>...</td>\n",
       "      <td>...</td>\n",
       "    </tr>\n",
       "    <tr>\n",
       "      <th>73265</th>\n",
       "      <td>73266</td>\n",
       "      <td>I am not primarily a developer, but I write co...</td>\n",
       "      <td>Employed, full-time</td>\n",
       "      <td>...</td>\n",
       "      <td>Appropriate in length</td>\n",
       "      <td>Easy</td>\n",
       "      <td>NaN</td>\n",
       "    </tr>\n",
       "    <tr>\n",
       "      <th>73266</th>\n",
       "      <td>73267</td>\n",
       "      <td>I am a developer by profession</td>\n",
       "      <td>Employed, full-time</td>\n",
       "      <td>...</td>\n",
       "      <td>Appropriate in length</td>\n",
       "      <td>Easy</td>\n",
       "      <td>NaN</td>\n",
       "    </tr>\n",
       "    <tr>\n",
       "      <th>73267</th>\n",
       "      <td>73268</td>\n",
       "      <td>I used to be a developer by profession, but no...</td>\n",
       "      <td>Independent contractor, freelancer, or self-em...</td>\n",
       "      <td>...</td>\n",
       "      <td>Appropriate in length</td>\n",
       "      <td>Easy</td>\n",
       "      <td>NaN</td>\n",
       "    </tr>\n",
       "  </tbody>\n",
       "</table>\n",
       "<p>73268 rows × 79 columns</p>\n",
       "</div>"
      ],
      "text/plain": [
       "       ResponseId                                         MainBranch  \\\n",
       "0               1                                      None of these   \n",
       "1               2                     I am a developer by profession   \n",
       "2               3  I am not primarily a developer, but I write co...   \n",
       "...           ...                                                ...   \n",
       "73265       73266  I am not primarily a developer, but I write co...   \n",
       "73266       73267                     I am a developer by profession   \n",
       "73267       73268  I used to be a developer by profession, but no...   \n",
       "\n",
       "                                              Employment  ...  \\\n",
       "0                                                    NaN  ...   \n",
       "1                                    Employed, full-time  ...   \n",
       "2                                    Employed, full-time  ...   \n",
       "...                                                  ...  ...   \n",
       "73265                                Employed, full-time  ...   \n",
       "73266                                Employed, full-time  ...   \n",
       "73267  Independent contractor, freelancer, or self-em...  ...   \n",
       "\n",
       "                SurveyLength                  SurveyEase ConvertedCompYearly  \n",
       "0                        NaN                         NaN                 NaN  \n",
       "1                   Too long                   Difficult                 NaN  \n",
       "2      Appropriate in length  Neither easy nor difficult             40205.0  \n",
       "...                      ...                         ...                 ...  \n",
       "73265  Appropriate in length                        Easy                 NaN  \n",
       "73266  Appropriate in length                        Easy                 NaN  \n",
       "73267  Appropriate in length                        Easy                 NaN  \n",
       "\n",
       "[73268 rows x 79 columns]"
      ]
     },
     "execution_count": 9,
     "metadata": {},
     "output_type": "execute_result"
    }
   ],
   "source": [
    "#this set the number of columns or rows of the dataframe to be display\n",
    "pd.set_option('display.max_columns', 10)\n",
    "pd.set_option('display.max_columns', 6)\n",
    "pd.set_option('display.max_rows',6)\n",
    "df"
   ]
  },
  {
   "cell_type": "code",
   "execution_count": 10,
   "id": "5a09604d",
   "metadata": {},
   "outputs": [],
   "source": [
    "#Python dictionary to prepare manual dataset to create Pandas DataFrame\n",
    "people = {\n",
    "    'id': [1001,1003,1002,1004,1005,1006,1007,1008,1009,1010],\n",
    "    'fname': ['Jack','Tom','Traci','Rosy','Jack','Jhon','Jenny','Tom','Raj','Terry'],\n",
    "    'lname': ['Foly','Alter','Saw','Burk','jack@email','Dow','Dow','Hanks','Saurabh','Dow'], \n",
    "    'email': ['jack.foly@email','tom.alter@email','traci.saw@email','rosy.burk@email','jack@email','jhon.dow@email.com','jenny.dow@email.com','tom.hanks@email.com','saurabh.raj@email.com','td@email.com'],\n",
    "    'country':['USA','UK','India','Canada','Germany','USA','USA','UK','India', 'USA'],\n",
    "    'work mode': ['remote','work from home','office','head office','remote','office','Remote','office','work from home','Office'],\n",
    "    'dept': ['IT','Sales','Marketing','Admin','Sales','Developer','Admin','Sales','VP','Finance'],\n",
    "    'emp_type':['emp','cwx','emp','cwx','emp','emp','cwx','emp','emp','emp'],\n",
    "    'language': ['English;French','Spanish;French;English','Dutch;English',\n",
    "                 'Finish;English;Python','English;Hindi;Java:Spanish','English:SQL:Python',\n",
    "                 'English;Unix','Hindi;Python-English','Dutch;Swiss;English','English'\n",
    "                ]\n",
    "         }"
   ]
  },
  {
   "cell_type": "code",
   "execution_count": 11,
   "id": "63f25786",
   "metadata": {
    "scrolled": true
   },
   "outputs": [
    {
     "data": {
      "text/plain": [
       "['jack.foly@email',\n",
       " 'tom.alter@email',\n",
       " 'traci.saw@email',\n",
       " 'rosy.burk@email',\n",
       " 'jack@email',\n",
       " 'jhon.dow@email.com',\n",
       " 'jenny.dow@email.com',\n",
       " 'tom.hanks@email.com',\n",
       " 'saurabh.raj@email.com',\n",
       " 'td@email.com']"
      ]
     },
     "execution_count": 11,
     "metadata": {},
     "output_type": "execute_result"
    }
   ],
   "source": [
    "#Way to access python dictionary\n",
    "people['email']"
   ]
  },
  {
   "cell_type": "code",
   "execution_count": 12,
   "id": "f0aae670",
   "metadata": {},
   "outputs": [],
   "source": [
    "#Pandas dataframe is similar but proivde more functionality over data and can visulize more redable form\n",
    "\n",
    "df_people = pd.DataFrame(people)\n",
    "\n",
    "#access dataframe multiple column values\n",
    "#df_people[['fname','lname']]\n",
    "#df_people\n"
   ]
  },
  {
   "cell_type": "code",
   "execution_count": 13,
   "id": "3957bf87",
   "metadata": {},
   "outputs": [
    {
     "data": {
      "text/html": [
       "<div>\n",
       "<style scoped>\n",
       "    .dataframe tbody tr th:only-of-type {\n",
       "        vertical-align: middle;\n",
       "    }\n",
       "\n",
       "    .dataframe tbody tr th {\n",
       "        vertical-align: top;\n",
       "    }\n",
       "\n",
       "    .dataframe thead th {\n",
       "        text-align: right;\n",
       "    }\n",
       "</style>\n",
       "<table border=\"1\" class=\"dataframe\">\n",
       "  <thead>\n",
       "    <tr style=\"text-align: right;\">\n",
       "      <th></th>\n",
       "      <th>id</th>\n",
       "      <th>fname</th>\n",
       "      <th>lname</th>\n",
       "      <th>email</th>\n",
       "      <th>country</th>\n",
       "      <th>work mode</th>\n",
       "      <th>dept</th>\n",
       "      <th>emp_type</th>\n",
       "      <th>language</th>\n",
       "    </tr>\n",
       "  </thead>\n",
       "  <tbody>\n",
       "    <tr>\n",
       "      <th>1</th>\n",
       "      <td>1003</td>\n",
       "      <td>Tom</td>\n",
       "      <td>Alter</td>\n",
       "      <td>tom.alter@email</td>\n",
       "      <td>UK</td>\n",
       "      <td>work from home</td>\n",
       "      <td>Sales</td>\n",
       "      <td>cwx</td>\n",
       "      <td>Spanish;French;English</td>\n",
       "    </tr>\n",
       "    <tr>\n",
       "      <th>2</th>\n",
       "      <td>1002</td>\n",
       "      <td>Traci</td>\n",
       "      <td>Saw</td>\n",
       "      <td>traci.saw@email</td>\n",
       "      <td>India</td>\n",
       "      <td>office</td>\n",
       "      <td>Marketing</td>\n",
       "      <td>emp</td>\n",
       "      <td>Dutch;English</td>\n",
       "    </tr>\n",
       "    <tr>\n",
       "      <th>3</th>\n",
       "      <td>1004</td>\n",
       "      <td>Rosy</td>\n",
       "      <td>Burk</td>\n",
       "      <td>rosy.burk@email</td>\n",
       "      <td>Canada</td>\n",
       "      <td>head office</td>\n",
       "      <td>Admin</td>\n",
       "      <td>cwx</td>\n",
       "      <td>Finish;English;Python</td>\n",
       "    </tr>\n",
       "  </tbody>\n",
       "</table>\n",
       "</div>"
      ],
      "text/plain": [
       "     id  fname  lname            email country       work mode       dept  \\\n",
       "1  1003    Tom  Alter  tom.alter@email      UK  work from home      Sales   \n",
       "2  1002  Traci    Saw  traci.saw@email   India          office  Marketing   \n",
       "3  1004   Rosy   Burk  rosy.burk@email  Canada     head office      Admin   \n",
       "\n",
       "  emp_type                language  \n",
       "1      cwx  Spanish;French;English  \n",
       "2      emp           Dutch;English  \n",
       "3      cwx   Finish;English;Python  "
      ]
     },
     "execution_count": 13,
     "metadata": {},
     "output_type": "execute_result"
    }
   ],
   "source": [
    "pd.set_option('display.max_columns',10)\n",
    "#accessing row using integer location iloc method, additionally you can locate range of records by using the : colon\n",
    "#or use the list squar bracket to pass the record index to diaplay, remember end range number is excluded\n",
    "df_people.iloc[1:4]"
   ]
  },
  {
   "cell_type": "code",
   "execution_count": 14,
   "id": "7e29e5f6",
   "metadata": {},
   "outputs": [
    {
     "data": {
      "text/html": [
       "<div>\n",
       "<style scoped>\n",
       "    .dataframe tbody tr th:only-of-type {\n",
       "        vertical-align: middle;\n",
       "    }\n",
       "\n",
       "    .dataframe tbody tr th {\n",
       "        vertical-align: top;\n",
       "    }\n",
       "\n",
       "    .dataframe thead th {\n",
       "        text-align: right;\n",
       "    }\n",
       "</style>\n",
       "<table border=\"1\" class=\"dataframe\">\n",
       "  <thead>\n",
       "    <tr style=\"text-align: right;\">\n",
       "      <th></th>\n",
       "      <th>id</th>\n",
       "      <th>fname</th>\n",
       "      <th>lname</th>\n",
       "      <th>email</th>\n",
       "      <th>country</th>\n",
       "      <th>work mode</th>\n",
       "      <th>dept</th>\n",
       "      <th>emp_type</th>\n",
       "      <th>language</th>\n",
       "    </tr>\n",
       "  </thead>\n",
       "  <tbody>\n",
       "    <tr>\n",
       "      <th>1</th>\n",
       "      <td>1003</td>\n",
       "      <td>Tom</td>\n",
       "      <td>Alter</td>\n",
       "      <td>tom.alter@email</td>\n",
       "      <td>UK</td>\n",
       "      <td>work from home</td>\n",
       "      <td>Sales</td>\n",
       "      <td>cwx</td>\n",
       "      <td>Spanish;French;English</td>\n",
       "    </tr>\n",
       "    <tr>\n",
       "      <th>2</th>\n",
       "      <td>1002</td>\n",
       "      <td>Traci</td>\n",
       "      <td>Saw</td>\n",
       "      <td>traci.saw@email</td>\n",
       "      <td>India</td>\n",
       "      <td>office</td>\n",
       "      <td>Marketing</td>\n",
       "      <td>emp</td>\n",
       "      <td>Dutch;English</td>\n",
       "    </tr>\n",
       "    <tr>\n",
       "      <th>3</th>\n",
       "      <td>1004</td>\n",
       "      <td>Rosy</td>\n",
       "      <td>Burk</td>\n",
       "      <td>rosy.burk@email</td>\n",
       "      <td>Canada</td>\n",
       "      <td>head office</td>\n",
       "      <td>Admin</td>\n",
       "      <td>cwx</td>\n",
       "      <td>Finish;English;Python</td>\n",
       "    </tr>\n",
       "    <tr>\n",
       "      <th>4</th>\n",
       "      <td>1005</td>\n",
       "      <td>Jack</td>\n",
       "      <td>jack@email</td>\n",
       "      <td>jack@email</td>\n",
       "      <td>Germany</td>\n",
       "      <td>remote</td>\n",
       "      <td>Sales</td>\n",
       "      <td>emp</td>\n",
       "      <td>English;Hindi;Java:Spanish</td>\n",
       "    </tr>\n",
       "  </tbody>\n",
       "</table>\n",
       "</div>"
      ],
      "text/plain": [
       "     id  fname       lname            email  country       work mode  \\\n",
       "1  1003    Tom       Alter  tom.alter@email       UK  work from home   \n",
       "2  1002  Traci         Saw  traci.saw@email    India          office   \n",
       "3  1004   Rosy        Burk  rosy.burk@email   Canada     head office   \n",
       "4  1005   Jack  jack@email       jack@email  Germany          remote   \n",
       "\n",
       "        dept emp_type                    language  \n",
       "1      Sales      cwx      Spanish;French;English  \n",
       "2  Marketing      emp               Dutch;English  \n",
       "3      Admin      cwx       Finish;English;Python  \n",
       "4      Sales      emp  English;Hindi;Java:Spanish  "
      ]
     },
     "execution_count": 14,
     "metadata": {},
     "output_type": "execute_result"
    }
   ],
   "source": [
    "df_people.iloc[[1,2,3,4]]"
   ]
  },
  {
   "cell_type": "code",
   "execution_count": 15,
   "id": "499083db",
   "metadata": {},
   "outputs": [
    {
     "data": {
      "text/plain": [
       "Index(['id', 'fname', 'lname', 'email', 'country', 'work mode', 'dept',\n",
       "       'emp_type', 'language'],\n",
       "      dtype='object')"
      ]
     },
     "execution_count": 15,
     "metadata": {},
     "output_type": "execute_result"
    }
   ],
   "source": [
    "#listout the dataframe columns\n",
    "df_people.columns"
   ]
  },
  {
   "cell_type": "code",
   "execution_count": 16,
   "id": "8d39572f",
   "metadata": {},
   "outputs": [
    {
     "data": {
      "text/plain": [
       "RangeIndex(start=0, stop=10, step=1)"
      ]
     },
     "execution_count": 16,
     "metadata": {},
     "output_type": "execute_result"
    }
   ],
   "source": [
    "#Info about DataFrame row index, starting row index and Df last record df \n",
    "df_people.index"
   ]
  },
  {
   "cell_type": "markdown",
   "id": "8b875426",
   "metadata": {},
   "source": [
    "# Note: You can also access the df by dot notation, but be caucious when df column and method name are same in this case python will call method rather then column\n",
    "\n",
    "if you have column name EMP as well as method EMP in this case python will use method or give error better use the brackets for best practice\n",
    "\n",
    "# Each column in DataFrame is Series"
   ]
  },
  {
   "cell_type": "code",
   "execution_count": 153,
   "id": "049d5234",
   "metadata": {},
   "outputs": [
    {
     "data": {
      "text/html": [
       "<div>\n",
       "<style scoped>\n",
       "    .dataframe tbody tr th:only-of-type {\n",
       "        vertical-align: middle;\n",
       "    }\n",
       "\n",
       "    .dataframe tbody tr th {\n",
       "        vertical-align: top;\n",
       "    }\n",
       "\n",
       "    .dataframe thead th {\n",
       "        text-align: right;\n",
       "    }\n",
       "</style>\n",
       "<table border=\"1\" class=\"dataframe\">\n",
       "  <thead>\n",
       "    <tr style=\"text-align: right;\">\n",
       "      <th></th>\n",
       "      <th>index</th>\n",
       "      <th>id</th>\n",
       "      <th>fname</th>\n",
       "      <th>lname</th>\n",
       "      <th>email</th>\n",
       "      <th>country</th>\n",
       "      <th>work_mode</th>\n",
       "      <th>dept</th>\n",
       "      <th>emp_type</th>\n",
       "      <th>language</th>\n",
       "      <th>salary</th>\n",
       "    </tr>\n",
       "  </thead>\n",
       "  <tbody>\n",
       "    <tr>\n",
       "      <th>0</th>\n",
       "      <td>0</td>\n",
       "      <td>1001</td>\n",
       "      <td>Jack</td>\n",
       "      <td>Foly</td>\n",
       "      <td>jack.foly@email</td>\n",
       "      <td>USA</td>\n",
       "      <td>remote</td>\n",
       "      <td>IT</td>\n",
       "      <td>emp</td>\n",
       "      <td>English;French</td>\n",
       "      <td>5000</td>\n",
       "    </tr>\n",
       "    <tr>\n",
       "      <th>1</th>\n",
       "      <td>1</td>\n",
       "      <td>1003</td>\n",
       "      <td>Tom</td>\n",
       "      <td>Alter</td>\n",
       "      <td>tom.alter@email</td>\n",
       "      <td>UK</td>\n",
       "      <td>work from home</td>\n",
       "      <td>Sales</td>\n",
       "      <td>cwx</td>\n",
       "      <td>Spanish;French;English</td>\n",
       "      <td>1000</td>\n",
       "    </tr>\n",
       "    <tr>\n",
       "      <th>2</th>\n",
       "      <td>2</td>\n",
       "      <td>1002</td>\n",
       "      <td>Traci</td>\n",
       "      <td>Saw</td>\n",
       "      <td>traci.saw@email</td>\n",
       "      <td>India</td>\n",
       "      <td>office</td>\n",
       "      <td>Marketing</td>\n",
       "      <td>emp</td>\n",
       "      <td>Dutch;English</td>\n",
       "      <td>2000</td>\n",
       "    </tr>\n",
       "    <tr>\n",
       "      <th>3</th>\n",
       "      <td>3</td>\n",
       "      <td>1004</td>\n",
       "      <td>Rosy</td>\n",
       "      <td>Burk</td>\n",
       "      <td>rosy.burk@email</td>\n",
       "      <td>Canada</td>\n",
       "      <td>head office</td>\n",
       "      <td>Admin</td>\n",
       "      <td>cwx</td>\n",
       "      <td>Finish;English;Python</td>\n",
       "      <td>3000</td>\n",
       "    </tr>\n",
       "    <tr>\n",
       "      <th>4</th>\n",
       "      <td>4</td>\n",
       "      <td>1005</td>\n",
       "      <td>Jack</td>\n",
       "      <td>jack@email</td>\n",
       "      <td>jack@email</td>\n",
       "      <td>Germany</td>\n",
       "      <td>remote</td>\n",
       "      <td>Sales</td>\n",
       "      <td>emp</td>\n",
       "      <td>English;Hindi;Java:Spanish</td>\n",
       "      <td>4000</td>\n",
       "    </tr>\n",
       "    <tr>\n",
       "      <th>5</th>\n",
       "      <td>5</td>\n",
       "      <td>1006</td>\n",
       "      <td>Jhon</td>\n",
       "      <td>Dow</td>\n",
       "      <td>jhon.dow@email.com</td>\n",
       "      <td>USA</td>\n",
       "      <td>office</td>\n",
       "      <td>Developer</td>\n",
       "      <td>emp</td>\n",
       "      <td>English:SQL:Python</td>\n",
       "      <td>5000</td>\n",
       "    </tr>\n",
       "    <tr>\n",
       "      <th>6</th>\n",
       "      <td>6</td>\n",
       "      <td>1007</td>\n",
       "      <td>Jenny</td>\n",
       "      <td>Dow</td>\n",
       "      <td>jenny.dow@email.com</td>\n",
       "      <td>USA</td>\n",
       "      <td>Remote</td>\n",
       "      <td>Admin</td>\n",
       "      <td>cwx</td>\n",
       "      <td>English;Unix</td>\n",
       "      <td>6000</td>\n",
       "    </tr>\n",
       "    <tr>\n",
       "      <th>7</th>\n",
       "      <td>7</td>\n",
       "      <td>1008</td>\n",
       "      <td>Tom</td>\n",
       "      <td>Hanks</td>\n",
       "      <td>tom.hanks@email.com</td>\n",
       "      <td>UK</td>\n",
       "      <td>office</td>\n",
       "      <td>Sales</td>\n",
       "      <td>emp</td>\n",
       "      <td>Hindi;Python-English</td>\n",
       "      <td>5500</td>\n",
       "    </tr>\n",
       "    <tr>\n",
       "      <th>8</th>\n",
       "      <td>8</td>\n",
       "      <td>1009</td>\n",
       "      <td>Raj</td>\n",
       "      <td>Saurabh</td>\n",
       "      <td>saurabh.raj@email.com</td>\n",
       "      <td>India</td>\n",
       "      <td>work from home</td>\n",
       "      <td>VP</td>\n",
       "      <td>emp</td>\n",
       "      <td>Dutch;Swiss;English</td>\n",
       "      <td>8000</td>\n",
       "    </tr>\n",
       "    <tr>\n",
       "      <th>9</th>\n",
       "      <td>9</td>\n",
       "      <td>1010</td>\n",
       "      <td>Terry</td>\n",
       "      <td>Dow</td>\n",
       "      <td>td@email.com</td>\n",
       "      <td>USA</td>\n",
       "      <td>Office</td>\n",
       "      <td>Finance</td>\n",
       "      <td>emp</td>\n",
       "      <td>English</td>\n",
       "      <td>9000</td>\n",
       "    </tr>\n",
       "  </tbody>\n",
       "</table>\n",
       "</div>"
      ],
      "text/plain": [
       "   index    id  fname       lname                  email  country  \\\n",
       "0      0  1001   Jack        Foly        jack.foly@email      USA   \n",
       "1      1  1003    Tom       Alter        tom.alter@email       UK   \n",
       "2      2  1002  Traci         Saw        traci.saw@email    India   \n",
       "3      3  1004   Rosy        Burk        rosy.burk@email   Canada   \n",
       "4      4  1005   Jack  jack@email             jack@email  Germany   \n",
       "5      5  1006   Jhon         Dow     jhon.dow@email.com      USA   \n",
       "6      6  1007  Jenny         Dow    jenny.dow@email.com      USA   \n",
       "7      7  1008    Tom       Hanks    tom.hanks@email.com       UK   \n",
       "8      8  1009    Raj     Saurabh  saurabh.raj@email.com    India   \n",
       "9      9  1010  Terry         Dow           td@email.com      USA   \n",
       "\n",
       "        work_mode       dept emp_type                    language  salary  \n",
       "0          remote         IT      emp              English;French    5000  \n",
       "1  work from home      Sales      cwx      Spanish;French;English    1000  \n",
       "2          office  Marketing      emp               Dutch;English    2000  \n",
       "3     head office      Admin      cwx       Finish;English;Python    3000  \n",
       "4          remote      Sales      emp  English;Hindi;Java:Spanish    4000  \n",
       "5          office  Developer      emp          English:SQL:Python    5000  \n",
       "6          Remote      Admin      cwx                English;Unix    6000  \n",
       "7          office      Sales      emp        Hindi;Python-English    5500  \n",
       "8  work from home         VP      emp         Dutch;Swiss;English    8000  \n",
       "9          Office    Finance      emp                     English    9000  "
      ]
     },
     "execution_count": 153,
     "metadata": {},
     "output_type": "execute_result"
    }
   ],
   "source": [
    "#df_people.apply(pd.Series.count)\n",
    "df_people"
   ]
  },
  {
   "cell_type": "code",
   "execution_count": 18,
   "id": "b61ca8ea",
   "metadata": {},
   "outputs": [
    {
     "data": {
      "text/plain": [
       "pandas.core.frame.DataFrame"
      ]
     },
     "execution_count": 18,
     "metadata": {},
     "output_type": "execute_result"
    }
   ],
   "source": [
    "#multiple column is not series type its again a df\n",
    "#series is one diamentional array for one column and values\n",
    "type(df_people[['fname','lname']])"
   ]
  },
  {
   "cell_type": "code",
   "execution_count": 19,
   "id": "52f1d548",
   "metadata": {},
   "outputs": [],
   "source": [
    "df_people.rename(columns={'work_mode':'work mode'}, inplace=True)"
   ]
  },
  {
   "cell_type": "code",
   "execution_count": 20,
   "id": "90ccfe55",
   "metadata": {},
   "outputs": [
    {
     "data": {
      "text/html": [
       "<div>\n",
       "<style scoped>\n",
       "    .dataframe tbody tr th:only-of-type {\n",
       "        vertical-align: middle;\n",
       "    }\n",
       "\n",
       "    .dataframe tbody tr th {\n",
       "        vertical-align: top;\n",
       "    }\n",
       "\n",
       "    .dataframe thead th {\n",
       "        text-align: right;\n",
       "    }\n",
       "</style>\n",
       "<table border=\"1\" class=\"dataframe\">\n",
       "  <thead>\n",
       "    <tr style=\"text-align: right;\">\n",
       "      <th></th>\n",
       "      <th>fname</th>\n",
       "      <th>email</th>\n",
       "      <th>work mode</th>\n",
       "      <th>id</th>\n",
       "    </tr>\n",
       "  </thead>\n",
       "  <tbody>\n",
       "    <tr>\n",
       "      <th>0</th>\n",
       "      <td>Jack</td>\n",
       "      <td>jack.foly@email</td>\n",
       "      <td>remote</td>\n",
       "      <td>1001</td>\n",
       "    </tr>\n",
       "    <tr>\n",
       "      <th>1</th>\n",
       "      <td>Tom</td>\n",
       "      <td>tom.alter@email</td>\n",
       "      <td>work from home</td>\n",
       "      <td>1003</td>\n",
       "    </tr>\n",
       "    <tr>\n",
       "      <th>2</th>\n",
       "      <td>Traci</td>\n",
       "      <td>traci.saw@email</td>\n",
       "      <td>office</td>\n",
       "      <td>1002</td>\n",
       "    </tr>\n",
       "    <tr>\n",
       "      <th>3</th>\n",
       "      <td>Rosy</td>\n",
       "      <td>rosy.burk@email</td>\n",
       "      <td>head office</td>\n",
       "      <td>1004</td>\n",
       "    </tr>\n",
       "    <tr>\n",
       "      <th>4</th>\n",
       "      <td>Jack</td>\n",
       "      <td>jack@email</td>\n",
       "      <td>remote</td>\n",
       "      <td>1005</td>\n",
       "    </tr>\n",
       "    <tr>\n",
       "      <th>5</th>\n",
       "      <td>Jhon</td>\n",
       "      <td>jhon.dow@email.com</td>\n",
       "      <td>office</td>\n",
       "      <td>1006</td>\n",
       "    </tr>\n",
       "    <tr>\n",
       "      <th>6</th>\n",
       "      <td>Jenny</td>\n",
       "      <td>jenny.dow@email.com</td>\n",
       "      <td>Remote</td>\n",
       "      <td>1007</td>\n",
       "    </tr>\n",
       "    <tr>\n",
       "      <th>7</th>\n",
       "      <td>Tom</td>\n",
       "      <td>tom.hanks@email.com</td>\n",
       "      <td>office</td>\n",
       "      <td>1008</td>\n",
       "    </tr>\n",
       "    <tr>\n",
       "      <th>8</th>\n",
       "      <td>Raj</td>\n",
       "      <td>saurabh.raj@email.com</td>\n",
       "      <td>work from home</td>\n",
       "      <td>1009</td>\n",
       "    </tr>\n",
       "    <tr>\n",
       "      <th>9</th>\n",
       "      <td>Terry</td>\n",
       "      <td>td@email.com</td>\n",
       "      <td>Office</td>\n",
       "      <td>1010</td>\n",
       "    </tr>\n",
       "  </tbody>\n",
       "</table>\n",
       "</div>"
      ],
      "text/plain": [
       "   fname                  email       work mode    id\n",
       "0   Jack        jack.foly@email          remote  1001\n",
       "1    Tom        tom.alter@email  work from home  1003\n",
       "2  Traci        traci.saw@email          office  1002\n",
       "3   Rosy        rosy.burk@email     head office  1004\n",
       "4   Jack             jack@email          remote  1005\n",
       "5   Jhon     jhon.dow@email.com          office  1006\n",
       "6  Jenny    jenny.dow@email.com          Remote  1007\n",
       "7    Tom    tom.hanks@email.com          office  1008\n",
       "8    Raj  saurabh.raj@email.com  work from home  1009\n",
       "9  Terry           td@email.com          Office  1010"
      ]
     },
     "execution_count": 20,
     "metadata": {},
     "output_type": "execute_result"
    }
   ],
   "source": [
    "#access data frame column's\n",
    "pd.set_option('display.max_rows',10)\n",
    "df_people[['fname','email','work mode','id']]"
   ]
  },
  {
   "cell_type": "code",
   "execution_count": 21,
   "id": "61955593",
   "metadata": {
    "scrolled": true
   },
   "outputs": [
    {
     "data": {
      "text/html": [
       "<div>\n",
       "<style scoped>\n",
       "    .dataframe tbody tr th:only-of-type {\n",
       "        vertical-align: middle;\n",
       "    }\n",
       "\n",
       "    .dataframe tbody tr th {\n",
       "        vertical-align: top;\n",
       "    }\n",
       "\n",
       "    .dataframe thead th {\n",
       "        text-align: right;\n",
       "    }\n",
       "</style>\n",
       "<table border=\"1\" class=\"dataframe\">\n",
       "  <thead>\n",
       "    <tr style=\"text-align: right;\">\n",
       "      <th></th>\n",
       "      <th>email</th>\n",
       "      <th>id</th>\n",
       "    </tr>\n",
       "  </thead>\n",
       "  <tbody>\n",
       "    <tr>\n",
       "      <th>4</th>\n",
       "      <td>jack@email</td>\n",
       "      <td>1005</td>\n",
       "    </tr>\n",
       "  </tbody>\n",
       "</table>\n",
       "</div>"
      ],
      "text/plain": [
       "        email    id\n",
       "4  jack@email  1005"
      ]
     },
     "execution_count": 21,
     "metadata": {},
     "output_type": "execute_result"
    }
   ],
   "source": [
    "#filtering specific record from dataframe without loc or iloc\n",
    "df_people[(df_people['work mode']=='remote') & (df_people['email']=='jack@email')] [['fname','lname']]\n",
    "df_people[(df_people['work mode']=='remote') & (df_people['email']=='jack@email')] [['email','id']]"
   ]
  },
  {
   "cell_type": "code",
   "execution_count": 22,
   "id": "aa38eea8",
   "metadata": {},
   "outputs": [
    {
     "data": {
      "text/plain": [
       "id                      1001\n",
       "fname                   Jack\n",
       "lname                  Alter\n",
       "email        jack.foly@email\n",
       "country               Canada\n",
       "work mode             Office\n",
       "dept                   Admin\n",
       "emp_type                 cwx\n",
       "language       Dutch;English\n",
       "dtype: object"
      ]
     },
     "execution_count": 22,
     "metadata": {},
     "output_type": "execute_result"
    }
   ],
   "source": [
    "# find minimum value from each column\n",
    "\n",
    "df_people.apply(lambda x: x.min())"
   ]
  },
  {
   "cell_type": "markdown",
   "id": "76d4ccaa",
   "metadata": {},
   "source": [
    "# value.counts() method can also be use as group by clause to group the data based on number of columns "
   ]
  },
  {
   "cell_type": "code",
   "execution_count": 23,
   "id": "fa8ea981",
   "metadata": {
    "scrolled": true
   },
   "outputs": [
    {
     "data": {
      "text/plain": [
       "fname  work mode     \n",
       "Jack   remote            2\n",
       "Jenny  Remote            1\n",
       "Jhon   office            1\n",
       "Raj    work from home    1\n",
       "Rosy   head office       1\n",
       "Terry  Office            1\n",
       "Tom    office            1\n",
       "       work from home    1\n",
       "Traci  office            1\n",
       "dtype: int64"
      ]
     },
     "execution_count": 23,
     "metadata": {},
     "output_type": "execute_result"
    }
   ],
   "source": [
    "#count the values \n",
    "#df_people.rename(columns={'work mode':'work_mode'}, inplace=True)\n",
    "df_people[['fname','work mode']].value_counts()\n",
    "\n"
   ]
  },
  {
   "cell_type": "code",
   "execution_count": 24,
   "id": "c57b67c6",
   "metadata": {},
   "outputs": [
    {
     "data": {
      "text/plain": [
       "fname  work mode     \n",
       "Jack   remote            0.2\n",
       "Jenny  Remote            0.1\n",
       "Jhon   office            0.1\n",
       "Raj    work from home    0.1\n",
       "Rosy   head office       0.1\n",
       "Terry  Office            0.1\n",
       "Tom    office            0.1\n",
       "       work from home    0.1\n",
       "Traci  office            0.1\n",
       "dtype: float64"
      ]
     },
     "execution_count": 24,
     "metadata": {},
     "output_type": "execute_result"
    }
   ],
   "source": [
    "#get the percentage %age instead of count use the normalize = True\n",
    "df_people[['fname','work mode']].value_counts(normalize=True)"
   ]
  },
  {
   "cell_type": "markdown",
   "id": "4f43f82b",
   "metadata": {},
   "source": [
    "# rename DataFrame column name df.rename(columns = {old:new,}, inplace=True)"
   ]
  },
  {
   "cell_type": "code",
   "execution_count": 25,
   "id": "6b9f529b",
   "metadata": {},
   "outputs": [],
   "source": [
    "df_people.rename(columns = {'work mode':'work_mode'}, inplace=True)"
   ]
  },
  {
   "cell_type": "code",
   "execution_count": 26,
   "id": "85473106",
   "metadata": {
    "scrolled": true
   },
   "outputs": [],
   "source": [
    "df_people.reset_index(inplace=True)"
   ]
  },
  {
   "cell_type": "code",
   "execution_count": 155,
   "id": "fbe509d3",
   "metadata": {},
   "outputs": [
    {
     "data": {
      "text/html": [
       "<div>\n",
       "<style scoped>\n",
       "    .dataframe tbody tr th:only-of-type {\n",
       "        vertical-align: middle;\n",
       "    }\n",
       "\n",
       "    .dataframe tbody tr th {\n",
       "        vertical-align: top;\n",
       "    }\n",
       "\n",
       "    .dataframe thead th {\n",
       "        text-align: right;\n",
       "    }\n",
       "</style>\n",
       "<table border=\"1\" class=\"dataframe\">\n",
       "  <thead>\n",
       "    <tr style=\"text-align: right;\">\n",
       "      <th></th>\n",
       "      <th>email</th>\n",
       "      <th>fname</th>\n",
       "    </tr>\n",
       "  </thead>\n",
       "  <tbody>\n",
       "    <tr>\n",
       "      <th>1</th>\n",
       "      <td>tom.alter@email</td>\n",
       "      <td>Tom</td>\n",
       "    </tr>\n",
       "    <tr>\n",
       "      <th>5</th>\n",
       "      <td>jhon.dow@email.com</td>\n",
       "      <td>Jhon</td>\n",
       "    </tr>\n",
       "  </tbody>\n",
       "</table>\n",
       "</div>"
      ],
      "text/plain": [
       "                email fname\n",
       "1     tom.alter@email   Tom\n",
       "5  jhon.dow@email.com  Jhon"
      ]
     },
     "execution_count": 155,
     "metadata": {},
     "output_type": "execute_result"
    }
   ],
   "source": [
    "#loc[row/[rows]], column/[columns] for range no need to use the list bracket\n",
    "df_people.loc[[1,5], ['email','fname']]"
   ]
  },
  {
   "cell_type": "code",
   "execution_count": null,
   "id": "9b4304c3",
   "metadata": {},
   "outputs": [],
   "source": [
    "df_people.set_index('id', inplace=True)"
   ]
  },
  {
   "cell_type": "code",
   "execution_count": null,
   "id": "b5b5f409",
   "metadata": {},
   "outputs": [],
   "source": [
    "#though index is changed to id but iloc still using the numerical index values\n",
    "df_people.iloc[[1,2,0],[1,4,5]]"
   ]
  },
  {
   "cell_type": "code",
   "execution_count": null,
   "id": "30aa6817",
   "metadata": {},
   "outputs": [],
   "source": [
    "df_people.columns"
   ]
  },
  {
   "cell_type": "raw",
   "id": "bc253f5a",
   "metadata": {},
   "source": [
    "loc and iloc\n",
    "#iloc and loc both reference to dataframe rows by index, iloc access integer index where loc access rows by label\n",
    "\n",
    "# Query Dataframe Rows use the loc and iloc (iloc is integer location of row) and loc row label both point to row only\n",
    "eg. if you have reset your default index(0-~)you can not give reference to filter row on index 0 or 1 because this index is no longer available, but you can still refer the loc which is label like record 1 or 10th record etc\n",
    "iloc: search by row index\n",
    "loc: search by label"
   ]
  },
  {
   "cell_type": "code",
   "execution_count": null,
   "id": "8f782fcb",
   "metadata": {},
   "outputs": [],
   "source": [
    "\n",
    "df.iloc[[0,2]]\n",
    "#if we want email column for selected two row in this case use the column index outside list\n",
    "\n",
    "df.iloc[[0,2],1:3]\n",
    "#df"
   ]
  },
  {
   "cell_type": "code",
   "execution_count": null,
   "id": "6e07ea97",
   "metadata": {},
   "outputs": [],
   "source": [
    "#number of columns from selective row\n",
    "df_people.loc[[0,2], ['email','fname','lname']]\n"
   ]
  },
  {
   "cell_type": "code",
   "execution_count": null,
   "id": "2768878e",
   "metadata": {},
   "outputs": [],
   "source": [
    "#dataframe column condition return the record with Boolean value for matching record True and rest False]- id is index here so don't get confuse\n",
    "df_people['fname']=='Jack'"
   ]
  },
  {
   "cell_type": "code",
   "execution_count": null,
   "id": "ae1d7943",
   "metadata": {},
   "outputs": [],
   "source": [
    "df_people.set_index('fname', inplace=True)"
   ]
  },
  {
   "cell_type": "code",
   "execution_count": null,
   "id": "5314af19",
   "metadata": {},
   "outputs": [],
   "source": [
    "#now index is set for fname now you can use the loc on fname to find the records\n",
    "df_people.loc['Jack']"
   ]
  },
  {
   "cell_type": "code",
   "execution_count": null,
   "id": "9090dc2a",
   "metadata": {},
   "outputs": [],
   "source": [
    "df_people.reset_index(inplace=True)"
   ]
  },
  {
   "cell_type": "code",
   "execution_count": null,
   "id": "2f5729f6",
   "metadata": {},
   "outputs": [],
   "source": [
    "df_people['lname']=='Dow'"
   ]
  },
  {
   "cell_type": "code",
   "execution_count": null,
   "id": "083d853f",
   "metadata": {},
   "outputs": [],
   "source": [
    "filt = df_people['lname']=='Dow'\n",
    "#filt = df_people[df_people['lname']=='Dow'] direct dataframe values can not be used as filte\n",
    "filt"
   ]
  },
  {
   "cell_type": "code",
   "execution_count": null,
   "id": "beb5eeed",
   "metadata": {
    "scrolled": true
   },
   "outputs": [],
   "source": [
    "df_people.loc[filt]# you can also chooes the column values as needed"
   ]
  },
  {
   "cell_type": "markdown",
   "id": "130edb2b",
   "metadata": {},
   "source": [
    "~ symbol reverse(negate) the condition, filt condition become not condition"
   ]
  },
  {
   "cell_type": "code",
   "execution_count": null,
   "id": "2b877617",
   "metadata": {},
   "outputs": [],
   "source": [
    "df_people.loc[~filt]# you can also chooes the column values as needed"
   ]
  },
  {
   "cell_type": "code",
   "execution_count": null,
   "id": "ed5e6392",
   "metadata": {},
   "outputs": [],
   "source": [
    "#filter can be used directly to dataframe as well as with loc\n",
    "#as we know we can also chooes the number of columns we want from dataframe except specific row but loc provide option to \n",
    "#select the row along with column values\n",
    "\n",
    "df_people[filt] [['id','fname','email']].value_counts()"
   ]
  },
  {
   "cell_type": "code",
   "execution_count": null,
   "id": "170a8def",
   "metadata": {},
   "outputs": [],
   "source": [
    "df_people.loc[filt, ['fname','lname','email']]"
   ]
  },
  {
   "cell_type": "code",
   "execution_count": null,
   "id": "21c958b7",
   "metadata": {
    "scrolled": true
   },
   "outputs": [],
   "source": [
    "df_people[df_people['lname']=='Dow']"
   ]
  },
  {
   "cell_type": "markdown",
   "id": "8cb91895",
   "metadata": {},
   "source": [
    "# Pandas AND and OR Operators (& and |)"
   ]
  },
  {
   "cell_type": "code",
   "execution_count": null,
   "id": "de804a15",
   "metadata": {},
   "outputs": [],
   "source": [
    "df_filter = (df_people['fname']=='Jack') | (df_people['lname']=='Dow')"
   ]
  },
  {
   "cell_type": "code",
   "execution_count": null,
   "id": "c19a0cf9",
   "metadata": {
    "scrolled": true
   },
   "outputs": [],
   "source": [
    "df_people[df_filter]"
   ]
  },
  {
   "cell_type": "code",
   "execution_count": null,
   "id": "3cf99544",
   "metadata": {},
   "outputs": [],
   "source": [
    "#Dataframe isin() method is used to pass the additional filter to dataframe "
   ]
  },
  {
   "cell_type": "code",
   "execution_count": null,
   "id": "2e3178af",
   "metadata": {},
   "outputs": [],
   "source": [
    "country_filter = (df_people['country'].isin(['USA'])) & (df_people['lname']=='Dow')\n"
   ]
  },
  {
   "cell_type": "code",
   "execution_count": null,
   "id": "1abc2b26",
   "metadata": {
    "scrolled": false
   },
   "outputs": [],
   "source": [
    "#same result for both method\n",
    "df_people[country_filter]\n",
    "df_people.loc[country_filter]"
   ]
  },
  {
   "cell_type": "markdown",
   "id": "7b23383a",
   "metadata": {},
   "source": [
    "# isin() method to validate column values like Oracle in - df['column'].isin([cols value])"
   ]
  },
  {
   "cell_type": "code",
   "execution_count": null,
   "id": "c22bb7df",
   "metadata": {},
   "outputs": [],
   "source": [
    "country_filter1 = (df_people['country'].isin(['USA'])) & (df_people['lname']=='Dow') & (df_people['id'] < 1010)\n",
    "df_people[country_filter1]"
   ]
  },
  {
   "cell_type": "code",
   "execution_count": null,
   "id": "23df3465",
   "metadata": {},
   "outputs": [],
   "source": [
    "type(country_filter1)"
   ]
  },
  {
   "cell_type": "markdown",
   "id": "cf2eaaba",
   "metadata": {},
   "source": [
    "# Dataframe str.contains() method helps to find the specific text in the column\n",
    "df['column'].str.contain(value)"
   ]
  },
  {
   "cell_type": "code",
   "execution_count": null,
   "id": "010f2865",
   "metadata": {},
   "outputs": [],
   "source": [
    "lang_fil = df_people['language'].str.contains('Spanish')\n",
    "df_people.loc[lang_fil]"
   ]
  },
  {
   "cell_type": "markdown",
   "id": "52b44530",
   "metadata": {},
   "source": [
    "# Describe and max(), min() method"
   ]
  },
  {
   "cell_type": "code",
   "execution_count": null,
   "id": "e4109523",
   "metadata": {
    "scrolled": true
   },
   "outputs": [],
   "source": [
    "df_people[['id','fname','country']].min()\n",
    "#df_people['id'].max()"
   ]
  },
  {
   "cell_type": "code",
   "execution_count": null,
   "id": "8f09e054",
   "metadata": {
    "scrolled": true
   },
   "outputs": [],
   "source": [
    "#aggregate DF group by column mentioned\n",
    "df_people[['fname','work_mode']].value_counts()"
   ]
  },
  {
   "cell_type": "code",
   "execution_count": null,
   "id": "4d055c89",
   "metadata": {},
   "outputs": [],
   "source": [
    "df_people['id'].max()"
   ]
  },
  {
   "cell_type": "code",
   "execution_count": null,
   "id": "1cc3d7f7",
   "metadata": {
    "scrolled": true
   },
   "outputs": [],
   "source": [
    "#Caution - extract mininum value from Each dataframe column\n",
    "df_people.apply([pd.Series.min])"
   ]
  },
  {
   "cell_type": "code",
   "execution_count": null,
   "id": "330dac66",
   "metadata": {},
   "outputs": [],
   "source": [
    "#use list in case data needed in row else skip the squar bracket to get data in column\n",
    "df_people.apply([lambda x: x.min()])"
   ]
  },
  {
   "cell_type": "code",
   "execution_count": null,
   "id": "07eec2a9",
   "metadata": {},
   "outputs": [],
   "source": [
    "#Operation on pandas Series\n",
    "s = pd.Series([10,12,14,15,18])\n",
    "a=18\n",
    "print(\"Series max value is --> \",s.max())\n",
    "if s.max()==a:\n",
    "    print(\"Series value is equal to variable\")\n",
    "\n",
    "y = (x for x in range(1,20) if x==s.max())\n",
    "y1 = [x for x in range(1,20) if x==s.max()]\n",
    "print(\"value From generator matching Series is --> \", sum(y))\n",
    "print(\"Object Y is: \", y, \" and Object Y1 is \", type(y1))\n"
   ]
  },
  {
   "cell_type": "code",
   "execution_count": null,
   "id": "a012c91e",
   "metadata": {},
   "outputs": [],
   "source": [
    "#describe the dataframe with basic mean medium std and %tile values for numerical fields\n",
    "df_people.describe()"
   ]
  },
  {
   "cell_type": "code",
   "execution_count": null,
   "id": "45611d10",
   "metadata": {},
   "outputs": [],
   "source": [
    "#top 5 record use tail for top bottom records\n",
    "\n",
    "df_people.head(5)\n",
    "\n",
    "df_people.tail(5)"
   ]
  },
  {
   "cell_type": "markdown",
   "id": "b0d52020",
   "metadata": {},
   "source": [
    "# Update Dataframe record values"
   ]
  },
  {
   "cell_type": "code",
   "execution_count": null,
   "id": "ca582955",
   "metadata": {},
   "outputs": [],
   "source": [
    "df_people[(df_people['lname']=='Dow') & (df_people['fname']=='Jenny')]"
   ]
  },
  {
   "cell_type": "code",
   "execution_count": null,
   "id": "9e28426f",
   "metadata": {},
   "outputs": [],
   "source": [
    "#updating fname to Ronny\n",
    "\n",
    "df_people.loc[(df_people['lname']=='Dow') & (df_people['fname']=='Jenny'),['fname','email']] = ['Ronny','ronny.dow@email.com']"
   ]
  },
  {
   "cell_type": "code",
   "execution_count": null,
   "id": "6b922b38",
   "metadata": {},
   "outputs": [],
   "source": [
    "#if you know the index for the record you wish to change\n",
    "#dataframe.loc[index,[column's-to-update]] = [new-column-value]\n",
    "df_people.loc[6, ['fname','email']] = ['Rock','rock.dow@email.com']"
   ]
  },
  {
   "cell_type": "code",
   "execution_count": null,
   "id": "1e7dfca8",
   "metadata": {},
   "outputs": [],
   "source": [
    "df_people.loc[df_people['emp_type']=='emp','emp_type'] = 'Emp'"
   ]
  },
  {
   "cell_type": "code",
   "execution_count": null,
   "id": "1a2e687f",
   "metadata": {},
   "outputs": [],
   "source": [
    "df_people"
   ]
  },
  {
   "cell_type": "code",
   "execution_count": null,
   "id": "683a851a",
   "metadata": {
    "scrolled": true
   },
   "outputs": [],
   "source": [
    "df_people[~((df_people['fname']=='Rock') & (df_people['lname']=='Dow'))]"
   ]
  },
  {
   "cell_type": "code",
   "execution_count": null,
   "id": "d94cc06b",
   "metadata": {
    "scrolled": true
   },
   "outputs": [],
   "source": [
    "df_people[(df_people['fname']=='Rock') & (df_people['lname']=='Dow')]"
   ]
  },
  {
   "cell_type": "code",
   "execution_count": null,
   "id": "99298a35",
   "metadata": {},
   "outputs": [],
   "source": [
    "#update two column by using index reference\n",
    "df_people.loc[3,['lname','email']]= ['Dilt','rosy.dilt@email.com']\n"
   ]
  },
  {
   "cell_type": "code",
   "execution_count": null,
   "id": "cf69e31d",
   "metadata": {},
   "outputs": [],
   "source": [
    "#AT can also be use in place of loc --somehow giving error to update multiple column values but values are getting change i guess this ment only for 1 value\n",
    "\n",
    "#df_people.at[3,['lname','email']]= ['Hanson','rosy.hanson@email.com']\n",
    "df_people.at[3, 'lname'] = 'Hanson'"
   ]
  },
  {
   "cell_type": "code",
   "execution_count": null,
   "id": "0528ce50",
   "metadata": {},
   "outputs": [],
   "source": [
    "#update column all value to upper or other operation\n",
    "\n",
    "df_people['emp_type'] = df_people['emp_type'].str.upper()"
   ]
  },
  {
   "cell_type": "markdown",
   "id": "ff6035b5",
   "metadata": {},
   "source": [
    "# apply, map, applymap and replace method"
   ]
  },
  {
   "cell_type": "code",
   "execution_count": null,
   "id": "f0224c56",
   "metadata": {},
   "outputs": [],
   "source": [
    "#here find the record and chooes the column and see the lenth of that column value\n",
    "df_people.loc[df_people['email']=='td@email.com','fname']\n",
    "df_people.loc[df_people['email']=='td@email.com','fname'].apply(len)\n"
   ]
  },
  {
   "cell_type": "code",
   "execution_count": null,
   "id": "e06556f9",
   "metadata": {
    "scrolled": true
   },
   "outputs": [],
   "source": [
    "df_people.loc[df_people['lname']=='Dow', 'email']"
   ]
  },
  {
   "cell_type": "code",
   "execution_count": null,
   "id": "3b53d095",
   "metadata": {},
   "outputs": [],
   "source": [
    "df_people.loc[df_people['emp_type']=='cwx','emp_type'].str.upper()\n",
    "#df_people['emp_type'] = df_people.loc[df_people['emp_type']=='cwx','emp_type'].apply(lambda x: x.upper())\n",
    "\n",
    "#don't update the dataframe field value as this gives the all DF records with matching and non matching records and for non matching criteria value will update to NaN\n",
    "dfp['emp_type'] =dfp.loc[df_people['emp_type']=='cwx','emp_type'].str.upper()\n"
   ]
  },
  {
   "cell_type": "code",
   "execution_count": null,
   "id": "f9c0fc8e",
   "metadata": {},
   "outputs": [],
   "source": [
    "dfp"
   ]
  },
  {
   "cell_type": "code",
   "execution_count": null,
   "id": "0040768c",
   "metadata": {},
   "outputs": [],
   "source": [
    "df_p = df_people['email'].str.upper()\n",
    "#this will create new dataframe with selected values\n",
    "df_p"
   ]
  },
  {
   "cell_type": "code",
   "execution_count": null,
   "id": "fe0389ae",
   "metadata": {},
   "outputs": [],
   "source": [
    "#update value for emp field\n",
    "df_people.loc[df_people['emp_type']!='CWX','emp_type'] = 'Emp'"
   ]
  },
  {
   "cell_type": "code",
   "execution_count": null,
   "id": "3f3d6879",
   "metadata": {},
   "outputs": [],
   "source": [
    "df_people['emp_type'] = df_people['emp_type'].str.upper()\n",
    "df_people"
   ]
  },
  {
   "cell_type": "code",
   "execution_count": null,
   "id": "5b7f4ddf",
   "metadata": {
    "scrolled": true
   },
   "outputs": [],
   "source": [
    "df_people['emp_type'] = df_people['emp_type'].str.lower()\n",
    "df_people"
   ]
  },
  {
   "cell_type": "code",
   "execution_count": null,
   "id": "22bb1cfd",
   "metadata": {},
   "outputs": [],
   "source": [
    "people = {\n",
    "    'id': [1001,1003,1002,1004,1005,1006,1007,1008,1009,1010],\n",
    "    'fname': ['Jack','Tom','Traci','Rosy','Jack','Jhon','Jenny','Tom','Raj','Terry'],\n",
    "    'lname': ['Foly','Alter','Saw','Burk','jack@email','Dow','Dow','Hanks','Saurabh','Dow'], \n",
    "    'email': ['jack.foly@email','tom.alter@email','traci.saw@email','rosy.burk@email','jack@email','jhon.dow@email.com','jenny.dow@email.com','tom.hanks@email.com','saurabh.raj@email.com','td@email.com'],\n",
    "    'country':['USA','UK','India','Canada','Germany','USA','USA','UK','India', 'USA'],\n",
    "    'work mode': ['remote','work from home','office','head office','remote','office','Remote','office','work from home','Office'],\n",
    "    'dept': ['IT','Sales','Marketing','Admin','Sales','Developer','Admin','Sales','VP','Finance'],\n",
    "    'emp_type':['emp','cwx','emp','cwx','emp','emp','cwx','emp','emp','emp'],\n",
    "    'language': ['English;French','Spanish;French;English','Dutch;English',\n",
    "                 'Finish;English;Python','English;Hindi;Java:Spanish','English:SQL:Python',\n",
    "                 'English;Unix','Hindi;Python-English','Dutch;Swiss;English','English'\n",
    "                ]\n",
    "         }"
   ]
  },
  {
   "cell_type": "code",
   "execution_count": null,
   "id": "374ab996",
   "metadata": {},
   "outputs": [],
   "source": [
    "pdf = pd.DataFrame(people)"
   ]
  },
  {
   "cell_type": "code",
   "execution_count": null,
   "id": "63478439",
   "metadata": {},
   "outputs": [],
   "source": [
    "pdf\n",
    "#.loc[9, 'language'] = 'Zulu;English'"
   ]
  },
  {
   "cell_type": "code",
   "execution_count": null,
   "id": "86f1560d",
   "metadata": {},
   "outputs": [],
   "source": [
    "(pdf['lname']=='Dow') | (pdf['fname']=='Tom') "
   ]
  },
  {
   "cell_type": "code",
   "execution_count": null,
   "id": "ac67658b",
   "metadata": {},
   "outputs": [],
   "source": [
    "# this is good to filter the record but for update it will update for matching row but rest of them become NaN\n",
    "pdf.loc[f, 'emp_type'].str.upper()"
   ]
  },
  {
   "cell_type": "code",
   "execution_count": null,
   "id": "5a89c36f",
   "metadata": {},
   "outputs": [],
   "source": [
    "a= None\n",
    "b=np.nan\n",
    "\n",
    "if a==b:\n",
    "    print('Yes')\n",
    "else:\n",
    "    print('NaN and None is not equal')"
   ]
  },
  {
   "cell_type": "code",
   "execution_count": null,
   "id": "550fbc1d",
   "metadata": {
    "scrolled": true
   },
   "outputs": [],
   "source": [
    "pdf['emp_type'] = pdf['emp_type'].str.lower()"
   ]
  },
  {
   "cell_type": "code",
   "execution_count": null,
   "id": "c6634b68",
   "metadata": {},
   "outputs": [],
   "source": [
    "#delete dataframe -- result after executing given del statment \n",
    "del pdff"
   ]
  },
  {
   "cell_type": "code",
   "execution_count": null,
   "id": "f98b9eac",
   "metadata": {},
   "outputs": [],
   "source": [
    "#get the lenght of the field, remeber here email set as custome index to reference record default is integer index\n",
    "pdf['fname'].apply(len)"
   ]
  },
  {
   "cell_type": "code",
   "execution_count": null,
   "id": "f8131e77",
   "metadata": {},
   "outputs": [],
   "source": [
    "#This tell how many record each column have in DF, default axis is rows\n",
    "pdf.apply(len)"
   ]
  },
  {
   "cell_type": "code",
   "execution_count": null,
   "id": "44d3a2b9",
   "metadata": {},
   "outputs": [],
   "source": [
    "#this Tells DF have 9 Columns in each row, except index, incase custom index is set that will not count\n",
    "pdf.apply(len, axis='columns')"
   ]
  },
  {
   "cell_type": "code",
   "execution_count": null,
   "id": "c160af2e",
   "metadata": {},
   "outputs": [],
   "source": [
    "#minimum character in DF fname column, first is length and 2nd int is occurance as per \n",
    "\n",
    "#pdf.set_index('email', inplace=True)\n",
    "pdf['fname'].apply(len).value_counts()\n",
    "#pdf['fname'].max()"
   ]
  },
  {
   "cell_type": "code",
   "execution_count": null,
   "id": "8fc1588c",
   "metadata": {
    "scrolled": true
   },
   "outputs": [],
   "source": [
    "pdf['fname']"
   ]
  },
  {
   "cell_type": "code",
   "execution_count": null,
   "id": "3f577cd3",
   "metadata": {},
   "outputs": [],
   "source": [
    "# Series min or max with apply() give you the min/max value of each column from dataset\n",
    "#, since each column in dataset is Series\n",
    "# remember to use the pd.Series which means apply the pandas Series min/max method on dataframe\n",
    "\n",
    "pdf.apply(pd.Series.max)"
   ]
  },
  {
   "cell_type": "code",
   "execution_count": null,
   "id": "80257559",
   "metadata": {},
   "outputs": [],
   "source": [
    "#Same can be done by using the lambda\n",
    "\n",
    "pdf.apply(lambda x: x.max())"
   ]
  },
  {
   "cell_type": "code",
   "execution_count": null,
   "id": "3a4463f3",
   "metadata": {},
   "outputs": [],
   "source": [
    "pdf"
   ]
  },
  {
   "cell_type": "code",
   "execution_count": null,
   "id": "dc2d7444",
   "metadata": {},
   "outputs": [],
   "source": [
    "#change the value for column values we can use replace method\n",
    "#update multiple row column values\n",
    "pdf['lname']= pdf['lname'].replace({'Sharma':'Burk', 'Saurabh':'Kumar'})"
   ]
  },
  {
   "cell_type": "code",
   "execution_count": null,
   "id": "bbcd61ae",
   "metadata": {
    "scrolled": true
   },
   "outputs": [],
   "source": [
    "pdf.loc[[3,8]]"
   ]
  },
  {
   "cell_type": "markdown",
   "id": "32cd0a2d",
   "metadata": {},
   "source": [
    "# Change column name or rename column name, use inplace=True to apply the change"
   ]
  },
  {
   "cell_type": "code",
   "execution_count": null,
   "id": "88e58253",
   "metadata": {
    "scrolled": true
   },
   "outputs": [],
   "source": [
    "#pdf.rename(columns = {'id':'emp_id'}, inplace=True)\n",
    "#update column header name DataFrame.replace(colums = {'existing_name':'new_name'})\n",
    "pdf.rename(columns = {'id':'emp_id'})"
   ]
  },
  {
   "cell_type": "code",
   "execution_count": null,
   "id": "b810a5c4",
   "metadata": {
    "scrolled": true
   },
   "outputs": [],
   "source": [
    "pdf"
   ]
  },
  {
   "cell_type": "markdown",
   "id": "a2121aa2",
   "metadata": {},
   "source": [
    "# Insert and update Records\n",
    "# Handling Null value in Df\n",
    "# dropna(axis=index/columns, how='all/any')\n",
    "all= delete row or column when all values are null\n",
    "any = delete row or column when any value in df is null/NaN"
   ]
  },
  {
   "cell_type": "code",
   "execution_count": null,
   "id": "637f1ac0",
   "metadata": {},
   "outputs": [],
   "source": [
    "import numpy as np\n",
    "emp_data = {'fname': ['sample','Jack',np.nan,'Traci','Rosy','Jack','Jhon','NULL','Tom','Raj','Terry'],\n",
    "            'lname': [np.nan,'Foly','NA',np.nan,'NA','jack@email','Dow','Dow','Hanks','Saurabh','Missing'], \n",
    "            'email': [np.nan,'jack.foly@email',None,'traci.saw@email','rosy.burk@email','jack@email','jhon.dow@email.com','jenny.dow@email.com','tom.hanks@email.com','saurabh.raj@email.com','td@email.com'],\n",
    "            'age':[15,10,np.nan,11,23,45,65,43,2,4,None],\n",
    "            'zip':[10001,np.nan,np.nan,np.nan,np.nan,np.nan,np.nan,np.nan,np.nan,np.nan,'NA']\n",
    "           }"
   ]
  },
  {
   "cell_type": "code",
   "execution_count": null,
   "id": "af5ff70e",
   "metadata": {},
   "outputs": [],
   "source": [
    "ndf = pd.DataFrame(emp_data)\n",
    "pd.set_option('display.max_rows',12)\n",
    "#display at least 12 rows for all DF its not only for this"
   ]
  },
  {
   "cell_type": "code",
   "execution_count": null,
   "id": "a272b80f",
   "metadata": {
    "scrolled": false
   },
   "outputs": [],
   "source": [
    "ndf\n",
    "#ndf.loc[9]=None"
   ]
  },
  {
   "cell_type": "code",
   "execution_count": null,
   "id": "0108c88c",
   "metadata": {
    "scrolled": false
   },
   "outputs": [],
   "source": [
    "ndf=ndf.append({'full_name':'NAMissing None','fname':'NAKumar','email':'MissingNA@email.com','gender':None}, ignore_index=True)\n",
    "ndf"
   ]
  },
  {
   "cell_type": "code",
   "execution_count": null,
   "id": "9f868fbb",
   "metadata": {
    "scrolled": true
   },
   "outputs": [],
   "source": [
    "cond = ndf['email']=='MissingNA@email.com'"
   ]
  },
  {
   "cell_type": "code",
   "execution_count": null,
   "id": "8e524743",
   "metadata": {
    "scrolled": false
   },
   "outputs": [],
   "source": [
    "ndf.drop(index=ndf[cond].index)"
   ]
  },
  {
   "cell_type": "code",
   "execution_count": null,
   "id": "01a48de8",
   "metadata": {},
   "outputs": [],
   "source": [
    "ndf.replace({'MissingNA@email.com': 'noemp@email.com'}, inplace=True, method='bfill')"
   ]
  },
  {
   "cell_type": "code",
   "execution_count": null,
   "id": "e26df62a",
   "metadata": {},
   "outputs": [],
   "source": [
    "ndf"
   ]
  },
  {
   "cell_type": "code",
   "execution_count": null,
   "id": "692c4061",
   "metadata": {},
   "outputs": [],
   "source": [
    "ndf.replace({None:'np.nan','Missing':np.nan,None:np.nan})"
   ]
  },
  {
   "cell_type": "code",
   "execution_count": null,
   "id": "5bb3b2ad",
   "metadata": {},
   "outputs": [],
   "source": [
    "#Replace dataset custom null/na/missing values\n",
    "#remember if no dataframe column specified in this case it will search value in all DF columns for replacement\n",
    "\n",
    "ndf.replace({'NA':np.nan, None:np.nan, 'Missing':np.nan})\n",
    "#after reviewing DF changes, use inplace=True to make permanent changes in DF"
   ]
  },
  {
   "cell_type": "markdown",
   "id": "2db66e3e",
   "metadata": {},
   "source": [
    "# here entire zip field is dropped because of how='all' option, with 'any' option all df records will dropped because in df have NaN/None value in each column"
   ]
  },
  {
   "cell_type": "code",
   "execution_count": null,
   "id": "92827962",
   "metadata": {
    "scrolled": true
   },
   "outputs": [],
   "source": [
    "ndf.dropna(axis='columns', how='all')"
   ]
  },
  {
   "cell_type": "markdown",
   "id": "c43d85f1",
   "metadata": {},
   "source": [
    "#Conditionally deletion of rows and columns for\n",
    "# Conditon 1 - eg. delete rows if lname or email is null\n",
    "# here 'HOW\" play important role to drop after evaluating the list of cols in subset if how set to all in this case conditon will evalueate all the subset cols needs to be null to drop from df check Condition 2 "
   ]
  },
  {
   "cell_type": "code",
   "execution_count": null,
   "id": "e5ca2ca8",
   "metadata": {},
   "outputs": [],
   "source": [
    "ndf.dropna(axis='index', how='any', subset=['lname','email'])"
   ]
  },
  {
   "cell_type": "code",
   "execution_count": null,
   "id": "bae6a7c4",
   "metadata": {},
   "outputs": [],
   "source": [
    "ndf.replace({'NA':np.nan, 'NULL':np.nan,None:np.nan})"
   ]
  },
  {
   "cell_type": "code",
   "execution_count": null,
   "id": "32aeabed",
   "metadata": {},
   "outputs": [],
   "source": [
    "ndf"
   ]
  },
  {
   "cell_type": "markdown",
   "id": "b5021c94",
   "metadata": {},
   "source": [
    "# condition 2 - drop row when lname and email both are missing"
   ]
  },
  {
   "cell_type": "code",
   "execution_count": null,
   "id": "a9fe1f8c",
   "metadata": {},
   "outputs": [],
   "source": [
    "ndf.dropna(axis='index', how='all', subset=['lname','email'])\n",
    "# use inplace = True to update the dataframe with your changes"
   ]
  },
  {
   "cell_type": "code",
   "execution_count": null,
   "id": "e102954f",
   "metadata": {},
   "outputs": [],
   "source": [
    "# search  NaN value in DF\n",
    "\n",
    "ndf.isna()"
   ]
  },
  {
   "cell_type": "code",
   "execution_count": null,
   "id": "125f20a2",
   "metadata": {},
   "outputs": [],
   "source": [
    "#update NaN value with text or number\n",
    "ndf.fillna(\"missing\")\n",
    "ndf.fillna(-1)"
   ]
  },
  {
   "cell_type": "code",
   "execution_count": null,
   "id": "87ed1c5c",
   "metadata": {},
   "outputs": [],
   "source": [
    "#ndf.replace({-1,np.nan}, inplace=True)\n",
    "\n",
    "ndf.dtypes"
   ]
  },
  {
   "cell_type": "code",
   "execution_count": null,
   "id": "8bc969ac",
   "metadata": {},
   "outputs": [],
   "source": [
    "#zip column in DF is object type reason being mathmatical function can not be performed\n",
    "#in this case this column need to be cast to int / float to do that, first string or null values need to be handled\n",
    "\n",
    "ndf['zip'].replace({'NA':0}, inplace=True)\n",
    "ndf['zip'].astype(float)"
   ]
  },
  {
   "cell_type": "code",
   "execution_count": null,
   "id": "1f73654b",
   "metadata": {
    "scrolled": true
   },
   "outputs": [],
   "source": [
    "ndf['zip'].mean()"
   ]
  },
  {
   "cell_type": "markdown",
   "id": "0cb41ac2",
   "metadata": {},
   "source": [
    "# ADD / Delete column from DataFrame\n"
   ]
  },
  {
   "cell_type": "code",
   "execution_count": null,
   "id": "71a53df7",
   "metadata": {},
   "outputs": [],
   "source": [
    "#adding new column full_name\n",
    "\n",
    "ndf['full_name'] = ndf['fname'] +' '+ ndf['lname']"
   ]
  },
  {
   "cell_type": "code",
   "execution_count": null,
   "id": "d594085a",
   "metadata": {},
   "outputs": [],
   "source": [
    "ndf"
   ]
  },
  {
   "cell_type": "code",
   "execution_count": null,
   "id": "1e24eb80",
   "metadata": {},
   "outputs": [],
   "source": [
    "#str.split method to re-add fname and lname column in df\n",
    "ndf['full_name'].str.split(' ')"
   ]
  },
  {
   "cell_type": "code",
   "execution_count": null,
   "id": "b836f7d5",
   "metadata": {},
   "outputs": [],
   "source": [
    "#this will seperate the value in columns structure that can be addded to df in next \n",
    "ndf['full_name'].str.split(' ', expand=True)"
   ]
  },
  {
   "cell_type": "code",
   "execution_count": null,
   "id": "1f49767c",
   "metadata": {},
   "outputs": [],
   "source": [
    "# Adding Two column in DF\n",
    "ndf[['fname','lname']] = ndf['full_name'].str.split(' ', expand=True)"
   ]
  },
  {
   "cell_type": "code",
   "execution_count": null,
   "id": "0245291d",
   "metadata": {},
   "outputs": [],
   "source": [
    "ndf"
   ]
  },
  {
   "cell_type": "code",
   "execution_count": null,
   "id": "1b233ac2",
   "metadata": {},
   "outputs": [],
   "source": [
    "#add column in df\n",
    "ndf['gender']=np.nan"
   ]
  },
  {
   "cell_type": "code",
   "execution_count": null,
   "id": "15438b8c",
   "metadata": {},
   "outputs": [],
   "source": [
    "#add row use df.append(obj, ignore_index=True, sort=False/True)\n",
    "ndf"
   ]
  },
  {
   "cell_type": "code",
   "execution_count": null,
   "id": "923eb6e2",
   "metadata": {},
   "outputs": [],
   "source": [
    "#insert record, Remember to assign the value to DF other wise insert will not take effect\n",
    "\n",
    "ndf = ndf.append({'fname':'Rosy','lname':'Wakeford'}, ignore_index=True)"
   ]
  },
  {
   "cell_type": "code",
   "execution_count": null,
   "id": "82e3fb7a",
   "metadata": {},
   "outputs": [],
   "source": [
    "#this is adding two column in DF\n",
    "ndf1[['gender','full_name']]= [np.nan, ndf['fname'] + ' ' + ndf['lname']]"
   ]
  },
  {
   "cell_type": "code",
   "execution_count": null,
   "id": "8cff1fec",
   "metadata": {
    "scrolled": false
   },
   "outputs": [],
   "source": [
    "ndf"
   ]
  },
  {
   "cell_type": "markdown",
   "id": "aade1174",
   "metadata": {},
   "source": [
    "# Merging dataset adding dataset inserting another dataset to main df"
   ]
  },
  {
   "cell_type": "code",
   "execution_count": null,
   "id": "56d0d278",
   "metadata": {},
   "outputs": [],
   "source": [
    "#adding/combining dataframe \n",
    "#Use one of the DF to include those change otherwise this remain view only, eg. ndf = pd.append(df,ignore_index=True, sort=False)\n",
    "pd.set_option('display.max_rows',33)\n",
    "ndf = ndf.append(ndf1, ignore_index=True, sort=False)"
   ]
  },
  {
   "cell_type": "code",
   "execution_count": null,
   "id": "a69d5876",
   "metadata": {
    "scrolled": true
   },
   "outputs": [],
   "source": [
    "ndf1"
   ]
  },
  {
   "cell_type": "markdown",
   "id": "1a19a7c6",
   "metadata": {},
   "source": [
    "# Drop column"
   ]
  },
  {
   "cell_type": "code",
   "execution_count": null,
   "id": "ceffc5a6",
   "metadata": {},
   "outputs": [],
   "source": [
    "# Drop Columns\n",
    "#drop fname and lname column from dataframe\n",
    "#inplace=True to commit changes to DF\n",
    "\n",
    "ndf.drop(columns = ['lname','fname'], inplace = True)"
   ]
  },
  {
   "cell_type": "code",
   "execution_count": null,
   "id": "2248c5d9",
   "metadata": {},
   "outputs": [],
   "source": [
    "ndf"
   ]
  },
  {
   "cell_type": "markdown",
   "id": "29a82c30",
   "metadata": {},
   "source": [
    "# Drop Row"
   ]
  },
  {
   "cell_type": "code",
   "execution_count": null,
   "id": "7f8142a8",
   "metadata": {},
   "outputs": [],
   "source": [
    "ndf1.drop(index=7, inplace=True)"
   ]
  },
  {
   "cell_type": "code",
   "execution_count": null,
   "id": "7e4b3d45",
   "metadata": {},
   "outputs": [],
   "source": [
    "# Delete row from Dataframe\n",
    "ndf.drop(index=0, inplace=True)"
   ]
  },
  {
   "cell_type": "code",
   "execution_count": null,
   "id": "4f4ea34e",
   "metadata": {},
   "outputs": [],
   "source": [
    "# 2nd way to use the filter or conditional deletion\n",
    "\n",
    "fi = ndf['lname']=='Wakeford'\n",
    "ndf[fi].index"
   ]
  },
  {
   "cell_type": "code",
   "execution_count": null,
   "id": "38b46a60",
   "metadata": {},
   "outputs": [],
   "source": [
    "ndf.drop(index=ndf[fi].index, inplace=True)"
   ]
  },
  {
   "cell_type": "code",
   "execution_count": null,
   "id": "b4c9417b",
   "metadata": {},
   "outputs": [],
   "source": [
    "ndf"
   ]
  },
  {
   "cell_type": "code",
   "execution_count": null,
   "id": "89bafe08",
   "metadata": {
    "scrolled": true
   },
   "outputs": [],
   "source": [
    "# Delete column drop column\n",
    "ndf1.drop(columns=['fname','lname'], inplace=True)"
   ]
  },
  {
   "cell_type": "code",
   "execution_count": null,
   "id": "ba7a592c",
   "metadata": {
    "scrolled": true
   },
   "outputs": [],
   "source": [
    "ndf1"
   ]
  },
  {
   "cell_type": "code",
   "execution_count": null,
   "id": "43186ca9",
   "metadata": {
    "scrolled": false
   },
   "outputs": [],
   "source": [
    "#df_people.loc[df_people['lname']=='jack@email',['lname','email']] =['Son','jack.son@email.com']\n",
    "#df_people['full_name'] = df_people['fname'] + ' ' + df_people['lname']\n",
    "df_people"
   ]
  },
  {
   "cell_type": "markdown",
   "id": "508771c3",
   "metadata": {},
   "source": [
    "# Sort data in dataframe - two way sort index or short by column value\n",
    "# use inplace=True to keep sorted data in DF"
   ]
  },
  {
   "cell_type": "code",
   "execution_count": null,
   "id": "76500a2c",
   "metadata": {},
   "outputs": [],
   "source": [
    "#sort by Index you can sort in decending by making ascending = True\n",
    "df_people.sort_index(ascending=False)"
   ]
  },
  {
   "cell_type": "code",
   "execution_count": null,
   "id": "ddd0c865",
   "metadata": {},
   "outputs": [],
   "source": [
    "#Ascending order is default sort order\n",
    "df_people.sort_values(by=['fname'], ascending=False)"
   ]
  },
  {
   "cell_type": "code",
   "execution_count": null,
   "id": "88ca42d6",
   "metadata": {},
   "outputs": [],
   "source": [
    "df_people.sort_values(by=['fname','lname'], ascending=False)"
   ]
  },
  {
   "cell_type": "code",
   "execution_count": null,
   "id": "2a197724",
   "metadata": {
    "scrolled": false
   },
   "outputs": [],
   "source": [
    "#complecate sort on different columns\n",
    "#Use Case - sort first name asceding than lname decending order\n",
    "df_people.sort_values(['fname','lname'], ascending=[False, True])"
   ]
  },
  {
   "cell_type": "code",
   "execution_count": 30,
   "id": "f94962b0",
   "metadata": {},
   "outputs": [],
   "source": [
    "#adding column to DF\n",
    "df_people['salary']=1000"
   ]
  },
  {
   "cell_type": "code",
   "execution_count": 131,
   "id": "d7c993ef",
   "metadata": {},
   "outputs": [],
   "source": [
    "#updating each column\n",
    "df_people.loc[7,'salary']=5500\n",
    "df_people.loc[0,'salary']=5000"
   ]
  },
  {
   "cell_type": "code",
   "execution_count": 87,
   "id": "a008ebb2",
   "metadata": {},
   "outputs": [],
   "source": [
    "df_people['salary']= (df_people['salary'] * df_people['salary'].index) "
   ]
  },
  {
   "cell_type": "code",
   "execution_count": null,
   "id": "a279ab56",
   "metadata": {},
   "outputs": [],
   "source": [
    "df_people"
   ]
  },
  {
   "cell_type": "code",
   "execution_count": null,
   "id": "1df55923",
   "metadata": {},
   "outputs": [],
   "source": [
    "#top and bottom 5 rows\n",
    "df_people['salary'].nlargest(5)"
   ]
  },
  {
   "cell_type": "code",
   "execution_count": null,
   "id": "1b508537",
   "metadata": {},
   "outputs": [],
   "source": [
    "# bottom 5 salary\n",
    "#df_people['salary'].nsmallest(5).index.max()\n",
    "df_people['salary'].nsmallest(5)"
   ]
  },
  {
   "cell_type": "code",
   "execution_count": null,
   "id": "78383671",
   "metadata": {
    "scrolled": true
   },
   "outputs": [],
   "source": [
    "#complete dataset with top and bottom 5\n",
    "\n",
    "df_people.nlargest(5, 'salary')"
   ]
  },
  {
   "cell_type": "code",
   "execution_count": null,
   "id": "b08f3acd",
   "metadata": {
    "scrolled": true
   },
   "outputs": [],
   "source": [
    "df_people.nsmallest(5, 'salary')"
   ]
  },
  {
   "cell_type": "markdown",
   "id": "0c458cde",
   "metadata": {},
   "source": [
    "# Grouping and Aggregating \n"
   ]
  },
  {
   "cell_type": "code",
   "execution_count": null,
   "id": "0990c0b0",
   "metadata": {},
   "outputs": [],
   "source": [
    "df_people['salary'].median()"
   ]
  },
  {
   "cell_type": "code",
   "execution_count": null,
   "id": "adc25c50",
   "metadata": {
    "scrolled": true
   },
   "outputs": [],
   "source": [
    "df_people.sort_values('salary')"
   ]
  },
  {
   "cell_type": "code",
   "execution_count": null,
   "id": "dc7b474a",
   "metadata": {},
   "outputs": [],
   "source": [
    "#merged_df = ndf.append(df_people, ignore_index=True)"
   ]
  },
  {
   "cell_type": "code",
   "execution_count": 109,
   "id": "6952583c",
   "metadata": {},
   "outputs": [
    {
     "data": {
      "text/html": [
       "<div>\n",
       "<style scoped>\n",
       "    .dataframe tbody tr th:only-of-type {\n",
       "        vertical-align: middle;\n",
       "    }\n",
       "\n",
       "    .dataframe tbody tr th {\n",
       "        vertical-align: top;\n",
       "    }\n",
       "\n",
       "    .dataframe thead th {\n",
       "        text-align: right;\n",
       "    }\n",
       "</style>\n",
       "<table border=\"1\" class=\"dataframe\">\n",
       "  <thead>\n",
       "    <tr style=\"text-align: right;\">\n",
       "      <th></th>\n",
       "      <th>index</th>\n",
       "      <th>id</th>\n",
       "      <th>fname</th>\n",
       "      <th>lname</th>\n",
       "      <th>email</th>\n",
       "      <th>country</th>\n",
       "      <th>work_mode</th>\n",
       "      <th>dept</th>\n",
       "      <th>emp_type</th>\n",
       "      <th>language</th>\n",
       "      <th>salary</th>\n",
       "    </tr>\n",
       "  </thead>\n",
       "  <tbody>\n",
       "    <tr>\n",
       "      <th>0</th>\n",
       "      <td>0</td>\n",
       "      <td>1001</td>\n",
       "      <td>Jack</td>\n",
       "      <td>Foly</td>\n",
       "      <td>jack.foly@email</td>\n",
       "      <td>USA</td>\n",
       "      <td>remote</td>\n",
       "      <td>IT</td>\n",
       "      <td>emp</td>\n",
       "      <td>English;French</td>\n",
       "      <td>0</td>\n",
       "    </tr>\n",
       "    <tr>\n",
       "      <th>1</th>\n",
       "      <td>1</td>\n",
       "      <td>1003</td>\n",
       "      <td>Tom</td>\n",
       "      <td>Alter</td>\n",
       "      <td>tom.alter@email</td>\n",
       "      <td>UK</td>\n",
       "      <td>work from home</td>\n",
       "      <td>Sales</td>\n",
       "      <td>cwx</td>\n",
       "      <td>Spanish;French;English</td>\n",
       "      <td>1000</td>\n",
       "    </tr>\n",
       "    <tr>\n",
       "      <th>2</th>\n",
       "      <td>2</td>\n",
       "      <td>1002</td>\n",
       "      <td>Traci</td>\n",
       "      <td>Saw</td>\n",
       "      <td>traci.saw@email</td>\n",
       "      <td>India</td>\n",
       "      <td>office</td>\n",
       "      <td>Marketing</td>\n",
       "      <td>emp</td>\n",
       "      <td>Dutch;English</td>\n",
       "      <td>2000</td>\n",
       "    </tr>\n",
       "    <tr>\n",
       "      <th>3</th>\n",
       "      <td>3</td>\n",
       "      <td>1004</td>\n",
       "      <td>Rosy</td>\n",
       "      <td>Burk</td>\n",
       "      <td>rosy.burk@email</td>\n",
       "      <td>Canada</td>\n",
       "      <td>head office</td>\n",
       "      <td>Admin</td>\n",
       "      <td>cwx</td>\n",
       "      <td>Finish;English;Python</td>\n",
       "      <td>3000</td>\n",
       "    </tr>\n",
       "    <tr>\n",
       "      <th>4</th>\n",
       "      <td>4</td>\n",
       "      <td>1005</td>\n",
       "      <td>Jack</td>\n",
       "      <td>jack@email</td>\n",
       "      <td>jack@email</td>\n",
       "      <td>Germany</td>\n",
       "      <td>remote</td>\n",
       "      <td>Sales</td>\n",
       "      <td>emp</td>\n",
       "      <td>English;Hindi;Java:Spanish</td>\n",
       "      <td>4000</td>\n",
       "    </tr>\n",
       "    <tr>\n",
       "      <th>5</th>\n",
       "      <td>5</td>\n",
       "      <td>1006</td>\n",
       "      <td>Jhon</td>\n",
       "      <td>Dow</td>\n",
       "      <td>jhon.dow@email.com</td>\n",
       "      <td>USA</td>\n",
       "      <td>office</td>\n",
       "      <td>Developer</td>\n",
       "      <td>emp</td>\n",
       "      <td>English:SQL:Python</td>\n",
       "      <td>5000</td>\n",
       "    </tr>\n",
       "    <tr>\n",
       "      <th>6</th>\n",
       "      <td>6</td>\n",
       "      <td>1007</td>\n",
       "      <td>Jenny</td>\n",
       "      <td>Dow</td>\n",
       "      <td>jenny.dow@email.com</td>\n",
       "      <td>USA</td>\n",
       "      <td>Remote</td>\n",
       "      <td>Admin</td>\n",
       "      <td>cwx</td>\n",
       "      <td>English;Unix</td>\n",
       "      <td>6000</td>\n",
       "    </tr>\n",
       "    <tr>\n",
       "      <th>7</th>\n",
       "      <td>7</td>\n",
       "      <td>1008</td>\n",
       "      <td>Tom</td>\n",
       "      <td>Hanks</td>\n",
       "      <td>tom.hanks@email.com</td>\n",
       "      <td>UK</td>\n",
       "      <td>office</td>\n",
       "      <td>Sales</td>\n",
       "      <td>emp</td>\n",
       "      <td>Hindi;Python-English</td>\n",
       "      <td>5500</td>\n",
       "    </tr>\n",
       "    <tr>\n",
       "      <th>8</th>\n",
       "      <td>8</td>\n",
       "      <td>1009</td>\n",
       "      <td>Raj</td>\n",
       "      <td>Saurabh</td>\n",
       "      <td>saurabh.raj@email.com</td>\n",
       "      <td>India</td>\n",
       "      <td>work from home</td>\n",
       "      <td>VP</td>\n",
       "      <td>emp</td>\n",
       "      <td>Dutch;Swiss;English</td>\n",
       "      <td>8000</td>\n",
       "    </tr>\n",
       "    <tr>\n",
       "      <th>9</th>\n",
       "      <td>9</td>\n",
       "      <td>1010</td>\n",
       "      <td>Terry</td>\n",
       "      <td>Dow</td>\n",
       "      <td>td@email.com</td>\n",
       "      <td>USA</td>\n",
       "      <td>Office</td>\n",
       "      <td>Finance</td>\n",
       "      <td>emp</td>\n",
       "      <td>English</td>\n",
       "      <td>9000</td>\n",
       "    </tr>\n",
       "  </tbody>\n",
       "</table>\n",
       "</div>"
      ],
      "text/plain": [
       "   index    id  fname       lname                  email  country  \\\n",
       "0      0  1001   Jack        Foly        jack.foly@email      USA   \n",
       "1      1  1003    Tom       Alter        tom.alter@email       UK   \n",
       "2      2  1002  Traci         Saw        traci.saw@email    India   \n",
       "3      3  1004   Rosy        Burk        rosy.burk@email   Canada   \n",
       "4      4  1005   Jack  jack@email             jack@email  Germany   \n",
       "5      5  1006   Jhon         Dow     jhon.dow@email.com      USA   \n",
       "6      6  1007  Jenny         Dow    jenny.dow@email.com      USA   \n",
       "7      7  1008    Tom       Hanks    tom.hanks@email.com       UK   \n",
       "8      8  1009    Raj     Saurabh  saurabh.raj@email.com    India   \n",
       "9      9  1010  Terry         Dow           td@email.com      USA   \n",
       "\n",
       "        work_mode       dept emp_type                    language  salary  \n",
       "0          remote         IT      emp              English;French       0  \n",
       "1  work from home      Sales      cwx      Spanish;French;English    1000  \n",
       "2          office  Marketing      emp               Dutch;English    2000  \n",
       "3     head office      Admin      cwx       Finish;English;Python    3000  \n",
       "4          remote      Sales      emp  English;Hindi;Java:Spanish    4000  \n",
       "5          office  Developer      emp          English:SQL:Python    5000  \n",
       "6          Remote      Admin      cwx                English;Unix    6000  \n",
       "7          office      Sales      emp        Hindi;Python-English    5500  \n",
       "8  work from home         VP      emp         Dutch;Swiss;English    8000  \n",
       "9          Office    Finance      emp                     English    9000  "
      ]
     },
     "execution_count": 109,
     "metadata": {},
     "output_type": "execute_result"
    }
   ],
   "source": [
    "pd.set_option('display.max_columns',20)\n",
    "df_people"
   ]
  },
  {
   "cell_type": "code",
   "execution_count": 31,
   "id": "59bb24c9",
   "metadata": {
    "scrolled": true
   },
   "outputs": [
    {
     "data": {
      "text/plain": [
       "emp_type  salary\n",
       "emp       1000      3\n",
       "cwx       1000      1\n",
       "dtype: int64"
      ]
     },
     "execution_count": 31,
     "metadata": {},
     "output_type": "execute_result"
    }
   ],
   "source": [
    "fil = df_people['country']=='USA'\n",
    "df_people.loc[fil, ['emp_type','salary']].value_counts()"
   ]
  },
  {
   "cell_type": "code",
   "execution_count": 103,
   "id": "074e8022",
   "metadata": {},
   "outputs": [],
   "source": [
    "df_grp = df_people.groupby('country')"
   ]
  },
  {
   "cell_type": "code",
   "execution_count": 110,
   "id": "f7808717",
   "metadata": {
    "scrolled": true
   },
   "outputs": [
    {
     "data": {
      "text/plain": [
       "country  work_mode     \n",
       "Canada   head office       1\n",
       "Germany  remote            1\n",
       "India    office            1\n",
       "         work from home    1\n",
       "UK       office            1\n",
       "         work from home    1\n",
       "USA      Office            1\n",
       "         Remote            1\n",
       "         office            1\n",
       "         remote            1\n",
       "dtype: int64"
      ]
     },
     "execution_count": 110,
     "metadata": {},
     "output_type": "execute_result"
    }
   ],
   "source": [
    "df_grp[['country','work_mode']].value_counts()"
   ]
  },
  {
   "cell_type": "code",
   "execution_count": 111,
   "id": "655fa139",
   "metadata": {
    "scrolled": true
   },
   "outputs": [
    {
     "data": {
      "text/plain": [
       "country  dept     \n",
       "Canada   Admin        1\n",
       "Germany  Sales        1\n",
       "India    Marketing    1\n",
       "         VP           1\n",
       "UK       Sales        2\n",
       "USA      Admin        1\n",
       "         Developer    1\n",
       "         Finance      1\n",
       "         IT           1\n",
       "Name: dept, dtype: int64"
      ]
     },
     "execution_count": 111,
     "metadata": {},
     "output_type": "execute_result"
    }
   ],
   "source": [
    "#country, emp_type column become index when df_grp was created for groupby country, emp_type\n",
    "#you can created partition the df for one column by grouping country\n",
    "df_grp['dept'].value_counts()"
   ]
  },
  {
   "cell_type": "code",
   "execution_count": 112,
   "id": "111c7ea6",
   "metadata": {
    "scrolled": true
   },
   "outputs": [
    {
     "data": {
      "text/html": [
       "<div>\n",
       "<style scoped>\n",
       "    .dataframe tbody tr th:only-of-type {\n",
       "        vertical-align: middle;\n",
       "    }\n",
       "\n",
       "    .dataframe tbody tr th {\n",
       "        vertical-align: top;\n",
       "    }\n",
       "\n",
       "    .dataframe thead th {\n",
       "        text-align: right;\n",
       "    }\n",
       "</style>\n",
       "<table border=\"1\" class=\"dataframe\">\n",
       "  <thead>\n",
       "    <tr style=\"text-align: right;\">\n",
       "      <th></th>\n",
       "      <th>index</th>\n",
       "      <th>id</th>\n",
       "      <th>fname</th>\n",
       "      <th>lname</th>\n",
       "      <th>email</th>\n",
       "      <th>country</th>\n",
       "      <th>work_mode</th>\n",
       "      <th>dept</th>\n",
       "      <th>emp_type</th>\n",
       "      <th>language</th>\n",
       "      <th>salary</th>\n",
       "    </tr>\n",
       "  </thead>\n",
       "  <tbody>\n",
       "    <tr>\n",
       "      <th>2</th>\n",
       "      <td>2</td>\n",
       "      <td>1002</td>\n",
       "      <td>Traci</td>\n",
       "      <td>Saw</td>\n",
       "      <td>traci.saw@email</td>\n",
       "      <td>India</td>\n",
       "      <td>office</td>\n",
       "      <td>Marketing</td>\n",
       "      <td>emp</td>\n",
       "      <td>Dutch;English</td>\n",
       "      <td>2000</td>\n",
       "    </tr>\n",
       "    <tr>\n",
       "      <th>8</th>\n",
       "      <td>8</td>\n",
       "      <td>1009</td>\n",
       "      <td>Raj</td>\n",
       "      <td>Saurabh</td>\n",
       "      <td>saurabh.raj@email.com</td>\n",
       "      <td>India</td>\n",
       "      <td>work from home</td>\n",
       "      <td>VP</td>\n",
       "      <td>emp</td>\n",
       "      <td>Dutch;Swiss;English</td>\n",
       "      <td>8000</td>\n",
       "    </tr>\n",
       "  </tbody>\n",
       "</table>\n",
       "</div>"
      ],
      "text/plain": [
       "   index    id  fname    lname                  email country       work_mode  \\\n",
       "2      2  1002  Traci      Saw        traci.saw@email   India          office   \n",
       "8      8  1009    Raj  Saurabh  saurabh.raj@email.com   India  work from home   \n",
       "\n",
       "        dept emp_type             language  salary  \n",
       "2  Marketing      emp        Dutch;English    2000  \n",
       "8         VP      emp  Dutch;Swiss;English    8000  "
      ]
     },
     "execution_count": 112,
     "metadata": {},
     "output_type": "execute_result"
    }
   ],
   "source": [
    "df_grp.get_group('India')"
   ]
  },
  {
   "cell_type": "code",
   "execution_count": 132,
   "id": "7574e542",
   "metadata": {},
   "outputs": [
    {
     "data": {
      "text/plain": [
       "6250.0"
      ]
     },
     "execution_count": 132,
     "metadata": {},
     "output_type": "execute_result"
    }
   ],
   "source": [
    "df_grp['salary'].mean().loc['USA']"
   ]
  },
  {
   "cell_type": "code",
   "execution_count": 120,
   "id": "ee05ed63",
   "metadata": {},
   "outputs": [],
   "source": [
    "#composite group, point to understand - group act like composite key as default and group dataset based on key value\n",
    "\n",
    "comp_grp = df_people.groupby(['country','emp_type'])"
   ]
  },
  {
   "cell_type": "code",
   "execution_count": 126,
   "id": "bc4edacb",
   "metadata": {},
   "outputs": [
    {
     "data": {
      "text/html": [
       "<div>\n",
       "<style scoped>\n",
       "    .dataframe tbody tr th:only-of-type {\n",
       "        vertical-align: middle;\n",
       "    }\n",
       "\n",
       "    .dataframe tbody tr th {\n",
       "        vertical-align: top;\n",
       "    }\n",
       "\n",
       "    .dataframe thead th {\n",
       "        text-align: right;\n",
       "    }\n",
       "</style>\n",
       "<table border=\"1\" class=\"dataframe\">\n",
       "  <thead>\n",
       "    <tr style=\"text-align: right;\">\n",
       "      <th></th>\n",
       "      <th>index</th>\n",
       "      <th>id</th>\n",
       "      <th>fname</th>\n",
       "      <th>lname</th>\n",
       "      <th>email</th>\n",
       "      <th>country</th>\n",
       "      <th>work_mode</th>\n",
       "      <th>dept</th>\n",
       "      <th>emp_type</th>\n",
       "      <th>language</th>\n",
       "      <th>salary</th>\n",
       "    </tr>\n",
       "  </thead>\n",
       "  <tbody>\n",
       "    <tr>\n",
       "      <th>0</th>\n",
       "      <td>0</td>\n",
       "      <td>1001</td>\n",
       "      <td>Jack</td>\n",
       "      <td>Foly</td>\n",
       "      <td>jack.foly@email</td>\n",
       "      <td>USA</td>\n",
       "      <td>remote</td>\n",
       "      <td>IT</td>\n",
       "      <td>emp</td>\n",
       "      <td>English;French</td>\n",
       "      <td>0</td>\n",
       "    </tr>\n",
       "    <tr>\n",
       "      <th>5</th>\n",
       "      <td>5</td>\n",
       "      <td>1006</td>\n",
       "      <td>Jhon</td>\n",
       "      <td>Dow</td>\n",
       "      <td>jhon.dow@email.com</td>\n",
       "      <td>USA</td>\n",
       "      <td>office</td>\n",
       "      <td>Developer</td>\n",
       "      <td>emp</td>\n",
       "      <td>English:SQL:Python</td>\n",
       "      <td>5000</td>\n",
       "    </tr>\n",
       "    <tr>\n",
       "      <th>9</th>\n",
       "      <td>9</td>\n",
       "      <td>1010</td>\n",
       "      <td>Terry</td>\n",
       "      <td>Dow</td>\n",
       "      <td>td@email.com</td>\n",
       "      <td>USA</td>\n",
       "      <td>Office</td>\n",
       "      <td>Finance</td>\n",
       "      <td>emp</td>\n",
       "      <td>English</td>\n",
       "      <td>9000</td>\n",
       "    </tr>\n",
       "  </tbody>\n",
       "</table>\n",
       "</div>"
      ],
      "text/plain": [
       "   index    id  fname lname               email country work_mode       dept  \\\n",
       "0      0  1001   Jack  Foly     jack.foly@email     USA    remote         IT   \n",
       "5      5  1006   Jhon   Dow  jhon.dow@email.com     USA    office  Developer   \n",
       "9      9  1010  Terry   Dow        td@email.com     USA    Office    Finance   \n",
       "\n",
       "  emp_type            language  salary  \n",
       "0      emp      English;French       0  \n",
       "5      emp  English:SQL:Python    5000  \n",
       "9      emp             English    9000  "
      ]
     },
     "execution_count": 126,
     "metadata": {},
     "output_type": "execute_result"
    }
   ],
   "source": [
    "comp_grp.get_group(('USA','emp'))"
   ]
  },
  {
   "cell_type": "code",
   "execution_count": 133,
   "id": "adb537ea",
   "metadata": {},
   "outputs": [
    {
     "data": {
      "text/plain": [
       "country  emp_type\n",
       "Canada   cwx         3000.000000\n",
       "Germany  emp         4000.000000\n",
       "India    emp         5000.000000\n",
       "UK       cwx         1000.000000\n",
       "         emp         5500.000000\n",
       "USA      cwx         6000.000000\n",
       "         emp         6333.333333\n",
       "Name: salary, dtype: float64"
      ]
     },
     "execution_count": 133,
     "metadata": {},
     "output_type": "execute_result"
    }
   ],
   "source": [
    "comp_grp['salary'].mean()"
   ]
  },
  {
   "cell_type": "code",
   "execution_count": 127,
   "id": "b30b6e7c",
   "metadata": {},
   "outputs": [
    {
     "data": {
      "text/plain": [
       "emp_type\n",
       "cwx    6000.000000\n",
       "emp    4666.666667\n",
       "Name: salary, dtype: float64"
      ]
     },
     "execution_count": 127,
     "metadata": {},
     "output_type": "execute_result"
    }
   ],
   "source": [
    "comp_grp['salary'].mean().loc['USA']"
   ]
  },
  {
   "cell_type": "code",
   "execution_count": 139,
   "id": "e9d5a97a",
   "metadata": {
    "scrolled": true
   },
   "outputs": [
    {
     "data": {
      "text/plain": [
       "emp_type\n",
       "emp    5000.0\n",
       "Name: salary, dtype: float64"
      ]
     },
     "execution_count": 139,
     "metadata": {},
     "output_type": "execute_result"
    }
   ],
   "source": [
    "comp_grp['salary'].mean().loc['India']"
   ]
  },
  {
   "cell_type": "code",
   "execution_count": 150,
   "id": "9401a374",
   "metadata": {
    "scrolled": true
   },
   "outputs": [
    {
     "name": "stderr",
     "output_type": "stream",
     "text": [
      "/var/folders/l5/0hgvlxrn1q9cm7g8sk6xxnr00000gn/T/ipykernel_25336/3284867614.py:1: FutureWarning: Indexing with multiple keys (implicitly converted to a tuple of keys) will be deprecated, use a list instead.\n",
      "  comp_grp['work_mode','salary'].mean().loc['USA','cwx']\n"
     ]
    },
    {
     "data": {
      "text/plain": [
       "salary    6000.0\n",
       "Name: (USA, cwx), dtype: float64"
      ]
     },
     "execution_count": 150,
     "metadata": {},
     "output_type": "execute_result"
    }
   ],
   "source": [
    "comp_grp['work_mode','salary'].mean().loc['USA','cwx']"
   ]
  },
  {
   "cell_type": "code",
   "execution_count": 163,
   "id": "b3695378",
   "metadata": {},
   "outputs": [
    {
     "data": {
      "text/html": [
       "<div>\n",
       "<style scoped>\n",
       "    .dataframe tbody tr th:only-of-type {\n",
       "        vertical-align: middle;\n",
       "    }\n",
       "\n",
       "    .dataframe tbody tr th {\n",
       "        vertical-align: top;\n",
       "    }\n",
       "\n",
       "    .dataframe thead th {\n",
       "        text-align: right;\n",
       "    }\n",
       "</style>\n",
       "<table border=\"1\" class=\"dataframe\">\n",
       "  <thead>\n",
       "    <tr style=\"text-align: right;\">\n",
       "      <th></th>\n",
       "      <th>index</th>\n",
       "      <th>id</th>\n",
       "      <th>fname</th>\n",
       "      <th>lname</th>\n",
       "      <th>email</th>\n",
       "      <th>country</th>\n",
       "      <th>work_mode</th>\n",
       "      <th>dept</th>\n",
       "      <th>emp_type</th>\n",
       "      <th>language</th>\n",
       "      <th>salary</th>\n",
       "    </tr>\n",
       "  </thead>\n",
       "  <tbody>\n",
       "    <tr>\n",
       "      <th>6</th>\n",
       "      <td>6</td>\n",
       "      <td>1007</td>\n",
       "      <td>Jenny</td>\n",
       "      <td>Dow</td>\n",
       "      <td>jenny.dow@email.com</td>\n",
       "      <td>USA</td>\n",
       "      <td>Remote</td>\n",
       "      <td>Admin</td>\n",
       "      <td>cwx</td>\n",
       "      <td>English;Unix</td>\n",
       "      <td>6000</td>\n",
       "    </tr>\n",
       "    <tr>\n",
       "      <th>7</th>\n",
       "      <td>7</td>\n",
       "      <td>1008</td>\n",
       "      <td>Tom</td>\n",
       "      <td>Hanks</td>\n",
       "      <td>tom.hanks@email.com</td>\n",
       "      <td>UK</td>\n",
       "      <td>office</td>\n",
       "      <td>Sales</td>\n",
       "      <td>emp</td>\n",
       "      <td>Hindi;Python-English</td>\n",
       "      <td>5500</td>\n",
       "    </tr>\n",
       "    <tr>\n",
       "      <th>8</th>\n",
       "      <td>8</td>\n",
       "      <td>1009</td>\n",
       "      <td>Raj</td>\n",
       "      <td>Saurabh</td>\n",
       "      <td>saurabh.raj@email.com</td>\n",
       "      <td>India</td>\n",
       "      <td>work from home</td>\n",
       "      <td>VP</td>\n",
       "      <td>emp</td>\n",
       "      <td>Dutch;Swiss;English</td>\n",
       "      <td>8000</td>\n",
       "    </tr>\n",
       "    <tr>\n",
       "      <th>9</th>\n",
       "      <td>9</td>\n",
       "      <td>1010</td>\n",
       "      <td>Terry</td>\n",
       "      <td>Dow</td>\n",
       "      <td>td@email.com</td>\n",
       "      <td>USA</td>\n",
       "      <td>Office</td>\n",
       "      <td>Finance</td>\n",
       "      <td>emp</td>\n",
       "      <td>English</td>\n",
       "      <td>9000</td>\n",
       "    </tr>\n",
       "  </tbody>\n",
       "</table>\n",
       "</div>"
      ],
      "text/plain": [
       "   index    id  fname    lname                  email country       work_mode  \\\n",
       "6      6  1007  Jenny      Dow    jenny.dow@email.com     USA          Remote   \n",
       "7      7  1008    Tom    Hanks    tom.hanks@email.com      UK          office   \n",
       "8      8  1009    Raj  Saurabh  saurabh.raj@email.com   India  work from home   \n",
       "9      9  1010  Terry      Dow           td@email.com     USA          Office   \n",
       "\n",
       "      dept emp_type              language  salary  \n",
       "6    Admin      cwx          English;Unix    6000  \n",
       "7    Sales      emp  Hindi;Python-English    5500  \n",
       "8       VP      emp   Dutch;Swiss;English    8000  \n",
       "9  Finance      emp               English    9000  "
      ]
     },
     "execution_count": 163,
     "metadata": {},
     "output_type": "execute_result"
    }
   ],
   "source": [
    "filx = df_people[df_people['salary']>5000] \n",
    "df_people[(df_people['salary']>5000) & (df_people['language'].str.contains('English'))]"
   ]
  },
  {
   "cell_type": "code",
   "execution_count": null,
   "id": "847da9f6",
   "metadata": {},
   "outputs": [],
   "source": [
    "df_people['language']."
   ]
  }
 ],
 "metadata": {
  "kernelspec": {
   "display_name": "Python 3 (ipykernel)",
   "language": "python",
   "name": "python3"
  },
  "language_info": {
   "codemirror_mode": {
    "name": "ipython",
    "version": 3
   },
   "file_extension": ".py",
   "mimetype": "text/x-python",
   "name": "python",
   "nbconvert_exporter": "python",
   "pygments_lexer": "ipython3",
   "version": "3.10.4"
  }
 },
 "nbformat": 4,
 "nbformat_minor": 5
}
