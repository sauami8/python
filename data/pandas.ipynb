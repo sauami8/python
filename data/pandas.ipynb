{
 "cells": [
  {
   "cell_type": "code",
   "execution_count": 12,
   "id": "e11b390c",
   "metadata": {},
   "outputs": [],
   "source": [
    "import pandas as pd"
   ]
  },
  {
   "cell_type": "markdown",
   "id": "55e35102",
   "metadata": {},
   "source": [
    "Importing CSV data"
   ]
  },
  {
   "cell_type": "code",
   "execution_count": 23,
   "id": "638fe3ab",
   "metadata": {},
   "outputs": [],
   "source": [
    "df = pd.read_csv('/Users/sauami/Documents/Python/survey_results_public.csv')\n",
    "\n",
    "df_survey = pd.read_csv('/Users/sauami/Documents/Python/survey_results_schema.csv')\n",
    "#df = pd.read_csv('survey_results_schema.csv')"
   ]
  },
  {
   "cell_type": "code",
   "execution_count": 24,
   "id": "576a6b97",
   "metadata": {
    "scrolled": true
   },
   "outputs": [
    {
     "data": {
      "text/html": [
       "<div>\n",
       "<style scoped>\n",
       "    .dataframe tbody tr th:only-of-type {\n",
       "        vertical-align: middle;\n",
       "    }\n",
       "\n",
       "    .dataframe tbody tr th {\n",
       "        vertical-align: top;\n",
       "    }\n",
       "\n",
       "    .dataframe thead th {\n",
       "        text-align: right;\n",
       "    }\n",
       "</style>\n",
       "<table border=\"1\" class=\"dataframe\">\n",
       "  <thead>\n",
       "    <tr style=\"text-align: right;\">\n",
       "      <th></th>\n",
       "      <th>ResponseId</th>\n",
       "      <th>MainBranch</th>\n",
       "      <th>Employment</th>\n",
       "      <th>RemoteWork</th>\n",
       "      <th>CodingActivities</th>\n",
       "      <th>EdLevel</th>\n",
       "      <th>LearnCode</th>\n",
       "      <th>LearnCodeOnline</th>\n",
       "      <th>LearnCodeCoursesCert</th>\n",
       "      <th>YearsCode</th>\n",
       "      <th>YearsCodePro</th>\n",
       "      <th>DevType</th>\n",
       "      <th>OrgSize</th>\n",
       "      <th>PurchaseInfluence</th>\n",
       "      <th>BuyNewTool</th>\n",
       "      <th>Country</th>\n",
       "      <th>Currency</th>\n",
       "      <th>CompTotal</th>\n",
       "      <th>CompFreq</th>\n",
       "      <th>LanguageHaveWorkedWith</th>\n",
       "      <th>LanguageWantToWorkWith</th>\n",
       "      <th>DatabaseHaveWorkedWith</th>\n",
       "      <th>DatabaseWantToWorkWith</th>\n",
       "      <th>PlatformHaveWorkedWith</th>\n",
       "      <th>PlatformWantToWorkWith</th>\n",
       "      <th>...</th>\n",
       "      <th>Accessibility</th>\n",
       "      <th>MentalHealth</th>\n",
       "      <th>TBranch</th>\n",
       "      <th>ICorPM</th>\n",
       "      <th>WorkExp</th>\n",
       "      <th>Knowledge_1</th>\n",
       "      <th>Knowledge_2</th>\n",
       "      <th>Knowledge_3</th>\n",
       "      <th>Knowledge_4</th>\n",
       "      <th>Knowledge_5</th>\n",
       "      <th>Knowledge_6</th>\n",
       "      <th>Knowledge_7</th>\n",
       "      <th>Frequency_1</th>\n",
       "      <th>Frequency_2</th>\n",
       "      <th>Frequency_3</th>\n",
       "      <th>TimeSearching</th>\n",
       "      <th>TimeAnswering</th>\n",
       "      <th>Onboarding</th>\n",
       "      <th>ProfessionalTech</th>\n",
       "      <th>TrueFalse_1</th>\n",
       "      <th>TrueFalse_2</th>\n",
       "      <th>TrueFalse_3</th>\n",
       "      <th>SurveyLength</th>\n",
       "      <th>SurveyEase</th>\n",
       "      <th>ConvertedCompYearly</th>\n",
       "    </tr>\n",
       "  </thead>\n",
       "  <tbody>\n",
       "    <tr>\n",
       "      <th>0</th>\n",
       "      <td>1</td>\n",
       "      <td>None of these</td>\n",
       "      <td>NaN</td>\n",
       "      <td>NaN</td>\n",
       "      <td>NaN</td>\n",
       "      <td>NaN</td>\n",
       "      <td>NaN</td>\n",
       "      <td>NaN</td>\n",
       "      <td>NaN</td>\n",
       "      <td>NaN</td>\n",
       "      <td>NaN</td>\n",
       "      <td>NaN</td>\n",
       "      <td>NaN</td>\n",
       "      <td>NaN</td>\n",
       "      <td>NaN</td>\n",
       "      <td>NaN</td>\n",
       "      <td>NaN</td>\n",
       "      <td>NaN</td>\n",
       "      <td>NaN</td>\n",
       "      <td>NaN</td>\n",
       "      <td>NaN</td>\n",
       "      <td>NaN</td>\n",
       "      <td>NaN</td>\n",
       "      <td>NaN</td>\n",
       "      <td>NaN</td>\n",
       "      <td>...</td>\n",
       "      <td>NaN</td>\n",
       "      <td>NaN</td>\n",
       "      <td>NaN</td>\n",
       "      <td>NaN</td>\n",
       "      <td>NaN</td>\n",
       "      <td>NaN</td>\n",
       "      <td>NaN</td>\n",
       "      <td>NaN</td>\n",
       "      <td>NaN</td>\n",
       "      <td>NaN</td>\n",
       "      <td>NaN</td>\n",
       "      <td>NaN</td>\n",
       "      <td>NaN</td>\n",
       "      <td>NaN</td>\n",
       "      <td>NaN</td>\n",
       "      <td>NaN</td>\n",
       "      <td>NaN</td>\n",
       "      <td>NaN</td>\n",
       "      <td>NaN</td>\n",
       "      <td>NaN</td>\n",
       "      <td>NaN</td>\n",
       "      <td>NaN</td>\n",
       "      <td>NaN</td>\n",
       "      <td>NaN</td>\n",
       "      <td>NaN</td>\n",
       "    </tr>\n",
       "    <tr>\n",
       "      <th>1</th>\n",
       "      <td>2</td>\n",
       "      <td>I am a developer by profession</td>\n",
       "      <td>Employed, full-time</td>\n",
       "      <td>Fully remote</td>\n",
       "      <td>Hobby;Contribute to open-source projects</td>\n",
       "      <td>NaN</td>\n",
       "      <td>NaN</td>\n",
       "      <td>NaN</td>\n",
       "      <td>NaN</td>\n",
       "      <td>NaN</td>\n",
       "      <td>NaN</td>\n",
       "      <td>NaN</td>\n",
       "      <td>NaN</td>\n",
       "      <td>NaN</td>\n",
       "      <td>NaN</td>\n",
       "      <td>Canada</td>\n",
       "      <td>CAD\\tCanadian dollar</td>\n",
       "      <td>NaN</td>\n",
       "      <td>NaN</td>\n",
       "      <td>JavaScript;TypeScript</td>\n",
       "      <td>Rust;TypeScript</td>\n",
       "      <td>NaN</td>\n",
       "      <td>NaN</td>\n",
       "      <td>NaN</td>\n",
       "      <td>NaN</td>\n",
       "      <td>...</td>\n",
       "      <td>NaN</td>\n",
       "      <td>NaN</td>\n",
       "      <td>No</td>\n",
       "      <td>NaN</td>\n",
       "      <td>NaN</td>\n",
       "      <td>NaN</td>\n",
       "      <td>NaN</td>\n",
       "      <td>NaN</td>\n",
       "      <td>NaN</td>\n",
       "      <td>NaN</td>\n",
       "      <td>NaN</td>\n",
       "      <td>NaN</td>\n",
       "      <td>NaN</td>\n",
       "      <td>NaN</td>\n",
       "      <td>NaN</td>\n",
       "      <td>NaN</td>\n",
       "      <td>NaN</td>\n",
       "      <td>NaN</td>\n",
       "      <td>NaN</td>\n",
       "      <td>NaN</td>\n",
       "      <td>NaN</td>\n",
       "      <td>NaN</td>\n",
       "      <td>Too long</td>\n",
       "      <td>Difficult</td>\n",
       "      <td>NaN</td>\n",
       "    </tr>\n",
       "    <tr>\n",
       "      <th>2</th>\n",
       "      <td>3</td>\n",
       "      <td>I am not primarily a developer, but I write co...</td>\n",
       "      <td>Employed, full-time</td>\n",
       "      <td>Hybrid (some remote, some in-person)</td>\n",
       "      <td>Hobby</td>\n",
       "      <td>Master’s degree (M.A., M.S., M.Eng., MBA, etc.)</td>\n",
       "      <td>Books / Physical media;Friend or family member...</td>\n",
       "      <td>Technical documentation;Blogs;Programming Game...</td>\n",
       "      <td>NaN</td>\n",
       "      <td>14</td>\n",
       "      <td>5</td>\n",
       "      <td>Data scientist or machine learning specialist;...</td>\n",
       "      <td>20 to 99 employees</td>\n",
       "      <td>I have some influence</td>\n",
       "      <td>NaN</td>\n",
       "      <td>United Kingdom of Great Britain and Northern I...</td>\n",
       "      <td>GBP\\tPound sterling</td>\n",
       "      <td>32000.0</td>\n",
       "      <td>Yearly</td>\n",
       "      <td>C#;C++;HTML/CSS;JavaScript;Python</td>\n",
       "      <td>C#;C++;HTML/CSS;JavaScript;TypeScript</td>\n",
       "      <td>Microsoft SQL Server</td>\n",
       "      <td>Microsoft SQL Server</td>\n",
       "      <td>NaN</td>\n",
       "      <td>NaN</td>\n",
       "      <td>...</td>\n",
       "      <td>None of the above</td>\n",
       "      <td>I have a mood or emotional disorder (e.g., dep...</td>\n",
       "      <td>No</td>\n",
       "      <td>NaN</td>\n",
       "      <td>NaN</td>\n",
       "      <td>NaN</td>\n",
       "      <td>NaN</td>\n",
       "      <td>NaN</td>\n",
       "      <td>NaN</td>\n",
       "      <td>NaN</td>\n",
       "      <td>NaN</td>\n",
       "      <td>NaN</td>\n",
       "      <td>NaN</td>\n",
       "      <td>NaN</td>\n",
       "      <td>NaN</td>\n",
       "      <td>NaN</td>\n",
       "      <td>NaN</td>\n",
       "      <td>NaN</td>\n",
       "      <td>NaN</td>\n",
       "      <td>NaN</td>\n",
       "      <td>NaN</td>\n",
       "      <td>NaN</td>\n",
       "      <td>Appropriate in length</td>\n",
       "      <td>Neither easy nor difficult</td>\n",
       "      <td>40205.0</td>\n",
       "    </tr>\n",
       "    <tr>\n",
       "      <th>3</th>\n",
       "      <td>4</td>\n",
       "      <td>I am a developer by profession</td>\n",
       "      <td>Employed, full-time</td>\n",
       "      <td>Fully remote</td>\n",
       "      <td>I don’t code outside of work</td>\n",
       "      <td>Bachelor’s degree (B.A., B.S., B.Eng., etc.)</td>\n",
       "      <td>Books / Physical media;School (i.e., Universit...</td>\n",
       "      <td>NaN</td>\n",
       "      <td>NaN</td>\n",
       "      <td>20</td>\n",
       "      <td>17</td>\n",
       "      <td>Developer, full-stack</td>\n",
       "      <td>100 to 499 employees</td>\n",
       "      <td>I have some influence</td>\n",
       "      <td>Other (please specify):</td>\n",
       "      <td>Israel</td>\n",
       "      <td>ILS\\tIsraeli new shekel</td>\n",
       "      <td>60000.0</td>\n",
       "      <td>Monthly</td>\n",
       "      <td>C#;JavaScript;SQL;TypeScript</td>\n",
       "      <td>C#;SQL;TypeScript</td>\n",
       "      <td>Microsoft SQL Server</td>\n",
       "      <td>Microsoft SQL Server</td>\n",
       "      <td>NaN</td>\n",
       "      <td>NaN</td>\n",
       "      <td>...</td>\n",
       "      <td>None of the above</td>\n",
       "      <td>None of the above</td>\n",
       "      <td>No</td>\n",
       "      <td>NaN</td>\n",
       "      <td>NaN</td>\n",
       "      <td>NaN</td>\n",
       "      <td>NaN</td>\n",
       "      <td>NaN</td>\n",
       "      <td>NaN</td>\n",
       "      <td>NaN</td>\n",
       "      <td>NaN</td>\n",
       "      <td>NaN</td>\n",
       "      <td>NaN</td>\n",
       "      <td>NaN</td>\n",
       "      <td>NaN</td>\n",
       "      <td>NaN</td>\n",
       "      <td>NaN</td>\n",
       "      <td>NaN</td>\n",
       "      <td>NaN</td>\n",
       "      <td>NaN</td>\n",
       "      <td>NaN</td>\n",
       "      <td>NaN</td>\n",
       "      <td>Appropriate in length</td>\n",
       "      <td>Easy</td>\n",
       "      <td>215232.0</td>\n",
       "    </tr>\n",
       "    <tr>\n",
       "      <th>4</th>\n",
       "      <td>5</td>\n",
       "      <td>I am a developer by profession</td>\n",
       "      <td>Employed, full-time</td>\n",
       "      <td>Hybrid (some remote, some in-person)</td>\n",
       "      <td>Hobby</td>\n",
       "      <td>Bachelor’s degree (B.A., B.S., B.Eng., etc.)</td>\n",
       "      <td>Other online resources (e.g., videos, blogs, f...</td>\n",
       "      <td>Technical documentation;Blogs;Stack Overflow;O...</td>\n",
       "      <td>NaN</td>\n",
       "      <td>8</td>\n",
       "      <td>3</td>\n",
       "      <td>Developer, front-end;Developer, full-stack;Dev...</td>\n",
       "      <td>20 to 99 employees</td>\n",
       "      <td>I have some influence</td>\n",
       "      <td>Start a free trial;Visit developer communities...</td>\n",
       "      <td>United States of America</td>\n",
       "      <td>USD\\tUnited States dollar</td>\n",
       "      <td>NaN</td>\n",
       "      <td>NaN</td>\n",
       "      <td>C#;HTML/CSS;JavaScript;SQL;Swift;TypeScript</td>\n",
       "      <td>C#;Elixir;F#;Go;JavaScript;Rust;TypeScript</td>\n",
       "      <td>Cloud Firestore;Elasticsearch;Microsoft SQL Se...</td>\n",
       "      <td>Cloud Firestore;Elasticsearch;Firebase Realtim...</td>\n",
       "      <td>Firebase;Microsoft Azure</td>\n",
       "      <td>Firebase;Microsoft Azure</td>\n",
       "      <td>...</td>\n",
       "      <td>NaN</td>\n",
       "      <td>NaN</td>\n",
       "      <td>No</td>\n",
       "      <td>NaN</td>\n",
       "      <td>NaN</td>\n",
       "      <td>NaN</td>\n",
       "      <td>NaN</td>\n",
       "      <td>NaN</td>\n",
       "      <td>NaN</td>\n",
       "      <td>NaN</td>\n",
       "      <td>NaN</td>\n",
       "      <td>NaN</td>\n",
       "      <td>NaN</td>\n",
       "      <td>NaN</td>\n",
       "      <td>NaN</td>\n",
       "      <td>NaN</td>\n",
       "      <td>NaN</td>\n",
       "      <td>NaN</td>\n",
       "      <td>NaN</td>\n",
       "      <td>NaN</td>\n",
       "      <td>NaN</td>\n",
       "      <td>NaN</td>\n",
       "      <td>Too long</td>\n",
       "      <td>Easy</td>\n",
       "      <td>NaN</td>\n",
       "    </tr>\n",
       "  </tbody>\n",
       "</table>\n",
       "<p>5 rows × 79 columns</p>\n",
       "</div>"
      ],
      "text/plain": [
       "   ResponseId                                         MainBranch  \\\n",
       "0           1                                      None of these   \n",
       "1           2                     I am a developer by profession   \n",
       "2           3  I am not primarily a developer, but I write co...   \n",
       "3           4                     I am a developer by profession   \n",
       "4           5                     I am a developer by profession   \n",
       "\n",
       "            Employment                            RemoteWork  \\\n",
       "0                  NaN                                   NaN   \n",
       "1  Employed, full-time                          Fully remote   \n",
       "2  Employed, full-time  Hybrid (some remote, some in-person)   \n",
       "3  Employed, full-time                          Fully remote   \n",
       "4  Employed, full-time  Hybrid (some remote, some in-person)   \n",
       "\n",
       "                           CodingActivities  \\\n",
       "0                                       NaN   \n",
       "1  Hobby;Contribute to open-source projects   \n",
       "2                                     Hobby   \n",
       "3              I don’t code outside of work   \n",
       "4                                     Hobby   \n",
       "\n",
       "                                           EdLevel  \\\n",
       "0                                              NaN   \n",
       "1                                              NaN   \n",
       "2  Master’s degree (M.A., M.S., M.Eng., MBA, etc.)   \n",
       "3     Bachelor’s degree (B.A., B.S., B.Eng., etc.)   \n",
       "4     Bachelor’s degree (B.A., B.S., B.Eng., etc.)   \n",
       "\n",
       "                                           LearnCode  \\\n",
       "0                                                NaN   \n",
       "1                                                NaN   \n",
       "2  Books / Physical media;Friend or family member...   \n",
       "3  Books / Physical media;School (i.e., Universit...   \n",
       "4  Other online resources (e.g., videos, blogs, f...   \n",
       "\n",
       "                                     LearnCodeOnline LearnCodeCoursesCert  \\\n",
       "0                                                NaN                  NaN   \n",
       "1                                                NaN                  NaN   \n",
       "2  Technical documentation;Blogs;Programming Game...                  NaN   \n",
       "3                                                NaN                  NaN   \n",
       "4  Technical documentation;Blogs;Stack Overflow;O...                  NaN   \n",
       "\n",
       "  YearsCode YearsCodePro                                            DevType  \\\n",
       "0       NaN          NaN                                                NaN   \n",
       "1       NaN          NaN                                                NaN   \n",
       "2        14            5  Data scientist or machine learning specialist;...   \n",
       "3        20           17                              Developer, full-stack   \n",
       "4         8            3  Developer, front-end;Developer, full-stack;Dev...   \n",
       "\n",
       "                OrgSize      PurchaseInfluence  \\\n",
       "0                   NaN                    NaN   \n",
       "1                   NaN                    NaN   \n",
       "2    20 to 99 employees  I have some influence   \n",
       "3  100 to 499 employees  I have some influence   \n",
       "4    20 to 99 employees  I have some influence   \n",
       "\n",
       "                                          BuyNewTool  \\\n",
       "0                                                NaN   \n",
       "1                                                NaN   \n",
       "2                                                NaN   \n",
       "3                            Other (please specify):   \n",
       "4  Start a free trial;Visit developer communities...   \n",
       "\n",
       "                                             Country  \\\n",
       "0                                                NaN   \n",
       "1                                             Canada   \n",
       "2  United Kingdom of Great Britain and Northern I...   \n",
       "3                                             Israel   \n",
       "4                           United States of America   \n",
       "\n",
       "                    Currency  CompTotal CompFreq  \\\n",
       "0                        NaN        NaN      NaN   \n",
       "1       CAD\\tCanadian dollar        NaN      NaN   \n",
       "2        GBP\\tPound sterling    32000.0   Yearly   \n",
       "3    ILS\\tIsraeli new shekel    60000.0  Monthly   \n",
       "4  USD\\tUnited States dollar        NaN      NaN   \n",
       "\n",
       "                        LanguageHaveWorkedWith  \\\n",
       "0                                          NaN   \n",
       "1                        JavaScript;TypeScript   \n",
       "2            C#;C++;HTML/CSS;JavaScript;Python   \n",
       "3                 C#;JavaScript;SQL;TypeScript   \n",
       "4  C#;HTML/CSS;JavaScript;SQL;Swift;TypeScript   \n",
       "\n",
       "                       LanguageWantToWorkWith  \\\n",
       "0                                         NaN   \n",
       "1                             Rust;TypeScript   \n",
       "2       C#;C++;HTML/CSS;JavaScript;TypeScript   \n",
       "3                           C#;SQL;TypeScript   \n",
       "4  C#;Elixir;F#;Go;JavaScript;Rust;TypeScript   \n",
       "\n",
       "                              DatabaseHaveWorkedWith  \\\n",
       "0                                                NaN   \n",
       "1                                                NaN   \n",
       "2                               Microsoft SQL Server   \n",
       "3                               Microsoft SQL Server   \n",
       "4  Cloud Firestore;Elasticsearch;Microsoft SQL Se...   \n",
       "\n",
       "                              DatabaseWantToWorkWith  \\\n",
       "0                                                NaN   \n",
       "1                                                NaN   \n",
       "2                               Microsoft SQL Server   \n",
       "3                               Microsoft SQL Server   \n",
       "4  Cloud Firestore;Elasticsearch;Firebase Realtim...   \n",
       "\n",
       "     PlatformHaveWorkedWith    PlatformWantToWorkWith  ...      Accessibility  \\\n",
       "0                       NaN                       NaN  ...                NaN   \n",
       "1                       NaN                       NaN  ...                NaN   \n",
       "2                       NaN                       NaN  ...  None of the above   \n",
       "3                       NaN                       NaN  ...  None of the above   \n",
       "4  Firebase;Microsoft Azure  Firebase;Microsoft Azure  ...                NaN   \n",
       "\n",
       "                                        MentalHealth TBranch ICorPM WorkExp  \\\n",
       "0                                                NaN     NaN    NaN     NaN   \n",
       "1                                                NaN      No    NaN     NaN   \n",
       "2  I have a mood or emotional disorder (e.g., dep...      No    NaN     NaN   \n",
       "3                                  None of the above      No    NaN     NaN   \n",
       "4                                                NaN      No    NaN     NaN   \n",
       "\n",
       "  Knowledge_1 Knowledge_2 Knowledge_3 Knowledge_4 Knowledge_5 Knowledge_6  \\\n",
       "0         NaN         NaN         NaN         NaN         NaN         NaN   \n",
       "1         NaN         NaN         NaN         NaN         NaN         NaN   \n",
       "2         NaN         NaN         NaN         NaN         NaN         NaN   \n",
       "3         NaN         NaN         NaN         NaN         NaN         NaN   \n",
       "4         NaN         NaN         NaN         NaN         NaN         NaN   \n",
       "\n",
       "  Knowledge_7  Frequency_1  Frequency_2 Frequency_3 TimeSearching  \\\n",
       "0         NaN          NaN          NaN         NaN           NaN   \n",
       "1         NaN          NaN          NaN         NaN           NaN   \n",
       "2         NaN          NaN          NaN         NaN           NaN   \n",
       "3         NaN          NaN          NaN         NaN           NaN   \n",
       "4         NaN          NaN          NaN         NaN           NaN   \n",
       "\n",
       "  TimeAnswering Onboarding ProfessionalTech TrueFalse_1 TrueFalse_2  \\\n",
       "0           NaN        NaN              NaN         NaN         NaN   \n",
       "1           NaN        NaN              NaN         NaN         NaN   \n",
       "2           NaN        NaN              NaN         NaN         NaN   \n",
       "3           NaN        NaN              NaN         NaN         NaN   \n",
       "4           NaN        NaN              NaN         NaN         NaN   \n",
       "\n",
       "  TrueFalse_3           SurveyLength                  SurveyEase  \\\n",
       "0         NaN                    NaN                         NaN   \n",
       "1         NaN               Too long                   Difficult   \n",
       "2         NaN  Appropriate in length  Neither easy nor difficult   \n",
       "3         NaN  Appropriate in length                        Easy   \n",
       "4         NaN               Too long                        Easy   \n",
       "\n",
       "  ConvertedCompYearly  \n",
       "0                 NaN  \n",
       "1                 NaN  \n",
       "2             40205.0  \n",
       "3            215232.0  \n",
       "4                 NaN  \n",
       "\n",
       "[5 rows x 79 columns]"
      ]
     },
     "execution_count": 24,
     "metadata": {},
     "output_type": "execute_result"
    }
   ],
   "source": [
    "pd.set_option('display.max_rows', 20)\n",
    "df.head(5)"
   ]
  },
  {
   "cell_type": "code",
   "execution_count": 27,
   "id": "73ecd6ae",
   "metadata": {},
   "outputs": [
    {
     "data": {
      "text/html": [
       "<div>\n",
       "<style scoped>\n",
       "    .dataframe tbody tr th:only-of-type {\n",
       "        vertical-align: middle;\n",
       "    }\n",
       "\n",
       "    .dataframe tbody tr th {\n",
       "        vertical-align: top;\n",
       "    }\n",
       "\n",
       "    .dataframe thead th {\n",
       "        text-align: right;\n",
       "    }\n",
       "</style>\n",
       "<table border=\"1\" class=\"dataframe\">\n",
       "  <thead>\n",
       "    <tr style=\"text-align: right;\">\n",
       "      <th></th>\n",
       "      <th>MainBranch</th>\n",
       "      <th>Employment</th>\n",
       "      <th>RemoteWork</th>\n",
       "      <th>CodingActivities</th>\n",
       "      <th>EdLevel</th>\n",
       "      <th>LearnCode</th>\n",
       "      <th>LearnCodeOnline</th>\n",
       "      <th>LearnCodeCoursesCert</th>\n",
       "      <th>YearsCode</th>\n",
       "      <th>YearsCodePro</th>\n",
       "      <th>DevType</th>\n",
       "      <th>OrgSize</th>\n",
       "      <th>PurchaseInfluence</th>\n",
       "      <th>BuyNewTool</th>\n",
       "      <th>Country</th>\n",
       "      <th>Currency</th>\n",
       "      <th>CompTotal</th>\n",
       "      <th>CompFreq</th>\n",
       "      <th>LanguageHaveWorkedWith</th>\n",
       "      <th>LanguageWantToWorkWith</th>\n",
       "      <th>DatabaseHaveWorkedWith</th>\n",
       "      <th>DatabaseWantToWorkWith</th>\n",
       "      <th>PlatformHaveWorkedWith</th>\n",
       "      <th>PlatformWantToWorkWith</th>\n",
       "      <th>WebframeHaveWorkedWith</th>\n",
       "      <th>...</th>\n",
       "      <th>Accessibility</th>\n",
       "      <th>MentalHealth</th>\n",
       "      <th>TBranch</th>\n",
       "      <th>ICorPM</th>\n",
       "      <th>WorkExp</th>\n",
       "      <th>Knowledge_1</th>\n",
       "      <th>Knowledge_2</th>\n",
       "      <th>Knowledge_3</th>\n",
       "      <th>Knowledge_4</th>\n",
       "      <th>Knowledge_5</th>\n",
       "      <th>Knowledge_6</th>\n",
       "      <th>Knowledge_7</th>\n",
       "      <th>Frequency_1</th>\n",
       "      <th>Frequency_2</th>\n",
       "      <th>Frequency_3</th>\n",
       "      <th>TimeSearching</th>\n",
       "      <th>TimeAnswering</th>\n",
       "      <th>Onboarding</th>\n",
       "      <th>ProfessionalTech</th>\n",
       "      <th>TrueFalse_1</th>\n",
       "      <th>TrueFalse_2</th>\n",
       "      <th>TrueFalse_3</th>\n",
       "      <th>SurveyLength</th>\n",
       "      <th>SurveyEase</th>\n",
       "      <th>ConvertedCompYearly</th>\n",
       "    </tr>\n",
       "    <tr>\n",
       "      <th>ResponseId</th>\n",
       "      <th></th>\n",
       "      <th></th>\n",
       "      <th></th>\n",
       "      <th></th>\n",
       "      <th></th>\n",
       "      <th></th>\n",
       "      <th></th>\n",
       "      <th></th>\n",
       "      <th></th>\n",
       "      <th></th>\n",
       "      <th></th>\n",
       "      <th></th>\n",
       "      <th></th>\n",
       "      <th></th>\n",
       "      <th></th>\n",
       "      <th></th>\n",
       "      <th></th>\n",
       "      <th></th>\n",
       "      <th></th>\n",
       "      <th></th>\n",
       "      <th></th>\n",
       "      <th></th>\n",
       "      <th></th>\n",
       "      <th></th>\n",
       "      <th></th>\n",
       "      <th></th>\n",
       "      <th></th>\n",
       "      <th></th>\n",
       "      <th></th>\n",
       "      <th></th>\n",
       "      <th></th>\n",
       "      <th></th>\n",
       "      <th></th>\n",
       "      <th></th>\n",
       "      <th></th>\n",
       "      <th></th>\n",
       "      <th></th>\n",
       "      <th></th>\n",
       "      <th></th>\n",
       "      <th></th>\n",
       "      <th></th>\n",
       "      <th></th>\n",
       "      <th></th>\n",
       "      <th></th>\n",
       "      <th></th>\n",
       "      <th></th>\n",
       "      <th></th>\n",
       "      <th></th>\n",
       "      <th></th>\n",
       "      <th></th>\n",
       "      <th></th>\n",
       "    </tr>\n",
       "  </thead>\n",
       "  <tbody>\n",
       "    <tr>\n",
       "      <th>1</th>\n",
       "      <td>None of these</td>\n",
       "      <td>NaN</td>\n",
       "      <td>NaN</td>\n",
       "      <td>NaN</td>\n",
       "      <td>NaN</td>\n",
       "      <td>NaN</td>\n",
       "      <td>NaN</td>\n",
       "      <td>NaN</td>\n",
       "      <td>NaN</td>\n",
       "      <td>NaN</td>\n",
       "      <td>NaN</td>\n",
       "      <td>NaN</td>\n",
       "      <td>NaN</td>\n",
       "      <td>NaN</td>\n",
       "      <td>NaN</td>\n",
       "      <td>NaN</td>\n",
       "      <td>NaN</td>\n",
       "      <td>NaN</td>\n",
       "      <td>NaN</td>\n",
       "      <td>NaN</td>\n",
       "      <td>NaN</td>\n",
       "      <td>NaN</td>\n",
       "      <td>NaN</td>\n",
       "      <td>NaN</td>\n",
       "      <td>NaN</td>\n",
       "      <td>...</td>\n",
       "      <td>NaN</td>\n",
       "      <td>NaN</td>\n",
       "      <td>NaN</td>\n",
       "      <td>NaN</td>\n",
       "      <td>NaN</td>\n",
       "      <td>NaN</td>\n",
       "      <td>NaN</td>\n",
       "      <td>NaN</td>\n",
       "      <td>NaN</td>\n",
       "      <td>NaN</td>\n",
       "      <td>NaN</td>\n",
       "      <td>NaN</td>\n",
       "      <td>NaN</td>\n",
       "      <td>NaN</td>\n",
       "      <td>NaN</td>\n",
       "      <td>NaN</td>\n",
       "      <td>NaN</td>\n",
       "      <td>NaN</td>\n",
       "      <td>NaN</td>\n",
       "      <td>NaN</td>\n",
       "      <td>NaN</td>\n",
       "      <td>NaN</td>\n",
       "      <td>NaN</td>\n",
       "      <td>NaN</td>\n",
       "      <td>NaN</td>\n",
       "    </tr>\n",
       "    <tr>\n",
       "      <th>2</th>\n",
       "      <td>I am a developer by profession</td>\n",
       "      <td>Employed, full-time</td>\n",
       "      <td>Fully remote</td>\n",
       "      <td>Hobby;Contribute to open-source projects</td>\n",
       "      <td>NaN</td>\n",
       "      <td>NaN</td>\n",
       "      <td>NaN</td>\n",
       "      <td>NaN</td>\n",
       "      <td>NaN</td>\n",
       "      <td>NaN</td>\n",
       "      <td>NaN</td>\n",
       "      <td>NaN</td>\n",
       "      <td>NaN</td>\n",
       "      <td>NaN</td>\n",
       "      <td>Canada</td>\n",
       "      <td>CAD\\tCanadian dollar</td>\n",
       "      <td>NaN</td>\n",
       "      <td>NaN</td>\n",
       "      <td>JavaScript;TypeScript</td>\n",
       "      <td>Rust;TypeScript</td>\n",
       "      <td>NaN</td>\n",
       "      <td>NaN</td>\n",
       "      <td>NaN</td>\n",
       "      <td>NaN</td>\n",
       "      <td>NaN</td>\n",
       "      <td>...</td>\n",
       "      <td>NaN</td>\n",
       "      <td>NaN</td>\n",
       "      <td>No</td>\n",
       "      <td>NaN</td>\n",
       "      <td>NaN</td>\n",
       "      <td>NaN</td>\n",
       "      <td>NaN</td>\n",
       "      <td>NaN</td>\n",
       "      <td>NaN</td>\n",
       "      <td>NaN</td>\n",
       "      <td>NaN</td>\n",
       "      <td>NaN</td>\n",
       "      <td>NaN</td>\n",
       "      <td>NaN</td>\n",
       "      <td>NaN</td>\n",
       "      <td>NaN</td>\n",
       "      <td>NaN</td>\n",
       "      <td>NaN</td>\n",
       "      <td>NaN</td>\n",
       "      <td>NaN</td>\n",
       "      <td>NaN</td>\n",
       "      <td>NaN</td>\n",
       "      <td>Too long</td>\n",
       "      <td>Difficult</td>\n",
       "      <td>NaN</td>\n",
       "    </tr>\n",
       "    <tr>\n",
       "      <th>3</th>\n",
       "      <td>I am not primarily a developer, but I write co...</td>\n",
       "      <td>Employed, full-time</td>\n",
       "      <td>Hybrid (some remote, some in-person)</td>\n",
       "      <td>Hobby</td>\n",
       "      <td>Master’s degree (M.A., M.S., M.Eng., MBA, etc.)</td>\n",
       "      <td>Books / Physical media;Friend or family member...</td>\n",
       "      <td>Technical documentation;Blogs;Programming Game...</td>\n",
       "      <td>NaN</td>\n",
       "      <td>14</td>\n",
       "      <td>5</td>\n",
       "      <td>Data scientist or machine learning specialist;...</td>\n",
       "      <td>20 to 99 employees</td>\n",
       "      <td>I have some influence</td>\n",
       "      <td>NaN</td>\n",
       "      <td>United Kingdom of Great Britain and Northern I...</td>\n",
       "      <td>GBP\\tPound sterling</td>\n",
       "      <td>32000.0</td>\n",
       "      <td>Yearly</td>\n",
       "      <td>C#;C++;HTML/CSS;JavaScript;Python</td>\n",
       "      <td>C#;C++;HTML/CSS;JavaScript;TypeScript</td>\n",
       "      <td>Microsoft SQL Server</td>\n",
       "      <td>Microsoft SQL Server</td>\n",
       "      <td>NaN</td>\n",
       "      <td>NaN</td>\n",
       "      <td>Angular.js</td>\n",
       "      <td>...</td>\n",
       "      <td>None of the above</td>\n",
       "      <td>I have a mood or emotional disorder (e.g., dep...</td>\n",
       "      <td>No</td>\n",
       "      <td>NaN</td>\n",
       "      <td>NaN</td>\n",
       "      <td>NaN</td>\n",
       "      <td>NaN</td>\n",
       "      <td>NaN</td>\n",
       "      <td>NaN</td>\n",
       "      <td>NaN</td>\n",
       "      <td>NaN</td>\n",
       "      <td>NaN</td>\n",
       "      <td>NaN</td>\n",
       "      <td>NaN</td>\n",
       "      <td>NaN</td>\n",
       "      <td>NaN</td>\n",
       "      <td>NaN</td>\n",
       "      <td>NaN</td>\n",
       "      <td>NaN</td>\n",
       "      <td>NaN</td>\n",
       "      <td>NaN</td>\n",
       "      <td>NaN</td>\n",
       "      <td>Appropriate in length</td>\n",
       "      <td>Neither easy nor difficult</td>\n",
       "      <td>40205.0</td>\n",
       "    </tr>\n",
       "    <tr>\n",
       "      <th>4</th>\n",
       "      <td>I am a developer by profession</td>\n",
       "      <td>Employed, full-time</td>\n",
       "      <td>Fully remote</td>\n",
       "      <td>I don’t code outside of work</td>\n",
       "      <td>Bachelor’s degree (B.A., B.S., B.Eng., etc.)</td>\n",
       "      <td>Books / Physical media;School (i.e., Universit...</td>\n",
       "      <td>NaN</td>\n",
       "      <td>NaN</td>\n",
       "      <td>20</td>\n",
       "      <td>17</td>\n",
       "      <td>Developer, full-stack</td>\n",
       "      <td>100 to 499 employees</td>\n",
       "      <td>I have some influence</td>\n",
       "      <td>Other (please specify):</td>\n",
       "      <td>Israel</td>\n",
       "      <td>ILS\\tIsraeli new shekel</td>\n",
       "      <td>60000.0</td>\n",
       "      <td>Monthly</td>\n",
       "      <td>C#;JavaScript;SQL;TypeScript</td>\n",
       "      <td>C#;SQL;TypeScript</td>\n",
       "      <td>Microsoft SQL Server</td>\n",
       "      <td>Microsoft SQL Server</td>\n",
       "      <td>NaN</td>\n",
       "      <td>NaN</td>\n",
       "      <td>ASP.NET;ASP.NET Core</td>\n",
       "      <td>...</td>\n",
       "      <td>None of the above</td>\n",
       "      <td>None of the above</td>\n",
       "      <td>No</td>\n",
       "      <td>NaN</td>\n",
       "      <td>NaN</td>\n",
       "      <td>NaN</td>\n",
       "      <td>NaN</td>\n",
       "      <td>NaN</td>\n",
       "      <td>NaN</td>\n",
       "      <td>NaN</td>\n",
       "      <td>NaN</td>\n",
       "      <td>NaN</td>\n",
       "      <td>NaN</td>\n",
       "      <td>NaN</td>\n",
       "      <td>NaN</td>\n",
       "      <td>NaN</td>\n",
       "      <td>NaN</td>\n",
       "      <td>NaN</td>\n",
       "      <td>NaN</td>\n",
       "      <td>NaN</td>\n",
       "      <td>NaN</td>\n",
       "      <td>NaN</td>\n",
       "      <td>Appropriate in length</td>\n",
       "      <td>Easy</td>\n",
       "      <td>215232.0</td>\n",
       "    </tr>\n",
       "    <tr>\n",
       "      <th>5</th>\n",
       "      <td>I am a developer by profession</td>\n",
       "      <td>Employed, full-time</td>\n",
       "      <td>Hybrid (some remote, some in-person)</td>\n",
       "      <td>Hobby</td>\n",
       "      <td>Bachelor’s degree (B.A., B.S., B.Eng., etc.)</td>\n",
       "      <td>Other online resources (e.g., videos, blogs, f...</td>\n",
       "      <td>Technical documentation;Blogs;Stack Overflow;O...</td>\n",
       "      <td>NaN</td>\n",
       "      <td>8</td>\n",
       "      <td>3</td>\n",
       "      <td>Developer, front-end;Developer, full-stack;Dev...</td>\n",
       "      <td>20 to 99 employees</td>\n",
       "      <td>I have some influence</td>\n",
       "      <td>Start a free trial;Visit developer communities...</td>\n",
       "      <td>United States of America</td>\n",
       "      <td>USD\\tUnited States dollar</td>\n",
       "      <td>NaN</td>\n",
       "      <td>NaN</td>\n",
       "      <td>C#;HTML/CSS;JavaScript;SQL;Swift;TypeScript</td>\n",
       "      <td>C#;Elixir;F#;Go;JavaScript;Rust;TypeScript</td>\n",
       "      <td>Cloud Firestore;Elasticsearch;Microsoft SQL Se...</td>\n",
       "      <td>Cloud Firestore;Elasticsearch;Firebase Realtim...</td>\n",
       "      <td>Firebase;Microsoft Azure</td>\n",
       "      <td>Firebase;Microsoft Azure</td>\n",
       "      <td>Angular;ASP.NET;ASP.NET Core ;jQuery;Node.js</td>\n",
       "      <td>...</td>\n",
       "      <td>NaN</td>\n",
       "      <td>NaN</td>\n",
       "      <td>No</td>\n",
       "      <td>NaN</td>\n",
       "      <td>NaN</td>\n",
       "      <td>NaN</td>\n",
       "      <td>NaN</td>\n",
       "      <td>NaN</td>\n",
       "      <td>NaN</td>\n",
       "      <td>NaN</td>\n",
       "      <td>NaN</td>\n",
       "      <td>NaN</td>\n",
       "      <td>NaN</td>\n",
       "      <td>NaN</td>\n",
       "      <td>NaN</td>\n",
       "      <td>NaN</td>\n",
       "      <td>NaN</td>\n",
       "      <td>NaN</td>\n",
       "      <td>NaN</td>\n",
       "      <td>NaN</td>\n",
       "      <td>NaN</td>\n",
       "      <td>NaN</td>\n",
       "      <td>Too long</td>\n",
       "      <td>Easy</td>\n",
       "      <td>NaN</td>\n",
       "    </tr>\n",
       "    <tr>\n",
       "      <th>...</th>\n",
       "      <td>...</td>\n",
       "      <td>...</td>\n",
       "      <td>...</td>\n",
       "      <td>...</td>\n",
       "      <td>...</td>\n",
       "      <td>...</td>\n",
       "      <td>...</td>\n",
       "      <td>...</td>\n",
       "      <td>...</td>\n",
       "      <td>...</td>\n",
       "      <td>...</td>\n",
       "      <td>...</td>\n",
       "      <td>...</td>\n",
       "      <td>...</td>\n",
       "      <td>...</td>\n",
       "      <td>...</td>\n",
       "      <td>...</td>\n",
       "      <td>...</td>\n",
       "      <td>...</td>\n",
       "      <td>...</td>\n",
       "      <td>...</td>\n",
       "      <td>...</td>\n",
       "      <td>...</td>\n",
       "      <td>...</td>\n",
       "      <td>...</td>\n",
       "      <td>...</td>\n",
       "      <td>...</td>\n",
       "      <td>...</td>\n",
       "      <td>...</td>\n",
       "      <td>...</td>\n",
       "      <td>...</td>\n",
       "      <td>...</td>\n",
       "      <td>...</td>\n",
       "      <td>...</td>\n",
       "      <td>...</td>\n",
       "      <td>...</td>\n",
       "      <td>...</td>\n",
       "      <td>...</td>\n",
       "      <td>...</td>\n",
       "      <td>...</td>\n",
       "      <td>...</td>\n",
       "      <td>...</td>\n",
       "      <td>...</td>\n",
       "      <td>...</td>\n",
       "      <td>...</td>\n",
       "      <td>...</td>\n",
       "      <td>...</td>\n",
       "      <td>...</td>\n",
       "      <td>...</td>\n",
       "      <td>...</td>\n",
       "      <td>...</td>\n",
       "    </tr>\n",
       "    <tr>\n",
       "      <th>73264</th>\n",
       "      <td>I am a developer by profession</td>\n",
       "      <td>Employed, full-time</td>\n",
       "      <td>Fully remote</td>\n",
       "      <td>Freelance/contract work</td>\n",
       "      <td>Bachelor’s degree (B.A., B.S., B.Eng., etc.)</td>\n",
       "      <td>Books / Physical media;Other online resources ...</td>\n",
       "      <td>Technical documentation;Blogs;Written Tutorial...</td>\n",
       "      <td>Udemy</td>\n",
       "      <td>8</td>\n",
       "      <td>5</td>\n",
       "      <td>Developer, back-end</td>\n",
       "      <td>100 to 499 employees</td>\n",
       "      <td>I have some influence</td>\n",
       "      <td>Visit developer communities like Stack Overflo...</td>\n",
       "      <td>Nigeria</td>\n",
       "      <td>USD\\tUnited States dollar</td>\n",
       "      <td>60000.0</td>\n",
       "      <td>Yearly</td>\n",
       "      <td>Bash/Shell;Dart;JavaScript;PHP;Python;SQL;Type...</td>\n",
       "      <td>Bash/Shell;Go;JavaScript;Python;SQL;TypeScript</td>\n",
       "      <td>Elasticsearch;MySQL;PostgreSQL;Redis</td>\n",
       "      <td>MySQL;PostgreSQL;Redis</td>\n",
       "      <td>AWS;DigitalOcean;Google Cloud</td>\n",
       "      <td>AWS;DigitalOcean;Google Cloud</td>\n",
       "      <td>Express;FastAPI;Node.js</td>\n",
       "      <td>...</td>\n",
       "      <td>None of the above</td>\n",
       "      <td>None of the above</td>\n",
       "      <td>Yes</td>\n",
       "      <td>Independent contributor</td>\n",
       "      <td>5.0</td>\n",
       "      <td>Agree</td>\n",
       "      <td>Disagree</td>\n",
       "      <td>Strongly agree</td>\n",
       "      <td>Strongly agree</td>\n",
       "      <td>Strongly agree</td>\n",
       "      <td>Strongly agree</td>\n",
       "      <td>Neither agree nor disagree</td>\n",
       "      <td>Never</td>\n",
       "      <td>Never</td>\n",
       "      <td>Never</td>\n",
       "      <td>30-60 minutes a day</td>\n",
       "      <td>Less than 15 minutes a day</td>\n",
       "      <td>Just right</td>\n",
       "      <td>DevOps function;Microservices;Developer portal...</td>\n",
       "      <td>Yes</td>\n",
       "      <td>Yes</td>\n",
       "      <td>Yes</td>\n",
       "      <td>Too long</td>\n",
       "      <td>Easy</td>\n",
       "      <td>NaN</td>\n",
       "    </tr>\n",
       "    <tr>\n",
       "      <th>73265</th>\n",
       "      <td>I am a developer by profession</td>\n",
       "      <td>Employed, full-time</td>\n",
       "      <td>Full in-person</td>\n",
       "      <td>Hobby</td>\n",
       "      <td>Master’s degree (M.A., M.S., M.Eng., MBA, etc.)</td>\n",
       "      <td>Other online resources (e.g., videos, blogs, f...</td>\n",
       "      <td>Technical documentation;Blogs;Written Tutorial...</td>\n",
       "      <td>Coursera;Udemy;Udacity</td>\n",
       "      <td>6</td>\n",
       "      <td>5</td>\n",
       "      <td>Data scientist or machine learning specialist</td>\n",
       "      <td>I don’t know</td>\n",
       "      <td>I have little or no influence</td>\n",
       "      <td>Other (please specify):;Ask developers I know/...</td>\n",
       "      <td>United States of America</td>\n",
       "      <td>USD\\tUnited States dollar</td>\n",
       "      <td>107000.0</td>\n",
       "      <td>Yearly</td>\n",
       "      <td>Bash/Shell;HTML/CSS;JavaScript;Python;SQL</td>\n",
       "      <td>HTML/CSS;JavaScript;Python</td>\n",
       "      <td>Elasticsearch;MongoDB;Oracle;SQLite</td>\n",
       "      <td>Elasticsearch;Neo4j;SQLite</td>\n",
       "      <td>NaN</td>\n",
       "      <td>NaN</td>\n",
       "      <td>FastAPI;Flask;React.js</td>\n",
       "      <td>...</td>\n",
       "      <td>None of the above</td>\n",
       "      <td>None of the above</td>\n",
       "      <td>Yes</td>\n",
       "      <td>Independent contributor</td>\n",
       "      <td>6.0</td>\n",
       "      <td>Agree</td>\n",
       "      <td>Agree</td>\n",
       "      <td>Neither agree nor disagree</td>\n",
       "      <td>Disagree</td>\n",
       "      <td>Disagree</td>\n",
       "      <td>Agree</td>\n",
       "      <td>Agree</td>\n",
       "      <td>1-2 times a week</td>\n",
       "      <td>6-10 times a week</td>\n",
       "      <td>10+ times a week</td>\n",
       "      <td>15-30 minutes a day</td>\n",
       "      <td>60-120 minutes a day</td>\n",
       "      <td>Very long</td>\n",
       "      <td>None of these</td>\n",
       "      <td>No</td>\n",
       "      <td>Yes</td>\n",
       "      <td>Yes</td>\n",
       "      <td>Too long</td>\n",
       "      <td>Easy</td>\n",
       "      <td>NaN</td>\n",
       "    </tr>\n",
       "    <tr>\n",
       "      <th>73266</th>\n",
       "      <td>I am not primarily a developer, but I write co...</td>\n",
       "      <td>Employed, full-time</td>\n",
       "      <td>Hybrid (some remote, some in-person)</td>\n",
       "      <td>Hobby;School or academic work</td>\n",
       "      <td>Bachelor’s degree (B.A., B.S., B.Eng., etc.)</td>\n",
       "      <td>Books / Physical media;Other online resources ...</td>\n",
       "      <td>Technical documentation;Programming Games;Stac...</td>\n",
       "      <td>Udemy;Codecademy;Pluralsight;edX</td>\n",
       "      <td>42</td>\n",
       "      <td>33</td>\n",
       "      <td>Developer, full-stack;Developer, desktop or en...</td>\n",
       "      <td>20 to 99 employees</td>\n",
       "      <td>I have a great deal of influence</td>\n",
       "      <td>Start a free trial;Ask developers I know/work ...</td>\n",
       "      <td>United States of America</td>\n",
       "      <td>USD\\tUnited States dollar</td>\n",
       "      <td>NaN</td>\n",
       "      <td>NaN</td>\n",
       "      <td>HTML/CSS;JavaScript;PHP;Python;SQL</td>\n",
       "      <td>C#;HTML/CSS;JavaScript;PHP;Python;SQL</td>\n",
       "      <td>MariaDB;Microsoft SQL Server;MySQL;PostgreSQL;...</td>\n",
       "      <td>MariaDB;Microsoft SQL Server;MySQL;PostgreSQL;...</td>\n",
       "      <td>Managed Hosting;Microsoft Azure;VMware</td>\n",
       "      <td>Firebase;Linode;Managed Hosting;Microsoft Azur...</td>\n",
       "      <td>ASP.NET;React.js</td>\n",
       "      <td>...</td>\n",
       "      <td>None of the above</td>\n",
       "      <td>None of the above</td>\n",
       "      <td>Yes</td>\n",
       "      <td>Independent contributor</td>\n",
       "      <td>42.0</td>\n",
       "      <td>Disagree</td>\n",
       "      <td>Neither agree nor disagree</td>\n",
       "      <td>Disagree</td>\n",
       "      <td>Agree</td>\n",
       "      <td>Agree</td>\n",
       "      <td>Agree</td>\n",
       "      <td>Neither agree nor disagree</td>\n",
       "      <td>Never</td>\n",
       "      <td>Never</td>\n",
       "      <td>Never</td>\n",
       "      <td>30-60 minutes a day</td>\n",
       "      <td>60-120 minutes a day</td>\n",
       "      <td>Just right</td>\n",
       "      <td>None of these</td>\n",
       "      <td>No</td>\n",
       "      <td>No</td>\n",
       "      <td>No</td>\n",
       "      <td>Appropriate in length</td>\n",
       "      <td>Easy</td>\n",
       "      <td>NaN</td>\n",
       "    </tr>\n",
       "    <tr>\n",
       "      <th>73267</th>\n",
       "      <td>I am a developer by profession</td>\n",
       "      <td>Employed, full-time</td>\n",
       "      <td>Hybrid (some remote, some in-person)</td>\n",
       "      <td>Hobby</td>\n",
       "      <td>Bachelor’s degree (B.A., B.S., B.Eng., etc.)</td>\n",
       "      <td>Books / Physical media;On the job training</td>\n",
       "      <td>NaN</td>\n",
       "      <td>NaN</td>\n",
       "      <td>50</td>\n",
       "      <td>31</td>\n",
       "      <td>Developer, front-end;Developer, desktop or ent...</td>\n",
       "      <td>10 to 19 employees</td>\n",
       "      <td>I have a great deal of influence</td>\n",
       "      <td>Start a free trial;Visit developer communities...</td>\n",
       "      <td>United Kingdom of Great Britain and Northern I...</td>\n",
       "      <td>GBP\\tPound sterling</td>\n",
       "      <td>58500.0</td>\n",
       "      <td>Yearly</td>\n",
       "      <td>C#;Delphi;VBA</td>\n",
       "      <td>Delphi</td>\n",
       "      <td>Microsoft SQL Server;MongoDB;Oracle</td>\n",
       "      <td>NaN</td>\n",
       "      <td>NaN</td>\n",
       "      <td>NaN</td>\n",
       "      <td>NaN</td>\n",
       "      <td>...</td>\n",
       "      <td>None of the above</td>\n",
       "      <td>None of the above</td>\n",
       "      <td>No</td>\n",
       "      <td>NaN</td>\n",
       "      <td>NaN</td>\n",
       "      <td>NaN</td>\n",
       "      <td>NaN</td>\n",
       "      <td>NaN</td>\n",
       "      <td>NaN</td>\n",
       "      <td>NaN</td>\n",
       "      <td>NaN</td>\n",
       "      <td>NaN</td>\n",
       "      <td>NaN</td>\n",
       "      <td>NaN</td>\n",
       "      <td>NaN</td>\n",
       "      <td>NaN</td>\n",
       "      <td>NaN</td>\n",
       "      <td>NaN</td>\n",
       "      <td>NaN</td>\n",
       "      <td>NaN</td>\n",
       "      <td>NaN</td>\n",
       "      <td>NaN</td>\n",
       "      <td>Appropriate in length</td>\n",
       "      <td>Easy</td>\n",
       "      <td>NaN</td>\n",
       "    </tr>\n",
       "    <tr>\n",
       "      <th>73268</th>\n",
       "      <td>I used to be a developer by profession, but no...</td>\n",
       "      <td>Independent contractor, freelancer, or self-em...</td>\n",
       "      <td>Fully remote</td>\n",
       "      <td>Hobby;Contribute to open-source projects;Boots...</td>\n",
       "      <td>Bachelor’s degree (B.A., B.S., B.Eng., etc.)</td>\n",
       "      <td>Books / Physical media;Friend or family member...</td>\n",
       "      <td>Technical documentation;Blogs;Programming Game...</td>\n",
       "      <td>Udemy;Pluralsight</td>\n",
       "      <td>16</td>\n",
       "      <td>5</td>\n",
       "      <td>Developer, front-end;Engineer, data;Engineer, ...</td>\n",
       "      <td>NaN</td>\n",
       "      <td>NaN</td>\n",
       "      <td>Start a free trial;Visit developer communities...</td>\n",
       "      <td>Canada</td>\n",
       "      <td>NaN</td>\n",
       "      <td>NaN</td>\n",
       "      <td>NaN</td>\n",
       "      <td>C#;JavaScript;Lua;PowerShell;SQL;TypeScript</td>\n",
       "      <td>PowerShell;Rust;TypeScript</td>\n",
       "      <td>Microsoft SQL Server;Neo4j;Redis</td>\n",
       "      <td>Neo4j;Redis</td>\n",
       "      <td>Microsoft Azure</td>\n",
       "      <td>AWS;Google Cloud;Microsoft Azure;OpenStack</td>\n",
       "      <td>ASP.NET Core ;Blazor;Node.js;React.js;Svelte</td>\n",
       "      <td>...</td>\n",
       "      <td>None of the above</td>\n",
       "      <td>None of the above</td>\n",
       "      <td>NaN</td>\n",
       "      <td>NaN</td>\n",
       "      <td>NaN</td>\n",
       "      <td>NaN</td>\n",
       "      <td>NaN</td>\n",
       "      <td>NaN</td>\n",
       "      <td>NaN</td>\n",
       "      <td>NaN</td>\n",
       "      <td>NaN</td>\n",
       "      <td>NaN</td>\n",
       "      <td>NaN</td>\n",
       "      <td>NaN</td>\n",
       "      <td>NaN</td>\n",
       "      <td>NaN</td>\n",
       "      <td>NaN</td>\n",
       "      <td>NaN</td>\n",
       "      <td>NaN</td>\n",
       "      <td>NaN</td>\n",
       "      <td>NaN</td>\n",
       "      <td>NaN</td>\n",
       "      <td>Appropriate in length</td>\n",
       "      <td>Easy</td>\n",
       "      <td>NaN</td>\n",
       "    </tr>\n",
       "  </tbody>\n",
       "</table>\n",
       "<p>73268 rows × 78 columns</p>\n",
       "</div>"
      ],
      "text/plain": [
       "                                                   MainBranch  \\\n",
       "ResponseId                                                      \n",
       "1                                               None of these   \n",
       "2                              I am a developer by profession   \n",
       "3           I am not primarily a developer, but I write co...   \n",
       "4                              I am a developer by profession   \n",
       "5                              I am a developer by profession   \n",
       "...                                                       ...   \n",
       "73264                          I am a developer by profession   \n",
       "73265                          I am a developer by profession   \n",
       "73266       I am not primarily a developer, but I write co...   \n",
       "73267                          I am a developer by profession   \n",
       "73268       I used to be a developer by profession, but no...   \n",
       "\n",
       "                                                   Employment  \\\n",
       "ResponseId                                                      \n",
       "1                                                         NaN   \n",
       "2                                         Employed, full-time   \n",
       "3                                         Employed, full-time   \n",
       "4                                         Employed, full-time   \n",
       "5                                         Employed, full-time   \n",
       "...                                                       ...   \n",
       "73264                                     Employed, full-time   \n",
       "73265                                     Employed, full-time   \n",
       "73266                                     Employed, full-time   \n",
       "73267                                     Employed, full-time   \n",
       "73268       Independent contractor, freelancer, or self-em...   \n",
       "\n",
       "                                      RemoteWork  \\\n",
       "ResponseId                                         \n",
       "1                                            NaN   \n",
       "2                                   Fully remote   \n",
       "3           Hybrid (some remote, some in-person)   \n",
       "4                                   Fully remote   \n",
       "5           Hybrid (some remote, some in-person)   \n",
       "...                                          ...   \n",
       "73264                               Fully remote   \n",
       "73265                             Full in-person   \n",
       "73266       Hybrid (some remote, some in-person)   \n",
       "73267       Hybrid (some remote, some in-person)   \n",
       "73268                               Fully remote   \n",
       "\n",
       "                                             CodingActivities  \\\n",
       "ResponseId                                                      \n",
       "1                                                         NaN   \n",
       "2                    Hobby;Contribute to open-source projects   \n",
       "3                                                       Hobby   \n",
       "4                                I don’t code outside of work   \n",
       "5                                                       Hobby   \n",
       "...                                                       ...   \n",
       "73264                                 Freelance/contract work   \n",
       "73265                                                   Hobby   \n",
       "73266                           Hobby;School or academic work   \n",
       "73267                                                   Hobby   \n",
       "73268       Hobby;Contribute to open-source projects;Boots...   \n",
       "\n",
       "                                                    EdLevel  \\\n",
       "ResponseId                                                    \n",
       "1                                                       NaN   \n",
       "2                                                       NaN   \n",
       "3           Master’s degree (M.A., M.S., M.Eng., MBA, etc.)   \n",
       "4              Bachelor’s degree (B.A., B.S., B.Eng., etc.)   \n",
       "5              Bachelor’s degree (B.A., B.S., B.Eng., etc.)   \n",
       "...                                                     ...   \n",
       "73264          Bachelor’s degree (B.A., B.S., B.Eng., etc.)   \n",
       "73265       Master’s degree (M.A., M.S., M.Eng., MBA, etc.)   \n",
       "73266          Bachelor’s degree (B.A., B.S., B.Eng., etc.)   \n",
       "73267          Bachelor’s degree (B.A., B.S., B.Eng., etc.)   \n",
       "73268          Bachelor’s degree (B.A., B.S., B.Eng., etc.)   \n",
       "\n",
       "                                                    LearnCode  \\\n",
       "ResponseId                                                      \n",
       "1                                                         NaN   \n",
       "2                                                         NaN   \n",
       "3           Books / Physical media;Friend or family member...   \n",
       "4           Books / Physical media;School (i.e., Universit...   \n",
       "5           Other online resources (e.g., videos, blogs, f...   \n",
       "...                                                       ...   \n",
       "73264       Books / Physical media;Other online resources ...   \n",
       "73265       Other online resources (e.g., videos, blogs, f...   \n",
       "73266       Books / Physical media;Other online resources ...   \n",
       "73267              Books / Physical media;On the job training   \n",
       "73268       Books / Physical media;Friend or family member...   \n",
       "\n",
       "                                              LearnCodeOnline  \\\n",
       "ResponseId                                                      \n",
       "1                                                         NaN   \n",
       "2                                                         NaN   \n",
       "3           Technical documentation;Blogs;Programming Game...   \n",
       "4                                                         NaN   \n",
       "5           Technical documentation;Blogs;Stack Overflow;O...   \n",
       "...                                                       ...   \n",
       "73264       Technical documentation;Blogs;Written Tutorial...   \n",
       "73265       Technical documentation;Blogs;Written Tutorial...   \n",
       "73266       Technical documentation;Programming Games;Stac...   \n",
       "73267                                                     NaN   \n",
       "73268       Technical documentation;Blogs;Programming Game...   \n",
       "\n",
       "                        LearnCodeCoursesCert YearsCode YearsCodePro  \\\n",
       "ResponseId                                                            \n",
       "1                                        NaN       NaN          NaN   \n",
       "2                                        NaN       NaN          NaN   \n",
       "3                                        NaN        14            5   \n",
       "4                                        NaN        20           17   \n",
       "5                                        NaN         8            3   \n",
       "...                                      ...       ...          ...   \n",
       "73264                                  Udemy         8            5   \n",
       "73265                 Coursera;Udemy;Udacity         6            5   \n",
       "73266       Udemy;Codecademy;Pluralsight;edX        42           33   \n",
       "73267                                    NaN        50           31   \n",
       "73268                      Udemy;Pluralsight        16            5   \n",
       "\n",
       "                                                      DevType  \\\n",
       "ResponseId                                                      \n",
       "1                                                         NaN   \n",
       "2                                                         NaN   \n",
       "3           Data scientist or machine learning specialist;...   \n",
       "4                                       Developer, full-stack   \n",
       "5           Developer, front-end;Developer, full-stack;Dev...   \n",
       "...                                                       ...   \n",
       "73264                                     Developer, back-end   \n",
       "73265           Data scientist or machine learning specialist   \n",
       "73266       Developer, full-stack;Developer, desktop or en...   \n",
       "73267       Developer, front-end;Developer, desktop or ent...   \n",
       "73268       Developer, front-end;Engineer, data;Engineer, ...   \n",
       "\n",
       "                         OrgSize                 PurchaseInfluence  \\\n",
       "ResponseId                                                           \n",
       "1                            NaN                               NaN   \n",
       "2                            NaN                               NaN   \n",
       "3             20 to 99 employees             I have some influence   \n",
       "4           100 to 499 employees             I have some influence   \n",
       "5             20 to 99 employees             I have some influence   \n",
       "...                          ...                               ...   \n",
       "73264       100 to 499 employees             I have some influence   \n",
       "73265               I don’t know     I have little or no influence   \n",
       "73266         20 to 99 employees  I have a great deal of influence   \n",
       "73267         10 to 19 employees  I have a great deal of influence   \n",
       "73268                        NaN                               NaN   \n",
       "\n",
       "                                                   BuyNewTool  \\\n",
       "ResponseId                                                      \n",
       "1                                                         NaN   \n",
       "2                                                         NaN   \n",
       "3                                                         NaN   \n",
       "4                                     Other (please specify):   \n",
       "5           Start a free trial;Visit developer communities...   \n",
       "...                                                       ...   \n",
       "73264       Visit developer communities like Stack Overflo...   \n",
       "73265       Other (please specify):;Ask developers I know/...   \n",
       "73266       Start a free trial;Ask developers I know/work ...   \n",
       "73267       Start a free trial;Visit developer communities...   \n",
       "73268       Start a free trial;Visit developer communities...   \n",
       "\n",
       "                                                      Country  \\\n",
       "ResponseId                                                      \n",
       "1                                                         NaN   \n",
       "2                                                      Canada   \n",
       "3           United Kingdom of Great Britain and Northern I...   \n",
       "4                                                      Israel   \n",
       "5                                    United States of America   \n",
       "...                                                       ...   \n",
       "73264                                                 Nigeria   \n",
       "73265                                United States of America   \n",
       "73266                                United States of America   \n",
       "73267       United Kingdom of Great Britain and Northern I...   \n",
       "73268                                                  Canada   \n",
       "\n",
       "                             Currency  CompTotal CompFreq  \\\n",
       "ResponseId                                                  \n",
       "1                                 NaN        NaN      NaN   \n",
       "2                CAD\\tCanadian dollar        NaN      NaN   \n",
       "3                 GBP\\tPound sterling    32000.0   Yearly   \n",
       "4             ILS\\tIsraeli new shekel    60000.0  Monthly   \n",
       "5           USD\\tUnited States dollar        NaN      NaN   \n",
       "...                               ...        ...      ...   \n",
       "73264       USD\\tUnited States dollar    60000.0   Yearly   \n",
       "73265       USD\\tUnited States dollar   107000.0   Yearly   \n",
       "73266       USD\\tUnited States dollar        NaN      NaN   \n",
       "73267             GBP\\tPound sterling    58500.0   Yearly   \n",
       "73268                             NaN        NaN      NaN   \n",
       "\n",
       "                                       LanguageHaveWorkedWith  \\\n",
       "ResponseId                                                      \n",
       "1                                                         NaN   \n",
       "2                                       JavaScript;TypeScript   \n",
       "3                           C#;C++;HTML/CSS;JavaScript;Python   \n",
       "4                                C#;JavaScript;SQL;TypeScript   \n",
       "5                 C#;HTML/CSS;JavaScript;SQL;Swift;TypeScript   \n",
       "...                                                       ...   \n",
       "73264       Bash/Shell;Dart;JavaScript;PHP;Python;SQL;Type...   \n",
       "73265               Bash/Shell;HTML/CSS;JavaScript;Python;SQL   \n",
       "73266                      HTML/CSS;JavaScript;PHP;Python;SQL   \n",
       "73267                                           C#;Delphi;VBA   \n",
       "73268             C#;JavaScript;Lua;PowerShell;SQL;TypeScript   \n",
       "\n",
       "                                    LanguageWantToWorkWith  \\\n",
       "ResponseId                                                   \n",
       "1                                                      NaN   \n",
       "2                                          Rust;TypeScript   \n",
       "3                    C#;C++;HTML/CSS;JavaScript;TypeScript   \n",
       "4                                        C#;SQL;TypeScript   \n",
       "5               C#;Elixir;F#;Go;JavaScript;Rust;TypeScript   \n",
       "...                                                    ...   \n",
       "73264       Bash/Shell;Go;JavaScript;Python;SQL;TypeScript   \n",
       "73265                           HTML/CSS;JavaScript;Python   \n",
       "73266                C#;HTML/CSS;JavaScript;PHP;Python;SQL   \n",
       "73267                                               Delphi   \n",
       "73268                           PowerShell;Rust;TypeScript   \n",
       "\n",
       "                                       DatabaseHaveWorkedWith  \\\n",
       "ResponseId                                                      \n",
       "1                                                         NaN   \n",
       "2                                                         NaN   \n",
       "3                                        Microsoft SQL Server   \n",
       "4                                        Microsoft SQL Server   \n",
       "5           Cloud Firestore;Elasticsearch;Microsoft SQL Se...   \n",
       "...                                                       ...   \n",
       "73264                    Elasticsearch;MySQL;PostgreSQL;Redis   \n",
       "73265                     Elasticsearch;MongoDB;Oracle;SQLite   \n",
       "73266       MariaDB;Microsoft SQL Server;MySQL;PostgreSQL;...   \n",
       "73267                     Microsoft SQL Server;MongoDB;Oracle   \n",
       "73268                        Microsoft SQL Server;Neo4j;Redis   \n",
       "\n",
       "                                       DatabaseWantToWorkWith  \\\n",
       "ResponseId                                                      \n",
       "1                                                         NaN   \n",
       "2                                                         NaN   \n",
       "3                                        Microsoft SQL Server   \n",
       "4                                        Microsoft SQL Server   \n",
       "5           Cloud Firestore;Elasticsearch;Firebase Realtim...   \n",
       "...                                                       ...   \n",
       "73264                                  MySQL;PostgreSQL;Redis   \n",
       "73265                              Elasticsearch;Neo4j;SQLite   \n",
       "73266       MariaDB;Microsoft SQL Server;MySQL;PostgreSQL;...   \n",
       "73267                                                     NaN   \n",
       "73268                                             Neo4j;Redis   \n",
       "\n",
       "                            PlatformHaveWorkedWith  \\\n",
       "ResponseId                                           \n",
       "1                                              NaN   \n",
       "2                                              NaN   \n",
       "3                                              NaN   \n",
       "4                                              NaN   \n",
       "5                         Firebase;Microsoft Azure   \n",
       "...                                            ...   \n",
       "73264                AWS;DigitalOcean;Google Cloud   \n",
       "73265                                          NaN   \n",
       "73266       Managed Hosting;Microsoft Azure;VMware   \n",
       "73267                                          NaN   \n",
       "73268                              Microsoft Azure   \n",
       "\n",
       "                                       PlatformWantToWorkWith  \\\n",
       "ResponseId                                                      \n",
       "1                                                         NaN   \n",
       "2                                                         NaN   \n",
       "3                                                         NaN   \n",
       "4                                                         NaN   \n",
       "5                                    Firebase;Microsoft Azure   \n",
       "...                                                       ...   \n",
       "73264                           AWS;DigitalOcean;Google Cloud   \n",
       "73265                                                     NaN   \n",
       "73266       Firebase;Linode;Managed Hosting;Microsoft Azur...   \n",
       "73267                                                     NaN   \n",
       "73268              AWS;Google Cloud;Microsoft Azure;OpenStack   \n",
       "\n",
       "                                  WebframeHaveWorkedWith  ...  \\\n",
       "ResponseId                                                ...   \n",
       "1                                                    NaN  ...   \n",
       "2                                                    NaN  ...   \n",
       "3                                             Angular.js  ...   \n",
       "4                                  ASP.NET;ASP.NET Core   ...   \n",
       "5           Angular;ASP.NET;ASP.NET Core ;jQuery;Node.js  ...   \n",
       "...                                                  ...  ...   \n",
       "73264                            Express;FastAPI;Node.js  ...   \n",
       "73265                             FastAPI;Flask;React.js  ...   \n",
       "73266                                   ASP.NET;React.js  ...   \n",
       "73267                                                NaN  ...   \n",
       "73268       ASP.NET Core ;Blazor;Node.js;React.js;Svelte  ...   \n",
       "\n",
       "                Accessibility  \\\n",
       "ResponseId                      \n",
       "1                         NaN   \n",
       "2                         NaN   \n",
       "3           None of the above   \n",
       "4           None of the above   \n",
       "5                         NaN   \n",
       "...                       ...   \n",
       "73264       None of the above   \n",
       "73265       None of the above   \n",
       "73266       None of the above   \n",
       "73267       None of the above   \n",
       "73268       None of the above   \n",
       "\n",
       "                                                 MentalHealth TBranch  \\\n",
       "ResponseId                                                              \n",
       "1                                                         NaN     NaN   \n",
       "2                                                         NaN      No   \n",
       "3           I have a mood or emotional disorder (e.g., dep...      No   \n",
       "4                                           None of the above      No   \n",
       "5                                                         NaN      No   \n",
       "...                                                       ...     ...   \n",
       "73264                                       None of the above     Yes   \n",
       "73265                                       None of the above     Yes   \n",
       "73266                                       None of the above     Yes   \n",
       "73267                                       None of the above      No   \n",
       "73268                                       None of the above     NaN   \n",
       "\n",
       "                             ICorPM WorkExp Knowledge_1  \\\n",
       "ResponseId                                                \n",
       "1                               NaN     NaN         NaN   \n",
       "2                               NaN     NaN         NaN   \n",
       "3                               NaN     NaN         NaN   \n",
       "4                               NaN     NaN         NaN   \n",
       "5                               NaN     NaN         NaN   \n",
       "...                             ...     ...         ...   \n",
       "73264       Independent contributor     5.0       Agree   \n",
       "73265       Independent contributor     6.0       Agree   \n",
       "73266       Independent contributor    42.0    Disagree   \n",
       "73267                           NaN     NaN         NaN   \n",
       "73268                           NaN     NaN         NaN   \n",
       "\n",
       "                           Knowledge_2                 Knowledge_3  \\\n",
       "ResponseId                                                           \n",
       "1                                  NaN                         NaN   \n",
       "2                                  NaN                         NaN   \n",
       "3                                  NaN                         NaN   \n",
       "4                                  NaN                         NaN   \n",
       "5                                  NaN                         NaN   \n",
       "...                                ...                         ...   \n",
       "73264                         Disagree              Strongly agree   \n",
       "73265                            Agree  Neither agree nor disagree   \n",
       "73266       Neither agree nor disagree                    Disagree   \n",
       "73267                              NaN                         NaN   \n",
       "73268                              NaN                         NaN   \n",
       "\n",
       "               Knowledge_4     Knowledge_5     Knowledge_6  \\\n",
       "ResponseId                                                   \n",
       "1                      NaN             NaN             NaN   \n",
       "2                      NaN             NaN             NaN   \n",
       "3                      NaN             NaN             NaN   \n",
       "4                      NaN             NaN             NaN   \n",
       "5                      NaN             NaN             NaN   \n",
       "...                    ...             ...             ...   \n",
       "73264       Strongly agree  Strongly agree  Strongly agree   \n",
       "73265             Disagree        Disagree           Agree   \n",
       "73266                Agree           Agree           Agree   \n",
       "73267                  NaN             NaN             NaN   \n",
       "73268                  NaN             NaN             NaN   \n",
       "\n",
       "                           Knowledge_7       Frequency_1        Frequency_2  \\\n",
       "ResponseId                                                                    \n",
       "1                                  NaN               NaN                NaN   \n",
       "2                                  NaN               NaN                NaN   \n",
       "3                                  NaN               NaN                NaN   \n",
       "4                                  NaN               NaN                NaN   \n",
       "5                                  NaN               NaN                NaN   \n",
       "...                                ...               ...                ...   \n",
       "73264       Neither agree nor disagree             Never              Never   \n",
       "73265                            Agree  1-2 times a week  6-10 times a week   \n",
       "73266       Neither agree nor disagree             Never              Never   \n",
       "73267                              NaN               NaN                NaN   \n",
       "73268                              NaN               NaN                NaN   \n",
       "\n",
       "                 Frequency_3        TimeSearching               TimeAnswering  \\\n",
       "ResponseId                                                                      \n",
       "1                        NaN                  NaN                         NaN   \n",
       "2                        NaN                  NaN                         NaN   \n",
       "3                        NaN                  NaN                         NaN   \n",
       "4                        NaN                  NaN                         NaN   \n",
       "5                        NaN                  NaN                         NaN   \n",
       "...                      ...                  ...                         ...   \n",
       "73264                  Never  30-60 minutes a day  Less than 15 minutes a day   \n",
       "73265       10+ times a week  15-30 minutes a day        60-120 minutes a day   \n",
       "73266                  Never  30-60 minutes a day        60-120 minutes a day   \n",
       "73267                    NaN                  NaN                         NaN   \n",
       "73268                    NaN                  NaN                         NaN   \n",
       "\n",
       "            Onboarding                                   ProfessionalTech  \\\n",
       "ResponseId                                                                  \n",
       "1                  NaN                                                NaN   \n",
       "2                  NaN                                                NaN   \n",
       "3                  NaN                                                NaN   \n",
       "4                  NaN                                                NaN   \n",
       "5                  NaN                                                NaN   \n",
       "...                ...                                                ...   \n",
       "73264       Just right  DevOps function;Microservices;Developer portal...   \n",
       "73265        Very long                                      None of these   \n",
       "73266       Just right                                      None of these   \n",
       "73267              NaN                                                NaN   \n",
       "73268              NaN                                                NaN   \n",
       "\n",
       "           TrueFalse_1 TrueFalse_2 TrueFalse_3           SurveyLength  \\\n",
       "ResponseId                                                              \n",
       "1                  NaN         NaN         NaN                    NaN   \n",
       "2                  NaN         NaN         NaN               Too long   \n",
       "3                  NaN         NaN         NaN  Appropriate in length   \n",
       "4                  NaN         NaN         NaN  Appropriate in length   \n",
       "5                  NaN         NaN         NaN               Too long   \n",
       "...                ...         ...         ...                    ...   \n",
       "73264              Yes         Yes         Yes               Too long   \n",
       "73265               No         Yes         Yes               Too long   \n",
       "73266               No          No          No  Appropriate in length   \n",
       "73267              NaN         NaN         NaN  Appropriate in length   \n",
       "73268              NaN         NaN         NaN  Appropriate in length   \n",
       "\n",
       "                            SurveyEase ConvertedCompYearly  \n",
       "ResponseId                                                  \n",
       "1                                  NaN                 NaN  \n",
       "2                            Difficult                 NaN  \n",
       "3           Neither easy nor difficult             40205.0  \n",
       "4                                 Easy            215232.0  \n",
       "5                                 Easy                 NaN  \n",
       "...                                ...                 ...  \n",
       "73264                             Easy                 NaN  \n",
       "73265                             Easy                 NaN  \n",
       "73266                             Easy                 NaN  \n",
       "73267                             Easy                 NaN  \n",
       "73268                             Easy                 NaN  \n",
       "\n",
       "[73268 rows x 78 columns]"
      ]
     },
     "execution_count": 27,
     "metadata": {},
     "output_type": "execute_result"
    }
   ],
   "source": [
    "#to treat custome null values like na missing no data as null\n",
    "naval=['na','NA','Missing','no data','any custom value']\n",
    "mydf = pd.read_csv('/Users/sauami/Documents/Python/survey_results_public.csv', index_col = 'ResponseId', na_values=naval)\n",
    "mydf"
   ]
  },
  {
   "cell_type": "code",
   "execution_count": 16,
   "id": "639dd774",
   "metadata": {},
   "outputs": [
    {
     "data": {
      "text/plain": [
       "Country                   RemoteWork                          \n",
       "United States of America  Fully remote                            6771\n",
       "                          Hybrid (some remote, some in-person)    3634\n",
       "Germany                   Hybrid (some remote, some in-person)    2529\n",
       "India                     Fully remote                            1952\n",
       "                          Hybrid (some remote, some in-person)    1942\n",
       "                                                                  ... \n",
       "Togo                      Hybrid (some remote, some in-person)       1\n",
       "Botswana                  Full in-person                             1\n",
       "Kuwait                    Fully remote                               1\n",
       "Nomadic                   Full in-person                             1\n",
       "Seychelles                Full in-person                             1\n",
       "Length: 474, dtype: int64"
      ]
     },
     "execution_count": 16,
     "metadata": {},
     "output_type": "execute_result"
    }
   ],
   "source": [
    "mydf[['Country','RemoteWork']].value_counts()"
   ]
  },
  {
   "cell_type": "code",
   "execution_count": 17,
   "id": "c1369ce2",
   "metadata": {},
   "outputs": [
    {
     "data": {
      "text/plain": [
       "array([nan, 'Fully remote', 'Hybrid (some remote, some in-person)',\n",
       "       'Full in-person'], dtype=object)"
      ]
     },
     "execution_count": 17,
     "metadata": {},
     "output_type": "execute_result"
    }
   ],
   "source": [
    "# find dataframe column unique values\n",
    "mydf['RemoteWork'].unique()"
   ]
  },
  {
   "cell_type": "code",
   "execution_count": 18,
   "id": "1addca68",
   "metadata": {},
   "outputs": [],
   "source": [
    "#this is specific to pandas no reference to dataframe\n",
    "pd.set_option('display.max_column',50)"
   ]
  },
  {
   "cell_type": "code",
   "execution_count": 19,
   "id": "b2fd69e9",
   "metadata": {
    "scrolled": true
   },
   "outputs": [
    {
     "data": {
      "text/plain": [
       "(73268, 79)"
      ]
     },
     "execution_count": 19,
     "metadata": {},
     "output_type": "execute_result"
    }
   ],
   "source": [
    "#df.info() - list of column with name and datatype\n",
    "df.head() #list sample record from df\n",
    "df.shape # give number of rows and column in DF"
   ]
  },
  {
   "cell_type": "code",
   "execution_count": 20,
   "id": "436e71ef",
   "metadata": {},
   "outputs": [
    {
     "ename": "NameError",
     "evalue": "name 'df_people' is not defined",
     "output_type": "error",
     "traceback": [
      "\u001b[0;31m---------------------------------------------------------------------------\u001b[0m",
      "\u001b[0;31mNameError\u001b[0m                                 Traceback (most recent call last)",
      "Cell \u001b[0;32mIn [20], line 2\u001b[0m\n\u001b[1;32m      1\u001b[0m \u001b[38;5;66;03m#describe the dataframe with basic mean medium std and %tile values for numerical fields\u001b[39;00m\n\u001b[0;32m----> 2\u001b[0m df_people\u001b[38;5;241m.\u001b[39mdescribe()\n",
      "\u001b[0;31mNameError\u001b[0m: name 'df_people' is not defined"
     ]
    }
   ],
   "source": [
    "#describe the dataframe with basic mean medium std and %tile values for numerical fields\n",
    "df_people.describe()"
   ]
  },
  {
   "cell_type": "code",
   "execution_count": null,
   "id": "f5f710f0",
   "metadata": {
    "scrolled": true
   },
   "outputs": [],
   "source": [
    "df_survey.head(2)\n",
    "df.head(2)\n",
    "\n",
    "df_survey[['qname','type']]\n",
    "df_survey.head(5)\n",
    "#df_survey.set_index('qid', inplace=True)\n",
    "#df_survey.reset_index(inplace=True)"
   ]
  },
  {
   "cell_type": "code",
   "execution_count": null,
   "id": "103eb3ee",
   "metadata": {
    "scrolled": false
   },
   "outputs": [],
   "source": [
    "#Conditional record search by using AND & /OR | operator\n",
    "df_survey.loc[(df_survey['qname']=='S0') & (df_survey['qid']=='QID16')]\n"
   ]
  },
  {
   "cell_type": "markdown",
   "id": "758ca639",
   "metadata": {},
   "source": [
    "# Dataframe info df information"
   ]
  },
  {
   "cell_type": "code",
   "execution_count": null,
   "id": "05e6d926",
   "metadata": {
    "scrolled": true
   },
   "outputs": [],
   "source": [
    "#number of row and column along with column info\n",
    "# df.info()\n",
    "#df.head(5)\n",
    "#df.columns\n",
    "#df.index\n",
    "df.tail(5)"
   ]
  },
  {
   "cell_type": "code",
   "execution_count": null,
   "id": "23fbd721",
   "metadata": {},
   "outputs": [],
   "source": [
    "#this set the number of columns or rows of the dataframe to be display\n",
    "pd.set_option('display.max_columns', 10)\n",
    "pd.set_option('display.max_columns', 6)\n",
    "pd.set_option('display.max_rows',6)\n",
    "df[-3:]"
   ]
  },
  {
   "cell_type": "code",
   "execution_count": null,
   "id": "5a09604d",
   "metadata": {},
   "outputs": [],
   "source": [
    "#Python dictionary to prepare manual dataset to create Pandas DataFrame\n",
    "people = {\n",
    "    'id': [1001,1003,1002,1004,1005,1006,1007,1008,1009,1010],\n",
    "    'fname': ['Jack','Tom','Traci','Rosy','Jack','Jhon','Jenny','Tom','Raj','Terry'],\n",
    "    'lname': ['Foly','Alter','Saw','Burk','jack@email','Dow','Dow','Hanks','Saurabh','Dow'], \n",
    "    'email': ['jack.foly@email','tom.alter@email','traci.saw@email','rosy.burk@email','jack@email','jhon.dow@email.com','jenny.dow@email.com','tom.hanks@email.com','saurabh.raj@email.com','td@email.com'],\n",
    "    'country':['USA','UK','India','Canada','Germany','USA','USA','UK','India', 'USA'],\n",
    "    'work mode': ['remote','work from home','office','head office','remote','office','Remote','office','work from home','Office'],\n",
    "    'dept': ['IT','Sales','Marketing','Admin','Sales','Developer','Admin','Sales','VP','Finance'],\n",
    "    'emp_type':['emp','cwx','emp','cwx','emp','emp','cwx','emp','emp','emp'],\n",
    "    'language': ['English;French','Spanish;French;English','Dutch;English',\n",
    "                 'Finish;English;Python','English;Hindi;Java:Spanish','English:SQL:Python',\n",
    "                 'English;Unix','Hindi;Python-English','Dutch;Swiss;English','English'\n",
    "                ]\n",
    "}"
   ]
  },
  {
   "cell_type": "code",
   "execution_count": null,
   "id": "63f25786",
   "metadata": {
    "scrolled": true
   },
   "outputs": [],
   "source": [
    "#Way to access python dictionary\n",
    "people['email'][1:3]"
   ]
  },
  {
   "cell_type": "code",
   "execution_count": null,
   "id": "4fdfc34f",
   "metadata": {},
   "outputs": [],
   "source": [
    "pd.set_option('display.max_rows', 30)\n",
    "pd.set_option('display.max_columns',20)"
   ]
  },
  {
   "cell_type": "code",
   "execution_count": null,
   "id": "f0aae670",
   "metadata": {},
   "outputs": [],
   "source": [
    "#Pandas dataframe is similar but proivde more functionality over data and can visulize more redable form\n",
    "\n",
    "import pandas as pd\n",
    "df_people = pd.DataFrame(people)\n",
    "\n",
    "#access dataframe multiple column values\n",
    "#df_people[['fname','lname']]\n",
    "# df_people\n",
    "df_people[-2:]"
   ]
  },
  {
   "cell_type": "code",
   "execution_count": null,
   "id": "01bbd5fd",
   "metadata": {},
   "outputs": [],
   "source": [
    "pd.set_option('display.max_columns',10)\n",
    "#accessing row using integer location iloc method, additionally you can locate range of records by using the : colon\n",
    "#or use the list squar bracket to pass the record index to diaplay, remember end range number is excluded\n",
    "df_people.iloc[1:4]"
   ]
  },
  {
   "cell_type": "code",
   "execution_count": null,
   "id": "23a43ab2",
   "metadata": {},
   "outputs": [],
   "source": [
    "df_people[1:4]"
   ]
  },
  {
   "cell_type": "code",
   "execution_count": null,
   "id": "0ed79d2c",
   "metadata": {},
   "outputs": [],
   "source": [
    "df_people.iloc[[1,2,3,4]]"
   ]
  },
  {
   "cell_type": "code",
   "execution_count": null,
   "id": "80e13e9e",
   "metadata": {},
   "outputs": [],
   "source": [
    "#listout the dataframe columns\n",
    "df_people.info()"
   ]
  },
  {
   "cell_type": "code",
   "execution_count": null,
   "id": "ade879e9",
   "metadata": {},
   "outputs": [],
   "source": [
    "#Info about DataFrame row index, starting row index and Df last record df \n",
    "df_people.index"
   ]
  },
  {
   "cell_type": "markdown",
   "id": "8b875426",
   "metadata": {},
   "source": [
    "# Note: You can also access the df by dot notation, but be caucious when df column and method name are same in this case python will call method rather then column\n",
    "\n",
    "if you have column name EMP as well as method EMP in this case python will use method or give error better use the brackets for best practice"
   ]
  },
  {
   "cell_type": "code",
   "execution_count": null,
   "id": "d89bb03e",
   "metadata": {},
   "outputs": [],
   "source": [
    "df_people.fname"
   ]
  },
  {
   "cell_type": "code",
   "execution_count": null,
   "id": "b61ca8ea",
   "metadata": {},
   "outputs": [],
   "source": [
    "#multiple column is not series type its again a df\n",
    "#series is one diamentional array for one column and values\n",
    "type(df_people[['fname','lname']])"
   ]
  },
  {
   "cell_type": "code",
   "execution_count": null,
   "id": "bbe0d82a",
   "metadata": {},
   "outputs": [],
   "source": [
    "#access data frame column's\n",
    "pd.set_option('display.max_rows',20)\n",
    "df_people[['fname','email','work mode','id']]"
   ]
  },
  {
   "cell_type": "code",
   "execution_count": null,
   "id": "c7698486",
   "metadata": {
    "scrolled": true
   },
   "outputs": [],
   "source": [
    "#filtering specific record from dataframe without loc or iloc\n",
    "df_people[(df_people['work mode']=='remote') & (df_people['email']=='jack@email')] # [['fname','lname']] give 2 field only\n",
    "\n",
    "df_people[(df_people['work mode']=='remote') & (df_people['email']=='jack@email')]\n"
   ]
  },
  {
   "cell_type": "code",
   "execution_count": null,
   "id": "aa38eea8",
   "metadata": {},
   "outputs": [],
   "source": [
    "df_people.rename(columns= {'work mode': 'work_mode'}, inplace=True)\n",
    "type(df_people['fname'])"
   ]
  },
  {
   "cell_type": "markdown",
   "id": "5796158b",
   "metadata": {},
   "source": [
    "# value.counts() method can also be use as group by clause to group the data based on number of columns "
   ]
  },
  {
   "cell_type": "code",
   "execution_count": null,
   "id": "30701602",
   "metadata": {
    "scrolled": true
   },
   "outputs": [],
   "source": [
    "#count the values get percentage %age instead of count use normalize=True for decimal %age additionally you can add *100\n",
    "#df_people.rename(columns={'work mode':'work_mode'}, inplace=True)\n",
    "df_people[['country','work mode']].value_counts(normalize=True)\n",
    "df_people[['dept','work mode']].value_counts()\n",
    "\n",
    "\n"
   ]
  },
  {
   "cell_type": "markdown",
   "id": "bc9e8ab3",
   "metadata": {},
   "source": [
    "# rename DataFrame column name df.rename(columns = {old:new,}, inplace=True)"
   ]
  },
  {
   "cell_type": "code",
   "execution_count": null,
   "id": "7a61c8e9",
   "metadata": {},
   "outputs": [],
   "source": [
    "df_people.rename(columns = {'work mode':'work_mode'}, inplace=True)"
   ]
  },
  {
   "cell_type": "code",
   "execution_count": null,
   "id": "c73d4ca5",
   "metadata": {
    "scrolled": true
   },
   "outputs": [],
   "source": [
    "# df_people.set_index('email', inplace=True)\n",
    "df_people.iloc[0:2]\n",
    "df_people.loc['jack.foly@email']\n"
   ]
  },
  {
   "cell_type": "code",
   "execution_count": null,
   "id": "cc576cef",
   "metadata": {
    "scrolled": true
   },
   "outputs": [],
   "source": [
    "df_people.reset_index(inplace=True)"
   ]
  },
  {
   "cell_type": "code",
   "execution_count": null,
   "id": "40aa5897",
   "metadata": {},
   "outputs": [],
   "source": [
    "#loc[row/[rows]], column/[columns] for range no need to use the list bracket\n",
    "df_people.loc[[1,2], ['email','fname']]"
   ]
  },
  {
   "cell_type": "code",
   "execution_count": null,
   "id": "3e3d80d6",
   "metadata": {},
   "outputs": [],
   "source": [
    "df_people.set_index('id', inplace=True)"
   ]
  },
  {
   "cell_type": "code",
   "execution_count": null,
   "id": "498fa677",
   "metadata": {},
   "outputs": [],
   "source": [
    "#though index is changed to id but iloc still using the numerical index values\n",
    "df_people.iloc[[1,2,0],[1,4,5]]"
   ]
  },
  {
   "cell_type": "code",
   "execution_count": null,
   "id": "30aa6817",
   "metadata": {},
   "outputs": [],
   "source": [
    "df_people[df_people['language'].str.contains('Spanish')]\n",
    "df_people['language']"
   ]
  },
  {
   "cell_type": "raw",
   "id": "9169433c",
   "metadata": {},
   "source": [
    "loc and iloc\n",
    "#iloc and loc both reference to dataframe rows by index, iloc access integer index where loc access rows by label\n",
    "\n",
    "# Query Dataframe Rows use the loc and iloc (iloc is integer location of row) and loc row label both point to row only\n",
    "eg. if you have reset your default index(0-~)you can not give reference to filter row on index 0 or 1 because this index is no longer available, but you can still refer the loc which is label like record 1 or 10th record etc\n",
    "iloc: search by row index\n",
    "loc: search by label"
   ]
  },
  {
   "cell_type": "code",
   "execution_count": null,
   "id": "8f782fcb",
   "metadata": {},
   "outputs": [],
   "source": [
    "#df.loc\n",
    "df.iloc[[0,2]]\n",
    "#if we want email column for selected two row in this case use the column index outside list\n",
    "\n",
    "df.iloc[[0,2],1:3]\n",
    "# df.loc[1:4,['RemoteWork','Employment']]\n",
    "df.loc[df['MainBranch']=='None of these',['ResponseId']]"
   ]
  },
  {
   "cell_type": "code",
   "execution_count": null,
   "id": "6e07ea97",
   "metadata": {},
   "outputs": [],
   "source": [
    "df_people"
   ]
  },
  {
   "cell_type": "code",
   "execution_count": null,
   "id": "1f955220",
   "metadata": {
    "scrolled": true
   },
   "outputs": [],
   "source": [
    "# apply is used to apply the method on the dataframe or run the lambda etc, see the eg custom function\n",
    "#Note apply works on series means single column if you want to apply the function on all columns use applymap\n",
    "df_people['fname'].apply(len)\n",
    "df_people['fname']=df_people['fname'].apply(lambda x: x.upper())\n",
    "df_people"
   ]
  },
  {
   "cell_type": "code",
   "execution_count": null,
   "id": "2a07236f",
   "metadata": {
    "scrolled": true
   },
   "outputs": [],
   "source": [
    "df_people[['fname','fname','email']].applymap(lambda x: x.upper())"
   ]
  },
  {
   "cell_type": "code",
   "execution_count": null,
   "id": "1c2119be",
   "metadata": {},
   "outputs": [],
   "source": [
    "# df_people['profession']=df_people.loc[df_people['dept']=='IT', 'dept']+'-'+'Industry'\n",
    "df_people\n",
    "# df_people.drop(columns='profession', inplace=True)\n",
    "# df_people.fillna('No Industry Defined', inplace=True)"
   ]
  },
  {
   "cell_type": "code",
   "execution_count": null,
   "id": "726ea87e",
   "metadata": {},
   "outputs": [],
   "source": [
    "df_people['country_dept'] = df_people['country'] + '-' + df_people['dept']\n"
   ]
  },
  {
   "cell_type": "code",
   "execution_count": null,
   "id": "6cfbd3e6",
   "metadata": {},
   "outputs": [],
   "source": [
    "df_people[df_people['country']=='USA']"
   ]
  },
  {
   "cell_type": "code",
   "execution_count": null,
   "id": "5b37feab",
   "metadata": {},
   "outputs": [],
   "source": [
    "# df_people['new_dept'] = df_people.loc[df_people['dept']=='IT', 'dept'] + '-'+df_people.loc[df_people['dept']=='IT', 'emp_type'] \n",
    "df_people\n",
    "# df_people.drop(columns='new_dept', inplace=True)"
   ]
  },
  {
   "cell_type": "code",
   "execution_count": null,
   "id": "401dc523",
   "metadata": {
    "scrolled": true
   },
   "outputs": [],
   "source": [
    "# df_people[df_people['fname']=='JACK']\n",
    "df_people.loc[df_people['language'].str.contains('Spanish') & df_people['language'].str.contains('English'),['dept','fname']]\n",
    "# df_people[['random_column1', 'random_col2']] = df_people[df_people['language'].str.contains('Spanish') & df_people['language'].str.contains('English')][['dept','fname']]\n",
    "# df_people"
   ]
  },
  {
   "cell_type": "code",
   "execution_count": null,
   "id": "d7bbcd78",
   "metadata": {},
   "outputs": [],
   "source": [
    "df_people[['new_dept','new_profession']] = df_people.loc[df_people['language'].str.contains('Spanish') & df_people['language'].str.contains('English')][['dept','profession']]\n"
   ]
  },
  {
   "cell_type": "code",
   "execution_count": null,
   "id": "12783013",
   "metadata": {},
   "outputs": [],
   "source": [
    "df_people['df_direct_col'] = df_people['language'].str.contains('Spanish') & df_people['language'].str.contains('English')"
   ]
  },
  {
   "cell_type": "code",
   "execution_count": null,
   "id": "30870e3c",
   "metadata": {},
   "outputs": [],
   "source": [
    "df_people['country_emp_type'] = df_people['country'] + '-' + df_people['emp_type']"
   ]
  },
  {
   "cell_type": "code",
   "execution_count": null,
   "id": "c9b5528f",
   "metadata": {},
   "outputs": [],
   "source": [
    "df_people.drop(columns='country_emp_type')\n",
    "# use Curley bracket for more than one column to drop"
   ]
  },
  {
   "cell_type": "code",
   "execution_count": null,
   "id": "52cef6c6",
   "metadata": {},
   "outputs": [],
   "source": [
    "df_people.drop(columns={'random_column1', 'random_col2'})\n"
   ]
  },
  {
   "cell_type": "code",
   "execution_count": null,
   "id": "7401ebe2",
   "metadata": {},
   "outputs": [],
   "source": [
    "# add salary column\n"
   ]
  },
  {
   "cell_type": "code",
   "execution_count": null,
   "id": "3d8e525c",
   "metadata": {},
   "outputs": [],
   "source": [
    "df_people"
   ]
  },
  {
   "cell_type": "code",
   "execution_count": null,
   "id": "edb50486",
   "metadata": {},
   "outputs": [],
   "source": [
    "# df_people.drop(index=10 )\n",
    "# df_people.dropna(axis='index', how='all')\n",
    "# df_people.reset_index(inplace=True)\n",
    "df_people = df_people.append(df_people.loc[3], ignore_index=True)\n",
    "df_people"
   ]
  },
  {
   "cell_type": "code",
   "execution_count": null,
   "id": "d8680e38",
   "metadata": {},
   "outputs": [],
   "source": [
    "df_people.loc[10, 'country'] = 'Spain'"
   ]
  },
  {
   "cell_type": "code",
   "execution_count": null,
   "id": "dd2be809",
   "metadata": {},
   "outputs": [],
   "source": [
    "df_people"
   ]
  },
  {
   "cell_type": "code",
   "execution_count": null,
   "id": "40ef8bf4",
   "metadata": {},
   "outputs": [],
   "source": [
    "def cal_sal(country):\n",
    "    if country == 'USA':\n",
    "        return 100+100*.3\n",
    "    elif country == 'Germany':\n",
    "        return 100+100*.25\n",
    "    elif country == 'Canada':\n",
    "        return 100+100*.20\n",
    "    elif country =='India':\n",
    "        return 100*100*.15\n",
    "    elif country=='UK':\n",
    "        return 100+.23*100\n",
    "    else:\n",
    "        return 100+100*.05\n",
    "        "
   ]
  },
  {
   "cell_type": "code",
   "execution_count": null,
   "id": "c3ec58a6",
   "metadata": {},
   "outputs": [],
   "source": [
    "df_people['salary'] = df_people['country'].apply(cal_sal)"
   ]
  },
  {
   "cell_type": "code",
   "execution_count": null,
   "id": "d93f95d1",
   "metadata": {},
   "outputs": [],
   "source": [
    "df_people"
   ]
  },
  {
   "cell_type": "code",
   "execution_count": null,
   "id": "eea342c9",
   "metadata": {},
   "outputs": [],
   "source": [
    "def email_case(email):\n",
    "    return email.upper()\n",
    "\n",
    "#email_case(df_people['email']) this will fail with erro that 'Series' object has no attribute 'upper' instead use the apply"
   ]
  },
  {
   "cell_type": "code",
   "execution_count": null,
   "id": "6f8950d7",
   "metadata": {},
   "outputs": [],
   "source": [
    "mydf['salary'] = mydf['country'].apply(cal_sal)"
   ]
  },
  {
   "cell_type": "code",
   "execution_count": null,
   "id": "4b3470a4",
   "metadata": {},
   "outputs": [],
   "source": [
    "#df_people['email'].apply(email_case) #to apply the changes assign it to series as below\n",
    "df_people['email'] = df_people['email'].apply(email_case)"
   ]
  },
  {
   "cell_type": "code",
   "execution_count": null,
   "id": "2ea74a1e",
   "metadata": {},
   "outputs": [],
   "source": [
    "df_people"
   ]
  },
  {
   "cell_type": "code",
   "execution_count": null,
   "id": "65734048",
   "metadata": {},
   "outputs": [],
   "source": [
    "#you can also directly use the lambda to run the no name function in apply\n",
    "df_people['email'] = df_people['email'].apply(lambda x: x.upper())\n",
    "#use applymap to apply the change to entire df non integer columns\n",
    "df_people[['email','emp_type','country','work_mode']].applymap(lambda x: x.lower())\n",
    "df_people #email changes back to lower case require re-assignment df_people[['email','emp_type','country','work_mode']] = "
   ]
  },
  {
   "cell_type": "code",
   "execution_count": null,
   "id": "aaa46a3f",
   "metadata": {},
   "outputs": [],
   "source": [
    "df_people.apply(len, axis='columns')\n",
    "#this tells numbers of columns in each row, axis='rows' is default"
   ]
  },
  {
   "cell_type": "code",
   "execution_count": null,
   "id": "fd1cca2d",
   "metadata": {},
   "outputs": [],
   "source": [
    "df_people.apply(len, axis='rows')\n",
    "df_people[['email','fname']].applymap(len)"
   ]
  },
  {
   "cell_type": "code",
   "execution_count": null,
   "id": "32104bec",
   "metadata": {},
   "outputs": [],
   "source": [
    "df_people[['email','dept']] = df_people[['email','dept']].applymap(lambda x: x.upper())\n",
    "df_people"
   ]
  },
  {
   "cell_type": "markdown",
   "id": "68141f3a",
   "metadata": {},
   "source": [
    "# applymap used to apply a function to every element of dataframe \n",
    "applymap only works on DF not on Series\n",
    "unlike apply(len) on df gives number of element in each series applymap gives us the lenght of each column value"
   ]
  },
  {
   "cell_type": "code",
   "execution_count": null,
   "id": "963c840a",
   "metadata": {},
   "outputs": [],
   "source": [
    "# IF DataFrame is full of str columns then applymap will work\n",
    "#note this throw error if Df have number type column so here, id is changing to index to avoid error\n",
    "#df_people.set_index('id', inplace=True)\n",
    "df_people.applymap(len) #>=10 conditional "
   ]
  },
  {
   "cell_type": "code",
   "execution_count": null,
   "id": "a8566d4e",
   "metadata": {},
   "outputs": [],
   "source": [
    "#MAP is generally used to substitute the Series column values, note if any value is not matched in map it make is NaN\n",
    "# this method is good to converted if you column value like Yes/No and convert it to True/False\n",
    "#else use the rename\n"
   ]
  },
  {
   "cell_type": "code",
   "execution_count": null,
   "id": "c4eb112d",
   "metadata": {},
   "outputs": [],
   "source": [
    "df_people['fname']=='Jack'"
   ]
  },
  {
   "cell_type": "code",
   "execution_count": null,
   "id": "e3957aaf",
   "metadata": {},
   "outputs": [],
   "source": [
    "#dataframe column condition return the record with Boolean value for matching record True and rest False]- id is index here so don't get confuse\n",
    "df_people[df_people['fname']=='Jack'] #['email']"
   ]
  },
  {
   "cell_type": "code",
   "execution_count": null,
   "id": "36a50552",
   "metadata": {},
   "outputs": [],
   "source": [
    "df_people.set_index('fname', inplace=True)"
   ]
  },
  {
   "cell_type": "code",
   "execution_count": null,
   "id": "31b182df",
   "metadata": {},
   "outputs": [],
   "source": [
    "#now index is set for fname now you can use the loc on fname to find the records\n",
    "df_people.loc['Jack']"
   ]
  },
  {
   "cell_type": "code",
   "execution_count": null,
   "id": "e54993a4",
   "metadata": {},
   "outputs": [],
   "source": [
    "df_people.reset_index(inplace=True)"
   ]
  },
  {
   "cell_type": "code",
   "execution_count": null,
   "id": "75920410",
   "metadata": {},
   "outputs": [],
   "source": [
    "df_people['lname']=='Dow'"
   ]
  },
  {
   "cell_type": "code",
   "execution_count": null,
   "id": "328dbb82",
   "metadata": {},
   "outputs": [],
   "source": [
    "filt = df_people['lname']=='Dow'\n",
    "#filt = df_people[df_people['lname']=='Dow'] direct dataframe values can not be used as filte\n",
    "filt"
   ]
  },
  {
   "cell_type": "code",
   "execution_count": null,
   "id": "665eae49",
   "metadata": {
    "scrolled": true
   },
   "outputs": [],
   "source": [
    "df_people.loc[filt]# you can also chooes the column values as needed"
   ]
  },
  {
   "cell_type": "markdown",
   "id": "9d9d6287",
   "metadata": {},
   "source": [
    "~ symbol reverse(NOT) the condition, filt condition become not condition"
   ]
  },
  {
   "cell_type": "code",
   "execution_count": null,
   "id": "44eb36b7",
   "metadata": {},
   "outputs": [],
   "source": [
    "df_people.loc[~filt]# you can also chooes the column values as needed"
   ]
  },
  {
   "cell_type": "code",
   "execution_count": null,
   "id": "3df63da3",
   "metadata": {},
   "outputs": [],
   "source": [
    "#filter can be used directly to dataframe as well as with loc\n",
    "#as we know we can also chooes the number of columns we want from dataframe except specific row but loc provide option to \n",
    "#select the row along with column values\n",
    "\n",
    "df_people[filt] [['id','fname','email']].value_counts()"
   ]
  },
  {
   "cell_type": "code",
   "execution_count": null,
   "id": "30b4dafd",
   "metadata": {},
   "outputs": [],
   "source": [
    "df_people.loc[filt, ['fname','lname','email']]"
   ]
  },
  {
   "cell_type": "code",
   "execution_count": null,
   "id": "d8146eb8",
   "metadata": {
    "scrolled": true
   },
   "outputs": [],
   "source": [
    "df_people[df_people['lname']=='Dow']"
   ]
  },
  {
   "cell_type": "markdown",
   "id": "18bd36b4",
   "metadata": {},
   "source": [
    "# Pandas AND and OR Operators (& and |)"
   ]
  },
  {
   "cell_type": "code",
   "execution_count": null,
   "id": "f06f22b2",
   "metadata": {},
   "outputs": [],
   "source": [
    "df_filter = (df_people['fname']=='Jack') | (df_people['lname']=='Dow')"
   ]
  },
  {
   "cell_type": "code",
   "execution_count": null,
   "id": "72fcbc45",
   "metadata": {
    "scrolled": true
   },
   "outputs": [],
   "source": [
    "df_people[df_filter]"
   ]
  },
  {
   "cell_type": "code",
   "execution_count": null,
   "id": "00fad3a4",
   "metadata": {},
   "outputs": [],
   "source": [
    "#Dataframe isin() method is used to pass the additional filter to dataframe "
   ]
  },
  {
   "cell_type": "code",
   "execution_count": null,
   "id": "cefeb814",
   "metadata": {},
   "outputs": [],
   "source": [
    "country_filter = (df_people['country'].isin(['USA'])) & (df_people['lname']=='Dow')\n"
   ]
  },
  {
   "cell_type": "code",
   "execution_count": null,
   "id": "3029b591",
   "metadata": {
    "scrolled": false
   },
   "outputs": [],
   "source": [
    "#same result for both method\n",
    "df_people[country_filter]\n",
    "df_people.loc[country_filter]"
   ]
  },
  {
   "cell_type": "markdown",
   "id": "d47f8f25",
   "metadata": {},
   "source": [
    "# isin() method to validate column values like Oracle in - df['column'].isin([cols value])"
   ]
  },
  {
   "cell_type": "code",
   "execution_count": null,
   "id": "657c91ce",
   "metadata": {},
   "outputs": [],
   "source": [
    "country_filter1 = (df_people['country'].isin(['USA'])) & (df_people['lname']=='Dow') & (df_people['id'] < 1010)\n",
    "df_people[country_filter1]"
   ]
  },
  {
   "cell_type": "code",
   "execution_count": null,
   "id": "121824d3",
   "metadata": {},
   "outputs": [],
   "source": [
    "type(country_filter1)"
   ]
  },
  {
   "cell_type": "markdown",
   "id": "44596b8d",
   "metadata": {},
   "source": [
    "# Dataframe str.contains() method helps to find the specific text in the column\n",
    "df['column'].str.contain(value)"
   ]
  },
  {
   "cell_type": "code",
   "execution_count": null,
   "id": "e2fe7aa2",
   "metadata": {},
   "outputs": [],
   "source": [
    "lang_fil = (df_people['language'].str.contains('Spanish'))"
   ]
  },
  {
   "cell_type": "code",
   "execution_count": null,
   "id": "2e194089",
   "metadata": {},
   "outputs": [],
   "source": [
    "# pd.set_option('display.max_rows',25)\n",
    "#df_people.fillna(-1, inplace=True)\n",
    "\n",
    "df_people[lang_fil]"
   ]
  },
  {
   "cell_type": "markdown",
   "id": "4067d48a",
   "metadata": {},
   "source": [
    "# Describe and max(), min() method"
   ]
  },
  {
   "cell_type": "code",
   "execution_count": null,
   "id": "319f8c14",
   "metadata": {
    "scrolled": true
   },
   "outputs": [],
   "source": [
    "df_people[['id','fname','country']].min()\n",
    "#df_people['id'].max()"
   ]
  },
  {
   "cell_type": "code",
   "execution_count": null,
   "id": "09476c60",
   "metadata": {
    "scrolled": true
   },
   "outputs": [],
   "source": [
    "#aggregate DF group by column mentioned\n",
    "df_people[['fname','work mode']].value_counts()"
   ]
  },
  {
   "cell_type": "code",
   "execution_count": null,
   "id": "b829c751",
   "metadata": {},
   "outputs": [],
   "source": [
    "df_people['id'].max()"
   ]
  },
  {
   "cell_type": "code",
   "execution_count": null,
   "id": "667f0fd2",
   "metadata": {
    "scrolled": true
   },
   "outputs": [],
   "source": [
    "#Caution - extract mininum value from Each dataframe column\n",
    "df_people.apply([pd.Series.min])"
   ]
  },
  {
   "cell_type": "code",
   "execution_count": null,
   "id": "57e41aa6",
   "metadata": {},
   "outputs": [],
   "source": [
    "#use list in case data needed in row else skip the squar bracket to get data in column\n",
    "df_people.apply([lambda x: x.min()])"
   ]
  },
  {
   "cell_type": "code",
   "execution_count": null,
   "id": "381b1235",
   "metadata": {},
   "outputs": [],
   "source": [
    "#Operation on pandas Series\n",
    "s = pd.Series([10,12,14,15,18])\n",
    "a=18\n",
    "print(\"Series max value is --> \",s.max())\n",
    "if s.max()==a:\n",
    "    print(\"Series value is equal to variable\")\n",
    "\n",
    "y = (x for x in range(1,20) if x==s.max())\n",
    "y1 = [x for x in range(1,20) if x==s.max()]\n",
    "print(\"value From generator matching Series is --> \", sum(y))\n",
    "print(\"Object Y is: \", y, \" and Object Y1 is \", type(y1))\n"
   ]
  },
  {
   "cell_type": "code",
   "execution_count": null,
   "id": "5be904f9",
   "metadata": {},
   "outputs": [],
   "source": [
    "#describe the dataframe with basic mean medium std and %tile values for numerical fields\n",
    "df_people.describe()"
   ]
  },
  {
   "cell_type": "code",
   "execution_count": null,
   "id": "5ff49aa4",
   "metadata": {},
   "outputs": [],
   "source": [
    "#top 5 record use tail for top bottom records\n",
    "\n",
    "df_people.head(5)\n",
    "\n",
    "df_people.tail(5)"
   ]
  },
  {
   "cell_type": "markdown",
   "id": "638680cf",
   "metadata": {},
   "source": [
    "# Update Dataframe record values"
   ]
  },
  {
   "cell_type": "code",
   "execution_count": null,
   "id": "3a0eebf7",
   "metadata": {},
   "outputs": [],
   "source": [
    "df_people[(df_people['lname']=='Dow') | (df_people['fname']=='Jenny')]"
   ]
  },
  {
   "cell_type": "code",
   "execution_count": null,
   "id": "32a15629",
   "metadata": {},
   "outputs": [],
   "source": [
    "#updating fname to Ronny\n",
    "\n",
    "df_people.loc[(df_people['lname']=='Dow') & (df_people['fname']=='Jenny'),['fname','email']] = ['Ronny','ronny.dow@email.com']"
   ]
  },
  {
   "cell_type": "code",
   "execution_count": null,
   "id": "175af3a1",
   "metadata": {},
   "outputs": [],
   "source": [
    "#if you know the index for the record you wish to change\n",
    "#dataframe.loc[index,[column's-to-update]] = [new-column-value]\n",
    "df_people.loc[6, ['fname','email']] = ['Rock','rock.dow@email.com']"
   ]
  },
  {
   "cell_type": "code",
   "execution_count": null,
   "id": "d2340856",
   "metadata": {},
   "outputs": [],
   "source": [
    "df_people.loc[df_people['emp_type']=='emp','emp_type'] = 'Emp'"
   ]
  },
  {
   "cell_type": "code",
   "execution_count": null,
   "id": "f67758b3",
   "metadata": {
    "scrolled": true
   },
   "outputs": [],
   "source": [
    "df_people"
   ]
  },
  {
   "cell_type": "code",
   "execution_count": null,
   "id": "f6b8ae52",
   "metadata": {
    "scrolled": true
   },
   "outputs": [],
   "source": [
    "df_people[~((df_people['fname']=='Rock') & (df_people['lname']=='Dow'))]"
   ]
  },
  {
   "cell_type": "code",
   "execution_count": null,
   "id": "d249b39b",
   "metadata": {
    "scrolled": true
   },
   "outputs": [],
   "source": [
    "df_people[(df_people['fname']=='Rock') & (df_people['lname']=='Dow')]"
   ]
  },
  {
   "cell_type": "code",
   "execution_count": null,
   "id": "11674d65",
   "metadata": {},
   "outputs": [],
   "source": [
    "#update two column by using index reference\n",
    "df_people.loc[3,['lname','email']]= ['Dilt','rosy.dilt@email.com']\n"
   ]
  },
  {
   "cell_type": "code",
   "execution_count": null,
   "id": "80801b92",
   "metadata": {},
   "outputs": [],
   "source": [
    "#AT can also be use in place of loc --somehow giving error to update multiple column values but values are getting change i guess this ment only for 1 value\n",
    "\n",
    "#df_people.at[3,['lname','email']]= ['Hanson','rosy.hanson@email.com']\n",
    "df_people.at[3, 'lname'] = 'Hanson'"
   ]
  },
  {
   "cell_type": "code",
   "execution_count": null,
   "id": "d2cc106f",
   "metadata": {},
   "outputs": [],
   "source": [
    "#update column all value to upper or other operation\n",
    "\n",
    "df_people['emp_type'] = df_people['emp_type'].str.upper()"
   ]
  },
  {
   "cell_type": "markdown",
   "id": "32918a30",
   "metadata": {},
   "source": [
    "# apply, map, applymap and replace method"
   ]
  },
  {
   "cell_type": "code",
   "execution_count": null,
   "id": "640cf94d",
   "metadata": {},
   "outputs": [],
   "source": []
  },
  {
   "cell_type": "code",
   "execution_count": null,
   "id": "f868c546",
   "metadata": {},
   "outputs": [],
   "source": [
    "#here find the record and chooes the column and see the lenth of that column value\n",
    "df_people.loc[df_people['email']=='td@email.com','fname']\n",
    "df_people.loc[df_people['email']=='td@email.com','fname'].apply(len)\n"
   ]
  },
  {
   "cell_type": "code",
   "execution_count": null,
   "id": "6ccf5925",
   "metadata": {
    "scrolled": true
   },
   "outputs": [],
   "source": [
    "df_people.loc[df_people['lname']=='Dow', 'email']"
   ]
  },
  {
   "cell_type": "code",
   "execution_count": null,
   "id": "2ade1526",
   "metadata": {},
   "outputs": [],
   "source": [
    "df_people.loc[df_people['emp_type']=='cwx','emp_type'].str.upper()\n",
    "#df_people['emp_type'] = df_people.loc[df_people['emp_type']=='cwx','emp_type'].apply(lambda x: x.upper())\n",
    "\n",
    "#don't update the dataframe field value as this gives the all DF records with matching and non matching records and for non matching criteria value will update to NaN\n",
    "dfp['emp_type'] =dfp.loc[df_people['emp_type']=='cwx','emp_type'].str.upper()\n"
   ]
  },
  {
   "cell_type": "code",
   "execution_count": null,
   "id": "99efac2d",
   "metadata": {},
   "outputs": [],
   "source": [
    "dfp"
   ]
  },
  {
   "cell_type": "code",
   "execution_count": null,
   "id": "df01a7a2",
   "metadata": {},
   "outputs": [],
   "source": [
    "df_p = df_people['email'].str.upper()\n",
    "#this will create new dataframe with selected values\n",
    "df_p"
   ]
  },
  {
   "cell_type": "code",
   "execution_count": null,
   "id": "f4a204a2",
   "metadata": {},
   "outputs": [],
   "source": [
    "#update value for emp field\n",
    "df_people.loc[df_people['emp_type']!='CWX','emp_type'] = 'Emp'"
   ]
  },
  {
   "cell_type": "code",
   "execution_count": null,
   "id": "881ccca2",
   "metadata": {},
   "outputs": [],
   "source": [
    "df_people['emp_type'] = df_people['emp_type'].str.upper()\n",
    "df_people"
   ]
  },
  {
   "cell_type": "code",
   "execution_count": null,
   "id": "46a0b022",
   "metadata": {
    "scrolled": true
   },
   "outputs": [],
   "source": [
    "df_people['emp_type'] = df_people['emp_type'].str.lower()\n",
    "df_people"
   ]
  },
  {
   "cell_type": "code",
   "execution_count": null,
   "id": "f84eaa9d",
   "metadata": {},
   "outputs": [],
   "source": [
    "people = {\n",
    "    'id': [1001,1003,1002,1004,1005,1006,1007,1008,1009,1010,'no data'],\n",
    "    'fname': ['Jack',\n",
    "              'Tom',\n",
    "              'Traci','Rosy','Jack','Jhon','Jenny','Tom','Raj','Terry','na'],\n",
    "    'lname': ['Foly','Alter','Saw','Burk','jack@email','Dow','Dow','Hanks','Saurabh','Dow','Missing'], \n",
    "    'email': ['jack.foly@email','tom.alter@email','traci.saw@email','rosy.burk@email','jack@email',\n",
    "              'jhon.dow@email.com',\n",
    "              'jenny.dow@email.com',\n",
    "              'tom.hanks@email.com',\n",
    "              'saurabh.raj@email.com',\n",
    "              'td@email.com',\n",
    "             'Missing'],\n",
    "    'country':['USA','UK','India','Canada','Germany','USA','USA','UK','India', 'USA','NA'],\n",
    "    'work mode': ['remote','work from home','office','head office','remote','office','Remote','office','work from home',\n",
    "                  'Office', None],\n",
    "    'dept': ['IT','Sales','Marketing','Admin','Sales','Developer','Admin','Sales','VP','Finance','Missing'],\n",
    "    'emp_type':['emp','cwx','emp','cwx','emp','emp','cwx','emp','emp','emp','na'],\n",
    "    'language': ['English;French','Spanish;French;English','Dutch;English',\n",
    "                 'Finish;English;Python','English;Hindi;Java:Spanish','English:SQL:Python',\n",
    "                 'English;Unix','Hindi;Python-English','Dutch;Swiss;English','English',\n",
    "                 'Missing'\n",
    "                ]\n",
    "         }"
   ]
  },
  {
   "cell_type": "code",
   "execution_count": null,
   "id": "1ab670d8",
   "metadata": {},
   "outputs": [],
   "source": [
    "#length of the dictionary values in list\n",
    "len(people['lname'])"
   ]
  },
  {
   "cell_type": "code",
   "execution_count": null,
   "id": "c031d021",
   "metadata": {},
   "outputs": [],
   "source": [
    "import pandas as pd\n",
    "import numpy as np\n",
    "pdf = pd.DataFrame(people)"
   ]
  },
  {
   "cell_type": "code",
   "execution_count": null,
   "id": "588233bc",
   "metadata": {},
   "outputs": [],
   "source": [
    "pdf.loc[9,'dept'] = 'Office'\n",
    "#.loc[9, 'language'] = 'Zulu;English'\n",
    "pdf"
   ]
  },
  {
   "cell_type": "code",
   "execution_count": null,
   "id": "27c10c27",
   "metadata": {},
   "outputs": [],
   "source": [
    "pdf[(pdf['lname']=='Dow') | (pdf['fname']=='Tom')]"
   ]
  },
  {
   "cell_type": "code",
   "execution_count": null,
   "id": "09e31718",
   "metadata": {},
   "outputs": [],
   "source": [
    "# this is good to filter the record but for update it will update for matching row but rest of them become NaN\n",
    "pdf.loc[f, 'emp_type'].str.upper()"
   ]
  },
  {
   "cell_type": "code",
   "execution_count": null,
   "id": "35cc2185",
   "metadata": {},
   "outputs": [],
   "source": [
    "a= None\n",
    "b=np.nan\n",
    "\n",
    "if a==b:\n",
    "    print('Yes')\n",
    "else:\n",
    "    print('NaN and None is not equal')"
   ]
  },
  {
   "cell_type": "code",
   "execution_count": null,
   "id": "e4548ff1",
   "metadata": {
    "scrolled": true
   },
   "outputs": [],
   "source": [
    "pdf['emp_type'] = pdf['emp_type'].str.lower()"
   ]
  },
  {
   "cell_type": "code",
   "execution_count": null,
   "id": "2d70be40",
   "metadata": {},
   "outputs": [],
   "source": [
    "#delete dataframe -- result after executing given del statment \n",
    "del pdff"
   ]
  },
  {
   "cell_type": "code",
   "execution_count": null,
   "id": "5755866d",
   "metadata": {},
   "outputs": [],
   "source": [
    "#get the lenght of the field, remeber here email set as custome index to reference record default is integer index\n",
    "pdf[['fname','lname']].apply(len)"
   ]
  },
  {
   "cell_type": "code",
   "execution_count": null,
   "id": "af141fc0",
   "metadata": {},
   "outputs": [],
   "source": [
    "#This tell how many record each column have in DF, default axis is rows\n",
    "pdf.apply(len)"
   ]
  },
  {
   "cell_type": "code",
   "execution_count": null,
   "id": "73f46901",
   "metadata": {},
   "outputs": [],
   "source": [
    "#this Tells DF have 9 Columns values in each row, except index, incase custom index is set that will not count\n",
    "pdf.apply(len, axis='columns')"
   ]
  },
  {
   "cell_type": "code",
   "execution_count": null,
   "id": "99e4bb94",
   "metadata": {},
   "outputs": [],
   "source": [
    "pdf['fname'].apply(len)"
   ]
  },
  {
   "cell_type": "code",
   "execution_count": null,
   "id": "27d801f2",
   "metadata": {},
   "outputs": [],
   "source": [
    "#minimum character in DF fname column, first is length and 2nd int is occurance as per \n",
    "\n",
    "#pdf.set_index('email', inplace=True)\n",
    "pdf['fname'].apply(len).value_counts()\n",
    "#pdf['fname'].max()"
   ]
  },
  {
   "cell_type": "code",
   "execution_count": null,
   "id": "8984e01d",
   "metadata": {
    "scrolled": true
   },
   "outputs": [],
   "source": [
    "pdf['id']"
   ]
  },
  {
   "cell_type": "code",
   "execution_count": null,
   "id": "d69cae5e",
   "metadata": {},
   "outputs": [],
   "source": [
    "pd.set_option('display.max_row',25)\n",
    "pdf"
   ]
  },
  {
   "cell_type": "code",
   "execution_count": null,
   "id": "39d3942d",
   "metadata": {},
   "outputs": [],
   "source": [
    "pdf.isnull().any()"
   ]
  },
  {
   "cell_type": "code",
   "execution_count": null,
   "id": "c76986a1",
   "metadata": {
    "scrolled": true
   },
   "outputs": [],
   "source": [
    "#find NaN value in DF Column\n",
    "pdf['work mode'].isnull().any()\n",
    "# find the null value in entire dataframe columns\n",
    "pdf.isnull().any()"
   ]
  },
  {
   "cell_type": "code",
   "execution_count": null,
   "id": "8715f02b",
   "metadata": {},
   "outputs": [],
   "source": [
    "#update NaN value in DF column as needed\n",
    "pdf['id'].fillna(0, inplace=True)\n",
    "pdf.fillna('Missing', inplace=True)\n",
    "pdf"
   ]
  },
  {
   "cell_type": "code",
   "execution_count": null,
   "id": "ba4d68f3",
   "metadata": {},
   "outputs": [],
   "source": [
    "# Series min or max with apply() give you the min/max value of each column from dataset\n",
    "#, since each column in dataset is Series\n",
    "# remember to use the pd.Series which means apply the pandas Series min/max method on dataframe\n",
    "\n",
    "pdf.apply(pd.Series.max)\n",
    "#pdf.replace({'Missing':np.nan, 'None': None, 'na':None, 'NA':None, 'no data': np.nan}, inplace=True)"
   ]
  },
  {
   "cell_type": "code",
   "execution_count": null,
   "id": "d9204052",
   "metadata": {},
   "outputs": [],
   "source": [
    "#Same can be done by using the lambda\n",
    "\n",
    "pdf.apply(lambda x: x.max())"
   ]
  },
  {
   "cell_type": "code",
   "execution_count": null,
   "id": "a56a6cb7",
   "metadata": {},
   "outputs": [],
   "source": [
    "pdf"
   ]
  },
  {
   "cell_type": "code",
   "execution_count": null,
   "id": "b473b132",
   "metadata": {},
   "outputs": [],
   "source": [
    "#change the value for column values we can use replace method\n",
    "#update multiple row column values\n",
    "pdf['lname']= pdf['lname'].replace({'Sharma':'Burk', 'Saurabh':'Kumar'})"
   ]
  },
  {
   "cell_type": "code",
   "execution_count": null,
   "id": "197c8d08",
   "metadata": {
    "scrolled": true
   },
   "outputs": [],
   "source": [
    "pdf.loc[[3,8]]"
   ]
  },
  {
   "cell_type": "markdown",
   "id": "c20ce009",
   "metadata": {},
   "source": [
    "# Change column name or rename column name, use inplace=True to apply the change"
   ]
  },
  {
   "cell_type": "code",
   "execution_count": null,
   "id": "075f3ada",
   "metadata": {
    "scrolled": true
   },
   "outputs": [],
   "source": [
    "#pdf.rename(columns = {'id':'emp_id'}, inplace=True)\n",
    "#update column header name DataFrame.rename(colums = {'existing_name':'new_name'})\n",
    "pdf.rename(columns = {'id':'emp_id'})"
   ]
  },
  {
   "cell_type": "code",
   "execution_count": null,
   "id": "d4137416",
   "metadata": {
    "scrolled": true
   },
   "outputs": [],
   "source": [
    "pdf"
   ]
  },
  {
   "cell_type": "markdown",
   "id": "825b44ff",
   "metadata": {},
   "source": [
    "# Insert and update Records\n",
    "# Handling Null value in Df\n",
    "# dropna(axis=index/columns, how='all/any')\n",
    "all= delete row or column when all values are null\n",
    "any = delete row or column when any value in df is null/NaN"
   ]
  },
  {
   "cell_type": "code",
   "execution_count": null,
   "id": "9e444f62",
   "metadata": {},
   "outputs": [],
   "source": [
    "import numpy as np\n",
    "emp_data = {'fname': ['sample','Jack',np.nan,'Traci','Rosy','Jack','Jhon','NULL','Tom','Raj','Terry'],\n",
    "            'lname': [np.nan,'Foly','NA',np.nan,'NA','jack@email','Dow','Dow','Hanks','Saurabh','Missing'], \n",
    "            'email': [np.nan,'jack.foly@email',None,'traci.saw@email','rosy.burk@email','jack@email','jhon.dow@email.com','jenny.dow@email.com','tom.hanks@email.com','saurabh.raj@email.com','td@email.com'],\n",
    "            'age':[15,10,np.nan,11,23,45,65,43,2,4,None],\n",
    "            'zip':[10001,np.nan,np.nan,np.nan,np.nan,np.nan,np.nan,np.nan,np.nan,np.nan,'NA']\n",
    "           }"
   ]
  },
  {
   "cell_type": "code",
   "execution_count": null,
   "id": "abcc8741",
   "metadata": {},
   "outputs": [],
   "source": [
    "ndf = pd.DataFrame(emp_data)\n",
    "pd.set_option('display.max_rows',12)\n",
    "#display at least 12 rows for all DF its not only for this"
   ]
  },
  {
   "cell_type": "code",
   "execution_count": null,
   "id": "5af085d1",
   "metadata": {
    "scrolled": false
   },
   "outputs": [],
   "source": [
    "ndf\n",
    "#ndf.loc[9]=None"
   ]
  },
  {
   "cell_type": "code",
   "execution_count": null,
   "id": "2ac65202",
   "metadata": {
    "scrolled": true
   },
   "outputs": [],
   "source": [
    "ndf=ndf.append({'full_name':'NAMissing None','fname':'NAKumar','email':'MissingNA@email.com','gender':None}, ignore_index=True)\n",
    "ndf"
   ]
  },
  {
   "cell_type": "code",
   "execution_count": null,
   "id": "31d388fe",
   "metadata": {},
   "outputs": [],
   "source": [
    "ndf = ndf.append({'lname':'Raj','age':15}, ignore_index=True)\n",
    "ndf"
   ]
  },
  {
   "cell_type": "code",
   "execution_count": null,
   "id": "a15f0e69",
   "metadata": {},
   "outputs": [],
   "source": [
    "ndf.dropna(axis='index', how='all', subset=['email','fname'])"
   ]
  },
  {
   "cell_type": "code",
   "execution_count": null,
   "id": "a98f8319",
   "metadata": {},
   "outputs": [],
   "source": [
    "ndf"
   ]
  },
  {
   "cell_type": "code",
   "execution_count": null,
   "id": "ad39231d",
   "metadata": {
    "scrolled": true
   },
   "outputs": [],
   "source": [
    "cond = ndf['email']=='MissingNA@email.com'"
   ]
  },
  {
   "cell_type": "code",
   "execution_count": null,
   "id": "d3a4c739",
   "metadata": {
    "scrolled": false
   },
   "outputs": [],
   "source": [
    "ndf.drop(index=ndf[cond].index)"
   ]
  },
  {
   "cell_type": "code",
   "execution_count": null,
   "id": "fa9b97c7",
   "metadata": {},
   "outputs": [],
   "source": [
    "ndf['email'].replace({'noemp@email.com': 'MissingNA@email.com'}, inplace=True, method='bfill')"
   ]
  },
  {
   "cell_type": "code",
   "execution_count": null,
   "id": "a7146117",
   "metadata": {},
   "outputs": [],
   "source": [
    "ndf"
   ]
  },
  {
   "cell_type": "code",
   "execution_count": null,
   "id": "3b784ab3",
   "metadata": {},
   "outputs": [],
   "source": [
    "ndf.replace({None:'np.nan','Missing':np.nan,None:np.nan})"
   ]
  },
  {
   "cell_type": "code",
   "execution_count": null,
   "id": "657df4ce",
   "metadata": {},
   "outputs": [],
   "source": [
    "#Replace dataset custom null/na/missing values\n",
    "#remember if no dataframe column specified in this case it will search value in all DF columns for replacement\n",
    "\n",
    "ndf.replace({'NA':np.nan, None:np.nan, 'Missing':np.nan})\n",
    "#after reviewing DF changes, use inplace=True to make permanent changes in DF"
   ]
  },
  {
   "cell_type": "markdown",
   "id": "d26cfb71",
   "metadata": {},
   "source": [
    "# here entire zip field is dropped because of how='all' option, with 'any' option all df records will dropped because in df have NaN/None value in each column"
   ]
  },
  {
   "cell_type": "code",
   "execution_count": null,
   "id": "190c882a",
   "metadata": {
    "scrolled": true
   },
   "outputs": [],
   "source": [
    "ndf.dropna(axis='columns', how='all')"
   ]
  },
  {
   "cell_type": "markdown",
   "id": "d9fe65bf",
   "metadata": {},
   "source": [
    "#Conditionally deletion of rows and columns for\n",
    "# Conditon 1 - eg. delete 'na' rows if lname or email is null\n",
    "# here 'HOW\" play important role to drop after evaluating the list of cols in subset if how set to all in this case conditon will evalueate all the subset cols needs to be null to drop from df check Condition 2 "
   ]
  },
  {
   "cell_type": "code",
   "execution_count": null,
   "id": "c0e3f0b2",
   "metadata": {},
   "outputs": [],
   "source": [
    "ndf.dropna(axis='index', how='any', subset=['lname','email'])"
   ]
  },
  {
   "cell_type": "code",
   "execution_count": null,
   "id": "39832277",
   "metadata": {},
   "outputs": [],
   "source": [
    "ndf.replace({'NA':np.nan, 'NULL':np.nan,None:np.nan})"
   ]
  },
  {
   "cell_type": "code",
   "execution_count": null,
   "id": "a5b59a50",
   "metadata": {},
   "outputs": [],
   "source": [
    "ndf"
   ]
  },
  {
   "cell_type": "markdown",
   "id": "918e0e5f",
   "metadata": {},
   "source": [
    "# condition 2 - drop row when lname and email both are missing"
   ]
  },
  {
   "cell_type": "code",
   "execution_count": null,
   "id": "928e77de",
   "metadata": {},
   "outputs": [],
   "source": [
    "ndf.dropna(axis='index', how='all', subset=['lname','email'])\n",
    "# use inplace = True to update the dataframe with your changes"
   ]
  },
  {
   "cell_type": "code",
   "execution_count": null,
   "id": "0a7576d5",
   "metadata": {},
   "outputs": [],
   "source": [
    "# search  NaN value in DF\n",
    "\n",
    "ndf.isna()"
   ]
  },
  {
   "cell_type": "code",
   "execution_count": null,
   "id": "a1b7a2b5",
   "metadata": {},
   "outputs": [],
   "source": [
    "#update NaN value with text or number\n",
    "ndf.fillna(\"missing\")\n",
    "ndf.fillna(-1)"
   ]
  },
  {
   "cell_type": "code",
   "execution_count": null,
   "id": "fcca0fca",
   "metadata": {},
   "outputs": [],
   "source": [
    "#ndf.replace({-1,np.nan}, inplace=True)\n",
    "\n",
    "ndf.dtypes"
   ]
  },
  {
   "cell_type": "markdown",
   "id": "1cc26df5",
   "metadata": {},
   "source": [
    "# convert df column datatype use df[column].astype(float/int)\n",
    "\n",
    "# check df column datatype df.dtype()"
   ]
  },
  {
   "cell_type": "code",
   "execution_count": null,
   "id": "17fa2ba9",
   "metadata": {},
   "outputs": [],
   "source": [
    "#zip column in DF is object type reason being mathmatical function can not be performed\n",
    "#in this case this column need to be cast to int / float to do that, first string or null values need to be handled\n",
    "\n",
    "ndf['zip'].replace({'NA':0}, inplace=True)\n",
    "ndf['zip'].astype(float)"
   ]
  },
  {
   "cell_type": "code",
   "execution_count": null,
   "id": "333909d2",
   "metadata": {
    "scrolled": true
   },
   "outputs": [],
   "source": [
    "ndf['zip'].mean()"
   ]
  },
  {
   "cell_type": "markdown",
   "id": "6022d231",
   "metadata": {},
   "source": [
    "# ADD / Delete column from DataFrame\n"
   ]
  },
  {
   "cell_type": "code",
   "execution_count": null,
   "id": "5526a681",
   "metadata": {},
   "outputs": [],
   "source": [
    "#adding new column full_name\n",
    "\n",
    "ndf['full_name'] = ndf['fname'] +' '+ ndf['lname']"
   ]
  },
  {
   "cell_type": "code",
   "execution_count": null,
   "id": "ccb7f097",
   "metadata": {},
   "outputs": [],
   "source": [
    "# ndf.drop(columns='full_name', inplace=True)\n",
    "ndf"
   ]
  },
  {
   "cell_type": "code",
   "execution_count": null,
   "id": "d0f348d7",
   "metadata": {},
   "outputs": [],
   "source": [
    "#str.split method to re-add fname and lname column in df\n",
    "ndf['full_name'].str.split(' ')"
   ]
  },
  {
   "cell_type": "code",
   "execution_count": null,
   "id": "8533db1f",
   "metadata": {},
   "outputs": [],
   "source": [
    "#this will seperate the value in columns structure that can be addded to df in next \n",
    "ndf[['fname','lname']] = ndf['full_name'].str.split(' ', expand=True)"
   ]
  },
  {
   "cell_type": "code",
   "execution_count": null,
   "id": "563e199d",
   "metadata": {},
   "outputs": [],
   "source": [
    "# Adding Two column in DF\n",
    "ndf[['fname','lname']] = ndf['full_name'].str.split(' ', expand=True)"
   ]
  },
  {
   "cell_type": "code",
   "execution_count": null,
   "id": "19466497",
   "metadata": {},
   "outputs": [],
   "source": [
    "ndf"
   ]
  },
  {
   "cell_type": "code",
   "execution_count": null,
   "id": "cfce0cf1",
   "metadata": {},
   "outputs": [],
   "source": [
    "#add column in df\n",
    "ndf['gender']=np.nan"
   ]
  },
  {
   "cell_type": "code",
   "execution_count": null,
   "id": "02f77196",
   "metadata": {},
   "outputs": [],
   "source": [
    "#add row use df.append(obj, ignore_index=True, sort=False/True)\n",
    "ndf"
   ]
  },
  {
   "cell_type": "code",
   "execution_count": null,
   "id": "de4dcb99",
   "metadata": {},
   "outputs": [],
   "source": [
    "#insert record, Remember to assign the value to DF other wise insert will not take effect\n",
    "\n",
    "ndf = ndf.append({'fname':'Rosy','lname':'Wakeford'}, ignore_index=True)"
   ]
  },
  {
   "cell_type": "code",
   "execution_count": null,
   "id": "73a0c9c8",
   "metadata": {},
   "outputs": [],
   "source": [
    "#this is adding two column in DF\n",
    "ndf1 = ndf\n",
    "ndf1[['gender','full_name']]= [np.nan, ndf1['fname'] + ' ' + ndf1['lname']]"
   ]
  },
  {
   "cell_type": "code",
   "execution_count": null,
   "id": "47e75260",
   "metadata": {
    "scrolled": false
   },
   "outputs": [],
   "source": [
    "ndf"
   ]
  },
  {
   "cell_type": "markdown",
   "id": "9e5c17a2",
   "metadata": {},
   "source": [
    "# Merging dataset adding dataset inserting another dataset to main df"
   ]
  },
  {
   "cell_type": "code",
   "execution_count": null,
   "id": "e8d8d8dd",
   "metadata": {},
   "outputs": [],
   "source": [
    "#adding/combining dataframe \n",
    "#Use one of the DF to include those change otherwise this remain view only, eg. ndf = pd.append(df,ignore_index=True, sort=False)\n",
    "pd.set_option('display.max_rows',33)\n",
    "ndf = ndf.append(ndf1, ignore_index=True, sort=False)"
   ]
  },
  {
   "cell_type": "code",
   "execution_count": null,
   "id": "423a89ec",
   "metadata": {
    "scrolled": true
   },
   "outputs": [],
   "source": [
    "ndf1"
   ]
  },
  {
   "cell_type": "markdown",
   "id": "6232e828",
   "metadata": {},
   "source": [
    "# Drop column"
   ]
  },
  {
   "cell_type": "code",
   "execution_count": null,
   "id": "1a697988",
   "metadata": {},
   "outputs": [],
   "source": [
    "# Drop Columns\n",
    "#drop fname and lname column from dataframe\n",
    "#inplace=True to commit changes to DF\n",
    "\n",
    "ndf.drop(columns = ['lname','fname'], inplace = True)"
   ]
  },
  {
   "cell_type": "code",
   "execution_count": null,
   "id": "79cdf9da",
   "metadata": {},
   "outputs": [],
   "source": [
    "ndf"
   ]
  },
  {
   "cell_type": "markdown",
   "id": "2e6c618c",
   "metadata": {},
   "source": [
    "# Drop Row"
   ]
  },
  {
   "cell_type": "code",
   "execution_count": null,
   "id": "1b904bd6",
   "metadata": {},
   "outputs": [],
   "source": [
    "ndf1.drop(index=7, inplace=True)"
   ]
  },
  {
   "cell_type": "code",
   "execution_count": null,
   "id": "3dcfbac1",
   "metadata": {},
   "outputs": [],
   "source": [
    "# Delete row from Dataframe\n",
    "# axis(0=row, 1=columns) inplace True perform operation DF itself and return none without it return the copy\n",
    "# df_people.drop([1,2,3,9], axis=0)\n",
    "ndf.drop(index=0, inplace=True)"
   ]
  },
  {
   "cell_type": "code",
   "execution_count": null,
   "id": "a04154cf",
   "metadata": {},
   "outputs": [],
   "source": [
    "# 2nd way to use the filter or conditional deletion\n",
    "\n",
    "fi = ndf['lname']=='Wakeford'\n",
    "ndf[fi].index"
   ]
  },
  {
   "cell_type": "code",
   "execution_count": null,
   "id": "5c1fe6cf",
   "metadata": {},
   "outputs": [],
   "source": [
    "ndf.drop(index=ndf[fi].index, inplace=True)"
   ]
  },
  {
   "cell_type": "code",
   "execution_count": null,
   "id": "b0be0422",
   "metadata": {},
   "outputs": [],
   "source": [
    "ndf"
   ]
  },
  {
   "cell_type": "code",
   "execution_count": null,
   "id": "2dceb4b7",
   "metadata": {
    "scrolled": true
   },
   "outputs": [],
   "source": [
    "# Delete column drop column\n",
    "ndf1.drop(columns=['fname','lname'], inplace=True)"
   ]
  },
  {
   "cell_type": "code",
   "execution_count": null,
   "id": "3d417c95",
   "metadata": {
    "scrolled": true
   },
   "outputs": [],
   "source": [
    "ndf1"
   ]
  },
  {
   "cell_type": "code",
   "execution_count": null,
   "id": "3002f437",
   "metadata": {
    "scrolled": false
   },
   "outputs": [],
   "source": [
    "#df_people.loc[df_people['lname']=='jack@email',['lname','email']] =['Son','jack.son@email.com']\n",
    "#df_people['full_name'] = df_people['fname'] + ' ' + df_people['lname']\n",
    "df_people"
   ]
  },
  {
   "cell_type": "markdown",
   "id": "1212b7b5",
   "metadata": {},
   "source": [
    "# Sort data in dataframe - two way sort index or short by column value\n",
    "# use inplace=True to keep sorted data in DF"
   ]
  },
  {
   "cell_type": "code",
   "execution_count": null,
   "id": "4cc66cb3",
   "metadata": {},
   "outputs": [],
   "source": [
    "#sort by Index you can sort in decending by making ascending = True\n",
    "df_people.sort_index(ascending=False)"
   ]
  },
  {
   "cell_type": "code",
   "execution_count": null,
   "id": "59085c5b",
   "metadata": {},
   "outputs": [],
   "source": [
    "#Ascending order is default sort order\n",
    "df_people.sort_values(by=['fname'], ascending=False)"
   ]
  },
  {
   "cell_type": "code",
   "execution_count": null,
   "id": "af81842c",
   "metadata": {},
   "outputs": [],
   "source": [
    "df_people.sort_values(by=['fname','lname'], ascending=False)"
   ]
  },
  {
   "cell_type": "code",
   "execution_count": null,
   "id": "7c9afece",
   "metadata": {
    "scrolled": false
   },
   "outputs": [],
   "source": [
    "#complecate sort on different columns\n",
    "#Use Case - sort first name asceding than lname decending order\n",
    "df_people.sort_values(['fname','lname'], ascending=[False, True])"
   ]
  },
  {
   "cell_type": "code",
   "execution_count": null,
   "id": "ad604a1e",
   "metadata": {},
   "outputs": [],
   "source": [
    "#adding column to DF\n",
    "df_people['salary']=1000"
   ]
  },
  {
   "cell_type": "code",
   "execution_count": null,
   "id": "27bc767b",
   "metadata": {},
   "outputs": [],
   "source": [
    "#updating each column\n",
    "df_people.loc[0,'salary']=3500\n",
    "df_people.loc[7,'salary']=5500"
   ]
  },
  {
   "cell_type": "code",
   "execution_count": null,
   "id": "39eb2644",
   "metadata": {},
   "outputs": [],
   "source": []
  },
  {
   "cell_type": "code",
   "execution_count": null,
   "id": "f6320281",
   "metadata": {},
   "outputs": [],
   "source": [
    "df_people.reset_index(inplace=True)\n",
    "df_people['salary']= (df_people['salary'] * df_people['salary'].index) "
   ]
  },
  {
   "cell_type": "code",
   "execution_count": null,
   "id": "7265de91",
   "metadata": {},
   "outputs": [],
   "source": [
    "df_people.sort_values('salary')"
   ]
  },
  {
   "cell_type": "code",
   "execution_count": null,
   "id": "69d8a199",
   "metadata": {},
   "outputs": [],
   "source": [
    "df_people['salary'].nlargest(5)"
   ]
  },
  {
   "cell_type": "code",
   "execution_count": null,
   "id": "ab26c420",
   "metadata": {},
   "outputs": [],
   "source": [
    "#top and bottom 5 rows\n",
    "top5_sal_df = df_people.loc[df_people['salary'].nlargest(5).index]\n",
    "df_people.loc[df_people['salary'].nlargest(5).index]\n"
   ]
  },
  {
   "cell_type": "code",
   "execution_count": null,
   "id": "30ab755f",
   "metadata": {},
   "outputs": [],
   "source": [
    "# bottom 5 salary\n",
    "# df_people['salary'].nsmallest(5).index.max()\n",
    "\n",
    "low5_sal_df = df_people.loc[df_people['salary'].nsmallest(5).index]\n",
    "df_people.loc[df_people['salary'].nsmallest(5).index]"
   ]
  },
  {
   "cell_type": "code",
   "execution_count": null,
   "id": "26687cfa",
   "metadata": {},
   "outputs": [],
   "source": [
    "newdf = pd.concat([top5_sal_df, low5_sal_df], ignore_index=False)\n",
    "newdf\n",
    "# newdf.reset_index()"
   ]
  },
  {
   "cell_type": "code",
   "execution_count": null,
   "id": "18685594",
   "metadata": {
    "scrolled": true
   },
   "outputs": [],
   "source": [
    "#complete dataset with top and bottom 5\n",
    "\n",
    "df_people.nlargest(5, 'salary')"
   ]
  },
  {
   "cell_type": "code",
   "execution_count": null,
   "id": "1af2aeef",
   "metadata": {
    "scrolled": true
   },
   "outputs": [],
   "source": [
    "df_people.nsmallest(5, 'salary')"
   ]
  },
  {
   "cell_type": "markdown",
   "id": "52c71b57",
   "metadata": {},
   "source": [
    "# Grouping and Aggregation\n",
    "## you may see the KeyError: ('India', 'cxw') if any of key value doesn't exists in DF grp\n"
   ]
  },
  {
   "cell_type": "code",
   "execution_count": null,
   "id": "59c13d96",
   "metadata": {},
   "outputs": [],
   "source": [
    "df_people['salary'].median()"
   ]
  },
  {
   "cell_type": "code",
   "execution_count": null,
   "id": "3847352a",
   "metadata": {},
   "outputs": [],
   "source": [
    "df_people"
   ]
  },
  {
   "cell_type": "code",
   "execution_count": null,
   "id": "8aa80123",
   "metadata": {},
   "outputs": [],
   "source": [
    "df_people.sort_values(by=['fname','country'], ascending=[True,False])"
   ]
  },
  {
   "cell_type": "code",
   "execution_count": null,
   "id": "38e727b2",
   "metadata": {
    "scrolled": true
   },
   "outputs": [],
   "source": [
    "#default sorting order is ascending, if you want to sort values by decending use ('salary', ascending=False)\n",
    "df_people.sort_values('salary', ascending=False)"
   ]
  },
  {
   "cell_type": "code",
   "execution_count": null,
   "id": "37248346",
   "metadata": {},
   "outputs": [],
   "source": [
    "#merged_df = ndf.append(df_people, ignore_index=True)"
   ]
  },
  {
   "cell_type": "code",
   "execution_count": null,
   "id": "0229ca6d",
   "metadata": {
    "scrolled": true
   },
   "outputs": [],
   "source": [
    "df_people['salary'].median()\n",
    "# df_people"
   ]
  },
  {
   "cell_type": "code",
   "execution_count": null,
   "id": "1b75b790",
   "metadata": {
    "scrolled": true
   },
   "outputs": [],
   "source": [
    "fil = df_people['country']=='USA'\n",
    "df_people.loc[fil, ['emp_type','salary']].value_counts()"
   ]
  },
  {
   "cell_type": "code",
   "execution_count": null,
   "id": "d331a8e5",
   "metadata": {},
   "outputs": [],
   "source": [
    "grp_country = df_people.groupby(['country'])\n",
    "# df_grp = df_people.groupby(['country','emp_type'])"
   ]
  },
  {
   "cell_type": "code",
   "execution_count": null,
   "id": "e8ec98f0",
   "metadata": {},
   "outputs": [],
   "source": [
    "df_grp['salary'].value_counts().loc[['India'],['Emp']]\n",
    "# df_grp['dept'].value_counts().loc[['USA'],['Emp']]"
   ]
  },
  {
   "cell_type": "code",
   "execution_count": null,
   "id": "8bd4ba49",
   "metadata": {},
   "outputs": [],
   "source": [
    "df_people[(df_people['country']=='India') & (df_people['emp_type']=='Emp')].value_counts(df_people['salary'])"
   ]
  },
  {
   "cell_type": "code",
   "execution_count": null,
   "id": "bad69a23",
   "metadata": {
    "scrolled": true
   },
   "outputs": [],
   "source": [
    "df_grp['dept'].value_counts().loc[['USA'],['cwx']]"
   ]
  },
  {
   "cell_type": "markdown",
   "id": "14d04a01",
   "metadata": {},
   "source": [
    "# Multiple countries in groupby multiple choice"
   ]
  },
  {
   "cell_type": "code",
   "execution_count": null,
   "id": "b82f53d5",
   "metadata": {},
   "outputs": [],
   "source": [
    "df_grp['dept'].value_counts().loc[['India','USA'],['Emp','cwx']]"
   ]
  },
  {
   "cell_type": "code",
   "execution_count": null,
   "id": "12cfac56",
   "metadata": {},
   "outputs": [],
   "source": [
    "df_grp['emp_type'].value_counts().loc[['UK'],['Emp']]"
   ]
  },
  {
   "cell_type": "code",
   "execution_count": null,
   "id": "8ebd7ead",
   "metadata": {},
   "outputs": [],
   "source": [
    "# df_grp.get_group(('USA','Emp'))\n",
    "df_grp.get_group(('India','Emp'))"
   ]
  },
  {
   "cell_type": "code",
   "execution_count": null,
   "id": "ab9194b0",
   "metadata": {
    "scrolled": true
   },
   "outputs": [],
   "source": [
    "df_grp[['work mode', 'email']].value_counts().loc['India']\n",
    "df_grp[['work mode', 'email']].value_counts().loc[['USA']]"
   ]
  },
  {
   "cell_type": "code",
   "execution_count": null,
   "id": "02cff99e",
   "metadata": {
    "scrolled": false
   },
   "outputs": [],
   "source": [
    "#country, emp_type column become index when df_grp was created for groupby country, emp_type\n",
    "#you can created partition the df for one column by grouping country\n",
    "df_grp['salary'].mean().loc[['India','USA']]\n",
    "df_grp['dept',''].value_counts().loc[['India','USA']]"
   ]
  },
  {
   "cell_type": "code",
   "execution_count": null,
   "id": "b5c5f66b",
   "metadata": {},
   "outputs": [],
   "source": [
    "df_grp['salary'].value_counts().loc[['India','USA']]"
   ]
  },
  {
   "cell_type": "code",
   "execution_count": null,
   "id": "8ba8712d",
   "metadata": {},
   "outputs": [],
   "source": [
    "df_grp['salary'].mean().loc[['India','USA']]"
   ]
  },
  {
   "cell_type": "code",
   "execution_count": null,
   "id": "8d46770d",
   "metadata": {},
   "outputs": [],
   "source": [
    "grp_country = df_people.groupby(df_people['country'])"
   ]
  },
  {
   "cell_type": "code",
   "execution_count": null,
   "id": "6a54f659",
   "metadata": {},
   "outputs": [],
   "source": [
    "grp_country.get_group('USA')"
   ]
  },
  {
   "cell_type": "code",
   "execution_count": null,
   "id": "c618b271",
   "metadata": {},
   "outputs": [],
   "source": [
    "grp_country.get_group('USA').median()"
   ]
  },
  {
   "cell_type": "code",
   "execution_count": null,
   "id": "2d06a370",
   "metadata": {},
   "outputs": [],
   "source": [
    "grp_country.get_group('USA').sum()#"
   ]
  },
  {
   "cell_type": "code",
   "execution_count": null,
   "id": "b54c3ada",
   "metadata": {
    "scrolled": true
   },
   "outputs": [],
   "source": [
    "grp_country['salary'].mean().loc[['USA', 'India']]"
   ]
  },
  {
   "cell_type": "code",
   "execution_count": null,
   "id": "e21cfc9e",
   "metadata": {},
   "outputs": [],
   "source": [
    "#multiple statics\n",
    "\n",
    "\n",
    "d = grp_country['salary'].agg(['mean','median','min','max']).loc[['India','USA','Canada']]"
   ]
  },
  {
   "cell_type": "code",
   "execution_count": null,
   "id": "f75c5a3f",
   "metadata": {
    "scrolled": true
   },
   "outputs": [],
   "source": [
    "type(d)\n",
    "d"
   ]
  },
  {
   "cell_type": "code",
   "execution_count": null,
   "id": "502b3e69",
   "metadata": {
    "scrolled": true
   },
   "outputs": [],
   "source": [
    "pd.set_option('display.max_columns',25)\n",
    "grp_country.describe()"
   ]
  },
  {
   "cell_type": "code",
   "execution_count": null,
   "id": "3a31ba14",
   "metadata": {},
   "outputs": [],
   "source": [
    "df_people"
   ]
  },
  {
   "cell_type": "code",
   "execution_count": null,
   "id": "46147207",
   "metadata": {
    "scrolled": true
   },
   "outputs": [],
   "source": [
    "df_people.drop(columns='level_0', inplace=True)"
   ]
  },
  {
   "cell_type": "code",
   "execution_count": null,
   "id": "59eb3e25",
   "metadata": {},
   "outputs": [],
   "source": [
    "#Find people know swiss?\n",
    "# lf = df_people['language'].str.contains('Hindi')\n",
    "df_people[df_people['language'].str.contains('Hindi')]"
   ]
  },
  {
   "cell_type": "code",
   "execution_count": null,
   "id": "bcd4d600",
   "metadata": {},
   "outputs": [],
   "source": [
    "#df_people[df_people['language'].str.contains('Hindi')]\n",
    "#df_people.drop(columns='index',inplace=True)\n",
    "#df_people.reset_index(inplace=True)\n",
    "#df_people.drop(index=11, inplace=True)\n",
    "#df_people.drop(index=10, inplace=True)\n",
    "df_people.loc[df_people['language'].str.contains('Swiss')]"
   ]
  },
  {
   "cell_type": "code",
   "execution_count": null,
   "id": "a69ce6e8",
   "metadata": {},
   "outputs": [],
   "source": [
    "#total number of emp by country\n",
    "\n",
    "tot_emp = df_people['country'].value_counts()"
   ]
  },
  {
   "cell_type": "code",
   "execution_count": null,
   "id": "a70a1fc6",
   "metadata": {},
   "outputs": [],
   "source": [
    "tot_emp"
   ]
  },
  {
   "cell_type": "code",
   "execution_count": null,
   "id": "f112f86c",
   "metadata": {},
   "outputs": [],
   "source": [
    "#create group by country\n",
    "lang_grp = df_people.groupby('country')"
   ]
  },
  {
   "cell_type": "code",
   "execution_count": null,
   "id": "163ca331",
   "metadata": {},
   "outputs": [],
   "source": [
    "# this gives us the count of the column in group with its values\n",
    "lang_grp['language'].value_counts()\n",
    "# this count the occurance of column itsself without creating new column for count including T|F\n",
    "lang_grp['language'].apply(lambda x: x.str.contains('Hindi').count())"
   ]
  },
  {
   "cell_type": "markdown",
   "id": "7814d6b2",
   "metadata": {},
   "source": [
    "# sum add the the bool True value where count count the bool value irrespective to T|F as we can see in above example"
   ]
  },
  {
   "cell_type": "code",
   "execution_count": null,
   "id": "b153fcc1",
   "metadata": {},
   "outputs": [],
   "source": [
    "lang_grp['language'].apply(lambda x: x.str.contains('Hindi').sum())\n",
    "#you will get true or false for country have language in condition and sum is the function to add the bool true value"
   ]
  },
  {
   "cell_type": "markdown",
   "id": "9c56db40",
   "metadata": {},
   "source": [
    "# For string column it will add the value like 'EmpEmp'"
   ]
  },
  {
   "cell_type": "code",
   "execution_count": null,
   "id": "a689e9f2",
   "metadata": {},
   "outputs": [],
   "source": [
    "\n",
    "lang_grp['salary'].sum().loc['India']"
   ]
  },
  {
   "cell_type": "code",
   "execution_count": null,
   "id": "fa74af64",
   "metadata": {},
   "outputs": [],
   "source": [
    "#creating series with result sum addup True value as False is not considered to sum\n",
    "lang = lang_grp['language'].apply(lambda x: x.str.contains('Hindi').sum())\n",
    "lang"
   ]
  },
  {
   "cell_type": "code",
   "execution_count": null,
   "id": "4a02b1ab",
   "metadata": {},
   "outputs": [],
   "source": [
    "# df_people['language'].apply(lambda x: x.str.contains('Hindi').sum())\n",
    "# lang_grp['language'].value_counts()\n",
    "df_people.loc[df_people['language'].str.contains('Hindi'),'country']"
   ]
  },
  {
   "cell_type": "code",
   "execution_count": null,
   "id": "b709b54d",
   "metadata": {},
   "outputs": [],
   "source": [
    "comp_df = pd.concat([tot_emp,lang], axis=True, sort=False)\n",
    "#hin"
   ]
  },
  {
   "cell_type": "code",
   "execution_count": 21,
   "id": "a1d68d67",
   "metadata": {},
   "outputs": [
    {
     "ename": "NameError",
     "evalue": "name 'comp_df' is not defined",
     "output_type": "error",
     "traceback": [
      "\u001b[0;31m---------------------------------------------------------------------------\u001b[0m",
      "\u001b[0;31mNameError\u001b[0m                                 Traceback (most recent call last)",
      "Cell \u001b[0;32mIn [21], line 1\u001b[0m\n\u001b[0;32m----> 1\u001b[0m comp_df\n",
      "\u001b[0;31mNameError\u001b[0m: name 'comp_df' is not defined"
     ]
    }
   ],
   "source": [
    "comp_df"
   ]
  },
  {
   "cell_type": "code",
   "execution_count": 22,
   "id": "4bd94358",
   "metadata": {},
   "outputs": [
    {
     "ename": "NameError",
     "evalue": "name 'df_people' is not defined",
     "output_type": "error",
     "traceback": [
      "\u001b[0;31m---------------------------------------------------------------------------\u001b[0m",
      "\u001b[0;31mNameError\u001b[0m                                 Traceback (most recent call last)",
      "Cell \u001b[0;32mIn [22], line 1\u001b[0m\n\u001b[0;32m----> 1\u001b[0m df_people\n",
      "\u001b[0;31mNameError\u001b[0m: name 'df_people' is not defined"
     ]
    }
   ],
   "source": [
    "df_people"
   ]
  },
  {
   "cell_type": "code",
   "execution_count": null,
   "id": "5d546811",
   "metadata": {
    "scrolled": false
   },
   "outputs": [],
   "source": [
    "fil = df_people.loc[df_people['language'].str.contains('Hindi'), 'country'].value_counts()\n",
    "fil\n"
   ]
  },
  {
   "cell_type": "code",
   "execution_count": null,
   "id": "dc1d492d",
   "metadata": {},
   "outputs": [],
   "source": [
    "mydf = pd.concat([tot_emp,fil], axis=True, sort=False)\n",
    "mydf"
   ]
  },
  {
   "cell_type": "code",
   "execution_count": null,
   "id": "300f7b07",
   "metadata": {},
   "outputs": [],
   "source": [
    "mydf.columns"
   ]
  },
  {
   "cell_type": "code",
   "execution_count": null,
   "id": "6f90df68",
   "metadata": {},
   "outputs": [],
   "source": [
    "comp_df['%HindiSpeaker'] = (comp_df['language']/comp_df['country'])*100"
   ]
  },
  {
   "cell_type": "code",
   "execution_count": null,
   "id": "307db247",
   "metadata": {},
   "outputs": [],
   "source": [
    "comp_df"
   ]
  },
  {
   "cell_type": "code",
   "execution_count": null,
   "id": "21dbe09d",
   "metadata": {},
   "outputs": [],
   "source": [
    "df_people['country'].value_counts(normalize=True)"
   ]
  },
  {
   "cell_type": "code",
   "execution_count": null,
   "id": "6dc8eaa6",
   "metadata": {},
   "outputs": [],
   "source": []
  },
  {
   "cell_type": "code",
   "execution_count": null,
   "id": "853cf2dd",
   "metadata": {
    "scrolled": true
   },
   "outputs": [],
   "source": [
    "lang_grp[['emp_type']].value_counts()"
   ]
  },
  {
   "cell_type": "markdown",
   "id": "68a2c08e",
   "metadata": {},
   "source": [
    "# Merge DataFrame \n",
    "options to merge dataframe horizontilly or vertically\n",
    "option1 - use pd.concat and use the axis how to merge (0- rows, 1-column side by side)\n",
    "Option2- only to append df to anohter df use append()method\n",
    "\n",
    "# ignore_index (axis=0 is row and 1 is column)\n",
    "ignore_index=(True/False) decide whether to ignore record index(True - follow the panda index) (False - follow the record original index)\n",
    "Default is row and ignore_index=True means ignore the merging record index and follow the df index\n",
    "# Merging dataframe at column level ignore index also work same whether ignore the records index or not "
   ]
  },
  {
   "cell_type": "code",
   "execution_count": null,
   "id": "4dccc13d",
   "metadata": {},
   "outputs": [],
   "source": [
    "import pandas as pd\n",
    "import numpy as np"
   ]
  },
  {
   "cell_type": "code",
   "execution_count": null,
   "id": "bfae73c6",
   "metadata": {},
   "outputs": [],
   "source": [
    "df1 = pd.DataFrame(\n",
    "{\n",
    "    'A':['A0','B0','C0'],\n",
    "    'B':['A1','B1','C1'],\n",
    "    'C':['A2','B2','C2']\n",
    "}, index=[2,4,6])\n",
    "\n",
    "df2 = pd.DataFrame(\n",
    "{\n",
    "    'E':['E0','E0','E0'],\n",
    "    'F':['E1','E1','E1'],\n",
    "    'G':['E2','E2','E2']\n",
    "}, index=[1,3,5])\n",
    "\n",
    "df3 = pd.DataFrame(\n",
    "{\n",
    "    'E':['E0','E0','E0'],\n",
    "    'F':['E1','E1','E1'],\n",
    "    'G':['E2','E2','E2']\n",
    "}, index=[5,8,7])"
   ]
  },
  {
   "cell_type": "code",
   "execution_count": null,
   "id": "261d9c1f",
   "metadata": {
    "scrolled": true
   },
   "outputs": [],
   "source": [
    "df1"
   ]
  },
  {
   "cell_type": "code",
   "execution_count": null,
   "id": "244b3b3a",
   "metadata": {},
   "outputs": [],
   "source": [
    "df2"
   ]
  },
  {
   "cell_type": "code",
   "execution_count": null,
   "id": "29b2c17b",
   "metadata": {},
   "outputs": [],
   "source": [
    "df3"
   ]
  },
  {
   "cell_type": "code",
   "execution_count": null,
   "id": "bde70216",
   "metadata": {},
   "outputs": [],
   "source": []
  },
  {
   "cell_type": "code",
   "execution_count": null,
   "id": "a740e4e9",
   "metadata": {
    "scrolled": false
   },
   "outputs": [],
   "source": [
    "#ignore_index (False - keep the original index value) and (True - will reset to default index [start from 0])\n",
    "df2.append(df3, ignore_index=False)"
   ]
  },
  {
   "cell_type": "code",
   "execution_count": null,
   "id": "913bf5e9",
   "metadata": {},
   "outputs": [],
   "source": [
    "#concat resule same as append\n",
    "df = pd.concat([df1,df2,df3], ignore_index=False, sort=False, axis=True)"
   ]
  },
  {
   "cell_type": "code",
   "execution_count": null,
   "id": "f6f465f5",
   "metadata": {
    "scrolled": true
   },
   "outputs": [],
   "source": [
    "df"
   ]
  },
  {
   "cell_type": "markdown",
   "id": "28b90de5",
   "metadata": {},
   "source": [
    "Merge dataframe side by side - two data set at column side by side not append"
   ]
  },
  {
   "cell_type": "code",
   "execution_count": null,
   "id": "529f61c2",
   "metadata": {},
   "outputs": [],
   "source": [
    "df2 = pd.concat([df1,df2,df3], ignore_index=False, sort=False, axis=False)"
   ]
  },
  {
   "cell_type": "code",
   "execution_count": null,
   "id": "6114fe9a",
   "metadata": {},
   "outputs": [],
   "source": [
    "df2"
   ]
  },
  {
   "cell_type": "markdown",
   "id": "ccace6a2",
   "metadata": {},
   "source": [
    "# Find duplicate index in dataframe"
   ]
  },
  {
   "cell_type": "code",
   "execution_count": null,
   "id": "e23d2968",
   "metadata": {},
   "outputs": [],
   "source": [
    "df.loc[(df.index.value_counts() >1) ==True].index"
   ]
  },
  {
   "cell_type": "code",
   "execution_count": null,
   "id": "931b18b0",
   "metadata": {},
   "outputs": [],
   "source": [
    "df.loc[(df.index.value_counts() >1) ==True]"
   ]
  },
  {
   "cell_type": "code",
   "execution_count": null,
   "id": "3f508b60",
   "metadata": {},
   "outputs": [],
   "source": []
  }
 ],
 "metadata": {
  "kernelspec": {
   "display_name": "Python 3 (ipykernel)",
   "language": "python",
   "name": "python3"
  },
  "language_info": {
   "codemirror_mode": {
    "name": "ipython",
    "version": 3
   },
   "file_extension": ".py",
   "mimetype": "text/x-python",
   "name": "python",
   "nbconvert_exporter": "python",
   "pygments_lexer": "ipython3",
   "version": "3.10.4"
  }
 },
 "nbformat": 4,
 "nbformat_minor": 5
}
