{
 "cells": [
  {
   "cell_type": "code",
   "execution_count": 90,
   "id": "e11b390c",
   "metadata": {},
   "outputs": [],
   "source": [
    "import pandas as pd"
   ]
  },
  {
   "cell_type": "markdown",
   "id": "55e35102",
   "metadata": {},
   "source": [
    "Importing CSV data"
   ]
  },
  {
   "cell_type": "code",
   "execution_count": 2,
   "id": "638fe3ab",
   "metadata": {},
   "outputs": [],
   "source": [
    "df = pd.read_csv('survey_results_public.csv')\n",
    "\n",
    "df_survey = pd.read_csv('survey_results_schema.csv')\n",
    "#df = pd.read_csv('survey_results_schema.csv')"
   ]
  },
  {
   "cell_type": "code",
   "execution_count": 323,
   "id": "576a6b97",
   "metadata": {
    "scrolled": true
   },
   "outputs": [
    {
     "data": {
      "text/html": [
       "<div>\n",
       "<style scoped>\n",
       "    .dataframe tbody tr th:only-of-type {\n",
       "        vertical-align: middle;\n",
       "    }\n",
       "\n",
       "    .dataframe tbody tr th {\n",
       "        vertical-align: top;\n",
       "    }\n",
       "\n",
       "    .dataframe thead th {\n",
       "        text-align: right;\n",
       "    }\n",
       "</style>\n",
       "<table border=\"1\" class=\"dataframe\">\n",
       "  <thead>\n",
       "    <tr style=\"text-align: right;\">\n",
       "      <th></th>\n",
       "      <th>ResponseId</th>\n",
       "      <th>MainBranch</th>\n",
       "      <th>Employment</th>\n",
       "      <th>RemoteWork</th>\n",
       "      <th>CodingActivities</th>\n",
       "      <th>EdLevel</th>\n",
       "      <th>LearnCode</th>\n",
       "      <th>LearnCodeOnline</th>\n",
       "      <th>LearnCodeCoursesCert</th>\n",
       "      <th>YearsCode</th>\n",
       "      <th>YearsCodePro</th>\n",
       "      <th>DevType</th>\n",
       "      <th>...</th>\n",
       "      <th>Frequency_2</th>\n",
       "      <th>Frequency_3</th>\n",
       "      <th>TimeSearching</th>\n",
       "      <th>TimeAnswering</th>\n",
       "      <th>Onboarding</th>\n",
       "      <th>ProfessionalTech</th>\n",
       "      <th>TrueFalse_1</th>\n",
       "      <th>TrueFalse_2</th>\n",
       "      <th>TrueFalse_3</th>\n",
       "      <th>SurveyLength</th>\n",
       "      <th>SurveyEase</th>\n",
       "      <th>ConvertedCompYearly</th>\n",
       "    </tr>\n",
       "  </thead>\n",
       "  <tbody>\n",
       "    <tr>\n",
       "      <th>0</th>\n",
       "      <td>1</td>\n",
       "      <td>None of these</td>\n",
       "      <td>NaN</td>\n",
       "      <td>NaN</td>\n",
       "      <td>NaN</td>\n",
       "      <td>NaN</td>\n",
       "      <td>NaN</td>\n",
       "      <td>NaN</td>\n",
       "      <td>NaN</td>\n",
       "      <td>NaN</td>\n",
       "      <td>NaN</td>\n",
       "      <td>NaN</td>\n",
       "      <td>...</td>\n",
       "      <td>NaN</td>\n",
       "      <td>NaN</td>\n",
       "      <td>NaN</td>\n",
       "      <td>NaN</td>\n",
       "      <td>NaN</td>\n",
       "      <td>NaN</td>\n",
       "      <td>NaN</td>\n",
       "      <td>NaN</td>\n",
       "      <td>NaN</td>\n",
       "      <td>NaN</td>\n",
       "      <td>NaN</td>\n",
       "      <td>NaN</td>\n",
       "    </tr>\n",
       "    <tr>\n",
       "      <th>1</th>\n",
       "      <td>2</td>\n",
       "      <td>I am a developer by profession</td>\n",
       "      <td>Employed, full-time</td>\n",
       "      <td>Fully remote</td>\n",
       "      <td>Hobby;Contribute to open-source projects</td>\n",
       "      <td>NaN</td>\n",
       "      <td>NaN</td>\n",
       "      <td>NaN</td>\n",
       "      <td>NaN</td>\n",
       "      <td>NaN</td>\n",
       "      <td>NaN</td>\n",
       "      <td>NaN</td>\n",
       "      <td>...</td>\n",
       "      <td>NaN</td>\n",
       "      <td>NaN</td>\n",
       "      <td>NaN</td>\n",
       "      <td>NaN</td>\n",
       "      <td>NaN</td>\n",
       "      <td>NaN</td>\n",
       "      <td>NaN</td>\n",
       "      <td>NaN</td>\n",
       "      <td>NaN</td>\n",
       "      <td>Too long</td>\n",
       "      <td>Difficult</td>\n",
       "      <td>NaN</td>\n",
       "    </tr>\n",
       "    <tr>\n",
       "      <th>2</th>\n",
       "      <td>3</td>\n",
       "      <td>I am not primarily a developer, but I write co...</td>\n",
       "      <td>Employed, full-time</td>\n",
       "      <td>Hybrid (some remote, some in-person)</td>\n",
       "      <td>Hobby</td>\n",
       "      <td>Master’s degree (M.A., M.S., M.Eng., MBA, etc.)</td>\n",
       "      <td>Books / Physical media;Friend or family member...</td>\n",
       "      <td>Technical documentation;Blogs;Programming Game...</td>\n",
       "      <td>NaN</td>\n",
       "      <td>14</td>\n",
       "      <td>5</td>\n",
       "      <td>Data scientist or machine learning specialist;...</td>\n",
       "      <td>...</td>\n",
       "      <td>NaN</td>\n",
       "      <td>NaN</td>\n",
       "      <td>NaN</td>\n",
       "      <td>NaN</td>\n",
       "      <td>NaN</td>\n",
       "      <td>NaN</td>\n",
       "      <td>NaN</td>\n",
       "      <td>NaN</td>\n",
       "      <td>NaN</td>\n",
       "      <td>Appropriate in length</td>\n",
       "      <td>Neither easy nor difficult</td>\n",
       "      <td>40205.0</td>\n",
       "    </tr>\n",
       "    <tr>\n",
       "      <th>3</th>\n",
       "      <td>4</td>\n",
       "      <td>I am a developer by profession</td>\n",
       "      <td>Employed, full-time</td>\n",
       "      <td>Fully remote</td>\n",
       "      <td>I don’t code outside of work</td>\n",
       "      <td>Bachelor’s degree (B.A., B.S., B.Eng., etc.)</td>\n",
       "      <td>Books / Physical media;School (i.e., Universit...</td>\n",
       "      <td>NaN</td>\n",
       "      <td>NaN</td>\n",
       "      <td>20</td>\n",
       "      <td>17</td>\n",
       "      <td>Developer, full-stack</td>\n",
       "      <td>...</td>\n",
       "      <td>NaN</td>\n",
       "      <td>NaN</td>\n",
       "      <td>NaN</td>\n",
       "      <td>NaN</td>\n",
       "      <td>NaN</td>\n",
       "      <td>NaN</td>\n",
       "      <td>NaN</td>\n",
       "      <td>NaN</td>\n",
       "      <td>NaN</td>\n",
       "      <td>Appropriate in length</td>\n",
       "      <td>Easy</td>\n",
       "      <td>215232.0</td>\n",
       "    </tr>\n",
       "    <tr>\n",
       "      <th>4</th>\n",
       "      <td>5</td>\n",
       "      <td>I am a developer by profession</td>\n",
       "      <td>Employed, full-time</td>\n",
       "      <td>Hybrid (some remote, some in-person)</td>\n",
       "      <td>Hobby</td>\n",
       "      <td>Bachelor’s degree (B.A., B.S., B.Eng., etc.)</td>\n",
       "      <td>Other online resources (e.g., videos, blogs, f...</td>\n",
       "      <td>Technical documentation;Blogs;Stack Overflow;O...</td>\n",
       "      <td>NaN</td>\n",
       "      <td>8</td>\n",
       "      <td>3</td>\n",
       "      <td>Developer, front-end;Developer, full-stack;Dev...</td>\n",
       "      <td>...</td>\n",
       "      <td>NaN</td>\n",
       "      <td>NaN</td>\n",
       "      <td>NaN</td>\n",
       "      <td>NaN</td>\n",
       "      <td>NaN</td>\n",
       "      <td>NaN</td>\n",
       "      <td>NaN</td>\n",
       "      <td>NaN</td>\n",
       "      <td>NaN</td>\n",
       "      <td>Too long</td>\n",
       "      <td>Easy</td>\n",
       "      <td>NaN</td>\n",
       "    </tr>\n",
       "    <tr>\n",
       "      <th>...</th>\n",
       "      <td>...</td>\n",
       "      <td>...</td>\n",
       "      <td>...</td>\n",
       "      <td>...</td>\n",
       "      <td>...</td>\n",
       "      <td>...</td>\n",
       "      <td>...</td>\n",
       "      <td>...</td>\n",
       "      <td>...</td>\n",
       "      <td>...</td>\n",
       "      <td>...</td>\n",
       "      <td>...</td>\n",
       "      <td>...</td>\n",
       "      <td>...</td>\n",
       "      <td>...</td>\n",
       "      <td>...</td>\n",
       "      <td>...</td>\n",
       "      <td>...</td>\n",
       "      <td>...</td>\n",
       "      <td>...</td>\n",
       "      <td>...</td>\n",
       "      <td>...</td>\n",
       "      <td>...</td>\n",
       "      <td>...</td>\n",
       "      <td>...</td>\n",
       "    </tr>\n",
       "    <tr>\n",
       "      <th>73263</th>\n",
       "      <td>73264</td>\n",
       "      <td>I am a developer by profession</td>\n",
       "      <td>Employed, full-time</td>\n",
       "      <td>Fully remote</td>\n",
       "      <td>Freelance/contract work</td>\n",
       "      <td>Bachelor’s degree (B.A., B.S., B.Eng., etc.)</td>\n",
       "      <td>Books / Physical media;Other online resources ...</td>\n",
       "      <td>Technical documentation;Blogs;Written Tutorial...</td>\n",
       "      <td>Udemy</td>\n",
       "      <td>8</td>\n",
       "      <td>5</td>\n",
       "      <td>Developer, back-end</td>\n",
       "      <td>...</td>\n",
       "      <td>Never</td>\n",
       "      <td>Never</td>\n",
       "      <td>30-60 minutes a day</td>\n",
       "      <td>Less than 15 minutes a day</td>\n",
       "      <td>Just right</td>\n",
       "      <td>DevOps function;Microservices;Developer portal...</td>\n",
       "      <td>Yes</td>\n",
       "      <td>Yes</td>\n",
       "      <td>Yes</td>\n",
       "      <td>Too long</td>\n",
       "      <td>Easy</td>\n",
       "      <td>NaN</td>\n",
       "    </tr>\n",
       "    <tr>\n",
       "      <th>73264</th>\n",
       "      <td>73265</td>\n",
       "      <td>I am a developer by profession</td>\n",
       "      <td>Employed, full-time</td>\n",
       "      <td>Full in-person</td>\n",
       "      <td>Hobby</td>\n",
       "      <td>Master’s degree (M.A., M.S., M.Eng., MBA, etc.)</td>\n",
       "      <td>Other online resources (e.g., videos, blogs, f...</td>\n",
       "      <td>Technical documentation;Blogs;Written Tutorial...</td>\n",
       "      <td>Coursera;Udemy;Udacity</td>\n",
       "      <td>6</td>\n",
       "      <td>5</td>\n",
       "      <td>Data scientist or machine learning specialist</td>\n",
       "      <td>...</td>\n",
       "      <td>6-10 times a week</td>\n",
       "      <td>10+ times a week</td>\n",
       "      <td>15-30 minutes a day</td>\n",
       "      <td>60-120 minutes a day</td>\n",
       "      <td>Very long</td>\n",
       "      <td>None of these</td>\n",
       "      <td>No</td>\n",
       "      <td>Yes</td>\n",
       "      <td>Yes</td>\n",
       "      <td>Too long</td>\n",
       "      <td>Easy</td>\n",
       "      <td>NaN</td>\n",
       "    </tr>\n",
       "    <tr>\n",
       "      <th>73265</th>\n",
       "      <td>73266</td>\n",
       "      <td>I am not primarily a developer, but I write co...</td>\n",
       "      <td>Employed, full-time</td>\n",
       "      <td>Hybrid (some remote, some in-person)</td>\n",
       "      <td>Hobby;School or academic work</td>\n",
       "      <td>Bachelor’s degree (B.A., B.S., B.Eng., etc.)</td>\n",
       "      <td>Books / Physical media;Other online resources ...</td>\n",
       "      <td>Technical documentation;Programming Games;Stac...</td>\n",
       "      <td>Udemy;Codecademy;Pluralsight;edX</td>\n",
       "      <td>42</td>\n",
       "      <td>33</td>\n",
       "      <td>Developer, full-stack;Developer, desktop or en...</td>\n",
       "      <td>...</td>\n",
       "      <td>Never</td>\n",
       "      <td>Never</td>\n",
       "      <td>30-60 minutes a day</td>\n",
       "      <td>60-120 minutes a day</td>\n",
       "      <td>Just right</td>\n",
       "      <td>None of these</td>\n",
       "      <td>No</td>\n",
       "      <td>No</td>\n",
       "      <td>No</td>\n",
       "      <td>Appropriate in length</td>\n",
       "      <td>Easy</td>\n",
       "      <td>NaN</td>\n",
       "    </tr>\n",
       "    <tr>\n",
       "      <th>73266</th>\n",
       "      <td>73267</td>\n",
       "      <td>I am a developer by profession</td>\n",
       "      <td>Employed, full-time</td>\n",
       "      <td>Hybrid (some remote, some in-person)</td>\n",
       "      <td>Hobby</td>\n",
       "      <td>Bachelor’s degree (B.A., B.S., B.Eng., etc.)</td>\n",
       "      <td>Books / Physical media;On the job training</td>\n",
       "      <td>NaN</td>\n",
       "      <td>NaN</td>\n",
       "      <td>50</td>\n",
       "      <td>31</td>\n",
       "      <td>Developer, front-end;Developer, desktop or ent...</td>\n",
       "      <td>...</td>\n",
       "      <td>NaN</td>\n",
       "      <td>NaN</td>\n",
       "      <td>NaN</td>\n",
       "      <td>NaN</td>\n",
       "      <td>NaN</td>\n",
       "      <td>NaN</td>\n",
       "      <td>NaN</td>\n",
       "      <td>NaN</td>\n",
       "      <td>NaN</td>\n",
       "      <td>Appropriate in length</td>\n",
       "      <td>Easy</td>\n",
       "      <td>NaN</td>\n",
       "    </tr>\n",
       "    <tr>\n",
       "      <th>73267</th>\n",
       "      <td>73268</td>\n",
       "      <td>I used to be a developer by profession, but no...</td>\n",
       "      <td>Independent contractor, freelancer, or self-em...</td>\n",
       "      <td>Fully remote</td>\n",
       "      <td>Hobby;Contribute to open-source projects;Boots...</td>\n",
       "      <td>Bachelor’s degree (B.A., B.S., B.Eng., etc.)</td>\n",
       "      <td>Books / Physical media;Friend or family member...</td>\n",
       "      <td>Technical documentation;Blogs;Programming Game...</td>\n",
       "      <td>Udemy;Pluralsight</td>\n",
       "      <td>16</td>\n",
       "      <td>5</td>\n",
       "      <td>Developer, front-end;Engineer, data;Engineer, ...</td>\n",
       "      <td>...</td>\n",
       "      <td>NaN</td>\n",
       "      <td>NaN</td>\n",
       "      <td>NaN</td>\n",
       "      <td>NaN</td>\n",
       "      <td>NaN</td>\n",
       "      <td>NaN</td>\n",
       "      <td>NaN</td>\n",
       "      <td>NaN</td>\n",
       "      <td>NaN</td>\n",
       "      <td>Appropriate in length</td>\n",
       "      <td>Easy</td>\n",
       "      <td>NaN</td>\n",
       "    </tr>\n",
       "  </tbody>\n",
       "</table>\n",
       "<p>73268 rows × 79 columns</p>\n",
       "</div>"
      ],
      "text/plain": [
       "       ResponseId                                         MainBranch  \\\n",
       "0               1                                      None of these   \n",
       "1               2                     I am a developer by profession   \n",
       "2               3  I am not primarily a developer, but I write co...   \n",
       "3               4                     I am a developer by profession   \n",
       "4               5                     I am a developer by profession   \n",
       "...           ...                                                ...   \n",
       "73263       73264                     I am a developer by profession   \n",
       "73264       73265                     I am a developer by profession   \n",
       "73265       73266  I am not primarily a developer, but I write co...   \n",
       "73266       73267                     I am a developer by profession   \n",
       "73267       73268  I used to be a developer by profession, but no...   \n",
       "\n",
       "                                              Employment  \\\n",
       "0                                                    NaN   \n",
       "1                                    Employed, full-time   \n",
       "2                                    Employed, full-time   \n",
       "3                                    Employed, full-time   \n",
       "4                                    Employed, full-time   \n",
       "...                                                  ...   \n",
       "73263                                Employed, full-time   \n",
       "73264                                Employed, full-time   \n",
       "73265                                Employed, full-time   \n",
       "73266                                Employed, full-time   \n",
       "73267  Independent contractor, freelancer, or self-em...   \n",
       "\n",
       "                                 RemoteWork  \\\n",
       "0                                       NaN   \n",
       "1                              Fully remote   \n",
       "2      Hybrid (some remote, some in-person)   \n",
       "3                              Fully remote   \n",
       "4      Hybrid (some remote, some in-person)   \n",
       "...                                     ...   \n",
       "73263                          Fully remote   \n",
       "73264                        Full in-person   \n",
       "73265  Hybrid (some remote, some in-person)   \n",
       "73266  Hybrid (some remote, some in-person)   \n",
       "73267                          Fully remote   \n",
       "\n",
       "                                        CodingActivities  \\\n",
       "0                                                    NaN   \n",
       "1               Hobby;Contribute to open-source projects   \n",
       "2                                                  Hobby   \n",
       "3                           I don’t code outside of work   \n",
       "4                                                  Hobby   \n",
       "...                                                  ...   \n",
       "73263                            Freelance/contract work   \n",
       "73264                                              Hobby   \n",
       "73265                      Hobby;School or academic work   \n",
       "73266                                              Hobby   \n",
       "73267  Hobby;Contribute to open-source projects;Boots...   \n",
       "\n",
       "                                               EdLevel  \\\n",
       "0                                                  NaN   \n",
       "1                                                  NaN   \n",
       "2      Master’s degree (M.A., M.S., M.Eng., MBA, etc.)   \n",
       "3         Bachelor’s degree (B.A., B.S., B.Eng., etc.)   \n",
       "4         Bachelor’s degree (B.A., B.S., B.Eng., etc.)   \n",
       "...                                                ...   \n",
       "73263     Bachelor’s degree (B.A., B.S., B.Eng., etc.)   \n",
       "73264  Master’s degree (M.A., M.S., M.Eng., MBA, etc.)   \n",
       "73265     Bachelor’s degree (B.A., B.S., B.Eng., etc.)   \n",
       "73266     Bachelor’s degree (B.A., B.S., B.Eng., etc.)   \n",
       "73267     Bachelor’s degree (B.A., B.S., B.Eng., etc.)   \n",
       "\n",
       "                                               LearnCode  \\\n",
       "0                                                    NaN   \n",
       "1                                                    NaN   \n",
       "2      Books / Physical media;Friend or family member...   \n",
       "3      Books / Physical media;School (i.e., Universit...   \n",
       "4      Other online resources (e.g., videos, blogs, f...   \n",
       "...                                                  ...   \n",
       "73263  Books / Physical media;Other online resources ...   \n",
       "73264  Other online resources (e.g., videos, blogs, f...   \n",
       "73265  Books / Physical media;Other online resources ...   \n",
       "73266         Books / Physical media;On the job training   \n",
       "73267  Books / Physical media;Friend or family member...   \n",
       "\n",
       "                                         LearnCodeOnline  \\\n",
       "0                                                    NaN   \n",
       "1                                                    NaN   \n",
       "2      Technical documentation;Blogs;Programming Game...   \n",
       "3                                                    NaN   \n",
       "4      Technical documentation;Blogs;Stack Overflow;O...   \n",
       "...                                                  ...   \n",
       "73263  Technical documentation;Blogs;Written Tutorial...   \n",
       "73264  Technical documentation;Blogs;Written Tutorial...   \n",
       "73265  Technical documentation;Programming Games;Stac...   \n",
       "73266                                                NaN   \n",
       "73267  Technical documentation;Blogs;Programming Game...   \n",
       "\n",
       "                   LearnCodeCoursesCert YearsCode YearsCodePro  \\\n",
       "0                                   NaN       NaN          NaN   \n",
       "1                                   NaN       NaN          NaN   \n",
       "2                                   NaN        14            5   \n",
       "3                                   NaN        20           17   \n",
       "4                                   NaN         8            3   \n",
       "...                                 ...       ...          ...   \n",
       "73263                             Udemy         8            5   \n",
       "73264            Coursera;Udemy;Udacity         6            5   \n",
       "73265  Udemy;Codecademy;Pluralsight;edX        42           33   \n",
       "73266                               NaN        50           31   \n",
       "73267                 Udemy;Pluralsight        16            5   \n",
       "\n",
       "                                                 DevType  ...  \\\n",
       "0                                                    NaN  ...   \n",
       "1                                                    NaN  ...   \n",
       "2      Data scientist or machine learning specialist;...  ...   \n",
       "3                                  Developer, full-stack  ...   \n",
       "4      Developer, front-end;Developer, full-stack;Dev...  ...   \n",
       "...                                                  ...  ...   \n",
       "73263                                Developer, back-end  ...   \n",
       "73264      Data scientist or machine learning specialist  ...   \n",
       "73265  Developer, full-stack;Developer, desktop or en...  ...   \n",
       "73266  Developer, front-end;Developer, desktop or ent...  ...   \n",
       "73267  Developer, front-end;Engineer, data;Engineer, ...  ...   \n",
       "\n",
       "             Frequency_2       Frequency_3        TimeSearching  \\\n",
       "0                    NaN               NaN                  NaN   \n",
       "1                    NaN               NaN                  NaN   \n",
       "2                    NaN               NaN                  NaN   \n",
       "3                    NaN               NaN                  NaN   \n",
       "4                    NaN               NaN                  NaN   \n",
       "...                  ...               ...                  ...   \n",
       "73263              Never             Never  30-60 minutes a day   \n",
       "73264  6-10 times a week  10+ times a week  15-30 minutes a day   \n",
       "73265              Never             Never  30-60 minutes a day   \n",
       "73266                NaN               NaN                  NaN   \n",
       "73267                NaN               NaN                  NaN   \n",
       "\n",
       "                    TimeAnswering  Onboarding  \\\n",
       "0                             NaN         NaN   \n",
       "1                             NaN         NaN   \n",
       "2                             NaN         NaN   \n",
       "3                             NaN         NaN   \n",
       "4                             NaN         NaN   \n",
       "...                           ...         ...   \n",
       "73263  Less than 15 minutes a day  Just right   \n",
       "73264        60-120 minutes a day   Very long   \n",
       "73265        60-120 minutes a day  Just right   \n",
       "73266                         NaN         NaN   \n",
       "73267                         NaN         NaN   \n",
       "\n",
       "                                        ProfessionalTech TrueFalse_1  \\\n",
       "0                                                    NaN         NaN   \n",
       "1                                                    NaN         NaN   \n",
       "2                                                    NaN         NaN   \n",
       "3                                                    NaN         NaN   \n",
       "4                                                    NaN         NaN   \n",
       "...                                                  ...         ...   \n",
       "73263  DevOps function;Microservices;Developer portal...         Yes   \n",
       "73264                                      None of these          No   \n",
       "73265                                      None of these          No   \n",
       "73266                                                NaN         NaN   \n",
       "73267                                                NaN         NaN   \n",
       "\n",
       "      TrueFalse_2 TrueFalse_3           SurveyLength  \\\n",
       "0             NaN         NaN                    NaN   \n",
       "1             NaN         NaN               Too long   \n",
       "2             NaN         NaN  Appropriate in length   \n",
       "3             NaN         NaN  Appropriate in length   \n",
       "4             NaN         NaN               Too long   \n",
       "...           ...         ...                    ...   \n",
       "73263         Yes         Yes               Too long   \n",
       "73264         Yes         Yes               Too long   \n",
       "73265          No          No  Appropriate in length   \n",
       "73266         NaN         NaN  Appropriate in length   \n",
       "73267         NaN         NaN  Appropriate in length   \n",
       "\n",
       "                       SurveyEase ConvertedCompYearly  \n",
       "0                             NaN                 NaN  \n",
       "1                       Difficult                 NaN  \n",
       "2      Neither easy nor difficult             40205.0  \n",
       "3                            Easy            215232.0  \n",
       "4                            Easy                 NaN  \n",
       "...                           ...                 ...  \n",
       "73263                        Easy                 NaN  \n",
       "73264                        Easy                 NaN  \n",
       "73265                        Easy                 NaN  \n",
       "73266                        Easy                 NaN  \n",
       "73267                        Easy                 NaN  \n",
       "\n",
       "[73268 rows x 79 columns]"
      ]
     },
     "execution_count": 323,
     "metadata": {},
     "output_type": "execute_result"
    }
   ],
   "source": [
    "df"
   ]
  },
  {
   "cell_type": "code",
   "execution_count": 332,
   "id": "73ecd6ae",
   "metadata": {},
   "outputs": [
    {
     "data": {
      "text/html": [
       "<div>\n",
       "<style scoped>\n",
       "    .dataframe tbody tr th:only-of-type {\n",
       "        vertical-align: middle;\n",
       "    }\n",
       "\n",
       "    .dataframe tbody tr th {\n",
       "        vertical-align: top;\n",
       "    }\n",
       "\n",
       "    .dataframe thead th {\n",
       "        text-align: right;\n",
       "    }\n",
       "</style>\n",
       "<table border=\"1\" class=\"dataframe\">\n",
       "  <thead>\n",
       "    <tr style=\"text-align: right;\">\n",
       "      <th></th>\n",
       "      <th>MainBranch</th>\n",
       "      <th>Employment</th>\n",
       "      <th>RemoteWork</th>\n",
       "      <th>CodingActivities</th>\n",
       "      <th>EdLevel</th>\n",
       "      <th>LearnCode</th>\n",
       "      <th>LearnCodeOnline</th>\n",
       "      <th>LearnCodeCoursesCert</th>\n",
       "      <th>YearsCode</th>\n",
       "      <th>YearsCodePro</th>\n",
       "      <th>DevType</th>\n",
       "      <th>OrgSize</th>\n",
       "      <th>...</th>\n",
       "      <th>Frequency_2</th>\n",
       "      <th>Frequency_3</th>\n",
       "      <th>TimeSearching</th>\n",
       "      <th>TimeAnswering</th>\n",
       "      <th>Onboarding</th>\n",
       "      <th>ProfessionalTech</th>\n",
       "      <th>TrueFalse_1</th>\n",
       "      <th>TrueFalse_2</th>\n",
       "      <th>TrueFalse_3</th>\n",
       "      <th>SurveyLength</th>\n",
       "      <th>SurveyEase</th>\n",
       "      <th>ConvertedCompYearly</th>\n",
       "    </tr>\n",
       "    <tr>\n",
       "      <th>ResponseId</th>\n",
       "      <th></th>\n",
       "      <th></th>\n",
       "      <th></th>\n",
       "      <th></th>\n",
       "      <th></th>\n",
       "      <th></th>\n",
       "      <th></th>\n",
       "      <th></th>\n",
       "      <th></th>\n",
       "      <th></th>\n",
       "      <th></th>\n",
       "      <th></th>\n",
       "      <th></th>\n",
       "      <th></th>\n",
       "      <th></th>\n",
       "      <th></th>\n",
       "      <th></th>\n",
       "      <th></th>\n",
       "      <th></th>\n",
       "      <th></th>\n",
       "      <th></th>\n",
       "      <th></th>\n",
       "      <th></th>\n",
       "      <th></th>\n",
       "      <th></th>\n",
       "    </tr>\n",
       "  </thead>\n",
       "  <tbody>\n",
       "    <tr>\n",
       "      <th>1</th>\n",
       "      <td>None of these</td>\n",
       "      <td>NaN</td>\n",
       "      <td>NaN</td>\n",
       "      <td>NaN</td>\n",
       "      <td>NaN</td>\n",
       "      <td>NaN</td>\n",
       "      <td>NaN</td>\n",
       "      <td>NaN</td>\n",
       "      <td>NaN</td>\n",
       "      <td>NaN</td>\n",
       "      <td>NaN</td>\n",
       "      <td>NaN</td>\n",
       "      <td>...</td>\n",
       "      <td>NaN</td>\n",
       "      <td>NaN</td>\n",
       "      <td>NaN</td>\n",
       "      <td>NaN</td>\n",
       "      <td>NaN</td>\n",
       "      <td>NaN</td>\n",
       "      <td>NaN</td>\n",
       "      <td>NaN</td>\n",
       "      <td>NaN</td>\n",
       "      <td>NaN</td>\n",
       "      <td>NaN</td>\n",
       "      <td>NaN</td>\n",
       "    </tr>\n",
       "    <tr>\n",
       "      <th>2</th>\n",
       "      <td>I am a developer by profession</td>\n",
       "      <td>Employed, full-time</td>\n",
       "      <td>Fully remote</td>\n",
       "      <td>Hobby;Contribute to open-source projects</td>\n",
       "      <td>NaN</td>\n",
       "      <td>NaN</td>\n",
       "      <td>NaN</td>\n",
       "      <td>NaN</td>\n",
       "      <td>NaN</td>\n",
       "      <td>NaN</td>\n",
       "      <td>NaN</td>\n",
       "      <td>NaN</td>\n",
       "      <td>...</td>\n",
       "      <td>NaN</td>\n",
       "      <td>NaN</td>\n",
       "      <td>NaN</td>\n",
       "      <td>NaN</td>\n",
       "      <td>NaN</td>\n",
       "      <td>NaN</td>\n",
       "      <td>NaN</td>\n",
       "      <td>NaN</td>\n",
       "      <td>NaN</td>\n",
       "      <td>Too long</td>\n",
       "      <td>Difficult</td>\n",
       "      <td>NaN</td>\n",
       "    </tr>\n",
       "    <tr>\n",
       "      <th>3</th>\n",
       "      <td>I am not primarily a developer, but I write co...</td>\n",
       "      <td>Employed, full-time</td>\n",
       "      <td>Hybrid (some remote, some in-person)</td>\n",
       "      <td>Hobby</td>\n",
       "      <td>Master’s degree (M.A., M.S., M.Eng., MBA, etc.)</td>\n",
       "      <td>Books / Physical media;Friend or family member...</td>\n",
       "      <td>Technical documentation;Blogs;Programming Game...</td>\n",
       "      <td>NaN</td>\n",
       "      <td>14</td>\n",
       "      <td>5</td>\n",
       "      <td>Data scientist or machine learning specialist;...</td>\n",
       "      <td>20 to 99 employees</td>\n",
       "      <td>...</td>\n",
       "      <td>NaN</td>\n",
       "      <td>NaN</td>\n",
       "      <td>NaN</td>\n",
       "      <td>NaN</td>\n",
       "      <td>NaN</td>\n",
       "      <td>NaN</td>\n",
       "      <td>NaN</td>\n",
       "      <td>NaN</td>\n",
       "      <td>NaN</td>\n",
       "      <td>Appropriate in length</td>\n",
       "      <td>Neither easy nor difficult</td>\n",
       "      <td>40205.0</td>\n",
       "    </tr>\n",
       "    <tr>\n",
       "      <th>4</th>\n",
       "      <td>I am a developer by profession</td>\n",
       "      <td>Employed, full-time</td>\n",
       "      <td>Fully remote</td>\n",
       "      <td>I don’t code outside of work</td>\n",
       "      <td>Bachelor’s degree (B.A., B.S., B.Eng., etc.)</td>\n",
       "      <td>Books / Physical media;School (i.e., Universit...</td>\n",
       "      <td>NaN</td>\n",
       "      <td>NaN</td>\n",
       "      <td>20</td>\n",
       "      <td>17</td>\n",
       "      <td>Developer, full-stack</td>\n",
       "      <td>100 to 499 employees</td>\n",
       "      <td>...</td>\n",
       "      <td>NaN</td>\n",
       "      <td>NaN</td>\n",
       "      <td>NaN</td>\n",
       "      <td>NaN</td>\n",
       "      <td>NaN</td>\n",
       "      <td>NaN</td>\n",
       "      <td>NaN</td>\n",
       "      <td>NaN</td>\n",
       "      <td>NaN</td>\n",
       "      <td>Appropriate in length</td>\n",
       "      <td>Easy</td>\n",
       "      <td>215232.0</td>\n",
       "    </tr>\n",
       "    <tr>\n",
       "      <th>5</th>\n",
       "      <td>I am a developer by profession</td>\n",
       "      <td>Employed, full-time</td>\n",
       "      <td>Hybrid (some remote, some in-person)</td>\n",
       "      <td>Hobby</td>\n",
       "      <td>Bachelor’s degree (B.A., B.S., B.Eng., etc.)</td>\n",
       "      <td>Other online resources (e.g., videos, blogs, f...</td>\n",
       "      <td>Technical documentation;Blogs;Stack Overflow;O...</td>\n",
       "      <td>NaN</td>\n",
       "      <td>8</td>\n",
       "      <td>3</td>\n",
       "      <td>Developer, front-end;Developer, full-stack;Dev...</td>\n",
       "      <td>20 to 99 employees</td>\n",
       "      <td>...</td>\n",
       "      <td>NaN</td>\n",
       "      <td>NaN</td>\n",
       "      <td>NaN</td>\n",
       "      <td>NaN</td>\n",
       "      <td>NaN</td>\n",
       "      <td>NaN</td>\n",
       "      <td>NaN</td>\n",
       "      <td>NaN</td>\n",
       "      <td>NaN</td>\n",
       "      <td>Too long</td>\n",
       "      <td>Easy</td>\n",
       "      <td>NaN</td>\n",
       "    </tr>\n",
       "    <tr>\n",
       "      <th>...</th>\n",
       "      <td>...</td>\n",
       "      <td>...</td>\n",
       "      <td>...</td>\n",
       "      <td>...</td>\n",
       "      <td>...</td>\n",
       "      <td>...</td>\n",
       "      <td>...</td>\n",
       "      <td>...</td>\n",
       "      <td>...</td>\n",
       "      <td>...</td>\n",
       "      <td>...</td>\n",
       "      <td>...</td>\n",
       "      <td>...</td>\n",
       "      <td>...</td>\n",
       "      <td>...</td>\n",
       "      <td>...</td>\n",
       "      <td>...</td>\n",
       "      <td>...</td>\n",
       "      <td>...</td>\n",
       "      <td>...</td>\n",
       "      <td>...</td>\n",
       "      <td>...</td>\n",
       "      <td>...</td>\n",
       "      <td>...</td>\n",
       "      <td>...</td>\n",
       "    </tr>\n",
       "    <tr>\n",
       "      <th>73264</th>\n",
       "      <td>I am a developer by profession</td>\n",
       "      <td>Employed, full-time</td>\n",
       "      <td>Fully remote</td>\n",
       "      <td>Freelance/contract work</td>\n",
       "      <td>Bachelor’s degree (B.A., B.S., B.Eng., etc.)</td>\n",
       "      <td>Books / Physical media;Other online resources ...</td>\n",
       "      <td>Technical documentation;Blogs;Written Tutorial...</td>\n",
       "      <td>Udemy</td>\n",
       "      <td>8</td>\n",
       "      <td>5</td>\n",
       "      <td>Developer, back-end</td>\n",
       "      <td>100 to 499 employees</td>\n",
       "      <td>...</td>\n",
       "      <td>Never</td>\n",
       "      <td>Never</td>\n",
       "      <td>30-60 minutes a day</td>\n",
       "      <td>Less than 15 minutes a day</td>\n",
       "      <td>Just right</td>\n",
       "      <td>DevOps function;Microservices;Developer portal...</td>\n",
       "      <td>Yes</td>\n",
       "      <td>Yes</td>\n",
       "      <td>Yes</td>\n",
       "      <td>Too long</td>\n",
       "      <td>Easy</td>\n",
       "      <td>NaN</td>\n",
       "    </tr>\n",
       "    <tr>\n",
       "      <th>73265</th>\n",
       "      <td>I am a developer by profession</td>\n",
       "      <td>Employed, full-time</td>\n",
       "      <td>Full in-person</td>\n",
       "      <td>Hobby</td>\n",
       "      <td>Master’s degree (M.A., M.S., M.Eng., MBA, etc.)</td>\n",
       "      <td>Other online resources (e.g., videos, blogs, f...</td>\n",
       "      <td>Technical documentation;Blogs;Written Tutorial...</td>\n",
       "      <td>Coursera;Udemy;Udacity</td>\n",
       "      <td>6</td>\n",
       "      <td>5</td>\n",
       "      <td>Data scientist or machine learning specialist</td>\n",
       "      <td>I don’t know</td>\n",
       "      <td>...</td>\n",
       "      <td>6-10 times a week</td>\n",
       "      <td>10+ times a week</td>\n",
       "      <td>15-30 minutes a day</td>\n",
       "      <td>60-120 minutes a day</td>\n",
       "      <td>Very long</td>\n",
       "      <td>None of these</td>\n",
       "      <td>No</td>\n",
       "      <td>Yes</td>\n",
       "      <td>Yes</td>\n",
       "      <td>Too long</td>\n",
       "      <td>Easy</td>\n",
       "      <td>NaN</td>\n",
       "    </tr>\n",
       "    <tr>\n",
       "      <th>73266</th>\n",
       "      <td>I am not primarily a developer, but I write co...</td>\n",
       "      <td>Employed, full-time</td>\n",
       "      <td>Hybrid (some remote, some in-person)</td>\n",
       "      <td>Hobby;School or academic work</td>\n",
       "      <td>Bachelor’s degree (B.A., B.S., B.Eng., etc.)</td>\n",
       "      <td>Books / Physical media;Other online resources ...</td>\n",
       "      <td>Technical documentation;Programming Games;Stac...</td>\n",
       "      <td>Udemy;Codecademy;Pluralsight;edX</td>\n",
       "      <td>42</td>\n",
       "      <td>33</td>\n",
       "      <td>Developer, full-stack;Developer, desktop or en...</td>\n",
       "      <td>20 to 99 employees</td>\n",
       "      <td>...</td>\n",
       "      <td>Never</td>\n",
       "      <td>Never</td>\n",
       "      <td>30-60 minutes a day</td>\n",
       "      <td>60-120 minutes a day</td>\n",
       "      <td>Just right</td>\n",
       "      <td>None of these</td>\n",
       "      <td>No</td>\n",
       "      <td>No</td>\n",
       "      <td>No</td>\n",
       "      <td>Appropriate in length</td>\n",
       "      <td>Easy</td>\n",
       "      <td>NaN</td>\n",
       "    </tr>\n",
       "    <tr>\n",
       "      <th>73267</th>\n",
       "      <td>I am a developer by profession</td>\n",
       "      <td>Employed, full-time</td>\n",
       "      <td>Hybrid (some remote, some in-person)</td>\n",
       "      <td>Hobby</td>\n",
       "      <td>Bachelor’s degree (B.A., B.S., B.Eng., etc.)</td>\n",
       "      <td>Books / Physical media;On the job training</td>\n",
       "      <td>NaN</td>\n",
       "      <td>NaN</td>\n",
       "      <td>50</td>\n",
       "      <td>31</td>\n",
       "      <td>Developer, front-end;Developer, desktop or ent...</td>\n",
       "      <td>10 to 19 employees</td>\n",
       "      <td>...</td>\n",
       "      <td>NaN</td>\n",
       "      <td>NaN</td>\n",
       "      <td>NaN</td>\n",
       "      <td>NaN</td>\n",
       "      <td>NaN</td>\n",
       "      <td>NaN</td>\n",
       "      <td>NaN</td>\n",
       "      <td>NaN</td>\n",
       "      <td>NaN</td>\n",
       "      <td>Appropriate in length</td>\n",
       "      <td>Easy</td>\n",
       "      <td>NaN</td>\n",
       "    </tr>\n",
       "    <tr>\n",
       "      <th>73268</th>\n",
       "      <td>I used to be a developer by profession, but no...</td>\n",
       "      <td>Independent contractor, freelancer, or self-em...</td>\n",
       "      <td>Fully remote</td>\n",
       "      <td>Hobby;Contribute to open-source projects;Boots...</td>\n",
       "      <td>Bachelor’s degree (B.A., B.S., B.Eng., etc.)</td>\n",
       "      <td>Books / Physical media;Friend or family member...</td>\n",
       "      <td>Technical documentation;Blogs;Programming Game...</td>\n",
       "      <td>Udemy;Pluralsight</td>\n",
       "      <td>16</td>\n",
       "      <td>5</td>\n",
       "      <td>Developer, front-end;Engineer, data;Engineer, ...</td>\n",
       "      <td>NaN</td>\n",
       "      <td>...</td>\n",
       "      <td>NaN</td>\n",
       "      <td>NaN</td>\n",
       "      <td>NaN</td>\n",
       "      <td>NaN</td>\n",
       "      <td>NaN</td>\n",
       "      <td>NaN</td>\n",
       "      <td>NaN</td>\n",
       "      <td>NaN</td>\n",
       "      <td>NaN</td>\n",
       "      <td>Appropriate in length</td>\n",
       "      <td>Easy</td>\n",
       "      <td>NaN</td>\n",
       "    </tr>\n",
       "  </tbody>\n",
       "</table>\n",
       "<p>73268 rows × 78 columns</p>\n",
       "</div>"
      ],
      "text/plain": [
       "                                                   MainBranch  \\\n",
       "ResponseId                                                      \n",
       "1                                               None of these   \n",
       "2                              I am a developer by profession   \n",
       "3           I am not primarily a developer, but I write co...   \n",
       "4                              I am a developer by profession   \n",
       "5                              I am a developer by profession   \n",
       "...                                                       ...   \n",
       "73264                          I am a developer by profession   \n",
       "73265                          I am a developer by profession   \n",
       "73266       I am not primarily a developer, but I write co...   \n",
       "73267                          I am a developer by profession   \n",
       "73268       I used to be a developer by profession, but no...   \n",
       "\n",
       "                                                   Employment  \\\n",
       "ResponseId                                                      \n",
       "1                                                         NaN   \n",
       "2                                         Employed, full-time   \n",
       "3                                         Employed, full-time   \n",
       "4                                         Employed, full-time   \n",
       "5                                         Employed, full-time   \n",
       "...                                                       ...   \n",
       "73264                                     Employed, full-time   \n",
       "73265                                     Employed, full-time   \n",
       "73266                                     Employed, full-time   \n",
       "73267                                     Employed, full-time   \n",
       "73268       Independent contractor, freelancer, or self-em...   \n",
       "\n",
       "                                      RemoteWork  \\\n",
       "ResponseId                                         \n",
       "1                                            NaN   \n",
       "2                                   Fully remote   \n",
       "3           Hybrid (some remote, some in-person)   \n",
       "4                                   Fully remote   \n",
       "5           Hybrid (some remote, some in-person)   \n",
       "...                                          ...   \n",
       "73264                               Fully remote   \n",
       "73265                             Full in-person   \n",
       "73266       Hybrid (some remote, some in-person)   \n",
       "73267       Hybrid (some remote, some in-person)   \n",
       "73268                               Fully remote   \n",
       "\n",
       "                                             CodingActivities  \\\n",
       "ResponseId                                                      \n",
       "1                                                         NaN   \n",
       "2                    Hobby;Contribute to open-source projects   \n",
       "3                                                       Hobby   \n",
       "4                                I don’t code outside of work   \n",
       "5                                                       Hobby   \n",
       "...                                                       ...   \n",
       "73264                                 Freelance/contract work   \n",
       "73265                                                   Hobby   \n",
       "73266                           Hobby;School or academic work   \n",
       "73267                                                   Hobby   \n",
       "73268       Hobby;Contribute to open-source projects;Boots...   \n",
       "\n",
       "                                                    EdLevel  \\\n",
       "ResponseId                                                    \n",
       "1                                                       NaN   \n",
       "2                                                       NaN   \n",
       "3           Master’s degree (M.A., M.S., M.Eng., MBA, etc.)   \n",
       "4              Bachelor’s degree (B.A., B.S., B.Eng., etc.)   \n",
       "5              Bachelor’s degree (B.A., B.S., B.Eng., etc.)   \n",
       "...                                                     ...   \n",
       "73264          Bachelor’s degree (B.A., B.S., B.Eng., etc.)   \n",
       "73265       Master’s degree (M.A., M.S., M.Eng., MBA, etc.)   \n",
       "73266          Bachelor’s degree (B.A., B.S., B.Eng., etc.)   \n",
       "73267          Bachelor’s degree (B.A., B.S., B.Eng., etc.)   \n",
       "73268          Bachelor’s degree (B.A., B.S., B.Eng., etc.)   \n",
       "\n",
       "                                                    LearnCode  \\\n",
       "ResponseId                                                      \n",
       "1                                                         NaN   \n",
       "2                                                         NaN   \n",
       "3           Books / Physical media;Friend or family member...   \n",
       "4           Books / Physical media;School (i.e., Universit...   \n",
       "5           Other online resources (e.g., videos, blogs, f...   \n",
       "...                                                       ...   \n",
       "73264       Books / Physical media;Other online resources ...   \n",
       "73265       Other online resources (e.g., videos, blogs, f...   \n",
       "73266       Books / Physical media;Other online resources ...   \n",
       "73267              Books / Physical media;On the job training   \n",
       "73268       Books / Physical media;Friend or family member...   \n",
       "\n",
       "                                              LearnCodeOnline  \\\n",
       "ResponseId                                                      \n",
       "1                                                         NaN   \n",
       "2                                                         NaN   \n",
       "3           Technical documentation;Blogs;Programming Game...   \n",
       "4                                                         NaN   \n",
       "5           Technical documentation;Blogs;Stack Overflow;O...   \n",
       "...                                                       ...   \n",
       "73264       Technical documentation;Blogs;Written Tutorial...   \n",
       "73265       Technical documentation;Blogs;Written Tutorial...   \n",
       "73266       Technical documentation;Programming Games;Stac...   \n",
       "73267                                                     NaN   \n",
       "73268       Technical documentation;Blogs;Programming Game...   \n",
       "\n",
       "                        LearnCodeCoursesCert YearsCode YearsCodePro  \\\n",
       "ResponseId                                                            \n",
       "1                                        NaN       NaN          NaN   \n",
       "2                                        NaN       NaN          NaN   \n",
       "3                                        NaN        14            5   \n",
       "4                                        NaN        20           17   \n",
       "5                                        NaN         8            3   \n",
       "...                                      ...       ...          ...   \n",
       "73264                                  Udemy         8            5   \n",
       "73265                 Coursera;Udemy;Udacity         6            5   \n",
       "73266       Udemy;Codecademy;Pluralsight;edX        42           33   \n",
       "73267                                    NaN        50           31   \n",
       "73268                      Udemy;Pluralsight        16            5   \n",
       "\n",
       "                                                      DevType  \\\n",
       "ResponseId                                                      \n",
       "1                                                         NaN   \n",
       "2                                                         NaN   \n",
       "3           Data scientist or machine learning specialist;...   \n",
       "4                                       Developer, full-stack   \n",
       "5           Developer, front-end;Developer, full-stack;Dev...   \n",
       "...                                                       ...   \n",
       "73264                                     Developer, back-end   \n",
       "73265           Data scientist or machine learning specialist   \n",
       "73266       Developer, full-stack;Developer, desktop or en...   \n",
       "73267       Developer, front-end;Developer, desktop or ent...   \n",
       "73268       Developer, front-end;Engineer, data;Engineer, ...   \n",
       "\n",
       "                         OrgSize  ...        Frequency_2       Frequency_3  \\\n",
       "ResponseId                        ...                                        \n",
       "1                            NaN  ...                NaN               NaN   \n",
       "2                            NaN  ...                NaN               NaN   \n",
       "3             20 to 99 employees  ...                NaN               NaN   \n",
       "4           100 to 499 employees  ...                NaN               NaN   \n",
       "5             20 to 99 employees  ...                NaN               NaN   \n",
       "...                          ...  ...                ...               ...   \n",
       "73264       100 to 499 employees  ...              Never             Never   \n",
       "73265               I don’t know  ...  6-10 times a week  10+ times a week   \n",
       "73266         20 to 99 employees  ...              Never             Never   \n",
       "73267         10 to 19 employees  ...                NaN               NaN   \n",
       "73268                        NaN  ...                NaN               NaN   \n",
       "\n",
       "                  TimeSearching               TimeAnswering  Onboarding  \\\n",
       "ResponseId                                                                \n",
       "1                           NaN                         NaN         NaN   \n",
       "2                           NaN                         NaN         NaN   \n",
       "3                           NaN                         NaN         NaN   \n",
       "4                           NaN                         NaN         NaN   \n",
       "5                           NaN                         NaN         NaN   \n",
       "...                         ...                         ...         ...   \n",
       "73264       30-60 minutes a day  Less than 15 minutes a day  Just right   \n",
       "73265       15-30 minutes a day        60-120 minutes a day   Very long   \n",
       "73266       30-60 minutes a day        60-120 minutes a day  Just right   \n",
       "73267                       NaN                         NaN         NaN   \n",
       "73268                       NaN                         NaN         NaN   \n",
       "\n",
       "                                             ProfessionalTech TrueFalse_1  \\\n",
       "ResponseId                                                                  \n",
       "1                                                         NaN         NaN   \n",
       "2                                                         NaN         NaN   \n",
       "3                                                         NaN         NaN   \n",
       "4                                                         NaN         NaN   \n",
       "5                                                         NaN         NaN   \n",
       "...                                                       ...         ...   \n",
       "73264       DevOps function;Microservices;Developer portal...         Yes   \n",
       "73265                                           None of these          No   \n",
       "73266                                           None of these          No   \n",
       "73267                                                     NaN         NaN   \n",
       "73268                                                     NaN         NaN   \n",
       "\n",
       "           TrueFalse_2 TrueFalse_3           SurveyLength  \\\n",
       "ResponseId                                                  \n",
       "1                  NaN         NaN                    NaN   \n",
       "2                  NaN         NaN               Too long   \n",
       "3                  NaN         NaN  Appropriate in length   \n",
       "4                  NaN         NaN  Appropriate in length   \n",
       "5                  NaN         NaN               Too long   \n",
       "...                ...         ...                    ...   \n",
       "73264              Yes         Yes               Too long   \n",
       "73265              Yes         Yes               Too long   \n",
       "73266               No          No  Appropriate in length   \n",
       "73267              NaN         NaN  Appropriate in length   \n",
       "73268              NaN         NaN  Appropriate in length   \n",
       "\n",
       "                            SurveyEase ConvertedCompYearly  \n",
       "ResponseId                                                  \n",
       "1                                  NaN                 NaN  \n",
       "2                            Difficult                 NaN  \n",
       "3           Neither easy nor difficult             40205.0  \n",
       "4                                 Easy            215232.0  \n",
       "5                                 Easy                 NaN  \n",
       "...                                ...                 ...  \n",
       "73264                             Easy                 NaN  \n",
       "73265                             Easy                 NaN  \n",
       "73266                             Easy                 NaN  \n",
       "73267                             Easy                 NaN  \n",
       "73268                             Easy                 NaN  \n",
       "\n",
       "[73268 rows x 78 columns]"
      ]
     },
     "execution_count": 332,
     "metadata": {},
     "output_type": "execute_result"
    }
   ],
   "source": [
    "#to treat custome null values like na missing no data as null\n",
    "naval=['na','NA','Missing','no data','any custom value']\n",
    "mydf = pd.read_csv('survey_results_public.csv', index_col = 'ResponseId', na_values=naval)\n",
    "mydf"
   ]
  },
  {
   "cell_type": "code",
   "execution_count": 333,
   "id": "639dd774",
   "metadata": {},
   "outputs": [
    {
     "data": {
      "text/plain": [
       "Country                   RemoteWork                          \n",
       "United States of America  Fully remote                            6771\n",
       "                          Hybrid (some remote, some in-person)    3634\n",
       "Germany                   Hybrid (some remote, some in-person)    2529\n",
       "India                     Fully remote                            1952\n",
       "                          Hybrid (some remote, some in-person)    1942\n",
       "                                                                  ... \n",
       "Togo                      Hybrid (some remote, some in-person)       1\n",
       "Botswana                  Full in-person                             1\n",
       "Kuwait                    Fully remote                               1\n",
       "Nomadic                   Full in-person                             1\n",
       "Seychelles                Full in-person                             1\n",
       "Length: 474, dtype: int64"
      ]
     },
     "execution_count": 333,
     "metadata": {},
     "output_type": "execute_result"
    }
   ],
   "source": [
    "mydf[['Country','RemoteWork']].value_counts()"
   ]
  },
  {
   "cell_type": "code",
   "execution_count": 335,
   "id": "c1369ce2",
   "metadata": {},
   "outputs": [
    {
     "data": {
      "text/plain": [
       "array([nan, 'Fully remote', 'Hybrid (some remote, some in-person)',\n",
       "       'Full in-person'], dtype=object)"
      ]
     },
     "execution_count": 335,
     "metadata": {},
     "output_type": "execute_result"
    }
   ],
   "source": [
    "# find dataframe column unique values\n",
    "mydf['RemoteWork'].unique()"
   ]
  },
  {
   "cell_type": "code",
   "execution_count": 3,
   "id": "1addca68",
   "metadata": {},
   "outputs": [],
   "source": [
    "#this is specific to pandas no reference to dataframe\n",
    "pd.set_option('display.max_column',50)"
   ]
  },
  {
   "cell_type": "code",
   "execution_count": 4,
   "id": "b2fd69e9",
   "metadata": {
    "scrolled": true
   },
   "outputs": [
    {
     "data": {
      "text/plain": [
       "(73268, 79)"
      ]
     },
     "execution_count": 4,
     "metadata": {},
     "output_type": "execute_result"
    }
   ],
   "source": [
    "#df.info() - list of column with name and datatype\n",
    "df.head() #list sample record from df\n",
    "df.shape # give number of rows and column in DF"
   ]
  },
  {
   "cell_type": "code",
   "execution_count": 5,
   "id": "f5f710f0",
   "metadata": {
    "scrolled": true
   },
   "outputs": [
    {
     "data": {
      "text/html": [
       "<div>\n",
       "<style scoped>\n",
       "    .dataframe tbody tr th:only-of-type {\n",
       "        vertical-align: middle;\n",
       "    }\n",
       "\n",
       "    .dataframe tbody tr th {\n",
       "        vertical-align: top;\n",
       "    }\n",
       "\n",
       "    .dataframe thead th {\n",
       "        text-align: right;\n",
       "    }\n",
       "</style>\n",
       "<table border=\"1\" class=\"dataframe\">\n",
       "  <thead>\n",
       "    <tr style=\"text-align: right;\">\n",
       "      <th></th>\n",
       "      <th>qid</th>\n",
       "      <th>qname</th>\n",
       "      <th>question</th>\n",
       "      <th>force_resp</th>\n",
       "      <th>type</th>\n",
       "      <th>selector</th>\n",
       "    </tr>\n",
       "  </thead>\n",
       "  <tbody>\n",
       "    <tr>\n",
       "      <th>0</th>\n",
       "      <td>QID16</td>\n",
       "      <td>S0</td>\n",
       "      <td>&lt;div&gt;&lt;span style=\"font-size:19px;\"&gt;&lt;strong&gt;Hel...</td>\n",
       "      <td>False</td>\n",
       "      <td>DB</td>\n",
       "      <td>TB</td>\n",
       "    </tr>\n",
       "    <tr>\n",
       "      <th>1</th>\n",
       "      <td>QID12</td>\n",
       "      <td>MetaInfo</td>\n",
       "      <td>Browser Meta Info</td>\n",
       "      <td>False</td>\n",
       "      <td>Meta</td>\n",
       "      <td>Browser</td>\n",
       "    </tr>\n",
       "    <tr>\n",
       "      <th>2</th>\n",
       "      <td>QID1</td>\n",
       "      <td>S1</td>\n",
       "      <td>&lt;span style=\"font-size:22px; font-family: aria...</td>\n",
       "      <td>False</td>\n",
       "      <td>DB</td>\n",
       "      <td>TB</td>\n",
       "    </tr>\n",
       "    <tr>\n",
       "      <th>3</th>\n",
       "      <td>QID2</td>\n",
       "      <td>MainBranch</td>\n",
       "      <td>Which of the following options best describes ...</td>\n",
       "      <td>True</td>\n",
       "      <td>MC</td>\n",
       "      <td>SAVR</td>\n",
       "    </tr>\n",
       "    <tr>\n",
       "      <th>4</th>\n",
       "      <td>QID296</td>\n",
       "      <td>Employment</td>\n",
       "      <td>Which of the following best describes your cur...</td>\n",
       "      <td>False</td>\n",
       "      <td>MC</td>\n",
       "      <td>MAVR</td>\n",
       "    </tr>\n",
       "  </tbody>\n",
       "</table>\n",
       "</div>"
      ],
      "text/plain": [
       "      qid       qname                                           question  \\\n",
       "0   QID16          S0  <div><span style=\"font-size:19px;\"><strong>Hel...   \n",
       "1   QID12    MetaInfo                                  Browser Meta Info   \n",
       "2    QID1          S1  <span style=\"font-size:22px; font-family: aria...   \n",
       "3    QID2  MainBranch  Which of the following options best describes ...   \n",
       "4  QID296  Employment  Which of the following best describes your cur...   \n",
       "\n",
       "  force_resp  type selector  \n",
       "0      False    DB       TB  \n",
       "1      False  Meta  Browser  \n",
       "2      False    DB       TB  \n",
       "3       True    MC     SAVR  \n",
       "4      False    MC     MAVR  "
      ]
     },
     "execution_count": 5,
     "metadata": {},
     "output_type": "execute_result"
    }
   ],
   "source": [
    "df_survey.head(2)\n",
    "df.head(2)\n",
    "\n",
    "df_survey[['qname','type']]\n",
    "df_survey.head(5)\n",
    "#df_survey.set_index('qid', inplace=True)\n",
    "#df_survey.reset_index(inplace=True)"
   ]
  },
  {
   "cell_type": "code",
   "execution_count": 6,
   "id": "103eb3ee",
   "metadata": {
    "scrolled": false
   },
   "outputs": [
    {
     "data": {
      "text/html": [
       "<div>\n",
       "<style scoped>\n",
       "    .dataframe tbody tr th:only-of-type {\n",
       "        vertical-align: middle;\n",
       "    }\n",
       "\n",
       "    .dataframe tbody tr th {\n",
       "        vertical-align: top;\n",
       "    }\n",
       "\n",
       "    .dataframe thead th {\n",
       "        text-align: right;\n",
       "    }\n",
       "</style>\n",
       "<table border=\"1\" class=\"dataframe\">\n",
       "  <thead>\n",
       "    <tr style=\"text-align: right;\">\n",
       "      <th></th>\n",
       "      <th>qid</th>\n",
       "      <th>qname</th>\n",
       "      <th>question</th>\n",
       "      <th>force_resp</th>\n",
       "      <th>type</th>\n",
       "      <th>selector</th>\n",
       "    </tr>\n",
       "  </thead>\n",
       "  <tbody>\n",
       "    <tr>\n",
       "      <th>0</th>\n",
       "      <td>QID16</td>\n",
       "      <td>S0</td>\n",
       "      <td>&lt;div&gt;&lt;span style=\"font-size:19px;\"&gt;&lt;strong&gt;Hel...</td>\n",
       "      <td>False</td>\n",
       "      <td>DB</td>\n",
       "      <td>TB</td>\n",
       "    </tr>\n",
       "  </tbody>\n",
       "</table>\n",
       "</div>"
      ],
      "text/plain": [
       "     qid qname                                           question force_resp  \\\n",
       "0  QID16    S0  <div><span style=\"font-size:19px;\"><strong>Hel...      False   \n",
       "\n",
       "  type selector  \n",
       "0   DB       TB  "
      ]
     },
     "execution_count": 6,
     "metadata": {},
     "output_type": "execute_result"
    }
   ],
   "source": [
    "#Conditional record search by using AND & /OR | operator\n",
    "df_survey.loc[(df_survey['qname']=='S0') & (df_survey['qid']=='QID16')]\n"
   ]
  },
  {
   "cell_type": "code",
   "execution_count": 7,
   "id": "05e6d926",
   "metadata": {
    "scrolled": true
   },
   "outputs": [
    {
     "name": "stdout",
     "output_type": "stream",
     "text": [
      "<class 'pandas.core.frame.DataFrame'>\n",
      "RangeIndex: 73268 entries, 0 to 73267\n",
      "Data columns (total 79 columns):\n",
      " #   Column                          Non-Null Count  Dtype  \n",
      "---  ------                          --------------  -----  \n",
      " 0   ResponseId                      73268 non-null  int64  \n",
      " 1   MainBranch                      73268 non-null  object \n",
      " 2   Employment                      71709 non-null  object \n",
      " 3   RemoteWork                      58958 non-null  object \n",
      " 4   CodingActivities                58899 non-null  object \n",
      " 5   EdLevel                         71571 non-null  object \n",
      " 6   LearnCode                       71580 non-null  object \n",
      " 7   LearnCodeOnline                 50685 non-null  object \n",
      " 8   LearnCodeCoursesCert            29389 non-null  object \n",
      " 9   YearsCode                       71331 non-null  object \n",
      " 10  YearsCodePro                    51833 non-null  object \n",
      " 11  DevType                         61302 non-null  object \n",
      " 12  OrgSize                         51039 non-null  object \n",
      " 13  PurchaseInfluence               50969 non-null  object \n",
      " 14  BuyNewTool                      67963 non-null  object \n",
      " 15  Country                         71771 non-null  object \n",
      " 16  Currency                        51264 non-null  object \n",
      " 17  CompTotal                       38422 non-null  float64\n",
      " 18  CompFreq                        44425 non-null  object \n",
      " 19  LanguageHaveWorkedWith          70975 non-null  object \n",
      " 20  LanguageWantToWorkWith          67027 non-null  object \n",
      " 21  DatabaseHaveWorkedWith          60121 non-null  object \n",
      " 22  DatabaseWantToWorkWith          51014 non-null  object \n",
      " 23  PlatformHaveWorkedWith          49924 non-null  object \n",
      " 24  PlatformWantToWorkWith          40415 non-null  object \n",
      " 25  WebframeHaveWorkedWith          53544 non-null  object \n",
      " 26  WebframeWantToWorkWith          46122 non-null  object \n",
      " 27  MiscTechHaveWorkedWith          44992 non-null  object \n",
      " 28  MiscTechWantToWorkWith          36810 non-null  object \n",
      " 29  ToolsTechHaveWorkedWith         54171 non-null  object \n",
      " 30  ToolsTechWantToWorkWith         46566 non-null  object \n",
      " 31  NEWCollabToolsHaveWorkedWith    70347 non-null  object \n",
      " 32  NEWCollabToolsWantToWorkWith    64108 non-null  object \n",
      " 33  OpSysProfessional use           65503 non-null  object \n",
      " 34  OpSysPersonal use               70963 non-null  object \n",
      " 35  VersionControlSystem            71379 non-null  object \n",
      " 36  VCInteraction                   68156 non-null  object \n",
      " 37  VCHostingPersonal use           0 non-null      float64\n",
      " 38  VCHostingProfessional use       0 non-null      float64\n",
      " 39  OfficeStackAsyncHaveWorkedWith  46223 non-null  object \n",
      " 40  OfficeStackAsyncWantToWorkWith  32072 non-null  object \n",
      " 41  OfficeStackSyncHaveWorkedWith   62128 non-null  object \n",
      " 42  OfficeStackSyncWantToWorkWith   47688 non-null  object \n",
      " 43  Blockchain                      71071 non-null  object \n",
      " 44  NEWSOSites                      71365 non-null  object \n",
      " 45  SOVisitFreq                     70961 non-null  object \n",
      " 46  SOAccount                       71572 non-null  object \n",
      " 47  SOPartFreq                      58229 non-null  object \n",
      " 48  SOComm                          71408 non-null  object \n",
      " 49  Age                             70946 non-null  object \n",
      " 50  Gender                          70853 non-null  object \n",
      " 51  Trans                           70315 non-null  object \n",
      " 52  Sexuality                       66565 non-null  object \n",
      " 53  Ethnicity                       69474 non-null  object \n",
      " 54  Accessibility                   67244 non-null  object \n",
      " 55  MentalHealth                    66447 non-null  object \n",
      " 56  TBranch                         52670 non-null  object \n",
      " 57  ICorPM                          36283 non-null  object \n",
      " 58  WorkExp                         36769 non-null  float64\n",
      " 59  Knowledge_1                     35804 non-null  object \n",
      " 60  Knowledge_2                     34973 non-null  object \n",
      " 61  Knowledge_3                     35133 non-null  object \n",
      " 62  Knowledge_4                     35097 non-null  object \n",
      " 63  Knowledge_5                     35014 non-null  object \n",
      " 64  Knowledge_6                     34991 non-null  object \n",
      " 65  Knowledge_7                     34977 non-null  object \n",
      " 66  Frequency_1                     35371 non-null  object \n",
      " 67  Frequency_2                     35344 non-null  object \n",
      " 68  Frequency_3                     34515 non-null  object \n",
      " 69  TimeSearching                   36198 non-null  object \n",
      " 70  TimeAnswering                   36022 non-null  object \n",
      " 71  Onboarding                      35679 non-null  object \n",
      " 72  ProfessionalTech                34906 non-null  object \n",
      " 73  TrueFalse_1                     35819 non-null  object \n",
      " 74  TrueFalse_2                     35715 non-null  object \n",
      " 75  TrueFalse_3                     35749 non-null  object \n",
      " 76  SurveyLength                    70444 non-null  object \n",
      " 77  SurveyEase                      70508 non-null  object \n",
      " 78  ConvertedCompYearly             38071 non-null  float64\n",
      "dtypes: float64(5), int64(1), object(73)\n",
      "memory usage: 44.2+ MB\n"
     ]
    }
   ],
   "source": [
    "#number of row and column along with column info\n",
    "df.info()"
   ]
  },
  {
   "cell_type": "code",
   "execution_count": 8,
   "id": "23fbd721",
   "metadata": {},
   "outputs": [
    {
     "data": {
      "text/html": [
       "<div>\n",
       "<style scoped>\n",
       "    .dataframe tbody tr th:only-of-type {\n",
       "        vertical-align: middle;\n",
       "    }\n",
       "\n",
       "    .dataframe tbody tr th {\n",
       "        vertical-align: top;\n",
       "    }\n",
       "\n",
       "    .dataframe thead th {\n",
       "        text-align: right;\n",
       "    }\n",
       "</style>\n",
       "<table border=\"1\" class=\"dataframe\">\n",
       "  <thead>\n",
       "    <tr style=\"text-align: right;\">\n",
       "      <th></th>\n",
       "      <th>ResponseId</th>\n",
       "      <th>MainBranch</th>\n",
       "      <th>Employment</th>\n",
       "      <th>...</th>\n",
       "      <th>SurveyLength</th>\n",
       "      <th>SurveyEase</th>\n",
       "      <th>ConvertedCompYearly</th>\n",
       "    </tr>\n",
       "  </thead>\n",
       "  <tbody>\n",
       "    <tr>\n",
       "      <th>0</th>\n",
       "      <td>1</td>\n",
       "      <td>None of these</td>\n",
       "      <td>NaN</td>\n",
       "      <td>...</td>\n",
       "      <td>NaN</td>\n",
       "      <td>NaN</td>\n",
       "      <td>NaN</td>\n",
       "    </tr>\n",
       "    <tr>\n",
       "      <th>1</th>\n",
       "      <td>2</td>\n",
       "      <td>I am a developer by profession</td>\n",
       "      <td>Employed, full-time</td>\n",
       "      <td>...</td>\n",
       "      <td>Too long</td>\n",
       "      <td>Difficult</td>\n",
       "      <td>NaN</td>\n",
       "    </tr>\n",
       "    <tr>\n",
       "      <th>2</th>\n",
       "      <td>3</td>\n",
       "      <td>I am not primarily a developer, but I write co...</td>\n",
       "      <td>Employed, full-time</td>\n",
       "      <td>...</td>\n",
       "      <td>Appropriate in length</td>\n",
       "      <td>Neither easy nor difficult</td>\n",
       "      <td>40205.0</td>\n",
       "    </tr>\n",
       "    <tr>\n",
       "      <th>...</th>\n",
       "      <td>...</td>\n",
       "      <td>...</td>\n",
       "      <td>...</td>\n",
       "      <td>...</td>\n",
       "      <td>...</td>\n",
       "      <td>...</td>\n",
       "      <td>...</td>\n",
       "    </tr>\n",
       "    <tr>\n",
       "      <th>73265</th>\n",
       "      <td>73266</td>\n",
       "      <td>I am not primarily a developer, but I write co...</td>\n",
       "      <td>Employed, full-time</td>\n",
       "      <td>...</td>\n",
       "      <td>Appropriate in length</td>\n",
       "      <td>Easy</td>\n",
       "      <td>NaN</td>\n",
       "    </tr>\n",
       "    <tr>\n",
       "      <th>73266</th>\n",
       "      <td>73267</td>\n",
       "      <td>I am a developer by profession</td>\n",
       "      <td>Employed, full-time</td>\n",
       "      <td>...</td>\n",
       "      <td>Appropriate in length</td>\n",
       "      <td>Easy</td>\n",
       "      <td>NaN</td>\n",
       "    </tr>\n",
       "    <tr>\n",
       "      <th>73267</th>\n",
       "      <td>73268</td>\n",
       "      <td>I used to be a developer by profession, but no...</td>\n",
       "      <td>Independent contractor, freelancer, or self-em...</td>\n",
       "      <td>...</td>\n",
       "      <td>Appropriate in length</td>\n",
       "      <td>Easy</td>\n",
       "      <td>NaN</td>\n",
       "    </tr>\n",
       "  </tbody>\n",
       "</table>\n",
       "<p>73268 rows × 79 columns</p>\n",
       "</div>"
      ],
      "text/plain": [
       "       ResponseId                                         MainBranch  \\\n",
       "0               1                                      None of these   \n",
       "1               2                     I am a developer by profession   \n",
       "2               3  I am not primarily a developer, but I write co...   \n",
       "...           ...                                                ...   \n",
       "73265       73266  I am not primarily a developer, but I write co...   \n",
       "73266       73267                     I am a developer by profession   \n",
       "73267       73268  I used to be a developer by profession, but no...   \n",
       "\n",
       "                                              Employment  ...  \\\n",
       "0                                                    NaN  ...   \n",
       "1                                    Employed, full-time  ...   \n",
       "2                                    Employed, full-time  ...   \n",
       "...                                                  ...  ...   \n",
       "73265                                Employed, full-time  ...   \n",
       "73266                                Employed, full-time  ...   \n",
       "73267  Independent contractor, freelancer, or self-em...  ...   \n",
       "\n",
       "                SurveyLength                  SurveyEase ConvertedCompYearly  \n",
       "0                        NaN                         NaN                 NaN  \n",
       "1                   Too long                   Difficult                 NaN  \n",
       "2      Appropriate in length  Neither easy nor difficult             40205.0  \n",
       "...                      ...                         ...                 ...  \n",
       "73265  Appropriate in length                        Easy                 NaN  \n",
       "73266  Appropriate in length                        Easy                 NaN  \n",
       "73267  Appropriate in length                        Easy                 NaN  \n",
       "\n",
       "[73268 rows x 79 columns]"
      ]
     },
     "execution_count": 8,
     "metadata": {},
     "output_type": "execute_result"
    }
   ],
   "source": [
    "#this set the number of columns or rows of the dataframe to be display\n",
    "pd.set_option('display.max_columns', 10)\n",
    "pd.set_option('display.max_columns', 6)\n",
    "pd.set_option('display.max_rows',6)\n",
    "df"
   ]
  },
  {
   "cell_type": "code",
   "execution_count": 4,
   "id": "5a09604d",
   "metadata": {},
   "outputs": [],
   "source": [
    "#Python dictionary to prepare manual dataset to create Pandas DataFrame\n",
    "people = {\n",
    "    'id': [1001,1003,1002,1004,1005,1006,1007,1008,1009,1010],\n",
    "    'fname': ['Jack','Tom','Traci','Rosy','Jack','Jhon','Jenny','Tom','Raj','Terry'],\n",
    "    'lname': ['Foly','Alter','Saw','Burk','jack@email','Dow','Dow','Hanks','Saurabh','Dow'], \n",
    "    'email': ['jack.foly@email','tom.alter@email','traci.saw@email','rosy.burk@email','jack@email','jhon.dow@email.com','jenny.dow@email.com','tom.hanks@email.com','saurabh.raj@email.com','td@email.com'],\n",
    "    'country':['USA','UK','India','Canada','Germany','USA','USA','UK','India', 'USA'],\n",
    "    'work mode': ['remote','work from home','office','head office','remote','office','Remote','office','work from home','Office'],\n",
    "    'dept': ['IT','Sales','Marketing','Admin','Sales','Developer','Admin','Sales','VP','Finance'],\n",
    "    'emp_type':['emp','cwx','emp','cwx','emp','emp','cwx','emp','emp','emp'],\n",
    "    'language': ['English;French','Spanish;French;English','Dutch;English',\n",
    "                 'Finish;English;Python','English;Hindi;Java:Spanish','English:SQL:Python',\n",
    "                 'English;Unix','Hindi;Python-English','Dutch;Swiss;English','English'\n",
    "                ]\n",
    "         }"
   ]
  },
  {
   "cell_type": "code",
   "execution_count": 5,
   "id": "63f25786",
   "metadata": {
    "scrolled": true
   },
   "outputs": [
    {
     "data": {
      "text/plain": [
       "['jack.foly@email',\n",
       " 'tom.alter@email',\n",
       " 'traci.saw@email',\n",
       " 'rosy.burk@email',\n",
       " 'jack@email',\n",
       " 'jhon.dow@email.com',\n",
       " 'jenny.dow@email.com',\n",
       " 'tom.hanks@email.com',\n",
       " 'saurabh.raj@email.com',\n",
       " 'td@email.com']"
      ]
     },
     "execution_count": 5,
     "metadata": {},
     "output_type": "execute_result"
    }
   ],
   "source": [
    "#Way to access python dictionary\n",
    "people['email']"
   ]
  },
  {
   "cell_type": "code",
   "execution_count": 7,
   "id": "f0aae670",
   "metadata": {},
   "outputs": [],
   "source": [
    "#Pandas dataframe is similar but proivde more functionality over data and can visulize more redable form\n",
    "\n",
    "import pandas as pd\n",
    "df_people = pd.DataFrame(people)\n",
    "\n",
    "#access dataframe multiple column values\n",
    "#df_people[['fname','lname']]\n",
    "#df_people\n"
   ]
  },
  {
   "cell_type": "code",
   "execution_count": 8,
   "id": "01bbd5fd",
   "metadata": {},
   "outputs": [
    {
     "data": {
      "text/html": [
       "<div>\n",
       "<style scoped>\n",
       "    .dataframe tbody tr th:only-of-type {\n",
       "        vertical-align: middle;\n",
       "    }\n",
       "\n",
       "    .dataframe tbody tr th {\n",
       "        vertical-align: top;\n",
       "    }\n",
       "\n",
       "    .dataframe thead th {\n",
       "        text-align: right;\n",
       "    }\n",
       "</style>\n",
       "<table border=\"1\" class=\"dataframe\">\n",
       "  <thead>\n",
       "    <tr style=\"text-align: right;\">\n",
       "      <th></th>\n",
       "      <th>id</th>\n",
       "      <th>fname</th>\n",
       "      <th>lname</th>\n",
       "      <th>email</th>\n",
       "      <th>country</th>\n",
       "      <th>work mode</th>\n",
       "      <th>dept</th>\n",
       "      <th>emp_type</th>\n",
       "      <th>language</th>\n",
       "    </tr>\n",
       "  </thead>\n",
       "  <tbody>\n",
       "    <tr>\n",
       "      <th>1</th>\n",
       "      <td>1003</td>\n",
       "      <td>Tom</td>\n",
       "      <td>Alter</td>\n",
       "      <td>tom.alter@email</td>\n",
       "      <td>UK</td>\n",
       "      <td>work from home</td>\n",
       "      <td>Sales</td>\n",
       "      <td>cwx</td>\n",
       "      <td>Spanish;French;English</td>\n",
       "    </tr>\n",
       "    <tr>\n",
       "      <th>2</th>\n",
       "      <td>1002</td>\n",
       "      <td>Traci</td>\n",
       "      <td>Saw</td>\n",
       "      <td>traci.saw@email</td>\n",
       "      <td>India</td>\n",
       "      <td>office</td>\n",
       "      <td>Marketing</td>\n",
       "      <td>emp</td>\n",
       "      <td>Dutch;English</td>\n",
       "    </tr>\n",
       "    <tr>\n",
       "      <th>3</th>\n",
       "      <td>1004</td>\n",
       "      <td>Rosy</td>\n",
       "      <td>Burk</td>\n",
       "      <td>rosy.burk@email</td>\n",
       "      <td>Canada</td>\n",
       "      <td>head office</td>\n",
       "      <td>Admin</td>\n",
       "      <td>cwx</td>\n",
       "      <td>Finish;English;Python</td>\n",
       "    </tr>\n",
       "  </tbody>\n",
       "</table>\n",
       "</div>"
      ],
      "text/plain": [
       "     id  fname  lname            email country       work mode       dept  \\\n",
       "1  1003    Tom  Alter  tom.alter@email      UK  work from home      Sales   \n",
       "2  1002  Traci    Saw  traci.saw@email   India          office  Marketing   \n",
       "3  1004   Rosy   Burk  rosy.burk@email  Canada     head office      Admin   \n",
       "\n",
       "  emp_type                language  \n",
       "1      cwx  Spanish;French;English  \n",
       "2      emp           Dutch;English  \n",
       "3      cwx   Finish;English;Python  "
      ]
     },
     "execution_count": 8,
     "metadata": {},
     "output_type": "execute_result"
    }
   ],
   "source": [
    "pd.set_option('display.max_columns',10)\n",
    "#accessing row using integer location iloc method, additionally you can locate range of records by using the : colon\n",
    "#or use the list squar bracket to pass the record index to diaplay, remember end range number is excluded\n",
    "df_people.iloc[1:4]"
   ]
  },
  {
   "cell_type": "code",
   "execution_count": 9,
   "id": "0ed79d2c",
   "metadata": {},
   "outputs": [
    {
     "data": {
      "text/html": [
       "<div>\n",
       "<style scoped>\n",
       "    .dataframe tbody tr th:only-of-type {\n",
       "        vertical-align: middle;\n",
       "    }\n",
       "\n",
       "    .dataframe tbody tr th {\n",
       "        vertical-align: top;\n",
       "    }\n",
       "\n",
       "    .dataframe thead th {\n",
       "        text-align: right;\n",
       "    }\n",
       "</style>\n",
       "<table border=\"1\" class=\"dataframe\">\n",
       "  <thead>\n",
       "    <tr style=\"text-align: right;\">\n",
       "      <th></th>\n",
       "      <th>id</th>\n",
       "      <th>fname</th>\n",
       "      <th>lname</th>\n",
       "      <th>email</th>\n",
       "      <th>country</th>\n",
       "      <th>work mode</th>\n",
       "      <th>dept</th>\n",
       "      <th>emp_type</th>\n",
       "      <th>language</th>\n",
       "    </tr>\n",
       "  </thead>\n",
       "  <tbody>\n",
       "    <tr>\n",
       "      <th>1</th>\n",
       "      <td>1003</td>\n",
       "      <td>Tom</td>\n",
       "      <td>Alter</td>\n",
       "      <td>tom.alter@email</td>\n",
       "      <td>UK</td>\n",
       "      <td>work from home</td>\n",
       "      <td>Sales</td>\n",
       "      <td>cwx</td>\n",
       "      <td>Spanish;French;English</td>\n",
       "    </tr>\n",
       "    <tr>\n",
       "      <th>2</th>\n",
       "      <td>1002</td>\n",
       "      <td>Traci</td>\n",
       "      <td>Saw</td>\n",
       "      <td>traci.saw@email</td>\n",
       "      <td>India</td>\n",
       "      <td>office</td>\n",
       "      <td>Marketing</td>\n",
       "      <td>emp</td>\n",
       "      <td>Dutch;English</td>\n",
       "    </tr>\n",
       "    <tr>\n",
       "      <th>3</th>\n",
       "      <td>1004</td>\n",
       "      <td>Rosy</td>\n",
       "      <td>Burk</td>\n",
       "      <td>rosy.burk@email</td>\n",
       "      <td>Canada</td>\n",
       "      <td>head office</td>\n",
       "      <td>Admin</td>\n",
       "      <td>cwx</td>\n",
       "      <td>Finish;English;Python</td>\n",
       "    </tr>\n",
       "    <tr>\n",
       "      <th>4</th>\n",
       "      <td>1005</td>\n",
       "      <td>Jack</td>\n",
       "      <td>jack@email</td>\n",
       "      <td>jack@email</td>\n",
       "      <td>Germany</td>\n",
       "      <td>remote</td>\n",
       "      <td>Sales</td>\n",
       "      <td>emp</td>\n",
       "      <td>English;Hindi;Java:Spanish</td>\n",
       "    </tr>\n",
       "  </tbody>\n",
       "</table>\n",
       "</div>"
      ],
      "text/plain": [
       "     id  fname       lname            email  country       work mode  \\\n",
       "1  1003    Tom       Alter  tom.alter@email       UK  work from home   \n",
       "2  1002  Traci         Saw  traci.saw@email    India          office   \n",
       "3  1004   Rosy        Burk  rosy.burk@email   Canada     head office   \n",
       "4  1005   Jack  jack@email       jack@email  Germany          remote   \n",
       "\n",
       "        dept emp_type                    language  \n",
       "1      Sales      cwx      Spanish;French;English  \n",
       "2  Marketing      emp               Dutch;English  \n",
       "3      Admin      cwx       Finish;English;Python  \n",
       "4      Sales      emp  English;Hindi;Java:Spanish  "
      ]
     },
     "execution_count": 9,
     "metadata": {},
     "output_type": "execute_result"
    }
   ],
   "source": [
    "df_people.iloc[[1,2,3,4]]"
   ]
  },
  {
   "cell_type": "code",
   "execution_count": 10,
   "id": "80e13e9e",
   "metadata": {},
   "outputs": [
    {
     "data": {
      "text/plain": [
       "Index(['id', 'fname', 'lname', 'email', 'country', 'work mode', 'dept',\n",
       "       'emp_type', 'language'],\n",
       "      dtype='object')"
      ]
     },
     "execution_count": 10,
     "metadata": {},
     "output_type": "execute_result"
    }
   ],
   "source": [
    "#listout the dataframe columns\n",
    "df_people.columns"
   ]
  },
  {
   "cell_type": "code",
   "execution_count": 11,
   "id": "ade879e9",
   "metadata": {},
   "outputs": [
    {
     "data": {
      "text/plain": [
       "RangeIndex(start=0, stop=10, step=1)"
      ]
     },
     "execution_count": 11,
     "metadata": {},
     "output_type": "execute_result"
    }
   ],
   "source": [
    "#Info about DataFrame row index, starting row index and Df last record df \n",
    "df_people.index"
   ]
  },
  {
   "cell_type": "markdown",
   "id": "8b875426",
   "metadata": {},
   "source": [
    "# Note: You can also access the df by dot notation, but be caucious when df column and method name are same in this case python will call method rather then column\n",
    "\n",
    "if you have column name EMP as well as method EMP in this case python will use method or give error better use the brackets for best practice"
   ]
  },
  {
   "cell_type": "code",
   "execution_count": 12,
   "id": "d89bb03e",
   "metadata": {},
   "outputs": [
    {
     "data": {
      "text/plain": [
       "0     Jack\n",
       "1      Tom\n",
       "2    Traci\n",
       "3     Rosy\n",
       "4     Jack\n",
       "5     Jhon\n",
       "6    Jenny\n",
       "7      Tom\n",
       "8      Raj\n",
       "9    Terry\n",
       "Name: fname, dtype: object"
      ]
     },
     "execution_count": 12,
     "metadata": {},
     "output_type": "execute_result"
    }
   ],
   "source": [
    "df_people.fname"
   ]
  },
  {
   "cell_type": "code",
   "execution_count": 13,
   "id": "b61ca8ea",
   "metadata": {},
   "outputs": [
    {
     "data": {
      "text/plain": [
       "pandas.core.frame.DataFrame"
      ]
     },
     "execution_count": 13,
     "metadata": {},
     "output_type": "execute_result"
    }
   ],
   "source": [
    "#multiple column is not series type its again a df\n",
    "#series is one diamentional array for one column and values\n",
    "type(df_people[['fname','lname']])"
   ]
  },
  {
   "cell_type": "code",
   "execution_count": 14,
   "id": "bbe0d82a",
   "metadata": {},
   "outputs": [
    {
     "data": {
      "text/html": [
       "<div>\n",
       "<style scoped>\n",
       "    .dataframe tbody tr th:only-of-type {\n",
       "        vertical-align: middle;\n",
       "    }\n",
       "\n",
       "    .dataframe tbody tr th {\n",
       "        vertical-align: top;\n",
       "    }\n",
       "\n",
       "    .dataframe thead th {\n",
       "        text-align: right;\n",
       "    }\n",
       "</style>\n",
       "<table border=\"1\" class=\"dataframe\">\n",
       "  <thead>\n",
       "    <tr style=\"text-align: right;\">\n",
       "      <th></th>\n",
       "      <th>fname</th>\n",
       "      <th>email</th>\n",
       "      <th>work mode</th>\n",
       "      <th>id</th>\n",
       "    </tr>\n",
       "  </thead>\n",
       "  <tbody>\n",
       "    <tr>\n",
       "      <th>0</th>\n",
       "      <td>Jack</td>\n",
       "      <td>jack.foly@email</td>\n",
       "      <td>remote</td>\n",
       "      <td>1001</td>\n",
       "    </tr>\n",
       "    <tr>\n",
       "      <th>1</th>\n",
       "      <td>Tom</td>\n",
       "      <td>tom.alter@email</td>\n",
       "      <td>work from home</td>\n",
       "      <td>1003</td>\n",
       "    </tr>\n",
       "    <tr>\n",
       "      <th>2</th>\n",
       "      <td>Traci</td>\n",
       "      <td>traci.saw@email</td>\n",
       "      <td>office</td>\n",
       "      <td>1002</td>\n",
       "    </tr>\n",
       "    <tr>\n",
       "      <th>3</th>\n",
       "      <td>Rosy</td>\n",
       "      <td>rosy.burk@email</td>\n",
       "      <td>head office</td>\n",
       "      <td>1004</td>\n",
       "    </tr>\n",
       "    <tr>\n",
       "      <th>4</th>\n",
       "      <td>Jack</td>\n",
       "      <td>jack@email</td>\n",
       "      <td>remote</td>\n",
       "      <td>1005</td>\n",
       "    </tr>\n",
       "    <tr>\n",
       "      <th>5</th>\n",
       "      <td>Jhon</td>\n",
       "      <td>jhon.dow@email.com</td>\n",
       "      <td>office</td>\n",
       "      <td>1006</td>\n",
       "    </tr>\n",
       "    <tr>\n",
       "      <th>6</th>\n",
       "      <td>Jenny</td>\n",
       "      <td>jenny.dow@email.com</td>\n",
       "      <td>Remote</td>\n",
       "      <td>1007</td>\n",
       "    </tr>\n",
       "    <tr>\n",
       "      <th>7</th>\n",
       "      <td>Tom</td>\n",
       "      <td>tom.hanks@email.com</td>\n",
       "      <td>office</td>\n",
       "      <td>1008</td>\n",
       "    </tr>\n",
       "    <tr>\n",
       "      <th>8</th>\n",
       "      <td>Raj</td>\n",
       "      <td>saurabh.raj@email.com</td>\n",
       "      <td>work from home</td>\n",
       "      <td>1009</td>\n",
       "    </tr>\n",
       "    <tr>\n",
       "      <th>9</th>\n",
       "      <td>Terry</td>\n",
       "      <td>td@email.com</td>\n",
       "      <td>Office</td>\n",
       "      <td>1010</td>\n",
       "    </tr>\n",
       "  </tbody>\n",
       "</table>\n",
       "</div>"
      ],
      "text/plain": [
       "   fname                  email       work mode    id\n",
       "0   Jack        jack.foly@email          remote  1001\n",
       "1    Tom        tom.alter@email  work from home  1003\n",
       "2  Traci        traci.saw@email          office  1002\n",
       "3   Rosy        rosy.burk@email     head office  1004\n",
       "4   Jack             jack@email          remote  1005\n",
       "5   Jhon     jhon.dow@email.com          office  1006\n",
       "6  Jenny    jenny.dow@email.com          Remote  1007\n",
       "7    Tom    tom.hanks@email.com          office  1008\n",
       "8    Raj  saurabh.raj@email.com  work from home  1009\n",
       "9  Terry           td@email.com          Office  1010"
      ]
     },
     "execution_count": 14,
     "metadata": {},
     "output_type": "execute_result"
    }
   ],
   "source": [
    "#access data frame column's\n",
    "pd.set_option('display.max_rows',10)\n",
    "df_people[['fname','email','work mode','id']]"
   ]
  },
  {
   "cell_type": "code",
   "execution_count": 18,
   "id": "c7698486",
   "metadata": {
    "scrolled": true
   },
   "outputs": [
    {
     "data": {
      "text/html": [
       "<div>\n",
       "<style scoped>\n",
       "    .dataframe tbody tr th:only-of-type {\n",
       "        vertical-align: middle;\n",
       "    }\n",
       "\n",
       "    .dataframe tbody tr th {\n",
       "        vertical-align: top;\n",
       "    }\n",
       "\n",
       "    .dataframe thead th {\n",
       "        text-align: right;\n",
       "    }\n",
       "</style>\n",
       "<table border=\"1\" class=\"dataframe\">\n",
       "  <thead>\n",
       "    <tr style=\"text-align: right;\">\n",
       "      <th></th>\n",
       "      <th>id</th>\n",
       "      <th>fname</th>\n",
       "      <th>lname</th>\n",
       "      <th>email</th>\n",
       "      <th>country</th>\n",
       "      <th>work mode</th>\n",
       "      <th>dept</th>\n",
       "      <th>emp_type</th>\n",
       "      <th>language</th>\n",
       "    </tr>\n",
       "  </thead>\n",
       "  <tbody>\n",
       "    <tr>\n",
       "      <th>4</th>\n",
       "      <td>1005</td>\n",
       "      <td>Jack</td>\n",
       "      <td>jack@email</td>\n",
       "      <td>jack@email</td>\n",
       "      <td>Germany</td>\n",
       "      <td>remote</td>\n",
       "      <td>Sales</td>\n",
       "      <td>emp</td>\n",
       "      <td>English;Hindi;Java:Spanish</td>\n",
       "    </tr>\n",
       "  </tbody>\n",
       "</table>\n",
       "</div>"
      ],
      "text/plain": [
       "     id fname       lname       email  country work mode   dept emp_type  \\\n",
       "4  1005  Jack  jack@email  jack@email  Germany    remote  Sales      emp   \n",
       "\n",
       "                     language  \n",
       "4  English;Hindi;Java:Spanish  "
      ]
     },
     "execution_count": 18,
     "metadata": {},
     "output_type": "execute_result"
    }
   ],
   "source": [
    "#filtering specific record from dataframe without loc or iloc\n",
    "df_people[(df_people['work mode']=='remote') & (df_people['email']=='jack@email')] # [['fname','lname']] give 2 field only\n",
    "\n",
    "df_people[(df_people['work mode']=='remote') & (df_people['email']=='jack@email')]\n"
   ]
  },
  {
   "cell_type": "code",
   "execution_count": null,
   "id": "aa38eea8",
   "metadata": {},
   "outputs": [],
   "source": [
    "\n",
    "type(df_people['fname'])"
   ]
  },
  {
   "cell_type": "markdown",
   "id": "5796158b",
   "metadata": {},
   "source": [
    "# value.counts() method can also be use as group by clause to group the data based on number of columns "
   ]
  },
  {
   "cell_type": "code",
   "execution_count": null,
   "id": "30701602",
   "metadata": {
    "scrolled": true
   },
   "outputs": [],
   "source": [
    "#count the values get percentage %age instead of count use normalize=True for decimal %age additionally you can add *100\n",
    "#df_people.rename(columns={'work mode':'work_mode'}, inplace=True)\n",
    "df_people[['fname','work_mode']].value_counts(normalize=True)\n",
    "\n"
   ]
  },
  {
   "cell_type": "markdown",
   "id": "bc9e8ab3",
   "metadata": {},
   "source": [
    "# rename DataFrame column name df.rename(columns = {old:new,}, inplace=True)"
   ]
  },
  {
   "cell_type": "code",
   "execution_count": null,
   "id": "7a61c8e9",
   "metadata": {},
   "outputs": [],
   "source": [
    "df_people.rename(columns = {'work mode':'work_mode'}, inplace=True)"
   ]
  },
  {
   "cell_type": "code",
   "execution_count": null,
   "id": "cc576cef",
   "metadata": {
    "scrolled": true
   },
   "outputs": [],
   "source": [
    "df_people.reset_index(inplace=True)"
   ]
  },
  {
   "cell_type": "code",
   "execution_count": null,
   "id": "40aa5897",
   "metadata": {},
   "outputs": [],
   "source": [
    "#loc[row/[rows]], column/[columns] for range no need to use the list bracket\n",
    "df_people.loc[[1,2], ['email','fname']]"
   ]
  },
  {
   "cell_type": "code",
   "execution_count": null,
   "id": "3e3d80d6",
   "metadata": {},
   "outputs": [],
   "source": [
    "df_people.set_index('id', inplace=True)"
   ]
  },
  {
   "cell_type": "code",
   "execution_count": null,
   "id": "498fa677",
   "metadata": {},
   "outputs": [],
   "source": [
    "#though index is changed to id but iloc still using the numerical index values\n",
    "df_people.iloc[[1,2,0],[1,4,5]]"
   ]
  },
  {
   "cell_type": "code",
   "execution_count": null,
   "id": "30aa6817",
   "metadata": {},
   "outputs": [],
   "source": [
    "df_people.columns"
   ]
  },
  {
   "cell_type": "raw",
   "id": "9169433c",
   "metadata": {},
   "source": [
    "loc and iloc\n",
    "#iloc and loc both reference to dataframe rows by index, iloc access integer index where loc access rows by label\n",
    "\n",
    "# Query Dataframe Rows use the loc and iloc (iloc is integer location of row) and loc row label both point to row only\n",
    "eg. if you have reset your default index(0-~)you can not give reference to filter row on index 0 or 1 because this index is no longer available, but you can still refer the loc which is label like record 1 or 10th record etc\n",
    "iloc: search by row index\n",
    "loc: search by label"
   ]
  },
  {
   "cell_type": "code",
   "execution_count": null,
   "id": "8f782fcb",
   "metadata": {},
   "outputs": [],
   "source": [
    "\n",
    "df.iloc[[0,2]]\n",
    "#if we want email column for selected two row in this case use the column index outside list\n",
    "\n",
    "df.iloc[[0,2],1:3]\n",
    "#df"
   ]
  },
  {
   "cell_type": "code",
   "execution_count": null,
   "id": "6e07ea97",
   "metadata": {},
   "outputs": [],
   "source": [
    "df_people"
   ]
  },
  {
   "cell_type": "code",
   "execution_count": 19,
   "id": "1f955220",
   "metadata": {
    "scrolled": true
   },
   "outputs": [
    {
     "data": {
      "text/plain": [
       "0    4\n",
       "1    3\n",
       "2    5\n",
       "3    4\n",
       "4    4\n",
       "5    4\n",
       "6    5\n",
       "7    3\n",
       "8    3\n",
       "9    5\n",
       "Name: fname, dtype: int64"
      ]
     },
     "execution_count": 19,
     "metadata": {},
     "output_type": "execute_result"
    }
   ],
   "source": [
    "# apply is used to apply the method on the dataframe or run the lambda etc, see the eg custom function\n",
    "#Note apply works on series means single column if you want to apply the function on all columns use applymap\n",
    "df_people['fname'].apply(len)"
   ]
  },
  {
   "cell_type": "code",
   "execution_count": 20,
   "id": "2a07236f",
   "metadata": {
    "scrolled": true
   },
   "outputs": [
    {
     "data": {
      "text/plain": [
       "fname    10\n",
       "fname    10\n",
       "email    10\n",
       "dtype: int64"
      ]
     },
     "execution_count": 20,
     "metadata": {},
     "output_type": "execute_result"
    }
   ],
   "source": [
    "df_people[['fname','fname','email']].apply(len)"
   ]
  },
  {
   "cell_type": "code",
   "execution_count": 29,
   "id": "eea342c9",
   "metadata": {},
   "outputs": [],
   "source": [
    "def email_case(email):\n",
    "    return email.upper()\n",
    "\n",
    "#email_case(df_people['email']) this will fail with erro that 'Series' object has no attribute 'upper' instead use the apply"
   ]
  },
  {
   "cell_type": "code",
   "execution_count": 31,
   "id": "4b3470a4",
   "metadata": {},
   "outputs": [],
   "source": [
    "#df_people['email'].apply(email_case) #to apply the changes assign it to series as below\n",
    "df_people['email'] = df_people['email'].apply(email_case)"
   ]
  },
  {
   "cell_type": "code",
   "execution_count": 26,
   "id": "1f480c59",
   "metadata": {},
   "outputs": [
    {
     "data": {
      "text/html": [
       "<div>\n",
       "<style scoped>\n",
       "    .dataframe tbody tr th:only-of-type {\n",
       "        vertical-align: middle;\n",
       "    }\n",
       "\n",
       "    .dataframe tbody tr th {\n",
       "        vertical-align: top;\n",
       "    }\n",
       "\n",
       "    .dataframe thead th {\n",
       "        text-align: right;\n",
       "    }\n",
       "</style>\n",
       "<table border=\"1\" class=\"dataframe\">\n",
       "  <thead>\n",
       "    <tr style=\"text-align: right;\">\n",
       "      <th></th>\n",
       "      <th>id</th>\n",
       "      <th>fname</th>\n",
       "      <th>lname</th>\n",
       "      <th>email</th>\n",
       "      <th>country</th>\n",
       "      <th>work mode</th>\n",
       "      <th>dept</th>\n",
       "      <th>emp_type</th>\n",
       "      <th>language</th>\n",
       "    </tr>\n",
       "  </thead>\n",
       "  <tbody>\n",
       "    <tr>\n",
       "      <th>0</th>\n",
       "      <td>1001</td>\n",
       "      <td>Jack</td>\n",
       "      <td>Foly</td>\n",
       "      <td>JACK.FOLY@EMAIL</td>\n",
       "      <td>USA</td>\n",
       "      <td>remote</td>\n",
       "      <td>IT</td>\n",
       "      <td>emp</td>\n",
       "      <td>English;French</td>\n",
       "    </tr>\n",
       "    <tr>\n",
       "      <th>1</th>\n",
       "      <td>1003</td>\n",
       "      <td>Tom</td>\n",
       "      <td>Alter</td>\n",
       "      <td>TOM.ALTER@EMAIL</td>\n",
       "      <td>UK</td>\n",
       "      <td>work from home</td>\n",
       "      <td>Sales</td>\n",
       "      <td>cwx</td>\n",
       "      <td>Spanish;French;English</td>\n",
       "    </tr>\n",
       "    <tr>\n",
       "      <th>2</th>\n",
       "      <td>1002</td>\n",
       "      <td>Traci</td>\n",
       "      <td>Saw</td>\n",
       "      <td>TRACI.SAW@EMAIL</td>\n",
       "      <td>India</td>\n",
       "      <td>office</td>\n",
       "      <td>Marketing</td>\n",
       "      <td>emp</td>\n",
       "      <td>Dutch;English</td>\n",
       "    </tr>\n",
       "    <tr>\n",
       "      <th>3</th>\n",
       "      <td>1004</td>\n",
       "      <td>Rosy</td>\n",
       "      <td>Burk</td>\n",
       "      <td>ROSY.BURK@EMAIL</td>\n",
       "      <td>Canada</td>\n",
       "      <td>head office</td>\n",
       "      <td>Admin</td>\n",
       "      <td>cwx</td>\n",
       "      <td>Finish;English;Python</td>\n",
       "    </tr>\n",
       "    <tr>\n",
       "      <th>4</th>\n",
       "      <td>1005</td>\n",
       "      <td>Jack</td>\n",
       "      <td>jack@email</td>\n",
       "      <td>JACK@EMAIL</td>\n",
       "      <td>Germany</td>\n",
       "      <td>remote</td>\n",
       "      <td>Sales</td>\n",
       "      <td>emp</td>\n",
       "      <td>English;Hindi;Java:Spanish</td>\n",
       "    </tr>\n",
       "    <tr>\n",
       "      <th>5</th>\n",
       "      <td>1006</td>\n",
       "      <td>Jhon</td>\n",
       "      <td>Dow</td>\n",
       "      <td>JHON.DOW@EMAIL.COM</td>\n",
       "      <td>USA</td>\n",
       "      <td>office</td>\n",
       "      <td>Developer</td>\n",
       "      <td>emp</td>\n",
       "      <td>English:SQL:Python</td>\n",
       "    </tr>\n",
       "    <tr>\n",
       "      <th>6</th>\n",
       "      <td>1007</td>\n",
       "      <td>Jenny</td>\n",
       "      <td>Dow</td>\n",
       "      <td>JENNY.DOW@EMAIL.COM</td>\n",
       "      <td>USA</td>\n",
       "      <td>Remote</td>\n",
       "      <td>Admin</td>\n",
       "      <td>cwx</td>\n",
       "      <td>English;Unix</td>\n",
       "    </tr>\n",
       "    <tr>\n",
       "      <th>7</th>\n",
       "      <td>1008</td>\n",
       "      <td>Tom</td>\n",
       "      <td>Hanks</td>\n",
       "      <td>TOM.HANKS@EMAIL.COM</td>\n",
       "      <td>UK</td>\n",
       "      <td>office</td>\n",
       "      <td>Sales</td>\n",
       "      <td>emp</td>\n",
       "      <td>Hindi;Python-English</td>\n",
       "    </tr>\n",
       "    <tr>\n",
       "      <th>8</th>\n",
       "      <td>1009</td>\n",
       "      <td>Raj</td>\n",
       "      <td>Saurabh</td>\n",
       "      <td>SAURABH.RAJ@EMAIL.COM</td>\n",
       "      <td>India</td>\n",
       "      <td>work from home</td>\n",
       "      <td>VP</td>\n",
       "      <td>emp</td>\n",
       "      <td>Dutch;Swiss;English</td>\n",
       "    </tr>\n",
       "    <tr>\n",
       "      <th>9</th>\n",
       "      <td>1010</td>\n",
       "      <td>Terry</td>\n",
       "      <td>Dow</td>\n",
       "      <td>TD@EMAIL.COM</td>\n",
       "      <td>USA</td>\n",
       "      <td>Office</td>\n",
       "      <td>Finance</td>\n",
       "      <td>emp</td>\n",
       "      <td>English</td>\n",
       "    </tr>\n",
       "  </tbody>\n",
       "</table>\n",
       "</div>"
      ],
      "text/plain": [
       "     id  fname       lname                  email  country       work mode  \\\n",
       "0  1001   Jack        Foly        JACK.FOLY@EMAIL      USA          remote   \n",
       "1  1003    Tom       Alter        TOM.ALTER@EMAIL       UK  work from home   \n",
       "2  1002  Traci         Saw        TRACI.SAW@EMAIL    India          office   \n",
       "3  1004   Rosy        Burk        ROSY.BURK@EMAIL   Canada     head office   \n",
       "4  1005   Jack  jack@email             JACK@EMAIL  Germany          remote   \n",
       "5  1006   Jhon         Dow     JHON.DOW@EMAIL.COM      USA          office   \n",
       "6  1007  Jenny         Dow    JENNY.DOW@EMAIL.COM      USA          Remote   \n",
       "7  1008    Tom       Hanks    TOM.HANKS@EMAIL.COM       UK          office   \n",
       "8  1009    Raj     Saurabh  SAURABH.RAJ@EMAIL.COM    India  work from home   \n",
       "9  1010  Terry         Dow           TD@EMAIL.COM      USA          Office   \n",
       "\n",
       "        dept emp_type                    language  \n",
       "0         IT      emp              English;French  \n",
       "1      Sales      cwx      Spanish;French;English  \n",
       "2  Marketing      emp               Dutch;English  \n",
       "3      Admin      cwx       Finish;English;Python  \n",
       "4      Sales      emp  English;Hindi;Java:Spanish  \n",
       "5  Developer      emp          English:SQL:Python  \n",
       "6      Admin      cwx                English;Unix  \n",
       "7      Sales      emp        Hindi;Python-English  \n",
       "8         VP      emp         Dutch;Swiss;English  \n",
       "9    Finance      emp                     English  "
      ]
     },
     "execution_count": 26,
     "metadata": {},
     "output_type": "execute_result"
    }
   ],
   "source": [
    "df_people"
   ]
  },
  {
   "cell_type": "code",
   "execution_count": 33,
   "id": "65734048",
   "metadata": {},
   "outputs": [
    {
     "data": {
      "text/html": [
       "<div>\n",
       "<style scoped>\n",
       "    .dataframe tbody tr th:only-of-type {\n",
       "        vertical-align: middle;\n",
       "    }\n",
       "\n",
       "    .dataframe tbody tr th {\n",
       "        vertical-align: top;\n",
       "    }\n",
       "\n",
       "    .dataframe thead th {\n",
       "        text-align: right;\n",
       "    }\n",
       "</style>\n",
       "<table border=\"1\" class=\"dataframe\">\n",
       "  <thead>\n",
       "    <tr style=\"text-align: right;\">\n",
       "      <th></th>\n",
       "      <th>id</th>\n",
       "      <th>fname</th>\n",
       "      <th>lname</th>\n",
       "      <th>email</th>\n",
       "      <th>country</th>\n",
       "      <th>work mode</th>\n",
       "      <th>dept</th>\n",
       "      <th>emp_type</th>\n",
       "      <th>language</th>\n",
       "    </tr>\n",
       "  </thead>\n",
       "  <tbody>\n",
       "    <tr>\n",
       "      <th>0</th>\n",
       "      <td>1001</td>\n",
       "      <td>Jack</td>\n",
       "      <td>Foly</td>\n",
       "      <td>jack.foly@email</td>\n",
       "      <td>USA</td>\n",
       "      <td>remote</td>\n",
       "      <td>IT</td>\n",
       "      <td>emp</td>\n",
       "      <td>English;French</td>\n",
       "    </tr>\n",
       "    <tr>\n",
       "      <th>1</th>\n",
       "      <td>1003</td>\n",
       "      <td>Tom</td>\n",
       "      <td>Alter</td>\n",
       "      <td>tom.alter@email</td>\n",
       "      <td>UK</td>\n",
       "      <td>work from home</td>\n",
       "      <td>Sales</td>\n",
       "      <td>cwx</td>\n",
       "      <td>Spanish;French;English</td>\n",
       "    </tr>\n",
       "    <tr>\n",
       "      <th>2</th>\n",
       "      <td>1002</td>\n",
       "      <td>Traci</td>\n",
       "      <td>Saw</td>\n",
       "      <td>traci.saw@email</td>\n",
       "      <td>India</td>\n",
       "      <td>office</td>\n",
       "      <td>Marketing</td>\n",
       "      <td>emp</td>\n",
       "      <td>Dutch;English</td>\n",
       "    </tr>\n",
       "    <tr>\n",
       "      <th>3</th>\n",
       "      <td>1004</td>\n",
       "      <td>Rosy</td>\n",
       "      <td>Burk</td>\n",
       "      <td>rosy.burk@email</td>\n",
       "      <td>Canada</td>\n",
       "      <td>head office</td>\n",
       "      <td>Admin</td>\n",
       "      <td>cwx</td>\n",
       "      <td>Finish;English;Python</td>\n",
       "    </tr>\n",
       "    <tr>\n",
       "      <th>4</th>\n",
       "      <td>1005</td>\n",
       "      <td>Jack</td>\n",
       "      <td>jack@email</td>\n",
       "      <td>jack@email</td>\n",
       "      <td>Germany</td>\n",
       "      <td>remote</td>\n",
       "      <td>Sales</td>\n",
       "      <td>emp</td>\n",
       "      <td>English;Hindi;Java:Spanish</td>\n",
       "    </tr>\n",
       "    <tr>\n",
       "      <th>5</th>\n",
       "      <td>1006</td>\n",
       "      <td>Jhon</td>\n",
       "      <td>Dow</td>\n",
       "      <td>jhon.dow@email.com</td>\n",
       "      <td>USA</td>\n",
       "      <td>office</td>\n",
       "      <td>Developer</td>\n",
       "      <td>emp</td>\n",
       "      <td>English:SQL:Python</td>\n",
       "    </tr>\n",
       "    <tr>\n",
       "      <th>6</th>\n",
       "      <td>1007</td>\n",
       "      <td>Jenny</td>\n",
       "      <td>Dow</td>\n",
       "      <td>jenny.dow@email.com</td>\n",
       "      <td>USA</td>\n",
       "      <td>Remote</td>\n",
       "      <td>Admin</td>\n",
       "      <td>cwx</td>\n",
       "      <td>English;Unix</td>\n",
       "    </tr>\n",
       "    <tr>\n",
       "      <th>7</th>\n",
       "      <td>1008</td>\n",
       "      <td>Tom</td>\n",
       "      <td>Hanks</td>\n",
       "      <td>tom.hanks@email.com</td>\n",
       "      <td>UK</td>\n",
       "      <td>office</td>\n",
       "      <td>Sales</td>\n",
       "      <td>emp</td>\n",
       "      <td>Hindi;Python-English</td>\n",
       "    </tr>\n",
       "    <tr>\n",
       "      <th>8</th>\n",
       "      <td>1009</td>\n",
       "      <td>Raj</td>\n",
       "      <td>Saurabh</td>\n",
       "      <td>saurabh.raj@email.com</td>\n",
       "      <td>India</td>\n",
       "      <td>work from home</td>\n",
       "      <td>VP</td>\n",
       "      <td>emp</td>\n",
       "      <td>Dutch;Swiss;English</td>\n",
       "    </tr>\n",
       "    <tr>\n",
       "      <th>9</th>\n",
       "      <td>1010</td>\n",
       "      <td>Terry</td>\n",
       "      <td>Dow</td>\n",
       "      <td>td@email.com</td>\n",
       "      <td>USA</td>\n",
       "      <td>Office</td>\n",
       "      <td>Finance</td>\n",
       "      <td>emp</td>\n",
       "      <td>English</td>\n",
       "    </tr>\n",
       "  </tbody>\n",
       "</table>\n",
       "</div>"
      ],
      "text/plain": [
       "     id  fname       lname                  email  country       work mode  \\\n",
       "0  1001   Jack        Foly        jack.foly@email      USA          remote   \n",
       "1  1003    Tom       Alter        tom.alter@email       UK  work from home   \n",
       "2  1002  Traci         Saw        traci.saw@email    India          office   \n",
       "3  1004   Rosy        Burk        rosy.burk@email   Canada     head office   \n",
       "4  1005   Jack  jack@email             jack@email  Germany          remote   \n",
       "5  1006   Jhon         Dow     jhon.dow@email.com      USA          office   \n",
       "6  1007  Jenny         Dow    jenny.dow@email.com      USA          Remote   \n",
       "7  1008    Tom       Hanks    tom.hanks@email.com       UK          office   \n",
       "8  1009    Raj     Saurabh  saurabh.raj@email.com    India  work from home   \n",
       "9  1010  Terry         Dow           td@email.com      USA          Office   \n",
       "\n",
       "        dept emp_type                    language  \n",
       "0         IT      emp              English;French  \n",
       "1      Sales      cwx      Spanish;French;English  \n",
       "2  Marketing      emp               Dutch;English  \n",
       "3      Admin      cwx       Finish;English;Python  \n",
       "4      Sales      emp  English;Hindi;Java:Spanish  \n",
       "5  Developer      emp          English:SQL:Python  \n",
       "6      Admin      cwx                English;Unix  \n",
       "7      Sales      emp        Hindi;Python-English  \n",
       "8         VP      emp         Dutch;Swiss;English  \n",
       "9    Finance      emp                     English  "
      ]
     },
     "execution_count": 33,
     "metadata": {},
     "output_type": "execute_result"
    }
   ],
   "source": [
    "#you can also directly use the lambda to run the no name function in apply\n",
    "df_people['email'] = df_people['email'].apply(lambda x: x.lower())\n",
    "df_people #email changes back to lower case"
   ]
  },
  {
   "cell_type": "code",
   "execution_count": 34,
   "id": "aaa46a3f",
   "metadata": {},
   "outputs": [
    {
     "data": {
      "text/plain": [
       "0    9\n",
       "1    9\n",
       "2    9\n",
       "3    9\n",
       "4    9\n",
       "5    9\n",
       "6    9\n",
       "7    9\n",
       "8    9\n",
       "9    9\n",
       "dtype: int64"
      ]
     },
     "execution_count": 34,
     "metadata": {},
     "output_type": "execute_result"
    }
   ],
   "source": [
    "df_people.apply(len, axis='columns')\n",
    "#this tells numbers of columns in each row, axis='rows' is default"
   ]
  },
  {
   "cell_type": "code",
   "execution_count": null,
   "id": "fd1cca2d",
   "metadata": {},
   "outputs": [],
   "source": [
    "df_people.apply(len, axis='rows')"
   ]
  },
  {
   "cell_type": "code",
   "execution_count": 38,
   "id": "93c355a1",
   "metadata": {},
   "outputs": [
    {
     "data": {
      "text/html": [
       "<div>\n",
       "<style scoped>\n",
       "    .dataframe tbody tr th:only-of-type {\n",
       "        vertical-align: middle;\n",
       "    }\n",
       "\n",
       "    .dataframe tbody tr th {\n",
       "        vertical-align: top;\n",
       "    }\n",
       "\n",
       "    .dataframe thead th {\n",
       "        text-align: right;\n",
       "    }\n",
       "</style>\n",
       "<table border=\"1\" class=\"dataframe\">\n",
       "  <thead>\n",
       "    <tr style=\"text-align: right;\">\n",
       "      <th></th>\n",
       "      <th>id</th>\n",
       "      <th>fname</th>\n",
       "      <th>lname</th>\n",
       "      <th>email</th>\n",
       "      <th>country</th>\n",
       "      <th>work mode</th>\n",
       "      <th>dept</th>\n",
       "      <th>emp_type</th>\n",
       "      <th>language</th>\n",
       "    </tr>\n",
       "  </thead>\n",
       "  <tbody>\n",
       "    <tr>\n",
       "      <th>0</th>\n",
       "      <td>1001</td>\n",
       "      <td>Jack</td>\n",
       "      <td>Foly</td>\n",
       "      <td>JACK.FOLY@EMAIL</td>\n",
       "      <td>USA</td>\n",
       "      <td>remote</td>\n",
       "      <td>IT</td>\n",
       "      <td>emp</td>\n",
       "      <td>English;French</td>\n",
       "    </tr>\n",
       "    <tr>\n",
       "      <th>1</th>\n",
       "      <td>1003</td>\n",
       "      <td>Tom</td>\n",
       "      <td>Alter</td>\n",
       "      <td>TOM.ALTER@EMAIL</td>\n",
       "      <td>UK</td>\n",
       "      <td>work from home</td>\n",
       "      <td>SALES</td>\n",
       "      <td>cwx</td>\n",
       "      <td>Spanish;French;English</td>\n",
       "    </tr>\n",
       "    <tr>\n",
       "      <th>2</th>\n",
       "      <td>1002</td>\n",
       "      <td>Traci</td>\n",
       "      <td>Saw</td>\n",
       "      <td>TRACI.SAW@EMAIL</td>\n",
       "      <td>India</td>\n",
       "      <td>office</td>\n",
       "      <td>MARKETING</td>\n",
       "      <td>emp</td>\n",
       "      <td>Dutch;English</td>\n",
       "    </tr>\n",
       "    <tr>\n",
       "      <th>3</th>\n",
       "      <td>1004</td>\n",
       "      <td>Rosy</td>\n",
       "      <td>Burk</td>\n",
       "      <td>ROSY.BURK@EMAIL</td>\n",
       "      <td>Canada</td>\n",
       "      <td>head office</td>\n",
       "      <td>ADMIN</td>\n",
       "      <td>cwx</td>\n",
       "      <td>Finish;English;Python</td>\n",
       "    </tr>\n",
       "    <tr>\n",
       "      <th>4</th>\n",
       "      <td>1005</td>\n",
       "      <td>Jack</td>\n",
       "      <td>jack@email</td>\n",
       "      <td>JACK@EMAIL</td>\n",
       "      <td>Germany</td>\n",
       "      <td>remote</td>\n",
       "      <td>SALES</td>\n",
       "      <td>emp</td>\n",
       "      <td>English;Hindi;Java:Spanish</td>\n",
       "    </tr>\n",
       "    <tr>\n",
       "      <th>5</th>\n",
       "      <td>1006</td>\n",
       "      <td>Jhon</td>\n",
       "      <td>Dow</td>\n",
       "      <td>JHON.DOW@EMAIL.COM</td>\n",
       "      <td>USA</td>\n",
       "      <td>office</td>\n",
       "      <td>DEVELOPER</td>\n",
       "      <td>emp</td>\n",
       "      <td>English:SQL:Python</td>\n",
       "    </tr>\n",
       "    <tr>\n",
       "      <th>6</th>\n",
       "      <td>1007</td>\n",
       "      <td>Jenny</td>\n",
       "      <td>Dow</td>\n",
       "      <td>JENNY.DOW@EMAIL.COM</td>\n",
       "      <td>USA</td>\n",
       "      <td>Remote</td>\n",
       "      <td>ADMIN</td>\n",
       "      <td>cwx</td>\n",
       "      <td>English;Unix</td>\n",
       "    </tr>\n",
       "    <tr>\n",
       "      <th>7</th>\n",
       "      <td>1008</td>\n",
       "      <td>Tom</td>\n",
       "      <td>Hanks</td>\n",
       "      <td>TOM.HANKS@EMAIL.COM</td>\n",
       "      <td>UK</td>\n",
       "      <td>office</td>\n",
       "      <td>SALES</td>\n",
       "      <td>emp</td>\n",
       "      <td>Hindi;Python-English</td>\n",
       "    </tr>\n",
       "    <tr>\n",
       "      <th>8</th>\n",
       "      <td>1009</td>\n",
       "      <td>Raj</td>\n",
       "      <td>Saurabh</td>\n",
       "      <td>SAURABH.RAJ@EMAIL.COM</td>\n",
       "      <td>India</td>\n",
       "      <td>work from home</td>\n",
       "      <td>VP</td>\n",
       "      <td>emp</td>\n",
       "      <td>Dutch;Swiss;English</td>\n",
       "    </tr>\n",
       "    <tr>\n",
       "      <th>9</th>\n",
       "      <td>1010</td>\n",
       "      <td>Terry</td>\n",
       "      <td>Dow</td>\n",
       "      <td>TD@EMAIL.COM</td>\n",
       "      <td>USA</td>\n",
       "      <td>Office</td>\n",
       "      <td>FINANCE</td>\n",
       "      <td>emp</td>\n",
       "      <td>English</td>\n",
       "    </tr>\n",
       "  </tbody>\n",
       "</table>\n",
       "</div>"
      ],
      "text/plain": [
       "     id  fname       lname                  email  country       work mode  \\\n",
       "0  1001   Jack        Foly        JACK.FOLY@EMAIL      USA          remote   \n",
       "1  1003    Tom       Alter        TOM.ALTER@EMAIL       UK  work from home   \n",
       "2  1002  Traci         Saw        TRACI.SAW@EMAIL    India          office   \n",
       "3  1004   Rosy        Burk        ROSY.BURK@EMAIL   Canada     head office   \n",
       "4  1005   Jack  jack@email             JACK@EMAIL  Germany          remote   \n",
       "5  1006   Jhon         Dow     JHON.DOW@EMAIL.COM      USA          office   \n",
       "6  1007  Jenny         Dow    JENNY.DOW@EMAIL.COM      USA          Remote   \n",
       "7  1008    Tom       Hanks    TOM.HANKS@EMAIL.COM       UK          office   \n",
       "8  1009    Raj     Saurabh  SAURABH.RAJ@EMAIL.COM    India  work from home   \n",
       "9  1010  Terry         Dow           TD@EMAIL.COM      USA          Office   \n",
       "\n",
       "        dept emp_type                    language  \n",
       "0         IT      emp              English;French  \n",
       "1      SALES      cwx      Spanish;French;English  \n",
       "2  MARKETING      emp               Dutch;English  \n",
       "3      ADMIN      cwx       Finish;English;Python  \n",
       "4      SALES      emp  English;Hindi;Java:Spanish  \n",
       "5  DEVELOPER      emp          English:SQL:Python  \n",
       "6      ADMIN      cwx                English;Unix  \n",
       "7      SALES      emp        Hindi;Python-English  \n",
       "8         VP      emp         Dutch;Swiss;English  \n",
       "9    FINANCE      emp                     English  "
      ]
     },
     "execution_count": 38,
     "metadata": {},
     "output_type": "execute_result"
    }
   ],
   "source": [
    "df_people[['email','dept']] = df_people[['email','dept']].applymap(lambda x: x.upper())\n",
    "df_people"
   ]
  },
  {
   "cell_type": "markdown",
   "id": "68141f3a",
   "metadata": {},
   "source": [
    "# applymap used to apply a function to every element of dataframe \n",
    "applymap only works on DF not on Series\n",
    "unlike apply(len) on df gives number of element in each series applymap gives us the lenght of each column value"
   ]
  },
  {
   "cell_type": "code",
   "execution_count": null,
   "id": "963c840a",
   "metadata": {},
   "outputs": [],
   "source": [
    "# IF DataFrame is full of str columns then applymap will work\n",
    "#note this throw error if Df have number type column so here, id is changing to index to avoid error\n",
    "#df_people.set_index('id', inplace=True)\n",
    "df_people.applymap(len) #>=10 conditional "
   ]
  },
  {
   "cell_type": "code",
   "execution_count": null,
   "id": "a8566d4e",
   "metadata": {},
   "outputs": [],
   "source": [
    "#MAP is generally used to substitute the Series column values, note if any value is not matched in map it make is NaN\n",
    "# this method is good to converted if you column value like Yes/No and convert it to True/False\n",
    "#else use the rename\n"
   ]
  },
  {
   "cell_type": "code",
   "execution_count": 44,
   "id": "7da14c10",
   "metadata": {},
   "outputs": [
    {
     "data": {
      "text/plain": [
       "0     True\n",
       "1    False\n",
       "2    False\n",
       "3    False\n",
       "4     True\n",
       "5    False\n",
       "6    False\n",
       "7    False\n",
       "8    False\n",
       "9    False\n",
       "Name: fname, dtype: bool"
      ]
     },
     "execution_count": 44,
     "metadata": {},
     "output_type": "execute_result"
    }
   ],
   "source": [
    "df_people['fname']=='Jack'"
   ]
  },
  {
   "cell_type": "code",
   "execution_count": 42,
   "id": "e3957aaf",
   "metadata": {},
   "outputs": [
    {
     "data": {
      "text/html": [
       "<div>\n",
       "<style scoped>\n",
       "    .dataframe tbody tr th:only-of-type {\n",
       "        vertical-align: middle;\n",
       "    }\n",
       "\n",
       "    .dataframe tbody tr th {\n",
       "        vertical-align: top;\n",
       "    }\n",
       "\n",
       "    .dataframe thead th {\n",
       "        text-align: right;\n",
       "    }\n",
       "</style>\n",
       "<table border=\"1\" class=\"dataframe\">\n",
       "  <thead>\n",
       "    <tr style=\"text-align: right;\">\n",
       "      <th></th>\n",
       "      <th>id</th>\n",
       "      <th>fname</th>\n",
       "      <th>lname</th>\n",
       "      <th>email</th>\n",
       "      <th>country</th>\n",
       "      <th>work mode</th>\n",
       "      <th>dept</th>\n",
       "      <th>emp_type</th>\n",
       "      <th>language</th>\n",
       "    </tr>\n",
       "  </thead>\n",
       "  <tbody>\n",
       "    <tr>\n",
       "      <th>0</th>\n",
       "      <td>1001</td>\n",
       "      <td>Jack</td>\n",
       "      <td>Foly</td>\n",
       "      <td>JACK.FOLY@EMAIL</td>\n",
       "      <td>USA</td>\n",
       "      <td>remote</td>\n",
       "      <td>IT</td>\n",
       "      <td>emp</td>\n",
       "      <td>English;French</td>\n",
       "    </tr>\n",
       "    <tr>\n",
       "      <th>4</th>\n",
       "      <td>1005</td>\n",
       "      <td>Jack</td>\n",
       "      <td>jack@email</td>\n",
       "      <td>JACK@EMAIL</td>\n",
       "      <td>Germany</td>\n",
       "      <td>remote</td>\n",
       "      <td>SALES</td>\n",
       "      <td>emp</td>\n",
       "      <td>English;Hindi;Java:Spanish</td>\n",
       "    </tr>\n",
       "  </tbody>\n",
       "</table>\n",
       "</div>"
      ],
      "text/plain": [
       "     id fname       lname            email  country work mode   dept emp_type  \\\n",
       "0  1001  Jack        Foly  JACK.FOLY@EMAIL      USA    remote     IT      emp   \n",
       "4  1005  Jack  jack@email       JACK@EMAIL  Germany    remote  SALES      emp   \n",
       "\n",
       "                     language  \n",
       "0              English;French  \n",
       "4  English;Hindi;Java:Spanish  "
      ]
     },
     "execution_count": 42,
     "metadata": {},
     "output_type": "execute_result"
    }
   ],
   "source": [
    "#dataframe column condition return the record with Boolean value for matching record True and rest False]- id is index here so don't get confuse\n",
    "df_people[df_people['fname']=='Jack'] #['email']"
   ]
  },
  {
   "cell_type": "code",
   "execution_count": null,
   "id": "36a50552",
   "metadata": {},
   "outputs": [],
   "source": [
    "df_people.set_index('fname', inplace=True)"
   ]
  },
  {
   "cell_type": "code",
   "execution_count": null,
   "id": "31b182df",
   "metadata": {},
   "outputs": [],
   "source": [
    "#now index is set for fname now you can use the loc on fname to find the records\n",
    "df_people.loc['Jack']"
   ]
  },
  {
   "cell_type": "code",
   "execution_count": null,
   "id": "e54993a4",
   "metadata": {},
   "outputs": [],
   "source": [
    "df_people.reset_index(inplace=True)"
   ]
  },
  {
   "cell_type": "code",
   "execution_count": null,
   "id": "75920410",
   "metadata": {},
   "outputs": [],
   "source": [
    "df_people['lname']=='Dow'"
   ]
  },
  {
   "cell_type": "code",
   "execution_count": null,
   "id": "328dbb82",
   "metadata": {},
   "outputs": [],
   "source": [
    "filt = df_people['lname']=='Dow'\n",
    "#filt = df_people[df_people['lname']=='Dow'] direct dataframe values can not be used as filte\n",
    "filt"
   ]
  },
  {
   "cell_type": "code",
   "execution_count": null,
   "id": "665eae49",
   "metadata": {
    "scrolled": true
   },
   "outputs": [],
   "source": [
    "df_people.loc[filt]# you can also chooes the column values as needed"
   ]
  },
  {
   "cell_type": "markdown",
   "id": "9d9d6287",
   "metadata": {},
   "source": [
    "~ symbol reverse(negate) the condition, filt condition become not condition"
   ]
  },
  {
   "cell_type": "code",
   "execution_count": null,
   "id": "44eb36b7",
   "metadata": {},
   "outputs": [],
   "source": [
    "df_people.loc[~filt]# you can also chooes the column values as needed"
   ]
  },
  {
   "cell_type": "code",
   "execution_count": null,
   "id": "3df63da3",
   "metadata": {},
   "outputs": [],
   "source": [
    "#filter can be used directly to dataframe as well as with loc\n",
    "#as we know we can also chooes the number of columns we want from dataframe except specific row but loc provide option to \n",
    "#select the row along with column values\n",
    "\n",
    "df_people[filt] [['id','fname','email']].value_counts()"
   ]
  },
  {
   "cell_type": "code",
   "execution_count": null,
   "id": "30b4dafd",
   "metadata": {},
   "outputs": [],
   "source": [
    "df_people.loc[filt, ['fname','lname','email']]"
   ]
  },
  {
   "cell_type": "code",
   "execution_count": null,
   "id": "d8146eb8",
   "metadata": {
    "scrolled": true
   },
   "outputs": [],
   "source": [
    "df_people[df_people['lname']=='Dow']"
   ]
  },
  {
   "cell_type": "markdown",
   "id": "18bd36b4",
   "metadata": {},
   "source": [
    "# Pandas AND and OR Operators (& and |)"
   ]
  },
  {
   "cell_type": "code",
   "execution_count": null,
   "id": "f06f22b2",
   "metadata": {},
   "outputs": [],
   "source": [
    "df_filter = (df_people['fname']=='Jack') | (df_people['lname']=='Dow')"
   ]
  },
  {
   "cell_type": "code",
   "execution_count": null,
   "id": "72fcbc45",
   "metadata": {
    "scrolled": true
   },
   "outputs": [],
   "source": [
    "df_people[df_filter]"
   ]
  },
  {
   "cell_type": "code",
   "execution_count": null,
   "id": "00fad3a4",
   "metadata": {},
   "outputs": [],
   "source": [
    "#Dataframe isin() method is used to pass the additional filter to dataframe "
   ]
  },
  {
   "cell_type": "code",
   "execution_count": 46,
   "id": "cefeb814",
   "metadata": {},
   "outputs": [],
   "source": [
    "country_filter = (df_people['country'].isin(['USA'])) & (df_people['lname']=='Dow')\n"
   ]
  },
  {
   "cell_type": "code",
   "execution_count": 47,
   "id": "3029b591",
   "metadata": {
    "scrolled": false
   },
   "outputs": [
    {
     "data": {
      "text/html": [
       "<div>\n",
       "<style scoped>\n",
       "    .dataframe tbody tr th:only-of-type {\n",
       "        vertical-align: middle;\n",
       "    }\n",
       "\n",
       "    .dataframe tbody tr th {\n",
       "        vertical-align: top;\n",
       "    }\n",
       "\n",
       "    .dataframe thead th {\n",
       "        text-align: right;\n",
       "    }\n",
       "</style>\n",
       "<table border=\"1\" class=\"dataframe\">\n",
       "  <thead>\n",
       "    <tr style=\"text-align: right;\">\n",
       "      <th></th>\n",
       "      <th>id</th>\n",
       "      <th>fname</th>\n",
       "      <th>lname</th>\n",
       "      <th>email</th>\n",
       "      <th>country</th>\n",
       "      <th>work mode</th>\n",
       "      <th>dept</th>\n",
       "      <th>emp_type</th>\n",
       "      <th>language</th>\n",
       "    </tr>\n",
       "  </thead>\n",
       "  <tbody>\n",
       "    <tr>\n",
       "      <th>5</th>\n",
       "      <td>1006</td>\n",
       "      <td>Jhon</td>\n",
       "      <td>Dow</td>\n",
       "      <td>JHON.DOW@EMAIL.COM</td>\n",
       "      <td>USA</td>\n",
       "      <td>office</td>\n",
       "      <td>DEVELOPER</td>\n",
       "      <td>emp</td>\n",
       "      <td>English:SQL:Python</td>\n",
       "    </tr>\n",
       "    <tr>\n",
       "      <th>6</th>\n",
       "      <td>1007</td>\n",
       "      <td>Jenny</td>\n",
       "      <td>Dow</td>\n",
       "      <td>JENNY.DOW@EMAIL.COM</td>\n",
       "      <td>USA</td>\n",
       "      <td>Remote</td>\n",
       "      <td>ADMIN</td>\n",
       "      <td>cwx</td>\n",
       "      <td>English;Unix</td>\n",
       "    </tr>\n",
       "    <tr>\n",
       "      <th>9</th>\n",
       "      <td>1010</td>\n",
       "      <td>Terry</td>\n",
       "      <td>Dow</td>\n",
       "      <td>TD@EMAIL.COM</td>\n",
       "      <td>USA</td>\n",
       "      <td>Office</td>\n",
       "      <td>FINANCE</td>\n",
       "      <td>emp</td>\n",
       "      <td>English</td>\n",
       "    </tr>\n",
       "  </tbody>\n",
       "</table>\n",
       "</div>"
      ],
      "text/plain": [
       "     id  fname lname                email country work mode       dept  \\\n",
       "5  1006   Jhon   Dow   JHON.DOW@EMAIL.COM     USA    office  DEVELOPER   \n",
       "6  1007  Jenny   Dow  JENNY.DOW@EMAIL.COM     USA    Remote      ADMIN   \n",
       "9  1010  Terry   Dow         TD@EMAIL.COM     USA    Office    FINANCE   \n",
       "\n",
       "  emp_type            language  \n",
       "5      emp  English:SQL:Python  \n",
       "6      cwx        English;Unix  \n",
       "9      emp             English  "
      ]
     },
     "execution_count": 47,
     "metadata": {},
     "output_type": "execute_result"
    }
   ],
   "source": [
    "#same result for both method\n",
    "df_people[country_filter]\n",
    "df_people.loc[country_filter]"
   ]
  },
  {
   "cell_type": "markdown",
   "id": "d47f8f25",
   "metadata": {},
   "source": [
    "# isin() method to validate column values like Oracle in - df['column'].isin([cols value])"
   ]
  },
  {
   "cell_type": "code",
   "execution_count": 45,
   "id": "657c91ce",
   "metadata": {},
   "outputs": [
    {
     "data": {
      "text/html": [
       "<div>\n",
       "<style scoped>\n",
       "    .dataframe tbody tr th:only-of-type {\n",
       "        vertical-align: middle;\n",
       "    }\n",
       "\n",
       "    .dataframe tbody tr th {\n",
       "        vertical-align: top;\n",
       "    }\n",
       "\n",
       "    .dataframe thead th {\n",
       "        text-align: right;\n",
       "    }\n",
       "</style>\n",
       "<table border=\"1\" class=\"dataframe\">\n",
       "  <thead>\n",
       "    <tr style=\"text-align: right;\">\n",
       "      <th></th>\n",
       "      <th>id</th>\n",
       "      <th>fname</th>\n",
       "      <th>lname</th>\n",
       "      <th>email</th>\n",
       "      <th>country</th>\n",
       "      <th>work mode</th>\n",
       "      <th>dept</th>\n",
       "      <th>emp_type</th>\n",
       "      <th>language</th>\n",
       "    </tr>\n",
       "  </thead>\n",
       "  <tbody>\n",
       "    <tr>\n",
       "      <th>5</th>\n",
       "      <td>1006</td>\n",
       "      <td>Jhon</td>\n",
       "      <td>Dow</td>\n",
       "      <td>JHON.DOW@EMAIL.COM</td>\n",
       "      <td>USA</td>\n",
       "      <td>office</td>\n",
       "      <td>DEVELOPER</td>\n",
       "      <td>emp</td>\n",
       "      <td>English:SQL:Python</td>\n",
       "    </tr>\n",
       "    <tr>\n",
       "      <th>6</th>\n",
       "      <td>1007</td>\n",
       "      <td>Jenny</td>\n",
       "      <td>Dow</td>\n",
       "      <td>JENNY.DOW@EMAIL.COM</td>\n",
       "      <td>USA</td>\n",
       "      <td>Remote</td>\n",
       "      <td>ADMIN</td>\n",
       "      <td>cwx</td>\n",
       "      <td>English;Unix</td>\n",
       "    </tr>\n",
       "  </tbody>\n",
       "</table>\n",
       "</div>"
      ],
      "text/plain": [
       "     id  fname lname                email country work mode       dept  \\\n",
       "5  1006   Jhon   Dow   JHON.DOW@EMAIL.COM     USA    office  DEVELOPER   \n",
       "6  1007  Jenny   Dow  JENNY.DOW@EMAIL.COM     USA    Remote      ADMIN   \n",
       "\n",
       "  emp_type            language  \n",
       "5      emp  English:SQL:Python  \n",
       "6      cwx        English;Unix  "
      ]
     },
     "execution_count": 45,
     "metadata": {},
     "output_type": "execute_result"
    }
   ],
   "source": [
    "country_filter1 = (df_people['country'].isin(['USA'])) & (df_people['lname']=='Dow') & (df_people['id'] < 1010)\n",
    "df_people[country_filter1]"
   ]
  },
  {
   "cell_type": "code",
   "execution_count": null,
   "id": "121824d3",
   "metadata": {},
   "outputs": [],
   "source": [
    "type(country_filter1)"
   ]
  },
  {
   "cell_type": "markdown",
   "id": "44596b8d",
   "metadata": {},
   "source": [
    "# Dataframe str.contains() method helps to find the specific text in the column\n",
    "df['column'].str.contain(value)"
   ]
  },
  {
   "cell_type": "code",
   "execution_count": 48,
   "id": "e2fe7aa2",
   "metadata": {},
   "outputs": [],
   "source": [
    "lang_fil = (df_people['language'].str.contains('Spanish'))"
   ]
  },
  {
   "cell_type": "code",
   "execution_count": 50,
   "id": "2e194089",
   "metadata": {},
   "outputs": [
    {
     "data": {
      "text/html": [
       "<div>\n",
       "<style scoped>\n",
       "    .dataframe tbody tr th:only-of-type {\n",
       "        vertical-align: middle;\n",
       "    }\n",
       "\n",
       "    .dataframe tbody tr th {\n",
       "        vertical-align: top;\n",
       "    }\n",
       "\n",
       "    .dataframe thead th {\n",
       "        text-align: right;\n",
       "    }\n",
       "</style>\n",
       "<table border=\"1\" class=\"dataframe\">\n",
       "  <thead>\n",
       "    <tr style=\"text-align: right;\">\n",
       "      <th></th>\n",
       "      <th>id</th>\n",
       "      <th>fname</th>\n",
       "      <th>lname</th>\n",
       "      <th>email</th>\n",
       "      <th>country</th>\n",
       "      <th>work mode</th>\n",
       "      <th>dept</th>\n",
       "      <th>emp_type</th>\n",
       "      <th>language</th>\n",
       "    </tr>\n",
       "  </thead>\n",
       "  <tbody>\n",
       "    <tr>\n",
       "      <th>1</th>\n",
       "      <td>1003</td>\n",
       "      <td>Tom</td>\n",
       "      <td>Alter</td>\n",
       "      <td>TOM.ALTER@EMAIL</td>\n",
       "      <td>UK</td>\n",
       "      <td>work from home</td>\n",
       "      <td>SALES</td>\n",
       "      <td>cwx</td>\n",
       "      <td>Spanish;French;English</td>\n",
       "    </tr>\n",
       "    <tr>\n",
       "      <th>4</th>\n",
       "      <td>1005</td>\n",
       "      <td>Jack</td>\n",
       "      <td>jack@email</td>\n",
       "      <td>JACK@EMAIL</td>\n",
       "      <td>Germany</td>\n",
       "      <td>remote</td>\n",
       "      <td>SALES</td>\n",
       "      <td>emp</td>\n",
       "      <td>English;Hindi;Java:Spanish</td>\n",
       "    </tr>\n",
       "  </tbody>\n",
       "</table>\n",
       "</div>"
      ],
      "text/plain": [
       "     id fname       lname            email  country       work mode   dept  \\\n",
       "1  1003   Tom       Alter  TOM.ALTER@EMAIL       UK  work from home  SALES   \n",
       "4  1005  Jack  jack@email       JACK@EMAIL  Germany          remote  SALES   \n",
       "\n",
       "  emp_type                    language  \n",
       "1      cwx      Spanish;French;English  \n",
       "4      emp  English;Hindi;Java:Spanish  "
      ]
     },
     "execution_count": 50,
     "metadata": {},
     "output_type": "execute_result"
    }
   ],
   "source": [
    "# pd.set_option('display.max_rows',25)\n",
    "#df_people.fillna(-1, inplace=True)\n",
    "\n",
    "df_people[lang_fil]"
   ]
  },
  {
   "cell_type": "markdown",
   "id": "4067d48a",
   "metadata": {},
   "source": [
    "# Describe and max(), min() method"
   ]
  },
  {
   "cell_type": "code",
   "execution_count": 51,
   "id": "319f8c14",
   "metadata": {
    "scrolled": true
   },
   "outputs": [
    {
     "data": {
      "text/plain": [
       "id           1001\n",
       "fname        Jack\n",
       "country    Canada\n",
       "dtype: object"
      ]
     },
     "execution_count": 51,
     "metadata": {},
     "output_type": "execute_result"
    }
   ],
   "source": [
    "df_people[['id','fname','country']].min()\n",
    "#df_people['id'].max()"
   ]
  },
  {
   "cell_type": "code",
   "execution_count": 53,
   "id": "09476c60",
   "metadata": {
    "scrolled": true
   },
   "outputs": [
    {
     "data": {
      "text/plain": [
       "fname  work mode     \n",
       "Jack   remote            2\n",
       "Jenny  Remote            1\n",
       "Jhon   office            1\n",
       "Raj    work from home    1\n",
       "Rosy   head office       1\n",
       "Terry  Office            1\n",
       "Tom    office            1\n",
       "       work from home    1\n",
       "Traci  office            1\n",
       "dtype: int64"
      ]
     },
     "execution_count": 53,
     "metadata": {},
     "output_type": "execute_result"
    }
   ],
   "source": [
    "#aggregate DF group by column mentioned\n",
    "df_people[['fname','work mode']].value_counts()"
   ]
  },
  {
   "cell_type": "code",
   "execution_count": 54,
   "id": "b829c751",
   "metadata": {},
   "outputs": [
    {
     "data": {
      "text/plain": [
       "1010"
      ]
     },
     "execution_count": 54,
     "metadata": {},
     "output_type": "execute_result"
    }
   ],
   "source": [
    "df_people['id'].max()"
   ]
  },
  {
   "cell_type": "code",
   "execution_count": null,
   "id": "667f0fd2",
   "metadata": {
    "scrolled": true
   },
   "outputs": [],
   "source": [
    "#Caution - extract mininum value from Each dataframe column\n",
    "df_people.apply([pd.Series.min])"
   ]
  },
  {
   "cell_type": "code",
   "execution_count": null,
   "id": "57e41aa6",
   "metadata": {},
   "outputs": [],
   "source": [
    "#use list in case data needed in row else skip the squar bracket to get data in column\n",
    "df_people.apply([lambda x: x.min()])"
   ]
  },
  {
   "cell_type": "code",
   "execution_count": null,
   "id": "381b1235",
   "metadata": {},
   "outputs": [],
   "source": [
    "#Operation on pandas Series\n",
    "s = pd.Series([10,12,14,15,18])\n",
    "a=18\n",
    "print(\"Series max value is --> \",s.max())\n",
    "if s.max()==a:\n",
    "    print(\"Series value is equal to variable\")\n",
    "\n",
    "y = (x for x in range(1,20) if x==s.max())\n",
    "y1 = [x for x in range(1,20) if x==s.max()]\n",
    "print(\"value From generator matching Series is --> \", sum(y))\n",
    "print(\"Object Y is: \", y, \" and Object Y1 is \", type(y1))\n"
   ]
  },
  {
   "cell_type": "code",
   "execution_count": null,
   "id": "5be904f9",
   "metadata": {},
   "outputs": [],
   "source": [
    "#describe the dataframe with basic mean medium std and %tile values for numerical fields\n",
    "df_people.describe()"
   ]
  },
  {
   "cell_type": "code",
   "execution_count": null,
   "id": "5ff49aa4",
   "metadata": {},
   "outputs": [],
   "source": [
    "#top 5 record use tail for top bottom records\n",
    "\n",
    "df_people.head(5)\n",
    "\n",
    "df_people.tail(5)"
   ]
  },
  {
   "cell_type": "markdown",
   "id": "638680cf",
   "metadata": {},
   "source": [
    "# Update Dataframe record values"
   ]
  },
  {
   "cell_type": "code",
   "execution_count": null,
   "id": "3a0eebf7",
   "metadata": {},
   "outputs": [],
   "source": [
    "df_people[(df_people['lname']=='Dow') & (df_people['fname']=='Jenny')]"
   ]
  },
  {
   "cell_type": "code",
   "execution_count": null,
   "id": "32a15629",
   "metadata": {},
   "outputs": [],
   "source": [
    "#updating fname to Ronny\n",
    "\n",
    "df_people.loc[(df_people['lname']=='Dow') & (df_people['fname']=='Jenny'),['fname','email']] = ['Ronny','ronny.dow@email.com']"
   ]
  },
  {
   "cell_type": "code",
   "execution_count": null,
   "id": "175af3a1",
   "metadata": {},
   "outputs": [],
   "source": [
    "#if you know the index for the record you wish to change\n",
    "#dataframe.loc[index,[column's-to-update]] = [new-column-value]\n",
    "df_people.loc[6, ['fname','email']] = ['Rock','rock.dow@email.com']"
   ]
  },
  {
   "cell_type": "code",
   "execution_count": null,
   "id": "d2340856",
   "metadata": {},
   "outputs": [],
   "source": [
    "df_people.loc[df_people['emp_type']=='emp','emp_type'] = 'Emp'"
   ]
  },
  {
   "cell_type": "code",
   "execution_count": null,
   "id": "f67758b3",
   "metadata": {},
   "outputs": [],
   "source": [
    "df_people"
   ]
  },
  {
   "cell_type": "code",
   "execution_count": null,
   "id": "f6b8ae52",
   "metadata": {
    "scrolled": true
   },
   "outputs": [],
   "source": [
    "df_people[~((df_people['fname']=='Rock') & (df_people['lname']=='Dow'))]"
   ]
  },
  {
   "cell_type": "code",
   "execution_count": null,
   "id": "d249b39b",
   "metadata": {
    "scrolled": true
   },
   "outputs": [],
   "source": [
    "df_people[(df_people['fname']=='Rock') & (df_people['lname']=='Dow')]"
   ]
  },
  {
   "cell_type": "code",
   "execution_count": null,
   "id": "11674d65",
   "metadata": {},
   "outputs": [],
   "source": [
    "#update two column by using index reference\n",
    "df_people.loc[3,['lname','email']]= ['Dilt','rosy.dilt@email.com']\n"
   ]
  },
  {
   "cell_type": "code",
   "execution_count": null,
   "id": "80801b92",
   "metadata": {},
   "outputs": [],
   "source": [
    "#AT can also be use in place of loc --somehow giving error to update multiple column values but values are getting change i guess this ment only for 1 value\n",
    "\n",
    "#df_people.at[3,['lname','email']]= ['Hanson','rosy.hanson@email.com']\n",
    "df_people.at[3, 'lname'] = 'Hanson'"
   ]
  },
  {
   "cell_type": "code",
   "execution_count": null,
   "id": "d2cc106f",
   "metadata": {},
   "outputs": [],
   "source": [
    "#update column all value to upper or other operation\n",
    "\n",
    "df_people['emp_type'] = df_people['emp_type'].str.upper()"
   ]
  },
  {
   "cell_type": "markdown",
   "id": "32918a30",
   "metadata": {},
   "source": [
    "# apply, map, applymap and replace method"
   ]
  },
  {
   "cell_type": "code",
   "execution_count": null,
   "id": "640cf94d",
   "metadata": {},
   "outputs": [],
   "source": []
  },
  {
   "cell_type": "code",
   "execution_count": null,
   "id": "f868c546",
   "metadata": {},
   "outputs": [],
   "source": [
    "#here find the record and chooes the column and see the lenth of that column value\n",
    "df_people.loc[df_people['email']=='td@email.com','fname']\n",
    "df_people.loc[df_people['email']=='td@email.com','fname'].apply(len)\n"
   ]
  },
  {
   "cell_type": "code",
   "execution_count": null,
   "id": "6ccf5925",
   "metadata": {
    "scrolled": true
   },
   "outputs": [],
   "source": [
    "df_people.loc[df_people['lname']=='Dow', 'email']"
   ]
  },
  {
   "cell_type": "code",
   "execution_count": null,
   "id": "2ade1526",
   "metadata": {},
   "outputs": [],
   "source": [
    "df_people.loc[df_people['emp_type']=='cwx','emp_type'].str.upper()\n",
    "#df_people['emp_type'] = df_people.loc[df_people['emp_type']=='cwx','emp_type'].apply(lambda x: x.upper())\n",
    "\n",
    "#don't update the dataframe field value as this gives the all DF records with matching and non matching records and for non matching criteria value will update to NaN\n",
    "dfp['emp_type'] =dfp.loc[df_people['emp_type']=='cwx','emp_type'].str.upper()\n"
   ]
  },
  {
   "cell_type": "code",
   "execution_count": null,
   "id": "99efac2d",
   "metadata": {},
   "outputs": [],
   "source": [
    "dfp"
   ]
  },
  {
   "cell_type": "code",
   "execution_count": null,
   "id": "df01a7a2",
   "metadata": {},
   "outputs": [],
   "source": [
    "df_p = df_people['email'].str.upper()\n",
    "#this will create new dataframe with selected values\n",
    "df_p"
   ]
  },
  {
   "cell_type": "code",
   "execution_count": null,
   "id": "f4a204a2",
   "metadata": {},
   "outputs": [],
   "source": [
    "#update value for emp field\n",
    "df_people.loc[df_people['emp_type']!='CWX','emp_type'] = 'Emp'"
   ]
  },
  {
   "cell_type": "code",
   "execution_count": null,
   "id": "881ccca2",
   "metadata": {},
   "outputs": [],
   "source": [
    "df_people['emp_type'] = df_people['emp_type'].str.upper()\n",
    "df_people"
   ]
  },
  {
   "cell_type": "code",
   "execution_count": null,
   "id": "46a0b022",
   "metadata": {
    "scrolled": true
   },
   "outputs": [],
   "source": [
    "df_people['emp_type'] = df_people['emp_type'].str.lower()\n",
    "df_people"
   ]
  },
  {
   "cell_type": "code",
   "execution_count": 79,
   "id": "f84eaa9d",
   "metadata": {},
   "outputs": [],
   "source": [
    "people = {\n",
    "    'id': [1001,1003,1002,1004,1005,1006,1007,1008,1009,1010,'no data'],\n",
    "    'fname': ['Jack',\n",
    "              'Tom',\n",
    "              'Traci','Rosy','Jack','Jhon','Jenny','Tom','Raj','Terry','na'],\n",
    "    'lname': ['Foly','Alter','Saw','Burk','jack@email','Dow','Dow','Hanks','Saurabh','Dow','Missing'], \n",
    "    'email': ['jack.foly@email','tom.alter@email','traci.saw@email','rosy.burk@email','jack@email',\n",
    "              'jhon.dow@email.com',\n",
    "              'jenny.dow@email.com',\n",
    "              'tom.hanks@email.com',\n",
    "              'saurabh.raj@email.com',\n",
    "              'td@email.com',\n",
    "             'Missing'],\n",
    "    'country':['USA','UK','India','Canada','Germany','USA','USA','UK','India', 'USA','NA'],\n",
    "    'work mode': ['remote','work from home','office','head office','remote','office','Remote','office','work from home',\n",
    "                  'Office', None],\n",
    "    'dept': ['IT','Sales','Marketing','Admin','Sales','Developer','Admin','Sales','VP','Finance','Missing'],\n",
    "    'emp_type':['emp','cwx','emp','cwx','emp','emp','cwx','emp','emp','emp','na'],\n",
    "    'language': ['English;French','Spanish;French;English','Dutch;English',\n",
    "                 'Finish;English;Python','English;Hindi;Java:Spanish','English:SQL:Python',\n",
    "                 'English;Unix','Hindi;Python-English','Dutch;Swiss;English','English',\n",
    "                 'Missing'\n",
    "                ]\n",
    "         }"
   ]
  },
  {
   "cell_type": "code",
   "execution_count": null,
   "id": "1ab670d8",
   "metadata": {},
   "outputs": [],
   "source": [
    "#length of the dictionary values in list\n",
    "len(people['lname'])"
   ]
  },
  {
   "cell_type": "code",
   "execution_count": 80,
   "id": "c031d021",
   "metadata": {},
   "outputs": [],
   "source": [
    "import pandas as pd\n",
    "import numpy as np\n",
    "pdf = pd.DataFrame(people)"
   ]
  },
  {
   "cell_type": "code",
   "execution_count": null,
   "id": "588233bc",
   "metadata": {},
   "outputs": [],
   "source": [
    "pdf\n",
    "#.loc[9, 'language'] = 'Zulu;English'"
   ]
  },
  {
   "cell_type": "code",
   "execution_count": null,
   "id": "27c10c27",
   "metadata": {},
   "outputs": [],
   "source": [
    "(pdf['lname']=='Dow') | (pdf['fname']=='Tom') "
   ]
  },
  {
   "cell_type": "code",
   "execution_count": null,
   "id": "09e31718",
   "metadata": {},
   "outputs": [],
   "source": [
    "# this is good to filter the record but for update it will update for matching row but rest of them become NaN\n",
    "pdf.loc[f, 'emp_type'].str.upper()"
   ]
  },
  {
   "cell_type": "code",
   "execution_count": null,
   "id": "35cc2185",
   "metadata": {},
   "outputs": [],
   "source": [
    "a= None\n",
    "b=np.nan\n",
    "\n",
    "if a==b:\n",
    "    print('Yes')\n",
    "else:\n",
    "    print('NaN and None is not equal')"
   ]
  },
  {
   "cell_type": "code",
   "execution_count": null,
   "id": "e4548ff1",
   "metadata": {
    "scrolled": true
   },
   "outputs": [],
   "source": [
    "pdf['emp_type'] = pdf['emp_type'].str.lower()"
   ]
  },
  {
   "cell_type": "code",
   "execution_count": null,
   "id": "2d70be40",
   "metadata": {},
   "outputs": [],
   "source": [
    "#delete dataframe -- result after executing given del statment \n",
    "del pdff"
   ]
  },
  {
   "cell_type": "code",
   "execution_count": 58,
   "id": "5755866d",
   "metadata": {},
   "outputs": [
    {
     "data": {
      "text/plain": [
       "fname    11\n",
       "lname    11\n",
       "dtype: int64"
      ]
     },
     "execution_count": 58,
     "metadata": {},
     "output_type": "execute_result"
    }
   ],
   "source": [
    "#get the lenght of the field, remeber here email set as custome index to reference record default is integer index\n",
    "pdf[['fname','lname']].apply(len)"
   ]
  },
  {
   "cell_type": "code",
   "execution_count": null,
   "id": "af141fc0",
   "metadata": {},
   "outputs": [],
   "source": [
    "#This tell how many record each column have in DF, default axis is rows\n",
    "pdf.apply(len)"
   ]
  },
  {
   "cell_type": "code",
   "execution_count": null,
   "id": "73f46901",
   "metadata": {},
   "outputs": [],
   "source": [
    "#this Tells DF have 9 Columns values in each row, except index, incase custom index is set that will not count\n",
    "pdf.apply(len, axis='columns')"
   ]
  },
  {
   "cell_type": "code",
   "execution_count": 60,
   "id": "8664787c",
   "metadata": {},
   "outputs": [
    {
     "data": {
      "text/plain": [
       "0     4\n",
       "1     3\n",
       "2     5\n",
       "3     4\n",
       "4     4\n",
       "     ..\n",
       "6     5\n",
       "7     3\n",
       "8     3\n",
       "9     5\n",
       "10    2\n",
       "Name: fname, Length: 11, dtype: int64"
      ]
     },
     "execution_count": 60,
     "metadata": {},
     "output_type": "execute_result"
    }
   ],
   "source": [
    "pdf['fname'].apply(len)"
   ]
  },
  {
   "cell_type": "code",
   "execution_count": 70,
   "id": "27d801f2",
   "metadata": {},
   "outputs": [
    {
     "data": {
      "text/plain": [
       "4    4\n",
       "3    3\n",
       "5    3\n",
       "2    1\n",
       "Name: fname, dtype: int64"
      ]
     },
     "execution_count": 70,
     "metadata": {},
     "output_type": "execute_result"
    }
   ],
   "source": [
    "#minimum character in DF fname column, first is length and 2nd int is occurance as per \n",
    "\n",
    "#pdf.set_index('email', inplace=True)\n",
    "pdf['fname'].apply(len).value_counts()\n",
    "#pdf['fname'].max()"
   ]
  },
  {
   "cell_type": "code",
   "execution_count": 74,
   "id": "8984e01d",
   "metadata": {
    "scrolled": true
   },
   "outputs": [
    {
     "data": {
      "text/plain": [
       "0        1001\n",
       "1        1003\n",
       "2        1002\n",
       "3        1004\n",
       "4        1005\n",
       "5        1006\n",
       "6        1007\n",
       "7        1008\n",
       "8        1009\n",
       "9        1010\n",
       "10    no data\n",
       "Name: id, dtype: object"
      ]
     },
     "execution_count": 74,
     "metadata": {},
     "output_type": "execute_result"
    }
   ],
   "source": [
    "pdf['id']"
   ]
  },
  {
   "cell_type": "code",
   "execution_count": 82,
   "id": "8ed6f1b4",
   "metadata": {},
   "outputs": [
    {
     "data": {
      "text/html": [
       "<div>\n",
       "<style scoped>\n",
       "    .dataframe tbody tr th:only-of-type {\n",
       "        vertical-align: middle;\n",
       "    }\n",
       "\n",
       "    .dataframe tbody tr th {\n",
       "        vertical-align: top;\n",
       "    }\n",
       "\n",
       "    .dataframe thead th {\n",
       "        text-align: right;\n",
       "    }\n",
       "</style>\n",
       "<table border=\"1\" class=\"dataframe\">\n",
       "  <thead>\n",
       "    <tr style=\"text-align: right;\">\n",
       "      <th></th>\n",
       "      <th>id</th>\n",
       "      <th>fname</th>\n",
       "      <th>lname</th>\n",
       "      <th>email</th>\n",
       "      <th>country</th>\n",
       "      <th>work mode</th>\n",
       "      <th>dept</th>\n",
       "      <th>emp_type</th>\n",
       "      <th>language</th>\n",
       "    </tr>\n",
       "  </thead>\n",
       "  <tbody>\n",
       "    <tr>\n",
       "      <th>0</th>\n",
       "      <td>1001</td>\n",
       "      <td>Jack</td>\n",
       "      <td>Foly</td>\n",
       "      <td>jack.foly@email</td>\n",
       "      <td>USA</td>\n",
       "      <td>remote</td>\n",
       "      <td>IT</td>\n",
       "      <td>emp</td>\n",
       "      <td>English;French</td>\n",
       "    </tr>\n",
       "    <tr>\n",
       "      <th>1</th>\n",
       "      <td>1003</td>\n",
       "      <td>Tom</td>\n",
       "      <td>Alter</td>\n",
       "      <td>tom.alter@email</td>\n",
       "      <td>UK</td>\n",
       "      <td>work from home</td>\n",
       "      <td>Sales</td>\n",
       "      <td>cwx</td>\n",
       "      <td>Spanish;French;English</td>\n",
       "    </tr>\n",
       "    <tr>\n",
       "      <th>2</th>\n",
       "      <td>1002</td>\n",
       "      <td>Traci</td>\n",
       "      <td>Saw</td>\n",
       "      <td>traci.saw@email</td>\n",
       "      <td>India</td>\n",
       "      <td>office</td>\n",
       "      <td>Marketing</td>\n",
       "      <td>emp</td>\n",
       "      <td>Dutch;English</td>\n",
       "    </tr>\n",
       "    <tr>\n",
       "      <th>3</th>\n",
       "      <td>1004</td>\n",
       "      <td>Rosy</td>\n",
       "      <td>Burk</td>\n",
       "      <td>rosy.burk@email</td>\n",
       "      <td>Canada</td>\n",
       "      <td>head office</td>\n",
       "      <td>Admin</td>\n",
       "      <td>cwx</td>\n",
       "      <td>Finish;English;Python</td>\n",
       "    </tr>\n",
       "    <tr>\n",
       "      <th>4</th>\n",
       "      <td>1005</td>\n",
       "      <td>Jack</td>\n",
       "      <td>jack@email</td>\n",
       "      <td>jack@email</td>\n",
       "      <td>Germany</td>\n",
       "      <td>remote</td>\n",
       "      <td>Sales</td>\n",
       "      <td>emp</td>\n",
       "      <td>English;Hindi;Java:Spanish</td>\n",
       "    </tr>\n",
       "    <tr>\n",
       "      <th>5</th>\n",
       "      <td>1006</td>\n",
       "      <td>Jhon</td>\n",
       "      <td>Dow</td>\n",
       "      <td>jhon.dow@email.com</td>\n",
       "      <td>USA</td>\n",
       "      <td>office</td>\n",
       "      <td>Developer</td>\n",
       "      <td>emp</td>\n",
       "      <td>English:SQL:Python</td>\n",
       "    </tr>\n",
       "    <tr>\n",
       "      <th>6</th>\n",
       "      <td>1007</td>\n",
       "      <td>Jenny</td>\n",
       "      <td>Dow</td>\n",
       "      <td>jenny.dow@email.com</td>\n",
       "      <td>USA</td>\n",
       "      <td>Remote</td>\n",
       "      <td>Admin</td>\n",
       "      <td>cwx</td>\n",
       "      <td>English;Unix</td>\n",
       "    </tr>\n",
       "    <tr>\n",
       "      <th>7</th>\n",
       "      <td>1008</td>\n",
       "      <td>Tom</td>\n",
       "      <td>Hanks</td>\n",
       "      <td>tom.hanks@email.com</td>\n",
       "      <td>UK</td>\n",
       "      <td>office</td>\n",
       "      <td>Sales</td>\n",
       "      <td>emp</td>\n",
       "      <td>Hindi;Python-English</td>\n",
       "    </tr>\n",
       "    <tr>\n",
       "      <th>8</th>\n",
       "      <td>1009</td>\n",
       "      <td>Raj</td>\n",
       "      <td>Saurabh</td>\n",
       "      <td>saurabh.raj@email.com</td>\n",
       "      <td>India</td>\n",
       "      <td>work from home</td>\n",
       "      <td>VP</td>\n",
       "      <td>emp</td>\n",
       "      <td>Dutch;Swiss;English</td>\n",
       "    </tr>\n",
       "    <tr>\n",
       "      <th>9</th>\n",
       "      <td>1010</td>\n",
       "      <td>Terry</td>\n",
       "      <td>Dow</td>\n",
       "      <td>td@email.com</td>\n",
       "      <td>USA</td>\n",
       "      <td>Office</td>\n",
       "      <td>Finance</td>\n",
       "      <td>emp</td>\n",
       "      <td>English</td>\n",
       "    </tr>\n",
       "    <tr>\n",
       "      <th>10</th>\n",
       "      <td>no data</td>\n",
       "      <td>na</td>\n",
       "      <td>Missing</td>\n",
       "      <td>Missing</td>\n",
       "      <td>NA</td>\n",
       "      <td>None</td>\n",
       "      <td>Missing</td>\n",
       "      <td>na</td>\n",
       "      <td>Missing</td>\n",
       "    </tr>\n",
       "  </tbody>\n",
       "</table>\n",
       "</div>"
      ],
      "text/plain": [
       "         id  fname       lname                  email  country  \\\n",
       "0      1001   Jack        Foly        jack.foly@email      USA   \n",
       "1      1003    Tom       Alter        tom.alter@email       UK   \n",
       "2      1002  Traci         Saw        traci.saw@email    India   \n",
       "3      1004   Rosy        Burk        rosy.burk@email   Canada   \n",
       "4      1005   Jack  jack@email             jack@email  Germany   \n",
       "5      1006   Jhon         Dow     jhon.dow@email.com      USA   \n",
       "6      1007  Jenny         Dow    jenny.dow@email.com      USA   \n",
       "7      1008    Tom       Hanks    tom.hanks@email.com       UK   \n",
       "8      1009    Raj     Saurabh  saurabh.raj@email.com    India   \n",
       "9      1010  Terry         Dow           td@email.com      USA   \n",
       "10  no data     na     Missing                Missing       NA   \n",
       "\n",
       "         work mode       dept emp_type                    language  \n",
       "0           remote         IT      emp              English;French  \n",
       "1   work from home      Sales      cwx      Spanish;French;English  \n",
       "2           office  Marketing      emp               Dutch;English  \n",
       "3      head office      Admin      cwx       Finish;English;Python  \n",
       "4           remote      Sales      emp  English;Hindi;Java:Spanish  \n",
       "5           office  Developer      emp          English:SQL:Python  \n",
       "6           Remote      Admin      cwx                English;Unix  \n",
       "7           office      Sales      emp        Hindi;Python-English  \n",
       "8   work from home         VP      emp         Dutch;Swiss;English  \n",
       "9           Office    Finance      emp                     English  \n",
       "10            None    Missing       na                     Missing  "
      ]
     },
     "execution_count": 82,
     "metadata": {},
     "output_type": "execute_result"
    }
   ],
   "source": [
    "pd.set_option('display.max_row',25)\n",
    "pdf"
   ]
  },
  {
   "cell_type": "code",
   "execution_count": null,
   "id": "d3b5c721",
   "metadata": {},
   "outputs": [],
   "source": []
  },
  {
   "cell_type": "code",
   "execution_count": 104,
   "id": "c76986a1",
   "metadata": {
    "scrolled": true
   },
   "outputs": [
    {
     "data": {
      "text/plain": [
       "id           False\n",
       "fname        False\n",
       "lname        False\n",
       "email        False\n",
       "country      False\n",
       "work mode     True\n",
       "dept         False\n",
       "emp_type     False\n",
       "language     False\n",
       "dtype: bool"
      ]
     },
     "execution_count": 104,
     "metadata": {},
     "output_type": "execute_result"
    }
   ],
   "source": [
    "#find NaN value in DF Column\n",
    "pdf['work mode'].isnull().any()\n",
    "# find the null value in entire dataframe columns\n",
    "pdf.isnull().any()"
   ]
  },
  {
   "cell_type": "code",
   "execution_count": null,
   "id": "6ed8ec2b",
   "metadata": {},
   "outputs": [],
   "source": [
    "#update NaN value in DF column as needed\n",
    "pdf['id'].fillna(0, inplace=True)\n",
    "pdf.fillna('Missing', inplace=True)\n",
    "pdf"
   ]
  },
  {
   "cell_type": "code",
   "execution_count": 106,
   "id": "ba4d68f3",
   "metadata": {},
   "outputs": [
    {
     "ename": "TypeError",
     "evalue": "'>=' not supported between instances of 'int' and 'str'",
     "output_type": "error",
     "traceback": [
      "\u001b[0;31m---------------------------------------------------------------------------\u001b[0m",
      "\u001b[0;31mTypeError\u001b[0m                                 Traceback (most recent call last)",
      "Cell \u001b[0;32mIn [106], line 5\u001b[0m\n\u001b[1;32m      1\u001b[0m \u001b[38;5;66;03m# Series min or max with apply() give you the min/max value of each column from dataset\u001b[39;00m\n\u001b[1;32m      2\u001b[0m \u001b[38;5;66;03m#, since each column in dataset is Series\u001b[39;00m\n\u001b[1;32m      3\u001b[0m \u001b[38;5;66;03m# remember to use the pd.Series which means apply the pandas Series min/max method on dataframe\u001b[39;00m\n\u001b[0;32m----> 5\u001b[0m pdf\u001b[38;5;241m.\u001b[39mapply(pd\u001b[38;5;241m.\u001b[39mSeries\u001b[38;5;241m.\u001b[39mmax)\n",
      "File \u001b[0;32m/Library/Frameworks/Python.framework/Versions/3.10/lib/python3.10/site-packages/pandas/core/frame.py:8845\u001b[0m, in \u001b[0;36mDataFrame.apply\u001b[0;34m(self, func, axis, raw, result_type, args, **kwargs)\u001b[0m\n\u001b[1;32m   8834\u001b[0m \u001b[38;5;28;01mfrom\u001b[39;00m \u001b[38;5;21;01mpandas\u001b[39;00m\u001b[38;5;21;01m.\u001b[39;00m\u001b[38;5;21;01mcore\u001b[39;00m\u001b[38;5;21;01m.\u001b[39;00m\u001b[38;5;21;01mapply\u001b[39;00m \u001b[38;5;28;01mimport\u001b[39;00m frame_apply\n\u001b[1;32m   8836\u001b[0m op \u001b[38;5;241m=\u001b[39m frame_apply(\n\u001b[1;32m   8837\u001b[0m     \u001b[38;5;28mself\u001b[39m,\n\u001b[1;32m   8838\u001b[0m     func\u001b[38;5;241m=\u001b[39mfunc,\n\u001b[0;32m   (...)\u001b[0m\n\u001b[1;32m   8843\u001b[0m     kwargs\u001b[38;5;241m=\u001b[39mkwargs,\n\u001b[1;32m   8844\u001b[0m )\n\u001b[0;32m-> 8845\u001b[0m \u001b[38;5;28;01mreturn\u001b[39;00m \u001b[43mop\u001b[49m\u001b[38;5;241;43m.\u001b[39;49m\u001b[43mapply\u001b[49m\u001b[43m(\u001b[49m\u001b[43m)\u001b[49m\u001b[38;5;241m.\u001b[39m__finalize__(\u001b[38;5;28mself\u001b[39m, method\u001b[38;5;241m=\u001b[39m\u001b[38;5;124m\"\u001b[39m\u001b[38;5;124mapply\u001b[39m\u001b[38;5;124m\"\u001b[39m)\n",
      "File \u001b[0;32m/Library/Frameworks/Python.framework/Versions/3.10/lib/python3.10/site-packages/pandas/core/apply.py:733\u001b[0m, in \u001b[0;36mFrameApply.apply\u001b[0;34m(self)\u001b[0m\n\u001b[1;32m    730\u001b[0m \u001b[38;5;28;01melif\u001b[39;00m \u001b[38;5;28mself\u001b[39m\u001b[38;5;241m.\u001b[39mraw:\n\u001b[1;32m    731\u001b[0m     \u001b[38;5;28;01mreturn\u001b[39;00m \u001b[38;5;28mself\u001b[39m\u001b[38;5;241m.\u001b[39mapply_raw()\n\u001b[0;32m--> 733\u001b[0m \u001b[38;5;28;01mreturn\u001b[39;00m \u001b[38;5;28;43mself\u001b[39;49m\u001b[38;5;241;43m.\u001b[39;49m\u001b[43mapply_standard\u001b[49m\u001b[43m(\u001b[49m\u001b[43m)\u001b[49m\n",
      "File \u001b[0;32m/Library/Frameworks/Python.framework/Versions/3.10/lib/python3.10/site-packages/pandas/core/apply.py:857\u001b[0m, in \u001b[0;36mFrameApply.apply_standard\u001b[0;34m(self)\u001b[0m\n\u001b[1;32m    856\u001b[0m \u001b[38;5;28;01mdef\u001b[39;00m \u001b[38;5;21mapply_standard\u001b[39m(\u001b[38;5;28mself\u001b[39m):\n\u001b[0;32m--> 857\u001b[0m     results, res_index \u001b[38;5;241m=\u001b[39m \u001b[38;5;28;43mself\u001b[39;49m\u001b[38;5;241;43m.\u001b[39;49m\u001b[43mapply_series_generator\u001b[49m\u001b[43m(\u001b[49m\u001b[43m)\u001b[49m\n\u001b[1;32m    859\u001b[0m     \u001b[38;5;66;03m# wrap results\u001b[39;00m\n\u001b[1;32m    860\u001b[0m     \u001b[38;5;28;01mreturn\u001b[39;00m \u001b[38;5;28mself\u001b[39m\u001b[38;5;241m.\u001b[39mwrap_results(results, res_index)\n",
      "File \u001b[0;32m/Library/Frameworks/Python.framework/Versions/3.10/lib/python3.10/site-packages/pandas/core/apply.py:873\u001b[0m, in \u001b[0;36mFrameApply.apply_series_generator\u001b[0;34m(self)\u001b[0m\n\u001b[1;32m    870\u001b[0m \u001b[38;5;28;01mwith\u001b[39;00m option_context(\u001b[38;5;124m\"\u001b[39m\u001b[38;5;124mmode.chained_assignment\u001b[39m\u001b[38;5;124m\"\u001b[39m, \u001b[38;5;28;01mNone\u001b[39;00m):\n\u001b[1;32m    871\u001b[0m     \u001b[38;5;28;01mfor\u001b[39;00m i, v \u001b[38;5;129;01min\u001b[39;00m \u001b[38;5;28menumerate\u001b[39m(series_gen):\n\u001b[1;32m    872\u001b[0m         \u001b[38;5;66;03m# ignore SettingWithCopy here in case the user mutates\u001b[39;00m\n\u001b[0;32m--> 873\u001b[0m         results[i] \u001b[38;5;241m=\u001b[39m \u001b[38;5;28;43mself\u001b[39;49m\u001b[38;5;241;43m.\u001b[39;49m\u001b[43mf\u001b[49m\u001b[43m(\u001b[49m\u001b[43mv\u001b[49m\u001b[43m)\u001b[49m\n\u001b[1;32m    874\u001b[0m         \u001b[38;5;28;01mif\u001b[39;00m \u001b[38;5;28misinstance\u001b[39m(results[i], ABCSeries):\n\u001b[1;32m    875\u001b[0m             \u001b[38;5;66;03m# If we have a view on v, we need to make a copy because\u001b[39;00m\n\u001b[1;32m    876\u001b[0m             \u001b[38;5;66;03m#  series_generator will swap out the underlying data\u001b[39;00m\n\u001b[1;32m    877\u001b[0m             results[i] \u001b[38;5;241m=\u001b[39m results[i]\u001b[38;5;241m.\u001b[39mcopy(deep\u001b[38;5;241m=\u001b[39m\u001b[38;5;28;01mFalse\u001b[39;00m)\n",
      "File \u001b[0;32m/Library/Frameworks/Python.framework/Versions/3.10/lib/python3.10/site-packages/pandas/core/generic.py:11214\u001b[0m, in \u001b[0;36mNDFrame._add_numeric_operations.<locals>.max\u001b[0;34m(self, axis, skipna, level, numeric_only, **kwargs)\u001b[0m\n\u001b[1;32m  11194\u001b[0m \u001b[38;5;129m@doc\u001b[39m(  \u001b[38;5;66;03m# type: ignore[misc]\u001b[39;00m\n\u001b[1;32m  11195\u001b[0m     _num_doc,\n\u001b[1;32m  11196\u001b[0m     desc\u001b[38;5;241m=\u001b[39m\u001b[38;5;124m\"\u001b[39m\u001b[38;5;124mReturn the maximum of the values over the requested axis.\u001b[39m\u001b[38;5;130;01m\\n\u001b[39;00m\u001b[38;5;130;01m\\n\u001b[39;00m\u001b[38;5;124m\"\u001b[39m\n\u001b[0;32m   (...)\u001b[0m\n\u001b[1;32m  11212\u001b[0m     \u001b[38;5;241m*\u001b[39m\u001b[38;5;241m*\u001b[39mkwargs,\n\u001b[1;32m  11213\u001b[0m ):\n\u001b[0;32m> 11214\u001b[0m     \u001b[38;5;28;01mreturn\u001b[39;00m \u001b[43mNDFrame\u001b[49m\u001b[38;5;241;43m.\u001b[39;49m\u001b[43mmax\u001b[49m\u001b[43m(\u001b[49m\u001b[38;5;28;43mself\u001b[39;49m\u001b[43m,\u001b[49m\u001b[43m \u001b[49m\u001b[43maxis\u001b[49m\u001b[43m,\u001b[49m\u001b[43m \u001b[49m\u001b[43mskipna\u001b[49m\u001b[43m,\u001b[49m\u001b[43m \u001b[49m\u001b[43mlevel\u001b[49m\u001b[43m,\u001b[49m\u001b[43m \u001b[49m\u001b[43mnumeric_only\u001b[49m\u001b[43m,\u001b[49m\u001b[43m \u001b[49m\u001b[38;5;241;43m*\u001b[39;49m\u001b[38;5;241;43m*\u001b[39;49m\u001b[43mkwargs\u001b[49m\u001b[43m)\u001b[49m\n",
      "File \u001b[0;32m/Library/Frameworks/Python.framework/Versions/3.10/lib/python3.10/site-packages/pandas/core/generic.py:10671\u001b[0m, in \u001b[0;36mNDFrame.max\u001b[0;34m(self, axis, skipna, level, numeric_only, **kwargs)\u001b[0m\n\u001b[1;32m  10663\u001b[0m \u001b[38;5;28;01mdef\u001b[39;00m \u001b[38;5;21mmax\u001b[39m(\n\u001b[1;32m  10664\u001b[0m     \u001b[38;5;28mself\u001b[39m,\n\u001b[1;32m  10665\u001b[0m     axis: Axis \u001b[38;5;241m|\u001b[39m \u001b[38;5;28;01mNone\u001b[39;00m \u001b[38;5;241m|\u001b[39m lib\u001b[38;5;241m.\u001b[39mNoDefault \u001b[38;5;241m=\u001b[39m lib\u001b[38;5;241m.\u001b[39mno_default,\n\u001b[0;32m   (...)\u001b[0m\n\u001b[1;32m  10669\u001b[0m     \u001b[38;5;241m*\u001b[39m\u001b[38;5;241m*\u001b[39mkwargs,\n\u001b[1;32m  10670\u001b[0m ):\n\u001b[0;32m> 10671\u001b[0m     \u001b[38;5;28;01mreturn\u001b[39;00m \u001b[38;5;28;43mself\u001b[39;49m\u001b[38;5;241;43m.\u001b[39;49m\u001b[43m_stat_function\u001b[49m\u001b[43m(\u001b[49m\n\u001b[1;32m  10672\u001b[0m \u001b[43m        \u001b[49m\u001b[38;5;124;43m\"\u001b[39;49m\u001b[38;5;124;43mmax\u001b[39;49m\u001b[38;5;124;43m\"\u001b[39;49m\u001b[43m,\u001b[49m\n\u001b[1;32m  10673\u001b[0m \u001b[43m        \u001b[49m\u001b[43mnanops\u001b[49m\u001b[38;5;241;43m.\u001b[39;49m\u001b[43mnanmax\u001b[49m\u001b[43m,\u001b[49m\n\u001b[1;32m  10674\u001b[0m \u001b[43m        \u001b[49m\u001b[43maxis\u001b[49m\u001b[43m,\u001b[49m\n\u001b[1;32m  10675\u001b[0m \u001b[43m        \u001b[49m\u001b[43mskipna\u001b[49m\u001b[43m,\u001b[49m\n\u001b[1;32m  10676\u001b[0m \u001b[43m        \u001b[49m\u001b[43mlevel\u001b[49m\u001b[43m,\u001b[49m\n\u001b[1;32m  10677\u001b[0m \u001b[43m        \u001b[49m\u001b[43mnumeric_only\u001b[49m\u001b[43m,\u001b[49m\n\u001b[1;32m  10678\u001b[0m \u001b[43m        \u001b[49m\u001b[38;5;241;43m*\u001b[39;49m\u001b[38;5;241;43m*\u001b[39;49m\u001b[43mkwargs\u001b[49m\u001b[43m,\u001b[49m\n\u001b[1;32m  10679\u001b[0m \u001b[43m    \u001b[49m\u001b[43m)\u001b[49m\n",
      "File \u001b[0;32m/Library/Frameworks/Python.framework/Versions/3.10/lib/python3.10/site-packages/pandas/core/generic.py:10641\u001b[0m, in \u001b[0;36mNDFrame._stat_function\u001b[0;34m(self, name, func, axis, skipna, level, numeric_only, **kwargs)\u001b[0m\n\u001b[1;32m  10631\u001b[0m     warnings\u001b[38;5;241m.\u001b[39mwarn(\n\u001b[1;32m  10632\u001b[0m         \u001b[38;5;124m\"\u001b[39m\u001b[38;5;124mUsing the level keyword in DataFrame and Series aggregations is \u001b[39m\u001b[38;5;124m\"\u001b[39m\n\u001b[1;32m  10633\u001b[0m         \u001b[38;5;124m\"\u001b[39m\u001b[38;5;124mdeprecated and will be removed in a future version. Use groupby \u001b[39m\u001b[38;5;124m\"\u001b[39m\n\u001b[0;32m   (...)\u001b[0m\n\u001b[1;32m  10636\u001b[0m         stacklevel\u001b[38;5;241m=\u001b[39mfind_stack_level(),\n\u001b[1;32m  10637\u001b[0m     )\n\u001b[1;32m  10638\u001b[0m     \u001b[38;5;28;01mreturn\u001b[39;00m \u001b[38;5;28mself\u001b[39m\u001b[38;5;241m.\u001b[39m_agg_by_level(\n\u001b[1;32m  10639\u001b[0m         name, axis\u001b[38;5;241m=\u001b[39maxis, level\u001b[38;5;241m=\u001b[39mlevel, skipna\u001b[38;5;241m=\u001b[39mskipna, numeric_only\u001b[38;5;241m=\u001b[39mnumeric_only\n\u001b[1;32m  10640\u001b[0m     )\n\u001b[0;32m> 10641\u001b[0m \u001b[38;5;28;01mreturn\u001b[39;00m \u001b[38;5;28;43mself\u001b[39;49m\u001b[38;5;241;43m.\u001b[39;49m\u001b[43m_reduce\u001b[49m\u001b[43m(\u001b[49m\n\u001b[1;32m  10642\u001b[0m \u001b[43m    \u001b[49m\u001b[43mfunc\u001b[49m\u001b[43m,\u001b[49m\u001b[43m \u001b[49m\u001b[43mname\u001b[49m\u001b[38;5;241;43m=\u001b[39;49m\u001b[43mname\u001b[49m\u001b[43m,\u001b[49m\u001b[43m \u001b[49m\u001b[43maxis\u001b[49m\u001b[38;5;241;43m=\u001b[39;49m\u001b[43maxis\u001b[49m\u001b[43m,\u001b[49m\u001b[43m \u001b[49m\u001b[43mskipna\u001b[49m\u001b[38;5;241;43m=\u001b[39;49m\u001b[43mskipna\u001b[49m\u001b[43m,\u001b[49m\u001b[43m \u001b[49m\u001b[43mnumeric_only\u001b[49m\u001b[38;5;241;43m=\u001b[39;49m\u001b[43mnumeric_only\u001b[49m\n\u001b[1;32m  10643\u001b[0m \u001b[43m\u001b[49m\u001b[43m)\u001b[49m\n",
      "File \u001b[0;32m/Library/Frameworks/Python.framework/Versions/3.10/lib/python3.10/site-packages/pandas/core/series.py:4471\u001b[0m, in \u001b[0;36mSeries._reduce\u001b[0;34m(self, op, name, axis, skipna, numeric_only, filter_type, **kwds)\u001b[0m\n\u001b[1;32m   4467\u001b[0m     \u001b[38;5;28;01mraise\u001b[39;00m \u001b[38;5;167;01mNotImplementedError\u001b[39;00m(\n\u001b[1;32m   4468\u001b[0m         \u001b[38;5;124mf\u001b[39m\u001b[38;5;124m\"\u001b[39m\u001b[38;5;124mSeries.\u001b[39m\u001b[38;5;132;01m{\u001b[39;00mname\u001b[38;5;132;01m}\u001b[39;00m\u001b[38;5;124m does not implement \u001b[39m\u001b[38;5;132;01m{\u001b[39;00mkwd_name\u001b[38;5;132;01m}\u001b[39;00m\u001b[38;5;124m.\u001b[39m\u001b[38;5;124m\"\u001b[39m\n\u001b[1;32m   4469\u001b[0m     )\n\u001b[1;32m   4470\u001b[0m \u001b[38;5;28;01mwith\u001b[39;00m np\u001b[38;5;241m.\u001b[39merrstate(\u001b[38;5;28mall\u001b[39m\u001b[38;5;241m=\u001b[39m\u001b[38;5;124m\"\u001b[39m\u001b[38;5;124mignore\u001b[39m\u001b[38;5;124m\"\u001b[39m):\n\u001b[0;32m-> 4471\u001b[0m     \u001b[38;5;28;01mreturn\u001b[39;00m \u001b[43mop\u001b[49m\u001b[43m(\u001b[49m\u001b[43mdelegate\u001b[49m\u001b[43m,\u001b[49m\u001b[43m \u001b[49m\u001b[43mskipna\u001b[49m\u001b[38;5;241;43m=\u001b[39;49m\u001b[43mskipna\u001b[49m\u001b[43m,\u001b[49m\u001b[43m \u001b[49m\u001b[38;5;241;43m*\u001b[39;49m\u001b[38;5;241;43m*\u001b[39;49m\u001b[43mkwds\u001b[49m\u001b[43m)\u001b[49m\n",
      "File \u001b[0;32m/Library/Frameworks/Python.framework/Versions/3.10/lib/python3.10/site-packages/pandas/core/nanops.py:155\u001b[0m, in \u001b[0;36mbottleneck_switch.__call__.<locals>.f\u001b[0;34m(values, axis, skipna, **kwds)\u001b[0m\n\u001b[1;32m    153\u001b[0m         result \u001b[38;5;241m=\u001b[39m alt(values, axis\u001b[38;5;241m=\u001b[39maxis, skipna\u001b[38;5;241m=\u001b[39mskipna, \u001b[38;5;241m*\u001b[39m\u001b[38;5;241m*\u001b[39mkwds)\n\u001b[1;32m    154\u001b[0m \u001b[38;5;28;01melse\u001b[39;00m:\n\u001b[0;32m--> 155\u001b[0m     result \u001b[38;5;241m=\u001b[39m \u001b[43malt\u001b[49m\u001b[43m(\u001b[49m\u001b[43mvalues\u001b[49m\u001b[43m,\u001b[49m\u001b[43m \u001b[49m\u001b[43maxis\u001b[49m\u001b[38;5;241;43m=\u001b[39;49m\u001b[43maxis\u001b[49m\u001b[43m,\u001b[49m\u001b[43m \u001b[49m\u001b[43mskipna\u001b[49m\u001b[38;5;241;43m=\u001b[39;49m\u001b[43mskipna\u001b[49m\u001b[43m,\u001b[49m\u001b[43m \u001b[49m\u001b[38;5;241;43m*\u001b[39;49m\u001b[38;5;241;43m*\u001b[39;49m\u001b[43mkwds\u001b[49m\u001b[43m)\u001b[49m\n\u001b[1;32m    157\u001b[0m \u001b[38;5;28;01mreturn\u001b[39;00m result\n",
      "File \u001b[0;32m/Library/Frameworks/Python.framework/Versions/3.10/lib/python3.10/site-packages/pandas/core/nanops.py:410\u001b[0m, in \u001b[0;36m_datetimelike_compat.<locals>.new_func\u001b[0;34m(values, axis, skipna, mask, **kwargs)\u001b[0m\n\u001b[1;32m    407\u001b[0m \u001b[38;5;28;01mif\u001b[39;00m datetimelike \u001b[38;5;129;01mand\u001b[39;00m mask \u001b[38;5;129;01mis\u001b[39;00m \u001b[38;5;28;01mNone\u001b[39;00m:\n\u001b[1;32m    408\u001b[0m     mask \u001b[38;5;241m=\u001b[39m isna(values)\n\u001b[0;32m--> 410\u001b[0m result \u001b[38;5;241m=\u001b[39m \u001b[43mfunc\u001b[49m\u001b[43m(\u001b[49m\u001b[43mvalues\u001b[49m\u001b[43m,\u001b[49m\u001b[43m \u001b[49m\u001b[43maxis\u001b[49m\u001b[38;5;241;43m=\u001b[39;49m\u001b[43maxis\u001b[49m\u001b[43m,\u001b[49m\u001b[43m \u001b[49m\u001b[43mskipna\u001b[49m\u001b[38;5;241;43m=\u001b[39;49m\u001b[43mskipna\u001b[49m\u001b[43m,\u001b[49m\u001b[43m \u001b[49m\u001b[43mmask\u001b[49m\u001b[38;5;241;43m=\u001b[39;49m\u001b[43mmask\u001b[49m\u001b[43m,\u001b[49m\u001b[43m \u001b[49m\u001b[38;5;241;43m*\u001b[39;49m\u001b[38;5;241;43m*\u001b[39;49m\u001b[43mkwargs\u001b[49m\u001b[43m)\u001b[49m\n\u001b[1;32m    412\u001b[0m \u001b[38;5;28;01mif\u001b[39;00m datetimelike:\n\u001b[1;32m    413\u001b[0m     result \u001b[38;5;241m=\u001b[39m _wrap_results(result, orig_values\u001b[38;5;241m.\u001b[39mdtype, fill_value\u001b[38;5;241m=\u001b[39miNaT)\n",
      "File \u001b[0;32m/Library/Frameworks/Python.framework/Versions/3.10/lib/python3.10/site-packages/pandas/core/nanops.py:1043\u001b[0m, in \u001b[0;36m_nanminmax.<locals>.reduction\u001b[0;34m(values, axis, skipna, mask)\u001b[0m\n\u001b[1;32m   1041\u001b[0m         result \u001b[38;5;241m=\u001b[39m np\u001b[38;5;241m.\u001b[39mnan\n\u001b[1;32m   1042\u001b[0m \u001b[38;5;28;01melse\u001b[39;00m:\n\u001b[0;32m-> 1043\u001b[0m     result \u001b[38;5;241m=\u001b[39m \u001b[38;5;28;43mgetattr\u001b[39;49m\u001b[43m(\u001b[49m\u001b[43mvalues\u001b[49m\u001b[43m,\u001b[49m\u001b[43m \u001b[49m\u001b[43mmeth\u001b[49m\u001b[43m)\u001b[49m\u001b[43m(\u001b[49m\u001b[43maxis\u001b[49m\u001b[43m)\u001b[49m\n\u001b[1;32m   1045\u001b[0m result \u001b[38;5;241m=\u001b[39m _maybe_null_out(result, axis, mask, values\u001b[38;5;241m.\u001b[39mshape)\n\u001b[1;32m   1046\u001b[0m \u001b[38;5;28;01mreturn\u001b[39;00m result\n",
      "File \u001b[0;32m/Library/Frameworks/Python.framework/Versions/3.10/lib/python3.10/site-packages/numpy/core/_methods.py:40\u001b[0m, in \u001b[0;36m_amax\u001b[0;34m(a, axis, out, keepdims, initial, where)\u001b[0m\n\u001b[1;32m     38\u001b[0m \u001b[38;5;28;01mdef\u001b[39;00m \u001b[38;5;21m_amax\u001b[39m(a, axis\u001b[38;5;241m=\u001b[39m\u001b[38;5;28;01mNone\u001b[39;00m, out\u001b[38;5;241m=\u001b[39m\u001b[38;5;28;01mNone\u001b[39;00m, keepdims\u001b[38;5;241m=\u001b[39m\u001b[38;5;28;01mFalse\u001b[39;00m,\n\u001b[1;32m     39\u001b[0m           initial\u001b[38;5;241m=\u001b[39m_NoValue, where\u001b[38;5;241m=\u001b[39m\u001b[38;5;28;01mTrue\u001b[39;00m):\n\u001b[0;32m---> 40\u001b[0m     \u001b[38;5;28;01mreturn\u001b[39;00m \u001b[43mumr_maximum\u001b[49m\u001b[43m(\u001b[49m\u001b[43ma\u001b[49m\u001b[43m,\u001b[49m\u001b[43m \u001b[49m\u001b[43maxis\u001b[49m\u001b[43m,\u001b[49m\u001b[43m \u001b[49m\u001b[38;5;28;43;01mNone\u001b[39;49;00m\u001b[43m,\u001b[49m\u001b[43m \u001b[49m\u001b[43mout\u001b[49m\u001b[43m,\u001b[49m\u001b[43m \u001b[49m\u001b[43mkeepdims\u001b[49m\u001b[43m,\u001b[49m\u001b[43m \u001b[49m\u001b[43minitial\u001b[49m\u001b[43m,\u001b[49m\u001b[43m \u001b[49m\u001b[43mwhere\u001b[49m\u001b[43m)\u001b[49m\n",
      "\u001b[0;31mTypeError\u001b[0m: '>=' not supported between instances of 'int' and 'str'"
     ]
    }
   ],
   "source": [
    "# Series min or max with apply() give you the min/max value of each column from dataset\n",
    "#, since each column in dataset is Series\n",
    "# remember to use the pd.Series which means apply the pandas Series min/max method on dataframe\n",
    "\n",
    "pdf.apply(pd.Series.max)\n",
    "#pdf.replace({'Missing':np.nan, 'None': None, 'na':None, 'NA':None, 'no data': np.nan}, inplace=True)"
   ]
  },
  {
   "cell_type": "code",
   "execution_count": null,
   "id": "d9204052",
   "metadata": {},
   "outputs": [],
   "source": [
    "#Same can be done by using the lambda\n",
    "\n",
    "pdf.apply(lambda x: x.max())"
   ]
  },
  {
   "cell_type": "code",
   "execution_count": null,
   "id": "a56a6cb7",
   "metadata": {},
   "outputs": [],
   "source": [
    "pdf"
   ]
  },
  {
   "cell_type": "code",
   "execution_count": null,
   "id": "b473b132",
   "metadata": {},
   "outputs": [],
   "source": [
    "#change the value for column values we can use replace method\n",
    "#update multiple row column values\n",
    "pdf['lname']= pdf['lname'].replace({'Sharma':'Burk', 'Saurabh':'Kumar'})"
   ]
  },
  {
   "cell_type": "code",
   "execution_count": null,
   "id": "197c8d08",
   "metadata": {
    "scrolled": true
   },
   "outputs": [],
   "source": [
    "pdf.loc[[3,8]]"
   ]
  },
  {
   "cell_type": "markdown",
   "id": "c20ce009",
   "metadata": {},
   "source": [
    "# Change column name or rename column name, use inplace=True to apply the change"
   ]
  },
  {
   "cell_type": "code",
   "execution_count": null,
   "id": "075f3ada",
   "metadata": {
    "scrolled": true
   },
   "outputs": [],
   "source": [
    "#pdf.rename(columns = {'id':'emp_id'}, inplace=True)\n",
    "#update column header name DataFrame.replace(colums = {'existing_name':'new_name'})\n",
    "pdf.rename(columns = {'id':'emp_id'})"
   ]
  },
  {
   "cell_type": "code",
   "execution_count": null,
   "id": "d4137416",
   "metadata": {
    "scrolled": true
   },
   "outputs": [],
   "source": [
    "pdf"
   ]
  },
  {
   "cell_type": "markdown",
   "id": "825b44ff",
   "metadata": {},
   "source": [
    "# Insert and update Records\n",
    "# Handling Null value in Df\n",
    "# dropna(axis=index/columns, how='all/any')\n",
    "all= delete row or column when all values are null\n",
    "any = delete row or column when any value in df is null/NaN"
   ]
  },
  {
   "cell_type": "code",
   "execution_count": 63,
   "id": "9e444f62",
   "metadata": {},
   "outputs": [],
   "source": [
    "import numpy as np\n",
    "emp_data = {'fname': ['sample','Jack',np.nan,'Traci','Rosy','Jack','Jhon','NULL','Tom','Raj','Terry'],\n",
    "            'lname': [np.nan,'Foly','NA',np.nan,'NA','jack@email','Dow','Dow','Hanks','Saurabh','Missing'], \n",
    "            'email': [np.nan,'jack.foly@email',None,'traci.saw@email','rosy.burk@email','jack@email','jhon.dow@email.com','jenny.dow@email.com','tom.hanks@email.com','saurabh.raj@email.com','td@email.com'],\n",
    "            'age':[15,10,np.nan,11,23,45,65,43,2,4,None],\n",
    "            'zip':[10001,np.nan,np.nan,np.nan,np.nan,np.nan,np.nan,np.nan,np.nan,np.nan,'NA']\n",
    "           }"
   ]
  },
  {
   "cell_type": "code",
   "execution_count": 64,
   "id": "abcc8741",
   "metadata": {},
   "outputs": [],
   "source": [
    "ndf = pd.DataFrame(emp_data)\n",
    "pd.set_option('display.max_rows',12)\n",
    "#display at least 12 rows for all DF its not only for this"
   ]
  },
  {
   "cell_type": "code",
   "execution_count": 65,
   "id": "5af085d1",
   "metadata": {
    "scrolled": false
   },
   "outputs": [
    {
     "data": {
      "text/html": [
       "<div>\n",
       "<style scoped>\n",
       "    .dataframe tbody tr th:only-of-type {\n",
       "        vertical-align: middle;\n",
       "    }\n",
       "\n",
       "    .dataframe tbody tr th {\n",
       "        vertical-align: top;\n",
       "    }\n",
       "\n",
       "    .dataframe thead th {\n",
       "        text-align: right;\n",
       "    }\n",
       "</style>\n",
       "<table border=\"1\" class=\"dataframe\">\n",
       "  <thead>\n",
       "    <tr style=\"text-align: right;\">\n",
       "      <th></th>\n",
       "      <th>fname</th>\n",
       "      <th>lname</th>\n",
       "      <th>email</th>\n",
       "      <th>age</th>\n",
       "      <th>zip</th>\n",
       "    </tr>\n",
       "  </thead>\n",
       "  <tbody>\n",
       "    <tr>\n",
       "      <th>0</th>\n",
       "      <td>sample</td>\n",
       "      <td>NaN</td>\n",
       "      <td>NaN</td>\n",
       "      <td>15.0</td>\n",
       "      <td>10001</td>\n",
       "    </tr>\n",
       "    <tr>\n",
       "      <th>1</th>\n",
       "      <td>Jack</td>\n",
       "      <td>Foly</td>\n",
       "      <td>jack.foly@email</td>\n",
       "      <td>10.0</td>\n",
       "      <td>NaN</td>\n",
       "    </tr>\n",
       "    <tr>\n",
       "      <th>2</th>\n",
       "      <td>NaN</td>\n",
       "      <td>NA</td>\n",
       "      <td>None</td>\n",
       "      <td>NaN</td>\n",
       "      <td>NaN</td>\n",
       "    </tr>\n",
       "    <tr>\n",
       "      <th>3</th>\n",
       "      <td>Traci</td>\n",
       "      <td>NaN</td>\n",
       "      <td>traci.saw@email</td>\n",
       "      <td>11.0</td>\n",
       "      <td>NaN</td>\n",
       "    </tr>\n",
       "    <tr>\n",
       "      <th>4</th>\n",
       "      <td>Rosy</td>\n",
       "      <td>NA</td>\n",
       "      <td>rosy.burk@email</td>\n",
       "      <td>23.0</td>\n",
       "      <td>NaN</td>\n",
       "    </tr>\n",
       "    <tr>\n",
       "      <th>5</th>\n",
       "      <td>Jack</td>\n",
       "      <td>jack@email</td>\n",
       "      <td>jack@email</td>\n",
       "      <td>45.0</td>\n",
       "      <td>NaN</td>\n",
       "    </tr>\n",
       "    <tr>\n",
       "      <th>6</th>\n",
       "      <td>Jhon</td>\n",
       "      <td>Dow</td>\n",
       "      <td>jhon.dow@email.com</td>\n",
       "      <td>65.0</td>\n",
       "      <td>NaN</td>\n",
       "    </tr>\n",
       "    <tr>\n",
       "      <th>7</th>\n",
       "      <td>NULL</td>\n",
       "      <td>Dow</td>\n",
       "      <td>jenny.dow@email.com</td>\n",
       "      <td>43.0</td>\n",
       "      <td>NaN</td>\n",
       "    </tr>\n",
       "    <tr>\n",
       "      <th>8</th>\n",
       "      <td>Tom</td>\n",
       "      <td>Hanks</td>\n",
       "      <td>tom.hanks@email.com</td>\n",
       "      <td>2.0</td>\n",
       "      <td>NaN</td>\n",
       "    </tr>\n",
       "    <tr>\n",
       "      <th>9</th>\n",
       "      <td>Raj</td>\n",
       "      <td>Saurabh</td>\n",
       "      <td>saurabh.raj@email.com</td>\n",
       "      <td>4.0</td>\n",
       "      <td>NaN</td>\n",
       "    </tr>\n",
       "    <tr>\n",
       "      <th>10</th>\n",
       "      <td>Terry</td>\n",
       "      <td>Missing</td>\n",
       "      <td>td@email.com</td>\n",
       "      <td>NaN</td>\n",
       "      <td>NA</td>\n",
       "    </tr>\n",
       "  </tbody>\n",
       "</table>\n",
       "</div>"
      ],
      "text/plain": [
       "     fname       lname                  email   age    zip\n",
       "0   sample         NaN                    NaN  15.0  10001\n",
       "1     Jack        Foly        jack.foly@email  10.0    NaN\n",
       "2      NaN          NA                   None   NaN    NaN\n",
       "3    Traci         NaN        traci.saw@email  11.0    NaN\n",
       "4     Rosy          NA        rosy.burk@email  23.0    NaN\n",
       "5     Jack  jack@email             jack@email  45.0    NaN\n",
       "6     Jhon         Dow     jhon.dow@email.com  65.0    NaN\n",
       "7     NULL         Dow    jenny.dow@email.com  43.0    NaN\n",
       "8      Tom       Hanks    tom.hanks@email.com   2.0    NaN\n",
       "9      Raj     Saurabh  saurabh.raj@email.com   4.0    NaN\n",
       "10   Terry     Missing           td@email.com   NaN     NA"
      ]
     },
     "execution_count": 65,
     "metadata": {},
     "output_type": "execute_result"
    }
   ],
   "source": [
    "ndf\n",
    "#ndf.loc[9]=None"
   ]
  },
  {
   "cell_type": "code",
   "execution_count": 66,
   "id": "2ac65202",
   "metadata": {
    "scrolled": false
   },
   "outputs": [
    {
     "name": "stderr",
     "output_type": "stream",
     "text": [
      "/var/folders/l5/0hgvlxrn1q9cm7g8sk6xxnr00000gn/T/ipykernel_9751/3004757393.py:1: FutureWarning: The frame.append method is deprecated and will be removed from pandas in a future version. Use pandas.concat instead.\n",
      "  ndf=ndf.append({'full_name':'NAMissing None','fname':'NAKumar','email':'MissingNA@email.com','gender':None}, ignore_index=True)\n"
     ]
    },
    {
     "data": {
      "text/html": [
       "<div>\n",
       "<style scoped>\n",
       "    .dataframe tbody tr th:only-of-type {\n",
       "        vertical-align: middle;\n",
       "    }\n",
       "\n",
       "    .dataframe tbody tr th {\n",
       "        vertical-align: top;\n",
       "    }\n",
       "\n",
       "    .dataframe thead th {\n",
       "        text-align: right;\n",
       "    }\n",
       "</style>\n",
       "<table border=\"1\" class=\"dataframe\">\n",
       "  <thead>\n",
       "    <tr style=\"text-align: right;\">\n",
       "      <th></th>\n",
       "      <th>fname</th>\n",
       "      <th>lname</th>\n",
       "      <th>email</th>\n",
       "      <th>age</th>\n",
       "      <th>zip</th>\n",
       "      <th>full_name</th>\n",
       "      <th>gender</th>\n",
       "    </tr>\n",
       "  </thead>\n",
       "  <tbody>\n",
       "    <tr>\n",
       "      <th>0</th>\n",
       "      <td>sample</td>\n",
       "      <td>NaN</td>\n",
       "      <td>NaN</td>\n",
       "      <td>15.0</td>\n",
       "      <td>10001</td>\n",
       "      <td>NaN</td>\n",
       "      <td>NaN</td>\n",
       "    </tr>\n",
       "    <tr>\n",
       "      <th>1</th>\n",
       "      <td>Jack</td>\n",
       "      <td>Foly</td>\n",
       "      <td>jack.foly@email</td>\n",
       "      <td>10.0</td>\n",
       "      <td>NaN</td>\n",
       "      <td>NaN</td>\n",
       "      <td>NaN</td>\n",
       "    </tr>\n",
       "    <tr>\n",
       "      <th>2</th>\n",
       "      <td>NaN</td>\n",
       "      <td>NA</td>\n",
       "      <td>None</td>\n",
       "      <td>NaN</td>\n",
       "      <td>NaN</td>\n",
       "      <td>NaN</td>\n",
       "      <td>NaN</td>\n",
       "    </tr>\n",
       "    <tr>\n",
       "      <th>3</th>\n",
       "      <td>Traci</td>\n",
       "      <td>NaN</td>\n",
       "      <td>traci.saw@email</td>\n",
       "      <td>11.0</td>\n",
       "      <td>NaN</td>\n",
       "      <td>NaN</td>\n",
       "      <td>NaN</td>\n",
       "    </tr>\n",
       "    <tr>\n",
       "      <th>4</th>\n",
       "      <td>Rosy</td>\n",
       "      <td>NA</td>\n",
       "      <td>rosy.burk@email</td>\n",
       "      <td>23.0</td>\n",
       "      <td>NaN</td>\n",
       "      <td>NaN</td>\n",
       "      <td>NaN</td>\n",
       "    </tr>\n",
       "    <tr>\n",
       "      <th>5</th>\n",
       "      <td>Jack</td>\n",
       "      <td>jack@email</td>\n",
       "      <td>jack@email</td>\n",
       "      <td>45.0</td>\n",
       "      <td>NaN</td>\n",
       "      <td>NaN</td>\n",
       "      <td>NaN</td>\n",
       "    </tr>\n",
       "    <tr>\n",
       "      <th>6</th>\n",
       "      <td>Jhon</td>\n",
       "      <td>Dow</td>\n",
       "      <td>jhon.dow@email.com</td>\n",
       "      <td>65.0</td>\n",
       "      <td>NaN</td>\n",
       "      <td>NaN</td>\n",
       "      <td>NaN</td>\n",
       "    </tr>\n",
       "    <tr>\n",
       "      <th>7</th>\n",
       "      <td>NULL</td>\n",
       "      <td>Dow</td>\n",
       "      <td>jenny.dow@email.com</td>\n",
       "      <td>43.0</td>\n",
       "      <td>NaN</td>\n",
       "      <td>NaN</td>\n",
       "      <td>NaN</td>\n",
       "    </tr>\n",
       "    <tr>\n",
       "      <th>8</th>\n",
       "      <td>Tom</td>\n",
       "      <td>Hanks</td>\n",
       "      <td>tom.hanks@email.com</td>\n",
       "      <td>2.0</td>\n",
       "      <td>NaN</td>\n",
       "      <td>NaN</td>\n",
       "      <td>NaN</td>\n",
       "    </tr>\n",
       "    <tr>\n",
       "      <th>9</th>\n",
       "      <td>Raj</td>\n",
       "      <td>Saurabh</td>\n",
       "      <td>saurabh.raj@email.com</td>\n",
       "      <td>4.0</td>\n",
       "      <td>NaN</td>\n",
       "      <td>NaN</td>\n",
       "      <td>NaN</td>\n",
       "    </tr>\n",
       "    <tr>\n",
       "      <th>10</th>\n",
       "      <td>Terry</td>\n",
       "      <td>Missing</td>\n",
       "      <td>td@email.com</td>\n",
       "      <td>NaN</td>\n",
       "      <td>NA</td>\n",
       "      <td>NaN</td>\n",
       "      <td>NaN</td>\n",
       "    </tr>\n",
       "    <tr>\n",
       "      <th>11</th>\n",
       "      <td>NAKumar</td>\n",
       "      <td>NaN</td>\n",
       "      <td>MissingNA@email.com</td>\n",
       "      <td>NaN</td>\n",
       "      <td>NaN</td>\n",
       "      <td>NAMissing None</td>\n",
       "      <td>None</td>\n",
       "    </tr>\n",
       "  </tbody>\n",
       "</table>\n",
       "</div>"
      ],
      "text/plain": [
       "      fname       lname                  email   age    zip       full_name  \\\n",
       "0    sample         NaN                    NaN  15.0  10001             NaN   \n",
       "1      Jack        Foly        jack.foly@email  10.0    NaN             NaN   \n",
       "2       NaN          NA                   None   NaN    NaN             NaN   \n",
       "3     Traci         NaN        traci.saw@email  11.0    NaN             NaN   \n",
       "4      Rosy          NA        rosy.burk@email  23.0    NaN             NaN   \n",
       "5      Jack  jack@email             jack@email  45.0    NaN             NaN   \n",
       "6      Jhon         Dow     jhon.dow@email.com  65.0    NaN             NaN   \n",
       "7      NULL         Dow    jenny.dow@email.com  43.0    NaN             NaN   \n",
       "8       Tom       Hanks    tom.hanks@email.com   2.0    NaN             NaN   \n",
       "9       Raj     Saurabh  saurabh.raj@email.com   4.0    NaN             NaN   \n",
       "10    Terry     Missing           td@email.com   NaN     NA             NaN   \n",
       "11  NAKumar         NaN    MissingNA@email.com   NaN    NaN  NAMissing None   \n",
       "\n",
       "   gender  \n",
       "0     NaN  \n",
       "1     NaN  \n",
       "2     NaN  \n",
       "3     NaN  \n",
       "4     NaN  \n",
       "5     NaN  \n",
       "6     NaN  \n",
       "7     NaN  \n",
       "8     NaN  \n",
       "9     NaN  \n",
       "10    NaN  \n",
       "11   None  "
      ]
     },
     "execution_count": 66,
     "metadata": {},
     "output_type": "execute_result"
    }
   ],
   "source": [
    "ndf=ndf.append({'full_name':'NAMissing None','fname':'NAKumar','email':'MissingNA@email.com','gender':None}, ignore_index=True)\n",
    "ndf"
   ]
  },
  {
   "cell_type": "code",
   "execution_count": 68,
   "id": "ad39231d",
   "metadata": {
    "scrolled": true
   },
   "outputs": [],
   "source": [
    "cond = ndf['email']=='MissingNA@email.com'"
   ]
  },
  {
   "cell_type": "code",
   "execution_count": 69,
   "id": "d3a4c739",
   "metadata": {
    "scrolled": false
   },
   "outputs": [
    {
     "data": {
      "text/html": [
       "<div>\n",
       "<style scoped>\n",
       "    .dataframe tbody tr th:only-of-type {\n",
       "        vertical-align: middle;\n",
       "    }\n",
       "\n",
       "    .dataframe tbody tr th {\n",
       "        vertical-align: top;\n",
       "    }\n",
       "\n",
       "    .dataframe thead th {\n",
       "        text-align: right;\n",
       "    }\n",
       "</style>\n",
       "<table border=\"1\" class=\"dataframe\">\n",
       "  <thead>\n",
       "    <tr style=\"text-align: right;\">\n",
       "      <th></th>\n",
       "      <th>fname</th>\n",
       "      <th>lname</th>\n",
       "      <th>email</th>\n",
       "      <th>age</th>\n",
       "      <th>zip</th>\n",
       "      <th>full_name</th>\n",
       "      <th>gender</th>\n",
       "    </tr>\n",
       "  </thead>\n",
       "  <tbody>\n",
       "    <tr>\n",
       "      <th>0</th>\n",
       "      <td>sample</td>\n",
       "      <td>NaN</td>\n",
       "      <td>NaN</td>\n",
       "      <td>15.0</td>\n",
       "      <td>10001</td>\n",
       "      <td>NaN</td>\n",
       "      <td>NaN</td>\n",
       "    </tr>\n",
       "    <tr>\n",
       "      <th>1</th>\n",
       "      <td>Jack</td>\n",
       "      <td>Foly</td>\n",
       "      <td>jack.foly@email</td>\n",
       "      <td>10.0</td>\n",
       "      <td>NaN</td>\n",
       "      <td>NaN</td>\n",
       "      <td>NaN</td>\n",
       "    </tr>\n",
       "    <tr>\n",
       "      <th>2</th>\n",
       "      <td>NaN</td>\n",
       "      <td>NA</td>\n",
       "      <td>None</td>\n",
       "      <td>NaN</td>\n",
       "      <td>NaN</td>\n",
       "      <td>NaN</td>\n",
       "      <td>NaN</td>\n",
       "    </tr>\n",
       "    <tr>\n",
       "      <th>3</th>\n",
       "      <td>Traci</td>\n",
       "      <td>NaN</td>\n",
       "      <td>traci.saw@email</td>\n",
       "      <td>11.0</td>\n",
       "      <td>NaN</td>\n",
       "      <td>NaN</td>\n",
       "      <td>NaN</td>\n",
       "    </tr>\n",
       "    <tr>\n",
       "      <th>4</th>\n",
       "      <td>Rosy</td>\n",
       "      <td>NA</td>\n",
       "      <td>rosy.burk@email</td>\n",
       "      <td>23.0</td>\n",
       "      <td>NaN</td>\n",
       "      <td>NaN</td>\n",
       "      <td>NaN</td>\n",
       "    </tr>\n",
       "    <tr>\n",
       "      <th>5</th>\n",
       "      <td>Jack</td>\n",
       "      <td>jack@email</td>\n",
       "      <td>jack@email</td>\n",
       "      <td>45.0</td>\n",
       "      <td>NaN</td>\n",
       "      <td>NaN</td>\n",
       "      <td>NaN</td>\n",
       "    </tr>\n",
       "    <tr>\n",
       "      <th>6</th>\n",
       "      <td>Jhon</td>\n",
       "      <td>Dow</td>\n",
       "      <td>jhon.dow@email.com</td>\n",
       "      <td>65.0</td>\n",
       "      <td>NaN</td>\n",
       "      <td>NaN</td>\n",
       "      <td>NaN</td>\n",
       "    </tr>\n",
       "    <tr>\n",
       "      <th>7</th>\n",
       "      <td>NULL</td>\n",
       "      <td>Dow</td>\n",
       "      <td>jenny.dow@email.com</td>\n",
       "      <td>43.0</td>\n",
       "      <td>NaN</td>\n",
       "      <td>NaN</td>\n",
       "      <td>NaN</td>\n",
       "    </tr>\n",
       "    <tr>\n",
       "      <th>8</th>\n",
       "      <td>Tom</td>\n",
       "      <td>Hanks</td>\n",
       "      <td>tom.hanks@email.com</td>\n",
       "      <td>2.0</td>\n",
       "      <td>NaN</td>\n",
       "      <td>NaN</td>\n",
       "      <td>NaN</td>\n",
       "    </tr>\n",
       "    <tr>\n",
       "      <th>9</th>\n",
       "      <td>Raj</td>\n",
       "      <td>Saurabh</td>\n",
       "      <td>saurabh.raj@email.com</td>\n",
       "      <td>4.0</td>\n",
       "      <td>NaN</td>\n",
       "      <td>NaN</td>\n",
       "      <td>NaN</td>\n",
       "    </tr>\n",
       "    <tr>\n",
       "      <th>10</th>\n",
       "      <td>Terry</td>\n",
       "      <td>Missing</td>\n",
       "      <td>td@email.com</td>\n",
       "      <td>NaN</td>\n",
       "      <td>NA</td>\n",
       "      <td>NaN</td>\n",
       "      <td>NaN</td>\n",
       "    </tr>\n",
       "  </tbody>\n",
       "</table>\n",
       "</div>"
      ],
      "text/plain": [
       "     fname       lname                  email   age    zip full_name gender\n",
       "0   sample         NaN                    NaN  15.0  10001       NaN    NaN\n",
       "1     Jack        Foly        jack.foly@email  10.0    NaN       NaN    NaN\n",
       "2      NaN          NA                   None   NaN    NaN       NaN    NaN\n",
       "3    Traci         NaN        traci.saw@email  11.0    NaN       NaN    NaN\n",
       "4     Rosy          NA        rosy.burk@email  23.0    NaN       NaN    NaN\n",
       "5     Jack  jack@email             jack@email  45.0    NaN       NaN    NaN\n",
       "6     Jhon         Dow     jhon.dow@email.com  65.0    NaN       NaN    NaN\n",
       "7     NULL         Dow    jenny.dow@email.com  43.0    NaN       NaN    NaN\n",
       "8      Tom       Hanks    tom.hanks@email.com   2.0    NaN       NaN    NaN\n",
       "9      Raj     Saurabh  saurabh.raj@email.com   4.0    NaN       NaN    NaN\n",
       "10   Terry     Missing           td@email.com   NaN     NA       NaN    NaN"
      ]
     },
     "execution_count": 69,
     "metadata": {},
     "output_type": "execute_result"
    }
   ],
   "source": [
    "ndf.drop(index=ndf[cond].index)"
   ]
  },
  {
   "cell_type": "code",
   "execution_count": null,
   "id": "fa9b97c7",
   "metadata": {},
   "outputs": [],
   "source": [
    "ndf.replace({'MissingNA@email.com': 'noemp@email.com'}, inplace=True, method='bfill')"
   ]
  },
  {
   "cell_type": "code",
   "execution_count": null,
   "id": "a7146117",
   "metadata": {},
   "outputs": [],
   "source": [
    "ndf"
   ]
  },
  {
   "cell_type": "code",
   "execution_count": null,
   "id": "3b784ab3",
   "metadata": {},
   "outputs": [],
   "source": [
    "ndf.replace({None:'np.nan','Missing':np.nan,None:np.nan})"
   ]
  },
  {
   "cell_type": "code",
   "execution_count": null,
   "id": "657df4ce",
   "metadata": {},
   "outputs": [],
   "source": [
    "#Replace dataset custom null/na/missing values\n",
    "#remember if no dataframe column specified in this case it will search value in all DF columns for replacement\n",
    "\n",
    "ndf.replace({'NA':np.nan, None:np.nan, 'Missing':np.nan})\n",
    "#after reviewing DF changes, use inplace=True to make permanent changes in DF"
   ]
  },
  {
   "cell_type": "markdown",
   "id": "d26cfb71",
   "metadata": {},
   "source": [
    "# here entire zip field is dropped because of how='all' option, with 'any' option all df records will dropped because in df have NaN/None value in each column"
   ]
  },
  {
   "cell_type": "code",
   "execution_count": null,
   "id": "190c882a",
   "metadata": {
    "scrolled": true
   },
   "outputs": [],
   "source": [
    "ndf.dropna(axis='columns', how='all')"
   ]
  },
  {
   "cell_type": "markdown",
   "id": "d9fe65bf",
   "metadata": {},
   "source": [
    "#Conditionally deletion of rows and columns for\n",
    "# Conditon 1 - eg. delete 'na' rows if lname or email is null\n",
    "# here 'HOW\" play important role to drop after evaluating the list of cols in subset if how set to all in this case conditon will evalueate all the subset cols needs to be null to drop from df check Condition 2 "
   ]
  },
  {
   "cell_type": "code",
   "execution_count": null,
   "id": "c0e3f0b2",
   "metadata": {},
   "outputs": [],
   "source": [
    "ndf.dropna(axis='index', how='any', subset=['lname','email'])"
   ]
  },
  {
   "cell_type": "code",
   "execution_count": null,
   "id": "39832277",
   "metadata": {},
   "outputs": [],
   "source": [
    "ndf.replace({'NA':np.nan, 'NULL':np.nan,None:np.nan})"
   ]
  },
  {
   "cell_type": "code",
   "execution_count": null,
   "id": "a5b59a50",
   "metadata": {},
   "outputs": [],
   "source": [
    "ndf"
   ]
  },
  {
   "cell_type": "markdown",
   "id": "918e0e5f",
   "metadata": {},
   "source": [
    "# condition 2 - drop row when lname and email both are missing"
   ]
  },
  {
   "cell_type": "code",
   "execution_count": null,
   "id": "928e77de",
   "metadata": {},
   "outputs": [],
   "source": [
    "ndf.dropna(axis='index', how='all', subset=['lname','email'])\n",
    "# use inplace = True to update the dataframe with your changes"
   ]
  },
  {
   "cell_type": "code",
   "execution_count": null,
   "id": "0a7576d5",
   "metadata": {},
   "outputs": [],
   "source": [
    "# search  NaN value in DF\n",
    "\n",
    "ndf.isna()"
   ]
  },
  {
   "cell_type": "code",
   "execution_count": null,
   "id": "a1b7a2b5",
   "metadata": {},
   "outputs": [],
   "source": [
    "#update NaN value with text or number\n",
    "ndf.fillna(\"missing\")\n",
    "ndf.fillna(-1)"
   ]
  },
  {
   "cell_type": "code",
   "execution_count": null,
   "id": "fcca0fca",
   "metadata": {},
   "outputs": [],
   "source": [
    "#ndf.replace({-1,np.nan}, inplace=True)\n",
    "\n",
    "ndf.dtypes"
   ]
  },
  {
   "cell_type": "markdown",
   "id": "1cc26df5",
   "metadata": {},
   "source": [
    "# convert df column datatype use df[column].astype(float/int)\n",
    "\n",
    "# check df column datatype df.dtype()"
   ]
  },
  {
   "cell_type": "code",
   "execution_count": null,
   "id": "17fa2ba9",
   "metadata": {},
   "outputs": [],
   "source": [
    "#zip column in DF is object type reason being mathmatical function can not be performed\n",
    "#in this case this column need to be cast to int / float to do that, first string or null values need to be handled\n",
    "\n",
    "ndf['zip'].replace({'NA':0}, inplace=True)\n",
    "ndf['zip'].astype(float)"
   ]
  },
  {
   "cell_type": "code",
   "execution_count": null,
   "id": "333909d2",
   "metadata": {
    "scrolled": true
   },
   "outputs": [],
   "source": [
    "ndf['zip'].mean()"
   ]
  },
  {
   "cell_type": "markdown",
   "id": "6022d231",
   "metadata": {},
   "source": [
    "# ADD / Delete column from DataFrame\n"
   ]
  },
  {
   "cell_type": "code",
   "execution_count": null,
   "id": "5526a681",
   "metadata": {},
   "outputs": [],
   "source": [
    "#adding new column full_name\n",
    "\n",
    "ndf['full_name'] = ndf['fname'] +' '+ ndf['lname']"
   ]
  },
  {
   "cell_type": "code",
   "execution_count": null,
   "id": "ccb7f097",
   "metadata": {},
   "outputs": [],
   "source": [
    "ndf"
   ]
  },
  {
   "cell_type": "code",
   "execution_count": null,
   "id": "d0f348d7",
   "metadata": {},
   "outputs": [],
   "source": [
    "#str.split method to re-add fname and lname column in df\n",
    "ndf['full_name'].str.split(' ')"
   ]
  },
  {
   "cell_type": "code",
   "execution_count": null,
   "id": "8533db1f",
   "metadata": {},
   "outputs": [],
   "source": [
    "#this will seperate the value in columns structure that can be addded to df in next \n",
    "ndf[['fname','lname']] = ndf['full_name'].str.split(' ', expand=True)"
   ]
  },
  {
   "cell_type": "code",
   "execution_count": null,
   "id": "563e199d",
   "metadata": {},
   "outputs": [],
   "source": [
    "# Adding Two column in DF\n",
    "ndf[['fname','lname']] = ndf['full_name'].str.split(' ', expand=True)"
   ]
  },
  {
   "cell_type": "code",
   "execution_count": null,
   "id": "19466497",
   "metadata": {},
   "outputs": [],
   "source": [
    "ndf"
   ]
  },
  {
   "cell_type": "code",
   "execution_count": null,
   "id": "cfce0cf1",
   "metadata": {},
   "outputs": [],
   "source": [
    "#add column in df\n",
    "ndf['gender']=np.nan"
   ]
  },
  {
   "cell_type": "code",
   "execution_count": null,
   "id": "02f77196",
   "metadata": {},
   "outputs": [],
   "source": [
    "#add row use df.append(obj, ignore_index=True, sort=False/True)\n",
    "ndf"
   ]
  },
  {
   "cell_type": "code",
   "execution_count": null,
   "id": "de4dcb99",
   "metadata": {},
   "outputs": [],
   "source": [
    "#insert record, Remember to assign the value to DF other wise insert will not take effect\n",
    "\n",
    "ndf = ndf.append({'fname':'Rosy','lname':'Wakeford'}, ignore_index=True)"
   ]
  },
  {
   "cell_type": "code",
   "execution_count": null,
   "id": "73a0c9c8",
   "metadata": {},
   "outputs": [],
   "source": [
    "#this is adding two column in DF\n",
    "ndf1 = ndf\n",
    "ndf1[['gender','full_name']]= [np.nan, ndf1['fname'] + ' ' + ndf1['lname']]"
   ]
  },
  {
   "cell_type": "code",
   "execution_count": null,
   "id": "47e75260",
   "metadata": {
    "scrolled": false
   },
   "outputs": [],
   "source": [
    "ndf"
   ]
  },
  {
   "cell_type": "markdown",
   "id": "9e5c17a2",
   "metadata": {},
   "source": [
    "# Merging dataset adding dataset inserting another dataset to main df"
   ]
  },
  {
   "cell_type": "code",
   "execution_count": null,
   "id": "e8d8d8dd",
   "metadata": {},
   "outputs": [],
   "source": [
    "#adding/combining dataframe \n",
    "#Use one of the DF to include those change otherwise this remain view only, eg. ndf = pd.append(df,ignore_index=True, sort=False)\n",
    "pd.set_option('display.max_rows',33)\n",
    "ndf = ndf.append(ndf1, ignore_index=True, sort=False)"
   ]
  },
  {
   "cell_type": "code",
   "execution_count": null,
   "id": "423a89ec",
   "metadata": {
    "scrolled": true
   },
   "outputs": [],
   "source": [
    "ndf1"
   ]
  },
  {
   "cell_type": "markdown",
   "id": "6232e828",
   "metadata": {},
   "source": [
    "# Drop column"
   ]
  },
  {
   "cell_type": "code",
   "execution_count": null,
   "id": "1a697988",
   "metadata": {},
   "outputs": [],
   "source": [
    "# Drop Columns\n",
    "#drop fname and lname column from dataframe\n",
    "#inplace=True to commit changes to DF\n",
    "\n",
    "ndf.drop(columns = ['lname','fname'], inplace = True)"
   ]
  },
  {
   "cell_type": "code",
   "execution_count": null,
   "id": "79cdf9da",
   "metadata": {},
   "outputs": [],
   "source": [
    "ndf"
   ]
  },
  {
   "cell_type": "markdown",
   "id": "2e6c618c",
   "metadata": {},
   "source": [
    "# Drop Row"
   ]
  },
  {
   "cell_type": "code",
   "execution_count": null,
   "id": "1b904bd6",
   "metadata": {},
   "outputs": [],
   "source": [
    "ndf1.drop(index=7, inplace=True)"
   ]
  },
  {
   "cell_type": "code",
   "execution_count": null,
   "id": "3dcfbac1",
   "metadata": {},
   "outputs": [],
   "source": [
    "# Delete row from Dataframe\n",
    "ndf.drop(index=0, inplace=True)"
   ]
  },
  {
   "cell_type": "code",
   "execution_count": null,
   "id": "a04154cf",
   "metadata": {},
   "outputs": [],
   "source": [
    "# 2nd way to use the filter or conditional deletion\n",
    "\n",
    "fi = ndf['lname']=='Wakeford'\n",
    "ndf[fi].index"
   ]
  },
  {
   "cell_type": "code",
   "execution_count": null,
   "id": "5c1fe6cf",
   "metadata": {},
   "outputs": [],
   "source": [
    "ndf.drop(index=ndf[fi].index, inplace=True)"
   ]
  },
  {
   "cell_type": "code",
   "execution_count": null,
   "id": "b0be0422",
   "metadata": {},
   "outputs": [],
   "source": [
    "ndf"
   ]
  },
  {
   "cell_type": "code",
   "execution_count": null,
   "id": "2dceb4b7",
   "metadata": {
    "scrolled": true
   },
   "outputs": [],
   "source": [
    "# Delete column drop column\n",
    "ndf1.drop(columns=['fname','lname'], inplace=True)"
   ]
  },
  {
   "cell_type": "code",
   "execution_count": null,
   "id": "3d417c95",
   "metadata": {
    "scrolled": true
   },
   "outputs": [],
   "source": [
    "ndf1"
   ]
  },
  {
   "cell_type": "code",
   "execution_count": null,
   "id": "3002f437",
   "metadata": {
    "scrolled": false
   },
   "outputs": [],
   "source": [
    "#df_people.loc[df_people['lname']=='jack@email',['lname','email']] =['Son','jack.son@email.com']\n",
    "#df_people['full_name'] = df_people['fname'] + ' ' + df_people['lname']\n",
    "df_people"
   ]
  },
  {
   "cell_type": "markdown",
   "id": "1212b7b5",
   "metadata": {},
   "source": [
    "# Sort data in dataframe - two way sort index or short by column value\n",
    "# use inplace=True to keep sorted data in DF"
   ]
  },
  {
   "cell_type": "code",
   "execution_count": null,
   "id": "4cc66cb3",
   "metadata": {},
   "outputs": [],
   "source": [
    "#sort by Index you can sort in decending by making ascending = True\n",
    "df_people.sort_index(ascending=False)"
   ]
  },
  {
   "cell_type": "code",
   "execution_count": null,
   "id": "59085c5b",
   "metadata": {},
   "outputs": [],
   "source": [
    "#Ascending order is default sort order\n",
    "df_people.sort_values(by=['fname'], ascending=False)"
   ]
  },
  {
   "cell_type": "code",
   "execution_count": null,
   "id": "af81842c",
   "metadata": {},
   "outputs": [],
   "source": [
    "df_people.sort_values(by=['fname','lname'], ascending=False)"
   ]
  },
  {
   "cell_type": "code",
   "execution_count": null,
   "id": "7c9afece",
   "metadata": {
    "scrolled": false
   },
   "outputs": [],
   "source": [
    "#complecate sort on different columns\n",
    "#Use Case - sort first name asceding than lname decending order\n",
    "df_people.sort_values(['fname','lname'], ascending=[False, True])"
   ]
  },
  {
   "cell_type": "code",
   "execution_count": null,
   "id": "ad604a1e",
   "metadata": {},
   "outputs": [],
   "source": [
    "#adding column to DF\n",
    "df_people['salary']=1000"
   ]
  },
  {
   "cell_type": "code",
   "execution_count": null,
   "id": "27bc767b",
   "metadata": {},
   "outputs": [],
   "source": [
    "#updating each column\n",
    "df_people.loc[0,'salary']=3500\n",
    "df_people.loc[7,'salary']=5500"
   ]
  },
  {
   "cell_type": "code",
   "execution_count": null,
   "id": "39eb2644",
   "metadata": {},
   "outputs": [],
   "source": []
  },
  {
   "cell_type": "code",
   "execution_count": null,
   "id": "f6320281",
   "metadata": {},
   "outputs": [],
   "source": [
    "df_people.reset_index(inplace=True)\n",
    "df_people['salary']= (df_people['salary'] * df_people['salary'].index) "
   ]
  },
  {
   "cell_type": "code",
   "execution_count": null,
   "id": "7265de91",
   "metadata": {},
   "outputs": [],
   "source": [
    "df_people"
   ]
  },
  {
   "cell_type": "code",
   "execution_count": null,
   "id": "ab26c420",
   "metadata": {},
   "outputs": [],
   "source": [
    "#top and bottom 5 rows\n",
    "df_people['salary'].nlargest(5)"
   ]
  },
  {
   "cell_type": "code",
   "execution_count": null,
   "id": "30ab755f",
   "metadata": {},
   "outputs": [],
   "source": [
    "# bottom 5 salary\n",
    "#df_people['salary'].nsmallest(5).index.max()\n",
    "df_people['salary'].nsmallest(5)"
   ]
  },
  {
   "cell_type": "code",
   "execution_count": null,
   "id": "18685594",
   "metadata": {
    "scrolled": true
   },
   "outputs": [],
   "source": [
    "#complete dataset with top and bottom 5\n",
    "\n",
    "df_people.nlargest(5, 'salary')"
   ]
  },
  {
   "cell_type": "code",
   "execution_count": null,
   "id": "1af2aeef",
   "metadata": {
    "scrolled": true
   },
   "outputs": [],
   "source": [
    "df_people.nsmallest(5, 'salary')"
   ]
  },
  {
   "cell_type": "markdown",
   "id": "52c71b57",
   "metadata": {},
   "source": [
    "# Grouping and Aggregating \n"
   ]
  },
  {
   "cell_type": "code",
   "execution_count": null,
   "id": "59c13d96",
   "metadata": {},
   "outputs": [],
   "source": [
    "df_people['salary'].median()"
   ]
  },
  {
   "cell_type": "code",
   "execution_count": null,
   "id": "38e727b2",
   "metadata": {
    "scrolled": true
   },
   "outputs": [],
   "source": [
    "#default sorting order is ascending, if you want to sort values by decending use ('salary', ascending=False)\n",
    "df_people.sort_values('salary', ascending=False)"
   ]
  },
  {
   "cell_type": "code",
   "execution_count": null,
   "id": "37248346",
   "metadata": {},
   "outputs": [],
   "source": [
    "#merged_df = ndf.append(df_people, ignore_index=True)"
   ]
  },
  {
   "cell_type": "code",
   "execution_count": null,
   "id": "0229ca6d",
   "metadata": {
    "scrolled": true
   },
   "outputs": [],
   "source": [
    "df_people['salary'].median()\n",
    "df_people"
   ]
  },
  {
   "cell_type": "code",
   "execution_count": null,
   "id": "1b75b790",
   "metadata": {
    "scrolled": true
   },
   "outputs": [],
   "source": [
    "fil = df_people['country']=='USA'\n",
    "df_people.loc[fil, ['emp_type','salary']].value_counts()"
   ]
  },
  {
   "cell_type": "code",
   "execution_count": null,
   "id": "d331a8e5",
   "metadata": {},
   "outputs": [],
   "source": [
    "df_grp = df_people.groupby(['country','emp_type'])"
   ]
  },
  {
   "cell_type": "code",
   "execution_count": null,
   "id": "bad69a23",
   "metadata": {
    "scrolled": true
   },
   "outputs": [],
   "source": [
    "df_grp.get_group(('India','emp'))"
   ]
  },
  {
   "cell_type": "code",
   "execution_count": null,
   "id": "ab9194b0",
   "metadata": {
    "scrolled": true
   },
   "outputs": [],
   "source": [
    "df_grp['work_mode'].value_counts().loc['India']"
   ]
  },
  {
   "cell_type": "code",
   "execution_count": null,
   "id": "02cff99e",
   "metadata": {
    "scrolled": false
   },
   "outputs": [],
   "source": [
    "#country, emp_type column become index when df_grp was created for groupby country, emp_type\n",
    "#you can created partition the df for one column by grouping country\n",
    "df_grp['salary'].sum().loc[['India','USA']]"
   ]
  },
  {
   "cell_type": "code",
   "execution_count": null,
   "id": "b5c5f66b",
   "metadata": {},
   "outputs": [],
   "source": [
    "df_grp['salary'].value_counts().loc[['India','USA']]"
   ]
  },
  {
   "cell_type": "code",
   "execution_count": null,
   "id": "8ba8712d",
   "metadata": {},
   "outputs": [],
   "source": [
    "df_grp['salary'].mean().loc[['India','USA']]"
   ]
  },
  {
   "cell_type": "code",
   "execution_count": null,
   "id": "8d46770d",
   "metadata": {},
   "outputs": [],
   "source": [
    "grp_country = df_people.groupby(df_people['country'])"
   ]
  },
  {
   "cell_type": "code",
   "execution_count": null,
   "id": "c618b271",
   "metadata": {},
   "outputs": [],
   "source": [
    "grp_country.get_group('USA')"
   ]
  },
  {
   "cell_type": "code",
   "execution_count": null,
   "id": "2d06a370",
   "metadata": {},
   "outputs": [],
   "source": [
    "grp_country.get_group('USA').median()"
   ]
  },
  {
   "cell_type": "code",
   "execution_count": null,
   "id": "b54c3ada",
   "metadata": {
    "scrolled": true
   },
   "outputs": [],
   "source": [
    "grp_country['salary'].mean().loc[['USA', 'India']]"
   ]
  },
  {
   "cell_type": "code",
   "execution_count": null,
   "id": "e21cfc9e",
   "metadata": {},
   "outputs": [],
   "source": [
    "#multiple statics\n",
    "\n",
    "\n",
    "d = grp_country['salary'].agg(['mean','median','min','max']).loc[['India','USA','Canada']]"
   ]
  },
  {
   "cell_type": "code",
   "execution_count": null,
   "id": "f75c5a3f",
   "metadata": {
    "scrolled": true
   },
   "outputs": [],
   "source": [
    "type(d)\n",
    "d"
   ]
  },
  {
   "cell_type": "code",
   "execution_count": null,
   "id": "502b3e69",
   "metadata": {
    "scrolled": true
   },
   "outputs": [],
   "source": [
    "pd.set_option('display.max_columns',25)\n",
    "grp_country.describe()"
   ]
  },
  {
   "cell_type": "code",
   "execution_count": null,
   "id": "46147207",
   "metadata": {},
   "outputs": [],
   "source": [
    "df_people.drop(columns='level_0', inplace=True)"
   ]
  },
  {
   "cell_type": "code",
   "execution_count": null,
   "id": "59eb3e25",
   "metadata": {},
   "outputs": [],
   "source": [
    "#Find people know swiss?\n",
    "lf = df_people['language'].str.contains('Hindi')\n",
    "df_people"
   ]
  },
  {
   "cell_type": "code",
   "execution_count": null,
   "id": "bcd4d600",
   "metadata": {},
   "outputs": [],
   "source": [
    "#df_people[df_people['language'].str.contains('Hindi')]\n",
    "#df_people.drop(columns='index',inplace=True)\n",
    "#df_people.reset_index(inplace=True)\n",
    "#df_people.drop(index=11, inplace=True)\n",
    "#df_people.drop(index=10, inplace=True)\n",
    "df_people.loc[df_people['language'].str.contains('Swiss')]"
   ]
  },
  {
   "cell_type": "code",
   "execution_count": null,
   "id": "a69ce6e8",
   "metadata": {},
   "outputs": [],
   "source": [
    "#total number of emp by country\n",
    "\n",
    "tot_emp = df_people['country'].value_counts()"
   ]
  },
  {
   "cell_type": "code",
   "execution_count": null,
   "id": "a70a1fc6",
   "metadata": {},
   "outputs": [],
   "source": [
    "tot_emp"
   ]
  },
  {
   "cell_type": "code",
   "execution_count": null,
   "id": "f112f86c",
   "metadata": {},
   "outputs": [],
   "source": [
    "#create group by country\n",
    "lang_grp = df_people.groupby('country')"
   ]
  },
  {
   "cell_type": "code",
   "execution_count": null,
   "id": "163ca331",
   "metadata": {},
   "outputs": [],
   "source": [
    "# this gives us the count of the column in group with its values\n",
    "lang_grp['language'].value_counts()\n",
    "# this count the occurance of column itsself without creating new column for count including T|F\n",
    "lang_grp['language'].apply(lambda x: x.str.contains('Hindi').count())"
   ]
  },
  {
   "cell_type": "markdown",
   "id": "7814d6b2",
   "metadata": {},
   "source": [
    "# sum add the the bool True value where count count the bool value irrespective to T|F as we can see in above example"
   ]
  },
  {
   "cell_type": "code",
   "execution_count": null,
   "id": "b153fcc1",
   "metadata": {},
   "outputs": [],
   "source": [
    "lang_grp['language'].apply(lambda x: x.str.contains('Hindi').sum())\n",
    "#you will get true or false for country have language in condition and sum is the function to add the bool true value"
   ]
  },
  {
   "cell_type": "code",
   "execution_count": null,
   "id": "a689e9f2",
   "metadata": {},
   "outputs": [],
   "source": [
    "lang_grp['emp_type'].sum().loc['India']"
   ]
  },
  {
   "cell_type": "code",
   "execution_count": null,
   "id": "fa74af64",
   "metadata": {},
   "outputs": [],
   "source": [
    "#creating series with result sum addup True value as False is not considered to sum\n",
    "lang = lang_grp['language'].apply(lambda x: x.str.contains('Hindi').sum())\n",
    "lang"
   ]
  },
  {
   "cell_type": "code",
   "execution_count": null,
   "id": "4a02b1ab",
   "metadata": {},
   "outputs": [],
   "source": [
    "# df_people['language'].apply(lambda x: x.str.contains('Hindi').sum())\n",
    "# lang_grp['language'].value_counts()\n",
    "df_people.loc[df_people['language'].str.contains('Hindi'),'country']"
   ]
  },
  {
   "cell_type": "code",
   "execution_count": null,
   "id": "b709b54d",
   "metadata": {},
   "outputs": [],
   "source": [
    "comp_df = pd.concat([tot_emp,lang], axis=True, sort=False)\n",
    "#hin"
   ]
  },
  {
   "cell_type": "code",
   "execution_count": null,
   "id": "a1d68d67",
   "metadata": {},
   "outputs": [],
   "source": [
    "comp_df"
   ]
  },
  {
   "cell_type": "code",
   "execution_count": null,
   "id": "4bd94358",
   "metadata": {},
   "outputs": [],
   "source": [
    "df_people"
   ]
  },
  {
   "cell_type": "code",
   "execution_count": null,
   "id": "5d546811",
   "metadata": {
    "scrolled": false
   },
   "outputs": [],
   "source": [
    "fil = df_people.loc[df_people['language'].str.contains('Hindi'), 'country'].value_counts()\n",
    "fil\n"
   ]
  },
  {
   "cell_type": "code",
   "execution_count": null,
   "id": "dc1d492d",
   "metadata": {},
   "outputs": [],
   "source": [
    "mydf = pd.concat([tot_emp,fil], axis=True, sort=False)\n",
    "mydf"
   ]
  },
  {
   "cell_type": "code",
   "execution_count": null,
   "id": "300f7b07",
   "metadata": {},
   "outputs": [],
   "source": [
    "mydf.columns"
   ]
  },
  {
   "cell_type": "code",
   "execution_count": null,
   "id": "6f90df68",
   "metadata": {},
   "outputs": [],
   "source": [
    "comp_df['%HindiSpeaker'] = (comp_df['language']/comp_df['country'])*100"
   ]
  },
  {
   "cell_type": "code",
   "execution_count": null,
   "id": "307db247",
   "metadata": {},
   "outputs": [],
   "source": [
    "comp_df"
   ]
  },
  {
   "cell_type": "code",
   "execution_count": null,
   "id": "21dbe09d",
   "metadata": {},
   "outputs": [],
   "source": [
    "df_people['country'].value_counts(normalize=True)"
   ]
  },
  {
   "cell_type": "code",
   "execution_count": null,
   "id": "6dc8eaa6",
   "metadata": {},
   "outputs": [],
   "source": []
  },
  {
   "cell_type": "code",
   "execution_count": null,
   "id": "853cf2dd",
   "metadata": {
    "scrolled": true
   },
   "outputs": [],
   "source": [
    "lang_grp[['emp_type']].value_counts()"
   ]
  },
  {
   "cell_type": "markdown",
   "id": "68a2c08e",
   "metadata": {},
   "source": [
    "# Merge DataFrame \n",
    "options to merge dataframe horizontilly or vertically\n",
    "option1 - use pd.concat and use the axis how to merge (0- rows, 1-column side by side)\n",
    "Option2- only to append df to anohter df use append()method\n"
   ]
  },
  {
   "cell_type": "code",
   "execution_count": null,
   "id": "4dccc13d",
   "metadata": {},
   "outputs": [],
   "source": [
    "import pandas as pd\n",
    "import numpy as np"
   ]
  },
  {
   "cell_type": "code",
   "execution_count": null,
   "id": "bfae73c6",
   "metadata": {},
   "outputs": [],
   "source": [
    "df1 = pd.DataFrame(\n",
    "{\n",
    "    'A':['A0','B0','C0'],\n",
    "    'B':['A1','B1','C1'],\n",
    "    'C':['A2','B2','C2']\n",
    "}, index=[2,4,6])\n",
    "\n",
    "df2 = pd.DataFrame(\n",
    "{\n",
    "    'E':['E0','E0','E0'],\n",
    "    'F':['E1','E1','E1'],\n",
    "    'G':['E2','E2','E2']\n",
    "}, index=[1,3,5])"
   ]
  },
  {
   "cell_type": "code",
   "execution_count": null,
   "id": "261d9c1f",
   "metadata": {
    "scrolled": true
   },
   "outputs": [],
   "source": [
    "df1"
   ]
  },
  {
   "cell_type": "code",
   "execution_count": null,
   "id": "244b3b3a",
   "metadata": {},
   "outputs": [],
   "source": [
    "df2"
   ]
  },
  {
   "cell_type": "code",
   "execution_count": null,
   "id": "a740e4e9",
   "metadata": {
    "scrolled": false
   },
   "outputs": [],
   "source": [
    "#ignore_index (False - keep the original index value) and (True - will reset to default index [start from 0])\n",
    "df2.append(df1, ignore_index=False)"
   ]
  },
  {
   "cell_type": "code",
   "execution_count": null,
   "id": "913bf5e9",
   "metadata": {},
   "outputs": [],
   "source": [
    "#concat resule same as append\n",
    "pd.concat([df1,df2], ignore_index=True, sort=False)"
   ]
  }
 ],
 "metadata": {
  "kernelspec": {
   "display_name": "Python 3 (ipykernel)",
   "language": "python",
   "name": "python3"
  },
  "language_info": {
   "codemirror_mode": {
    "name": "ipython",
    "version": 3
   },
   "file_extension": ".py",
   "mimetype": "text/x-python",
   "name": "python",
   "nbconvert_exporter": "python",
   "pygments_lexer": "ipython3",
   "version": "3.10.4"
  }
 },
 "nbformat": 4,
 "nbformat_minor": 5
}
