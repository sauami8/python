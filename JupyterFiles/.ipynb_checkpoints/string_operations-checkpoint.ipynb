{
 "cells": [
  {
   "cell_type": "code",
   "execution_count": 1,
   "id": "a261f1df",
   "metadata": {},
   "outputs": [],
   "source": [
    "mystr = 'Hello ABC'"
   ]
  },
  {
   "cell_type": "code",
   "execution_count": 4,
   "id": "77a32f9e",
   "metadata": {},
   "outputs": [
    {
     "name": "stdout",
     "output_type": "stream",
     "text": [
      "HloAC\n"
     ]
    }
   ],
   "source": [
    "#[start:end:skip] - for 2 it will skip one char and print next character one\n",
    "mysubstr = mystr[0::2]\n",
    "print(mysubstr)"
   ]
  },
  {
   "cell_type": "code",
   "execution_count": 6,
   "id": "1d83d535",
   "metadata": {},
   "outputs": [
    {
     "name": "stdout",
     "output_type": "stream",
     "text": [
      "H-e-l-l-o- -A-B-C-"
     ]
    }
   ],
   "source": [
    "#end attribute use to print next iterator of list\n",
    "for x in mystr:\n",
    "    print(x, end='-')"
   ]
  },
  {
   "cell_type": "code",
   "execution_count": 26,
   "id": "4f82f571",
   "metadata": {},
   "outputs": [
    {
     "name": "stdout",
     "output_type": "stream",
     "text": [
      "yes\n"
     ]
    }
   ],
   "source": [
    "#conditional check\n",
    "if 'ab' or 'ABC' in mystr:\n",
    "    print('yes')\n",
    "else:\n",
    "    print('No')\n",
    "    "
   ]
  },
  {
   "cell_type": "code",
   "execution_count": 43,
   "id": "989bb4fa",
   "metadata": {},
   "outputs": [
    {
     "name": "stdout",
     "output_type": "stream",
     "text": [
      "'  Hello ABC ' -new string--> 'Hello ABC'\n"
     ]
    }
   ],
   "source": [
    "#leading and trailing whitespac is removed by strip\n",
    "s = '  Hello ABC '\n",
    "s1 = s.strip()\n",
    "print(f\"'{s}' -new string--> '{s1}'\")"
   ]
  },
  {
   "cell_type": "code",
   "execution_count": 51,
   "id": "dbc682a3",
   "metadata": {},
   "outputs": [
    {
     "data": {
      "text/plain": [
       "True"
      ]
     },
     "execution_count": 51,
     "metadata": {},
     "output_type": "execute_result"
    }
   ],
   "source": [
    "mystr.endswith(\"C\")"
   ]
  },
  {
   "cell_type": "code",
   "execution_count": 58,
   "id": "76d0247b",
   "metadata": {},
   "outputs": [
    {
     "data": {
      "text/plain": [
       "True"
      ]
     },
     "execution_count": 58,
     "metadata": {},
     "output_type": "execute_result"
    }
   ],
   "source": [
    "mystr.startswith('Hello')"
   ]
  },
  {
   "cell_type": "code",
   "execution_count": 94,
   "id": "269317b6",
   "metadata": {},
   "outputs": [
    {
     "data": {
      "text/plain": [
       "17"
      ]
     },
     "execution_count": 94,
     "metadata": {},
     "output_type": "execute_result"
    }
   ],
   "source": [
    "#position of character/substr in string\n",
    "s = \"Hello Hello dear Hek d\"\n",
    "s.find('Hek')"
   ]
  },
  {
   "cell_type": "code",
   "execution_count": 133,
   "id": "7134f714",
   "metadata": {},
   "outputs": [
    {
     "data": {
      "text/plain": [
       "3"
      ]
     },
     "execution_count": 133,
     "metadata": {},
     "output_type": "execute_result"
    }
   ],
   "source": [
    "#count specific character in string\n",
    "s = \"Hello Hello dear Hek d hello Hello\"\n",
    "s.count('Hello')"
   ]
  },
  {
   "cell_type": "code",
   "execution_count": 100,
   "id": "67f70cdc",
   "metadata": {},
   "outputs": [],
   "source": [
    "#though string is imutable but we can change it with replace but it will create new list rather then changing th\n",
    "x = s.replace('Hello', 'Good Morning')"
   ]
  },
  {
   "cell_type": "code",
   "execution_count": 107,
   "id": "de2de3f5",
   "metadata": {},
   "outputs": [
    {
     "data": {
      "text/plain": [
       "['Hello', 'Hello', 'dear', 'Hek', 'd']"
      ]
     },
     "execution_count": 107,
     "metadata": {},
     "output_type": "execute_result"
    }
   ],
   "source": [
    "#obtaining/creating new list from string based on the delimiter\n",
    "\n",
    "lst = s.split(' ')\n",
    "lst"
   ]
  },
  {
   "cell_type": "code",
   "execution_count": 112,
   "id": "4b3f28a2",
   "metadata": {},
   "outputs": [
    {
     "data": {
      "text/plain": [
       "'Hello Hello dear Hek d'"
      ]
     },
     "execution_count": 112,
     "metadata": {},
     "output_type": "execute_result"
    }
   ],
   "source": [
    "#composing string from list again based on the delimeter to be used in string\n",
    "ss = ''.join(s)\n",
    "ss"
   ]
  },
  {
   "cell_type": "code",
   "execution_count": 128,
   "id": "2d8cde0a",
   "metadata": {},
   "outputs": [
    {
     "name": "stdout",
     "output_type": "stream",
     "text": [
      "Total number is 44.88\n"
     ]
    }
   ],
   "source": [
    "#format number in output\n",
    "num = 44.8844\n",
    "print(f'Total number is {num:.2f}')"
   ]
  },
  {
   "cell_type": "code",
   "execution_count": 135,
   "id": "8d863701",
   "metadata": {},
   "outputs": [
    {
     "data": {
      "text/plain": [
       "['jack', 'terry', 'rosy', 'rony', 'tom', 'jose', 'antoney']"
      ]
     },
     "execution_count": 135,
     "metadata": {},
     "output_type": "execute_result"
    }
   ],
   "source": [
    "rs = 'jack terry rosy rony tom jose antoney'\n",
    "my_lst = rs.split(' ')\n",
    "my_lst"
   ]
  },
  {
   "cell_type": "code",
   "execution_count": 136,
   "id": "c74e8efe",
   "metadata": {},
   "outputs": [
    {
     "name": "stdout",
     "output_type": "stream",
     "text": [
      "available\n"
     ]
    }
   ],
   "source": [
    "if 'terry' in my_lst:\n",
    "    print(\"available\")\n",
    "else:\n",
    "    print(\"no\")"
   ]
  }
 ],
 "metadata": {
  "kernelspec": {
   "display_name": "Python 3 (ipykernel)",
   "language": "python",
   "name": "python3"
  },
  "language_info": {
   "codemirror_mode": {
    "name": "ipython",
    "version": 3
   },
   "file_extension": ".py",
   "mimetype": "text/x-python",
   "name": "python",
   "nbconvert_exporter": "python",
   "pygments_lexer": "ipython3",
   "version": "3.10.4"
  }
 },
 "nbformat": 4,
 "nbformat_minor": 5
}
