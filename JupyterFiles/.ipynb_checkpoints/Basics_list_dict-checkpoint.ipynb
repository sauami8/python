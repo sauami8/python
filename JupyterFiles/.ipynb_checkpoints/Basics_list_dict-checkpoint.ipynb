{
 "cells": [
  {
   "cell_type": "code",
   "execution_count": 288,
   "id": "e65ecefd",
   "metadata": {},
   "outputs": [
    {
     "name": "stdout",
     "output_type": "stream",
     "text": [
      "this is 0  <class 'tuple'> ('Apple', 'Banana', 'Cherry', 'Mango')\n",
      "this is 1 <class 'list'> ['Apple', 'Banana', 'Cherry', 'Mango']\n",
      "this is 2 <class 'str'> Apple Banana Cherry Mango\n",
      "this is 3 ST list <class 'list'> ['Apple', 'Banana', 'Cherry', 'Mango']\n",
      "this is normal list <class 'list'> [1, 2, 3, 4, 5, 6]\n",
      "None\n"
     ]
    }
   ],
   "source": [
    "#Python list\n",
    "#List constructor - from tuple to list/ Str to list\n",
    "#print(help(list)) #this show list attributes\n",
    "\n",
    "l = ((\"Apple\", \"Banana\", \"Cherry\", \"Mango\"))\n",
    "print(\"this is 0 \", type(l), l)\n",
    "\n",
    "l = list((\"Apple\", \"Banana\", \"Cherry\", \"Mango\"))\n",
    "print(\"this is 1\", type(l) ,l)\n",
    "\n",
    "s = \"Apple Banana Cherry Mango\"\n",
    "print(\"this is 2\", type(s), s)\n",
    "st = s.split(\" \")\n",
    "print(\"this is 3 ST list\", type(st), st)\n",
    "\n",
    "#normal list\n",
    "l = [1,2,3,4,5,6]\n",
    "print(\"this is normal list\", type(l), l)\n",
    "\n",
    "l.extend(st) #note you can not create new list out of this like l1 = l.extend(st)\n",
    "print(l1)"
   ]
  },
  {
   "cell_type": "code",
   "execution_count": 54,
   "id": "fc70cff7",
   "metadata": {},
   "outputs": [
    {
     "name": "stdout",
     "output_type": "stream",
     "text": [
      "6\n",
      "[True, True, False, None, 'S1']\n",
      "empty list\n",
      "Value not in list\n"
     ]
    }
   ],
   "source": [
    "#length of list\n",
    "ll = len(l)\n",
    "print(ll)\n",
    "mlist = [True, True, False, None, \"S1\"]\n",
    "print(mlist)\n",
    "#check whether list if empty or not or check boolean values\n",
    "if True in l1: #l1 list in previous block\n",
    "    print(\"Yes True in mylist\")\n",
    "else:\n",
    "    print(\"empty list\")\n",
    "\n",
    "if 's1' in mlist:\n",
    "    print(\"value S1 in list\")\n",
    "else:\n",
    "    print(\"Value not in list\")"
   ]
  },
  {
   "cell_type": "code",
   "execution_count": 112,
   "id": "1fe6db87",
   "metadata": {},
   "outputs": [
    {
     "name": "stdout",
     "output_type": "stream",
     "text": [
      "['A', 'B', 2, 3, 4, 5, 6]\n",
      "6\n",
      "['B', 2]\n",
      "[3, 4, 5]\n"
     ]
    }
   ],
   "source": [
    "#access list items - default start with 0 if begin with none like [:3], negative means start from end\n",
    "print(l)\n",
    "print(l[-1])\n",
    "print(l[1:3])\n",
    "print (l[-4:-1])"
   ]
  },
  {
   "cell_type": "code",
   "execution_count": 111,
   "id": "51664738",
   "metadata": {},
   "outputs": [
    {
     "name": "stdout",
     "output_type": "stream",
     "text": [
      "['A', 'B', 2, 3, 4, 5, 6]\n"
     ]
    }
   ],
   "source": [
    "#change list item\n",
    "l[0]='A'\n",
    "print(l)"
   ]
  },
  {
   "cell_type": "code",
   "execution_count": 110,
   "id": "d01052a8",
   "metadata": {},
   "outputs": [
    {
     "name": "stdout",
     "output_type": "stream",
     "text": [
      "['A', 'B', 2, 3, 4, 5, 6]\n"
     ]
    }
   ],
   "source": [
    "#Appene and insert item in list, append default at last insert mentioned index value\n",
    "# print(l)\n",
    "# l.insert(1, \"B\")\n",
    "# print(l)\n",
    "# l.append(\"C\")\n",
    "# print(l)\n",
    "# l.remove(\"B\")\n",
    "print(l)"
   ]
  },
  {
   "cell_type": "code",
   "execution_count": 115,
   "id": "141a4753",
   "metadata": {},
   "outputs": [
    {
     "name": "stdout",
     "output_type": "stream",
     "text": [
      "['A', 'B', 2, 3, 4, 5, 6, 8, 9, 7, 8, 9, 7]\n"
     ]
    }
   ],
   "source": [
    "# extend is apply to any iterable component\n",
    "t = (8,9,7)\n",
    "l.extend(t)\n",
    "print(l)"
   ]
  },
  {
   "cell_type": "code",
   "execution_count": 121,
   "id": "7609c18a",
   "metadata": {},
   "outputs": [
    {
     "name": "stdout",
     "output_type": "stream",
     "text": [
      "value 'a' in x >  apple\n",
      "value 'a' in x >  banana\n",
      "a is not in x  cherry\n",
      "a is not in x  kiwi\n",
      "value 'a' in x >  mango\n",
      "['apple', 'banana', 'mango']\n"
     ]
    }
   ],
   "source": [
    "fruits = [\"apple\", \"banana\", \"cherry\", \"kiwi\", \"mango\"]\n",
    "newlist = []\n",
    "\n",
    "for x in fruits:\n",
    "    if \"a\" in x:\n",
    "        print(\"value 'a' in x > \", x)\n",
    "        newlist.append(x)\n",
    "    else:\n",
    "        print(\"a is not in x \", x)\n",
    "\n",
    "print(newlist)"
   ]
  },
  {
   "cell_type": "code",
   "execution_count": 140,
   "id": "9436767d",
   "metadata": {},
   "outputs": [
    {
     "name": "stdout",
     "output_type": "stream",
     "text": [
      "['apple', 'banana', 'mango']\n",
      "['banana', 'cherry', 'kiwi', 'mango']\n",
      "[0, 1, 2, 3, 4]\n",
      "[0, 1, 2, 3, 4, 5, 6, 7, 8, 9]\n"
     ]
    }
   ],
   "source": [
    "fruits = [\"apple\", \"banana\", \"cherry\", \"kiwi\", \"mango\"]\n",
    "newlist = [x for x in fruits if \"a\" in x]\n",
    "print(newlist)\n",
    "#or we can write by checking specific item in list\n",
    "newlist1 = [c for c in fruits if c != \"apple\"]\n",
    "print (newlist1)\n",
    "newlist2 = [c for c in range(10) if c < 5]\n",
    "print(newlist2)\n",
    "#without if condition\n",
    "newlist3 = [c for c in range(10)]\n",
    "print(newlist3)"
   ]
  },
  {
   "cell_type": "code",
   "execution_count": 148,
   "id": "d03f1bc9",
   "metadata": {},
   "outputs": [
    {
     "name": "stdout",
     "output_type": "stream",
     "text": [
      "['Apple', 'Onion', 'Tomato', 'Potato', 'Beetroot']\n"
     ]
    }
   ],
   "source": [
    "#List comprehension \n",
    "s = ['Orange', 'Banana', 'Apple', 'Onion', 'Tomato', 'Potato', 'Beetroot', '1', '5']\n",
    "#s= s.remove(0)\n",
    "nl = [x for x in s if (x ==\"Apple\" or \"o\" in x)] # Orange and Banana not added to nlist by comprehension\n",
    "print(nl)"
   ]
  },
  {
   "cell_type": "code",
   "execution_count": 176,
   "id": "322dd84d",
   "metadata": {},
   "outputs": [
    {
     "name": "stdout",
     "output_type": "stream",
     "text": [
      "['Tomato', 'Potato', 'Orange', 'Onion', 'Mango', 'Banana', 'Apple', '5', '1']\n"
     ]
    }
   ],
   "source": [
    "s.sort(reverse=True) # reverse true for decending\n",
    "print (f\"{s}\")"
   ]
  },
  {
   "cell_type": "code",
   "execution_count": 178,
   "id": "17d1b6df",
   "metadata": {},
   "outputs": [
    {
     "data": {
      "text/plain": [
       "['Banana', 'Apple', '5']"
      ]
     },
     "execution_count": 178,
     "metadata": {},
     "output_type": "execute_result"
    }
   ],
   "source": [
    "s1 = s[-4:-1]\n",
    "s1"
   ]
  },
  {
   "cell_type": "code",
   "execution_count": 175,
   "id": "3590f407",
   "metadata": {},
   "outputs": [
    {
     "data": {
      "text/plain": [
       "['Tomato', 'Potato', 'Orange', 'Onion', 'Mango', 'Banana', 'Apple', '5', '1']"
      ]
     },
     "execution_count": 175,
     "metadata": {},
     "output_type": "execute_result"
    }
   ],
   "source": [
    "#index()\tReturns the index of the first element with the specified value\n",
    "s.index(\"Apple\") \n",
    "#let say if i need to change Beetroot to Mango in that case i don't know ind position of beetroot so\n",
    "s[s.index(\"Beetroot\")] = \"Mango\"\n",
    "s"
   ]
  },
  {
   "cell_type": "code",
   "execution_count": 212,
   "id": "15d85c0a",
   "metadata": {},
   "outputs": [
    {
     "data": {
      "text/plain": [
       "['apple', 'banana']"
      ]
     },
     "execution_count": 212,
     "metadata": {},
     "output_type": "execute_result"
    }
   ],
   "source": [
    "mylist = ['apple', 'banana', 'cherry','berry']\n",
    "mylist.remove('berry')\n",
    "mylist.pop()\n",
    "mylist"
   ]
  },
  {
   "cell_type": "code",
   "execution_count": 233,
   "id": "93e3107e",
   "metadata": {},
   "outputs": [
    {
     "name": "stdout",
     "output_type": "stream",
     "text": [
      "['Apple', 'Banana', 'cherry', 'berry', 'Orange', 'Banana', 'Apple', 'Onion', 'Tomato', 'Potato', 'Beetroot', '1', '5']\n",
      "['Apple', 'Banana', 'cherry', 'berry', 'Orange', 'Onion', 'Tomato', 'Potato', 'Beetroot', '1', '5']\n"
     ]
    }
   ],
   "source": [
    "s = ['Orange', 'Banana', 'Apple', 'Onion', 'Tomato', 'Potato', 'Beetroot', '1', '5']\n",
    "mylist = ['Apple', 'Banana', 'cherry','berry']\n",
    "mylist.extend(s)\n",
    "print(mylist)\n",
    "mylist = list(dict.fromkeys(mylist))\n",
    "print(mylist)"
   ]
  },
  {
   "cell_type": "code",
   "execution_count": 256,
   "id": "58f9164b",
   "metadata": {},
   "outputs": [
    {
     "name": "stdout",
     "output_type": "stream",
     "text": [
      "Print 1 -- List ['Apple', 'Banana', 'cherry', 'berry', 'Orange', 'Banana', 'Apple', 'Onion', 'Tomato', 'Potato', 'Beetroot', '1', '5'] <<< and total item in list 13\n",
      "\n",
      " Blank lines 1 \n",
      "\n",
      "Print 2 -- List items from method >> ['Apple', 'Banana', 'cherry', 'berry', 'Orange', 'Onion', 'Tomato', 'Potato', 'Beetroot', '1', '5'] and total item in list 11\n",
      "\n",
      " Blank lines 2 \n",
      "\n",
      "Print 3 -- New list ['Apple', 'Banana', 'cherry', 'berry', 'Orange', 'Banana', 'Apple', 'Onion', 'Tomato', 'Potato', 'Beetroot', '1', '5'] <<< total values in list 13\n",
      "\n",
      " Blank lines 3 \n",
      "\n",
      "Print 2 -- List items from method >> ['Apple', 'Banana', 'cherry', 'berry', 'Orange', 'Onion', 'Tomato', 'Potato', 'Beetroot', '1', '5'] and total item in list 11\n",
      "\n",
      " Blank lines 4 \n",
      "\n",
      "Print 4 -- New updated with method list ['Apple', 'Banana', 'cherry', 'berry', 'Orange', 'Onion', 'Tomato', 'Potato', 'Beetroot', '1', '5'] <<< total values in list 11\n"
     ]
    }
   ],
   "source": [
    "#method to remove duplicate items from list\n",
    "s = ['Orange', 'Banana', 'Apple', 'Onion', 'Tomato', 'Potato', 'Beetroot', '1', '5']\n",
    "mylist = ['Apple', 'Banana', 'cherry','berry']\n",
    "mylist.extend(s)\n",
    "print(f\"Print 1 -- List {mylist} <<< and total item in list {len(mylist)}\")\n",
    "print(chr(10) ,\"Blank lines 1\", chr(10))\n",
    "def rm_dup_from_lst(x):\n",
    "    x  = list(dict.fromkeys(x))\n",
    "    print(f\"Print 2 -- List items from method >> {x} and total item in list {len(x)}\")\n",
    "    return x\n",
    "rm_dup_from_lst(mylist)# if you call method it will not chagne outside list but if you call and assign to list then it will change\n",
    "print(chr(10) ,\"Blank lines 2\", chr(10))\n",
    "\n",
    "print(f\"Print 3 -- New list {mylist} <<< total values in list {len(mylist)}\")\n",
    "print(chr(10) ,\"Blank lines 3\", chr(10))\n",
    "\n",
    "mylist = rm_dup_from_lst(mylist)\n",
    "print(chr(10) ,\"Blank lines 4\", chr(10))\n",
    "\n",
    "print(f\"Print 4 -- New updated with method list {mylist} <<< total values in list {len(mylist)}\")\n"
   ]
  },
  {
   "cell_type": "code",
   "execution_count": 262,
   "id": "5ad22af1",
   "metadata": {},
   "outputs": [
    {
     "name": "stdout",
     "output_type": "stream",
     "text": [
      "['Apple', 'Banana', 'cherry', 'berry', 'Orange', 'Onion', 'Tomato', 'Potato', 'Beetroot', '1', '5']\n",
      "\n",
      " >>>Invalid item in list 'Try section failed' <<< End\n",
      "['Apple', 'Banana', 'cherry', 'berry', 'Orange', 'Onion', 'Tomato', 'Potato', 'Beetroot', '1', '5']\n"
     ]
    }
   ],
   "source": [
    "#mylist.pop(-1) # pop to remove value by index complex example if we don't have index for a item in list eg banana\n",
    "print(mylist)\n",
    "try:\n",
    "    mylist.pop(mylist.index(\"banana\")) # get the index for a item in list and then pop the item\n",
    "except ValueError:\n",
    "    print(chr(10), \">>>Invalid item in list 'Try section failed' <<< End\")\n",
    "print(mylist)"
   ]
  },
  {
   "cell_type": "code",
   "execution_count": 204,
   "id": "6223176f",
   "metadata": {},
   "outputs": [
    {
     "name": "stdout",
     "output_type": "stream",
     "text": [
      "['apple', 'banana', 'cherry']\n",
      "[]\n"
     ]
    }
   ],
   "source": [
    "#delete all items from list\n",
    "fruits = ['apple', 'banana', 'cherry']\n",
    "print(fruits)\n",
    "fruits.clear()\n",
    "print(fruits)"
   ]
  },
  {
   "cell_type": "code",
   "execution_count": 264,
   "id": "ef42d727",
   "metadata": {},
   "outputs": [
    {
     "name": "stdout",
     "output_type": "stream",
     "text": [
      "Value error > too many values to unpack (expected 3)\n"
     ]
    }
   ],
   "source": [
    "# try except value error message\n",
    "l = [1,2,3,4,5]\n",
    "try:\n",
    "    a,b,c = l\n",
    "except ValueError as e:\n",
    "    print(\"Value error >\", e)"
   ]
  },
  {
   "cell_type": "code",
   "execution_count": 300,
   "id": "77a32f9e",
   "metadata": {},
   "outputs": [
    {
     "name": "stdout",
     "output_type": "stream",
     "text": [
      "HloAChwaeyu\n"
     ]
    }
   ],
   "source": [
    "mystr = 'Hello ABC how are you'\n",
    "#[start:end:skip] - for 2 it will skip one char and print next character one\n",
    "mysubstr = mystr[0::2]\n",
    "print(mysubstr)"
   ]
  },
  {
   "cell_type": "code",
   "execution_count": 7,
   "id": "8634b74d",
   "metadata": {},
   "outputs": [
    {
     "name": "stdout",
     "output_type": "stream",
     "text": [
      "Hello\n"
     ]
    }
   ],
   "source": [
    "mysubstr = mystr[0:5] #begin with 0 but last number position is not consider\n",
    "print(mysubstr)"
   ]
  },
  {
   "cell_type": "code",
   "execution_count": null,
   "id": "9fb16654",
   "metadata": {},
   "outputs": [],
   "source": []
  },
  {
   "cell_type": "code",
   "execution_count": 6,
   "id": "1d83d535",
   "metadata": {},
   "outputs": [
    {
     "name": "stdout",
     "output_type": "stream",
     "text": [
      "H-e-l-l-o- -A-B-C-"
     ]
    }
   ],
   "source": [
    "#end attribute use to print next iterator of list\n",
    "for x in mystr:\n",
    "    print(x, end='-')"
   ]
  },
  {
   "cell_type": "code",
   "execution_count": 26,
   "id": "4f82f571",
   "metadata": {},
   "outputs": [
    {
     "name": "stdout",
     "output_type": "stream",
     "text": [
      "yes\n"
     ]
    }
   ],
   "source": [
    "#conditional check\n",
    "if 'ab' or 'ABC' in mystr:\n",
    "    print('yes')\n",
    "else:\n",
    "    print('No')\n",
    "    "
   ]
  },
  {
   "cell_type": "code",
   "execution_count": 43,
   "id": "989bb4fa",
   "metadata": {},
   "outputs": [
    {
     "name": "stdout",
     "output_type": "stream",
     "text": [
      "'  Hello ABC ' -new string--> 'Hello ABC'\n"
     ]
    }
   ],
   "source": [
    "#leading and trailing whitespac is removed by strip\n",
    "s = '  Hello ABC '\n",
    "s1 = s.strip()\n",
    "print(f\"'{s}' -new string--> '{s1}'\")"
   ]
  },
  {
   "cell_type": "code",
   "execution_count": 51,
   "id": "dbc682a3",
   "metadata": {},
   "outputs": [
    {
     "data": {
      "text/plain": [
       "True"
      ]
     },
     "execution_count": 51,
     "metadata": {},
     "output_type": "execute_result"
    }
   ],
   "source": [
    "mystr.endswith(\"C\")"
   ]
  },
  {
   "cell_type": "code",
   "execution_count": 58,
   "id": "76d0247b",
   "metadata": {},
   "outputs": [
    {
     "data": {
      "text/plain": [
       "True"
      ]
     },
     "execution_count": 58,
     "metadata": {},
     "output_type": "execute_result"
    }
   ],
   "source": [
    "mystr.startswith('Hello')"
   ]
  },
  {
   "cell_type": "code",
   "execution_count": 94,
   "id": "269317b6",
   "metadata": {},
   "outputs": [
    {
     "data": {
      "text/plain": [
       "17"
      ]
     },
     "execution_count": 94,
     "metadata": {},
     "output_type": "execute_result"
    }
   ],
   "source": [
    "#position of character/substr in string\n",
    "s = \"Hello Hello dear Hek d\"\n",
    "s.find('Hek')"
   ]
  },
  {
   "cell_type": "code",
   "execution_count": 293,
   "id": "7134f714",
   "metadata": {},
   "outputs": [
    {
     "data": {
      "text/plain": [
       "3"
      ]
     },
     "execution_count": 293,
     "metadata": {},
     "output_type": "execute_result"
    }
   ],
   "source": [
    "#count specific character in string\n",
    "s = \"Hello Hello dear Hek d hello Hello\"\n",
    "s.count('Hello')"
   ]
  },
  {
   "cell_type": "code",
   "execution_count": 272,
   "id": "67f70cdc",
   "metadata": {},
   "outputs": [
    {
     "name": "stdout",
     "output_type": "stream",
     "text": [
      "Good Morning Good Morning dear Hek d hello Good Morning\n"
     ]
    }
   ],
   "source": [
    "#though string is imutable but we can change it with replace but it will create new list rather then changing th\n",
    "x = s.replace('Hello', 'Good Morning')\n",
    "print(x)"
   ]
  },
  {
   "cell_type": "code",
   "execution_count": 295,
   "id": "de2de3f5",
   "metadata": {},
   "outputs": [
    {
     "data": {
      "text/plain": [
       "['Hello', 'Hello', 'dear', 'Hek', 'd', 'hello', 'Hello']"
      ]
     },
     "execution_count": 295,
     "metadata": {},
     "output_type": "execute_result"
    }
   ],
   "source": [
    "#obtaining/creating new list from string based on the delimiter\n",
    "\n",
    "lst = s.split(' ')\n",
    "lst"
   ]
  },
  {
   "cell_type": "code",
   "execution_count": 298,
   "id": "4b3f28a2",
   "metadata": {},
   "outputs": [
    {
     "name": "stdout",
     "output_type": "stream",
     "text": [
      "['Hello', 'Hello', 'dear', 'Hek', 'd', 'hello', 'Hello']\n"
     ]
    },
    {
     "data": {
      "text/plain": [
       "'Hello Hello dear Hek d hello Hello'"
      ]
     },
     "execution_count": 298,
     "metadata": {},
     "output_type": "execute_result"
    }
   ],
   "source": [
    "#composing string from list again based on the delimeter to be used in string\n",
    "print(lst)\n",
    "ss = ' '.join(lst)\n",
    "ss"
   ]
  },
  {
   "cell_type": "code",
   "execution_count": 128,
   "id": "2d8cde0a",
   "metadata": {},
   "outputs": [
    {
     "name": "stdout",
     "output_type": "stream",
     "text": [
      "Total number is 44.88\n"
     ]
    }
   ],
   "source": [
    "#format number in output\n",
    "num = 44.8844\n",
    "print(f'Total number is {num:.2f}')"
   ]
  },
  {
   "cell_type": "code",
   "execution_count": 135,
   "id": "8d863701",
   "metadata": {},
   "outputs": [
    {
     "data": {
      "text/plain": [
       "['jack', 'terry', 'rosy', 'rony', 'tom', 'jose', 'antoney']"
      ]
     },
     "execution_count": 135,
     "metadata": {},
     "output_type": "execute_result"
    }
   ],
   "source": [
    "#split string to make list\n",
    "rs = 'jack terry rosy rony tom jose antoney'\n",
    "my_lst = rs.split(' ')\n",
    "my_lst"
   ]
  },
  {
   "cell_type": "code",
   "execution_count": 136,
   "id": "c74e8efe",
   "metadata": {},
   "outputs": [
    {
     "name": "stdout",
     "output_type": "stream",
     "text": [
      "available\n"
     ]
    }
   ],
   "source": [
    "if 'terry' in my_lst:\n",
    "    print(\"available\")\n",
    "else:\n",
    "    print(\"no\")"
   ]
  }
 ],
 "metadata": {
  "kernelspec": {
   "display_name": "Python 3 (ipykernel)",
   "language": "python",
   "name": "python3"
  },
  "language_info": {
   "codemirror_mode": {
    "name": "ipython",
    "version": 3
   },
   "file_extension": ".py",
   "mimetype": "text/x-python",
   "name": "python",
   "nbconvert_exporter": "python",
   "pygments_lexer": "ipython3",
   "version": "3.10.4"
  }
 },
 "nbformat": 4,
 "nbformat_minor": 5
}
