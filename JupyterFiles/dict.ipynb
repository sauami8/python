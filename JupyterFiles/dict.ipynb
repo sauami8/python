{
 "cells": [
  {
   "cell_type": "code",
   "execution_count": 1,
   "id": "5a36010b",
   "metadata": {},
   "outputs": [],
   "source": [
    "d = {'name':'Ron', 'lname':'Miller', 'country':'US'}\n"
   ]
  },
  {
   "cell_type": "code",
   "execution_count": 2,
   "id": "5f46dc7f",
   "metadata": {},
   "outputs": [
    {
     "name": "stdout",
     "output_type": "stream",
     "text": [
      "name\n",
      "lname\n",
      "country\n"
     ]
    }
   ],
   "source": [
    "#ket from dict\n",
    "for key in d:\n",
    "    print(key)"
   ]
  },
  {
   "cell_type": "code",
   "execution_count": 4,
   "id": "d670ed41",
   "metadata": {},
   "outputs": [
    {
     "name": "stdout",
     "output_type": "stream",
     "text": [
      "Ron\n",
      "Miller\n",
      "US\n"
     ]
    }
   ],
   "source": [
    "#get values from dict\n",
    "for values in d.values():\n",
    "    print(values)"
   ]
  },
  {
   "cell_type": "code",
   "execution_count": 5,
   "id": "da8dfc6a",
   "metadata": {},
   "outputs": [
    {
     "name": "stdout",
     "output_type": "stream",
     "text": [
      "key is name and value is Ron\n",
      "key is lname and value is Miller\n",
      "key is country and value is US\n"
     ]
    }
   ],
   "source": [
    "#get key and values from dict\n",
    "\n",
    "for k,v in d.items():\n",
    "    print(f\"key is {k} and value is {v}\")"
   ]
  },
  {
   "cell_type": "code",
   "execution_count": 11,
   "id": "4dcd4b88",
   "metadata": {},
   "outputs": [
    {
     "data": {
      "text/plain": [
       "'No Such key in dict'"
      ]
     },
     "execution_count": 11,
     "metadata": {},
     "output_type": "execute_result"
    }
   ],
   "source": [
    "#display message when key is not found rather than error\n",
    "d.get('fname', 'No Such key in dict')"
   ]
  },
  {
   "cell_type": "code",
   "execution_count": 13,
   "id": "0134f0cc",
   "metadata": {},
   "outputs": [
    {
     "data": {
      "text/plain": [
       "'Ron'"
      ]
     },
     "execution_count": 13,
     "metadata": {},
     "output_type": "execute_result"
    }
   ],
   "source": [
    "#if searched key is not found and we what to add that key in dict with some values we can use dict.setdefault('key', value)\n",
    "#if key exist it will return the value else add see next cell\n",
    "d.setdefault('name')"
   ]
  },
  {
   "cell_type": "code",
   "execution_count": 14,
   "id": "787c4916",
   "metadata": {},
   "outputs": [
    {
     "data": {
      "text/plain": [
       "'coppell'"
      ]
     },
     "execution_count": 14,
     "metadata": {},
     "output_type": "execute_result"
    }
   ],
   "source": [
    "d.setdefault('city','coppell')"
   ]
  },
  {
   "cell_type": "code",
   "execution_count": 15,
   "id": "820a6a6e",
   "metadata": {},
   "outputs": [
    {
     "data": {
      "text/plain": [
       "{'name': 'Ron', 'lname': 'Miller', 'country': 'US', 'city': 'coppell'}"
      ]
     },
     "execution_count": 15,
     "metadata": {},
     "output_type": "execute_result"
    }
   ],
   "source": [
    "d"
   ]
  },
  {
   "cell_type": "code",
   "execution_count": null,
   "id": "8606a380",
   "metadata": {},
   "outputs": [],
   "source": [
    "#from collection counter method that will count the number item appear in list"
   ]
  },
  {
   "cell_type": "code",
   "execution_count": 2,
   "id": "8eb400d1",
   "metadata": {},
   "outputs": [
    {
     "name": "stdout",
     "output_type": "stream",
     "text": [
      "Counter({9: 3, 3: 3, 2: 3, 10: 2, 11: 2, 90: 1, 8: 1, 22: 1})\n"
     ]
    }
   ],
   "source": [
    "from collections import Counter\n",
    "lst = [10,11,11,10,9,90,9,8,9,3,3,2,3,2,2,22]\n",
    "\n",
    "counter = Counter(lst)\n",
    "print(counter)"
   ]
  },
  {
   "cell_type": "code",
   "execution_count": null,
   "id": "1cb8e70e",
   "metadata": {},
   "outputs": [],
   "source": []
  },
  {
   "cell_type": "code",
   "execution_count": 11,
   "id": "85ca7e93",
   "metadata": {},
   "outputs": [
    {
     "name": "stdout",
     "output_type": "stream",
     "text": [
      "sum of 1000 - result  499500\n",
      "8856 Byes Memory used\n",
      "sum of 1000 - result  499500\n",
      "104  memory used\n"
     ]
    }
   ],
   "source": [
    "#list comperhansivion become generator when comprensioion put within ()\n",
    "#example when need to run a very long calcuation let say sum number of 1000 iterator\n",
    "import sys\n",
    "\n",
    "lc = [x for x in range(1000)]\n",
    "print(\"sum of 1000 - result \",sum(lc))\n",
    "print(sys.getsizeof(lc), 'Byes Memory used')\n",
    "\n",
    "my_gen = (x for x in range(1000))\n",
    "print(\"sum of 1000 - result \",sum(my_gen))\n",
    "print(sys.getsizeof(my_gen),' memory used')"
   ]
  },
  {
   "cell_type": "code",
   "execution_count": null,
   "id": "77475301",
   "metadata": {},
   "outputs": [],
   "source": []
  }
 ],
 "metadata": {
  "kernelspec": {
   "display_name": "Python 3 (ipykernel)",
   "language": "python",
   "name": "python3"
  },
  "language_info": {
   "codemirror_mode": {
    "name": "ipython",
    "version": 3
   },
   "file_extension": ".py",
   "mimetype": "text/x-python",
   "name": "python",
   "nbconvert_exporter": "python",
   "pygments_lexer": "ipython3",
   "version": "3.10.4"
  }
 },
 "nbformat": 4,
 "nbformat_minor": 5
}
