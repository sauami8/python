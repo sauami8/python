{
 "cells": [
  {
   "cell_type": "code",
   "execution_count": 119,
   "id": "45397031",
   "metadata": {},
   "outputs": [
    {
     "name": "stdout",
     "output_type": "stream",
     "text": [
      "Employee name None Drek, email is None.Drek@email.com and pay is 200\n",
      "Employee name Jack Ryan, email is Jack.Ryan@email.com and pay is 1000\n"
     ]
    },
    {
     "data": {
      "text/plain": [
       "'Peter'"
      ]
     },
     "execution_count": 119,
     "metadata": {},
     "output_type": "execute_result"
    }
   ],
   "source": [
    "class MyClass:\n",
    "    v = \"Hello Class\"\n",
    "    \n",
    "    def __init__(self, fname, lname, pay):\n",
    "        self.fname = fname\n",
    "        self.lname = lname\n",
    "        self.pay = pay\n",
    "        self.email = fname+'.'+lname+'@email.com'\n",
    "        self.fullname = fname +' '+ lname\n",
    "\n",
    "    def print_emp(self):\n",
    "        print(f\"Employee name {self.fullname}, email is {self.email} and pay is {self.pay}\")\n",
    "    \n",
    "    #special method\n",
    "    def __add__(self,other):\n",
    "        return 'Emp First name is {} and email is {}'.format(self.fname, other.email)\n",
    "        \n",
    "\n",
    "emp_instance = MyClass(\"Jack\", \"Ryan\", 1000)\n",
    "\n",
    "emp_instance1 = MyClass(\"Rosy\", \"Shaw\", 1000)\n",
    "\n",
    "emp_instance2 = MyClass(\"None\", \"Drek\",200)\n",
    "emp_instance2.v = \"Peter\"\n",
    "\n",
    "emp_instance2.print_emp()\n",
    "\n",
    "emp_instance.print_emp()\n",
    "MyClass.v = \"Bye Class\"\n",
    "emp_instance2.v\n",
    "MyClass.v = \"No Value\"\n",
    "emp_instance2.v\n"
   ]
  },
  {
   "cell_type": "code",
   "execution_count": 114,
   "id": "9803023c",
   "metadata": {},
   "outputs": [
    {
     "name": "stdout",
     "output_type": "stream",
     "text": [
      "Employee name Jack Ryan, email is Jack.Ryan@email.com and pay is 1000\n"
     ]
    }
   ],
   "source": [
    "#Access Class variable\n",
    "emp_instance.v\n",
    "\n",
    "emp_instance1.v\n",
    "\n",
    "#del emp_instance1.pay\n",
    "#this delete the pay only for the given instance \n",
    "\n",
    "emp_instance.print_emp()"
   ]
  },
  {
   "cell_type": "code",
   "execution_count": 33,
   "id": "094f408f",
   "metadata": {},
   "outputs": [
    {
     "data": {
      "text/plain": [
       "'Jack RyanJack.Ryan@email.com'"
      ]
     },
     "execution_count": 33,
     "metadata": {},
     "output_type": "execute_result"
    }
   ],
   "source": [
    "#Implement special method add to add class instance to \n",
    "emp_instance.fullname+emp_instance.email"
   ]
  },
  {
   "cell_type": "code",
   "execution_count": 38,
   "id": "e865fb75",
   "metadata": {},
   "outputs": [
    {
     "data": {
      "text/plain": [
       "'Emp First name is Jack and email is Jack.Ryan@email.com'"
      ]
     },
     "execution_count": 38,
     "metadata": {},
     "output_type": "execute_result"
    }
   ],
   "source": [
    "emp_instance.__add__(emp_instance)"
   ]
  },
  {
   "cell_type": "code",
   "execution_count": 48,
   "id": "778ba67c",
   "metadata": {},
   "outputs": [
    {
     "name": "stdout",
     "output_type": "stream",
     "text": [
      "Employee name Jack Ryan, email is Jack.Ryan@email.com\n"
     ]
    }
   ],
   "source": [
    "emp_instance.print_emp()"
   ]
  }
 ],
 "metadata": {
  "kernelspec": {
   "display_name": "Python 3 (ipykernel)",
   "language": "python",
   "name": "python3"
  },
  "language_info": {
   "codemirror_mode": {
    "name": "ipython",
    "version": 3
   },
   "file_extension": ".py",
   "mimetype": "text/x-python",
   "name": "python",
   "nbconvert_exporter": "python",
   "pygments_lexer": "ipython3",
   "version": "3.10.4"
  }
 },
 "nbformat": 4,
 "nbformat_minor": 5
}
